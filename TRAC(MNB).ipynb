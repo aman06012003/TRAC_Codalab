{
  "cells": [
    {
      "cell_type": "code",
      "execution_count": null,
      "metadata": {
        "colab": {
          "base_uri": "https://localhost:8080/"
        },
        "id": "-So0MLJatwle",
        "outputId": "b9975899-dd4f-4249-b6a1-a7a9ecaabfec"
      },
      "outputs": [
        {
          "output_type": "stream",
          "name": "stdout",
          "text": [
            "Mounted at /content/drive\n"
          ]
        }
      ],
      "source": [
        "from google.colab import drive\n",
        "drive.mount('/content/drive')"
      ]
    },
    {
      "cell_type": "code",
      "source": [
        "import pandas as pd\n",
        "import numpy as np\n",
        "from sklearn.feature_extraction.text import TfidfVectorizer"
      ],
      "metadata": {
        "id": "ed7udBD8f8sB"
      },
      "execution_count": null,
      "outputs": []
    },
    {
      "cell_type": "code",
      "source": [
        "trac= pd.read_csv(\"/content/drive/MyDrive/TRAC/Dataset/dataset.csv\")"
      ],
      "metadata": {
        "id": "AhL4QkIzPZgS"
      },
      "execution_count": null,
      "outputs": []
    },
    {
      "cell_type": "code",
      "source": [
        "test1 = pd.read_csv(\"/content/drive/MyDrive/TRAC/test/trac_2022_test.tsv\",sep='\\t')\n",
        "test2 = pd.read_csv(\"/content/drive/MyDrive/TRAC/test/trac_all_test.tsv\",sep='\\t')\n",
        "test3 = pd.read_csv(\"/content/drive/MyDrive/TRAC/test/trac_sur_test.tsv\",sep='\\t')"
      ],
      "metadata": {
        "id": "jMeCFcgHr6X8"
      },
      "execution_count": null,
      "outputs": []
    },
    {
      "cell_type": "code",
      "source": [
        "train = pd.read_csv(\"/content/drive/MyDrive/TRAC/Dataset/dataset.csv\")"
      ],
      "metadata": {
        "id": "nKi5hOZDf8qD"
      },
      "execution_count": null,
      "outputs": []
    },
    {
      "cell_type": "code",
      "source": [
        "train.head()"
      ],
      "metadata": {
        "colab": {
          "base_uri": "https://localhost:8080/",
          "height": 354
        },
        "id": "KEnGTdCHf8oJ",
        "outputId": "9a2c3481-9f9b-4769-83b9-c88042e06d15"
      },
      "execution_count": null,
      "outputs": [
        {
          "output_type": "execute_result",
          "data": {
            "text/plain": [
              "                            ID  \\\n",
              "0   facebook_corpus_msr_747593   \n",
              "1  facebook_corpus_msr_2111297   \n",
              "2  facebook_corpus_msr_1450799   \n",
              "3   facebook_corpus_msr_956362   \n",
              "4  facebook_corpus_msr_1972724   \n",
              "\n",
              "                                                Text Aggression  \\\n",
              "0   Shaikh Bhai.. Subha Kab Ki Ho gyi Hai.... Man...        CAG   \n",
              "1  No India is better off in BJPs hands but it is...        OAG   \n",
              "2  madam ji Sonia ganghi jeetegi tabhi to banegi ...        NAG   \n",
              "3   Now i really belive 5vi pass pm ki degree nak...        CAG   \n",
              "4  Reasons: 1.rahul 2. Rahul 3.rahul 4.rahil . . ...        NAG   \n",
              "\n",
              "  Aggression Intensity Discursive Role Gender Bias Communal Bias  \\\n",
              "0                 NtAG             NaN        NGEN          NCOM   \n",
              "1                 NtAG             NaN        NGEN          NCOM   \n",
              "2                  NaN             NaN        NGEN          NCOM   \n",
              "3                 NtAG             NaN        NGEN          NCOM   \n",
              "4                  NaN             NaN        NGEN          NCOM   \n",
              "\n",
              "  Caste/Class Bias Ethnicity/Racial Bias  \n",
              "0             NCAS                  NETH  \n",
              "1             NCAS                  NETH  \n",
              "2             NCAS                  NETH  \n",
              "3             NCAS                  NETH  \n",
              "4             NCAS                  NETH  "
            ],
            "text/html": [
              "\n",
              "  <div id=\"df-9d48cf91-a3e3-4c1c-9b21-77310031809c\">\n",
              "    <div class=\"colab-df-container\">\n",
              "      <div>\n",
              "<style scoped>\n",
              "    .dataframe tbody tr th:only-of-type {\n",
              "        vertical-align: middle;\n",
              "    }\n",
              "\n",
              "    .dataframe tbody tr th {\n",
              "        vertical-align: top;\n",
              "    }\n",
              "\n",
              "    .dataframe thead th {\n",
              "        text-align: right;\n",
              "    }\n",
              "</style>\n",
              "<table border=\"1\" class=\"dataframe\">\n",
              "  <thead>\n",
              "    <tr style=\"text-align: right;\">\n",
              "      <th></th>\n",
              "      <th>ID</th>\n",
              "      <th>Text</th>\n",
              "      <th>Aggression</th>\n",
              "      <th>Aggression Intensity</th>\n",
              "      <th>Discursive Role</th>\n",
              "      <th>Gender Bias</th>\n",
              "      <th>Communal Bias</th>\n",
              "      <th>Caste/Class Bias</th>\n",
              "      <th>Ethnicity/Racial Bias</th>\n",
              "    </tr>\n",
              "  </thead>\n",
              "  <tbody>\n",
              "    <tr>\n",
              "      <th>0</th>\n",
              "      <td>facebook_corpus_msr_747593</td>\n",
              "      <td>Shaikh Bhai.. Subha Kab Ki Ho gyi Hai.... Man...</td>\n",
              "      <td>CAG</td>\n",
              "      <td>NtAG</td>\n",
              "      <td>NaN</td>\n",
              "      <td>NGEN</td>\n",
              "      <td>NCOM</td>\n",
              "      <td>NCAS</td>\n",
              "      <td>NETH</td>\n",
              "    </tr>\n",
              "    <tr>\n",
              "      <th>1</th>\n",
              "      <td>facebook_corpus_msr_2111297</td>\n",
              "      <td>No India is better off in BJPs hands but it is...</td>\n",
              "      <td>OAG</td>\n",
              "      <td>NtAG</td>\n",
              "      <td>NaN</td>\n",
              "      <td>NGEN</td>\n",
              "      <td>NCOM</td>\n",
              "      <td>NCAS</td>\n",
              "      <td>NETH</td>\n",
              "    </tr>\n",
              "    <tr>\n",
              "      <th>2</th>\n",
              "      <td>facebook_corpus_msr_1450799</td>\n",
              "      <td>madam ji Sonia ganghi jeetegi tabhi to banegi ...</td>\n",
              "      <td>NAG</td>\n",
              "      <td>NaN</td>\n",
              "      <td>NaN</td>\n",
              "      <td>NGEN</td>\n",
              "      <td>NCOM</td>\n",
              "      <td>NCAS</td>\n",
              "      <td>NETH</td>\n",
              "    </tr>\n",
              "    <tr>\n",
              "      <th>3</th>\n",
              "      <td>facebook_corpus_msr_956362</td>\n",
              "      <td>Now i really belive 5vi pass pm ki degree nak...</td>\n",
              "      <td>CAG</td>\n",
              "      <td>NtAG</td>\n",
              "      <td>NaN</td>\n",
              "      <td>NGEN</td>\n",
              "      <td>NCOM</td>\n",
              "      <td>NCAS</td>\n",
              "      <td>NETH</td>\n",
              "    </tr>\n",
              "    <tr>\n",
              "      <th>4</th>\n",
              "      <td>facebook_corpus_msr_1972724</td>\n",
              "      <td>Reasons: 1.rahul 2. Rahul 3.rahul 4.rahil . . ...</td>\n",
              "      <td>NAG</td>\n",
              "      <td>NaN</td>\n",
              "      <td>NaN</td>\n",
              "      <td>NGEN</td>\n",
              "      <td>NCOM</td>\n",
              "      <td>NCAS</td>\n",
              "      <td>NETH</td>\n",
              "    </tr>\n",
              "  </tbody>\n",
              "</table>\n",
              "</div>\n",
              "      <button class=\"colab-df-convert\" onclick=\"convertToInteractive('df-9d48cf91-a3e3-4c1c-9b21-77310031809c')\"\n",
              "              title=\"Convert this dataframe to an interactive table.\"\n",
              "              style=\"display:none;\">\n",
              "        \n",
              "  <svg xmlns=\"http://www.w3.org/2000/svg\" height=\"24px\"viewBox=\"0 0 24 24\"\n",
              "       width=\"24px\">\n",
              "    <path d=\"M0 0h24v24H0V0z\" fill=\"none\"/>\n",
              "    <path d=\"M18.56 5.44l.94 2.06.94-2.06 2.06-.94-2.06-.94-.94-2.06-.94 2.06-2.06.94zm-11 1L8.5 8.5l.94-2.06 2.06-.94-2.06-.94L8.5 2.5l-.94 2.06-2.06.94zm10 10l.94 2.06.94-2.06 2.06-.94-2.06-.94-.94-2.06-.94 2.06-2.06.94z\"/><path d=\"M17.41 7.96l-1.37-1.37c-.4-.4-.92-.59-1.43-.59-.52 0-1.04.2-1.43.59L10.3 9.45l-7.72 7.72c-.78.78-.78 2.05 0 2.83L4 21.41c.39.39.9.59 1.41.59.51 0 1.02-.2 1.41-.59l7.78-7.78 2.81-2.81c.8-.78.8-2.07 0-2.86zM5.41 20L4 18.59l7.72-7.72 1.47 1.35L5.41 20z\"/>\n",
              "  </svg>\n",
              "      </button>\n",
              "      \n",
              "  <style>\n",
              "    .colab-df-container {\n",
              "      display:flex;\n",
              "      flex-wrap:wrap;\n",
              "      gap: 12px;\n",
              "    }\n",
              "\n",
              "    .colab-df-convert {\n",
              "      background-color: #E8F0FE;\n",
              "      border: none;\n",
              "      border-radius: 50%;\n",
              "      cursor: pointer;\n",
              "      display: none;\n",
              "      fill: #1967D2;\n",
              "      height: 32px;\n",
              "      padding: 0 0 0 0;\n",
              "      width: 32px;\n",
              "    }\n",
              "\n",
              "    .colab-df-convert:hover {\n",
              "      background-color: #E2EBFA;\n",
              "      box-shadow: 0px 1px 2px rgba(60, 64, 67, 0.3), 0px 1px 3px 1px rgba(60, 64, 67, 0.15);\n",
              "      fill: #174EA6;\n",
              "    }\n",
              "\n",
              "    [theme=dark] .colab-df-convert {\n",
              "      background-color: #3B4455;\n",
              "      fill: #D2E3FC;\n",
              "    }\n",
              "\n",
              "    [theme=dark] .colab-df-convert:hover {\n",
              "      background-color: #434B5C;\n",
              "      box-shadow: 0px 1px 3px 1px rgba(0, 0, 0, 0.15);\n",
              "      filter: drop-shadow(0px 1px 2px rgba(0, 0, 0, 0.3));\n",
              "      fill: #FFFFFF;\n",
              "    }\n",
              "  </style>\n",
              "\n",
              "      <script>\n",
              "        const buttonEl =\n",
              "          document.querySelector('#df-9d48cf91-a3e3-4c1c-9b21-77310031809c button.colab-df-convert');\n",
              "        buttonEl.style.display =\n",
              "          google.colab.kernel.accessAllowed ? 'block' : 'none';\n",
              "\n",
              "        async function convertToInteractive(key) {\n",
              "          const element = document.querySelector('#df-9d48cf91-a3e3-4c1c-9b21-77310031809c');\n",
              "          const dataTable =\n",
              "            await google.colab.kernel.invokeFunction('convertToInteractive',\n",
              "                                                     [key], {});\n",
              "          if (!dataTable) return;\n",
              "\n",
              "          const docLinkHtml = 'Like what you see? Visit the ' +\n",
              "            '<a target=\"_blank\" href=https://colab.research.google.com/notebooks/data_table.ipynb>data table notebook</a>'\n",
              "            + ' to learn more about interactive tables.';\n",
              "          element.innerHTML = '';\n",
              "          dataTable['output_type'] = 'display_data';\n",
              "          await google.colab.output.renderOutput(dataTable, element);\n",
              "          const docLink = document.createElement('div');\n",
              "          docLink.innerHTML = docLinkHtml;\n",
              "          element.appendChild(docLink);\n",
              "        }\n",
              "      </script>\n",
              "    </div>\n",
              "  </div>\n",
              "  "
            ]
          },
          "metadata": {},
          "execution_count": 4
        }
      ]
    },
    {
      "cell_type": "code",
      "source": [
        "from missingno import matrix\n",
        "matrix(train)"
      ],
      "metadata": {
        "colab": {
          "base_uri": "https://localhost:8080/",
          "height": 621
        },
        "id": "03xM7hmTie0Z",
        "outputId": "4bc79b84-903e-4da2-b630-f69e61907840"
      },
      "execution_count": null,
      "outputs": [
        {
          "output_type": "execute_result",
          "data": {
            "text/plain": [
              "<matplotlib.axes._subplots.AxesSubplot at 0x7fe0cdccc090>"
            ]
          },
          "metadata": {},
          "execution_count": 170
        },
        {
          "output_type": "display_data",
          "data": {
            "text/plain": [
              "<Figure size 1800x720 with 2 Axes>"
            ],
            "image/png": "[encoded data removed]"
          },
          "metadata": {
            "needs_background": "light"
          }
        }
      ]
    },
    {
      "cell_type": "code",
      "source": [
        "train['Aggression Intensity'] = train['Aggression Intensity'].fillna(\"NA\")\n",
        "train['Discursive Role'] = train['Discursive Role'].fillna(\"NA\")"
      ],
      "metadata": {
        "id": "qq7W_fSnnuFW"
      },
      "execution_count": null,
      "outputs": []
    },
    {
      "cell_type": "code",
      "source": [
        "train = train[(train['Discursive Role']!=\" `\") & (train['Discursive Role']!='PTH')]"
      ],
      "metadata": {
        "id": "OsZPAzSgoDqb"
      },
      "execution_count": null,
      "outputs": []
    },
    {
      "cell_type": "code",
      "source": [
        "def clean(text):\n",
        "    s = \"\"\n",
        "    for i in text:\n",
        "        if(i.isalnum() or i==' '):\n",
        "            s = s + i\n",
        "        else:\n",
        "            s = s+ \" \"\n",
        "    return s.strip()"
      ],
      "metadata": {
        "id": "624pMv7Kf8mG"
      },
      "execution_count": null,
      "outputs": []
    },
    {
      "cell_type": "code",
      "source": [
        "train['text'] = train['Text'].map(clean)"
      ],
      "metadata": {
        "id": "ySAEGrVGf8iE"
      },
      "execution_count": null,
      "outputs": []
    },
    {
      "cell_type": "code",
      "source": [
        "train.dropna(axis=0,inplace=True)"
      ],
      "metadata": {
        "id": "WlTkOJ_QpAxE"
      },
      "execution_count": null,
      "outputs": []
    },
    {
      "cell_type": "code",
      "source": [
        "vectorizer = TfidfVectorizer()\n",
        "x_train = vectorizer.fit_transform(train['text'].values)"
      ],
      "metadata": {
        "id": "4ZfUVfdgf8fy"
      },
      "execution_count": null,
      "outputs": []
    },
    {
      "cell_type": "code",
      "source": [
        "x_test1 = vectorizer.transform(test1['Text'].values)\n",
        "x_test2 =  vectorizer.transform(test2['Text'].values)\n",
        "x_test3 =  vectorizer.transform(test3['Text'].values)"
      ],
      "metadata": {
        "id": "r38POsD7tH1C"
      },
      "execution_count": null,
      "outputs": []
    },
    {
      "cell_type": "code",
      "source": [
        "train.columns"
      ],
      "metadata": {
        "colab": {
          "base_uri": "https://localhost:8080/"
        },
        "id": "Q9w2CvJ2qNmM",
        "outputId": "137ad2a2-f39e-432f-89d0-222050268e00"
      },
      "execution_count": null,
      "outputs": [
        {
          "output_type": "execute_result",
          "data": {
            "text/plain": [
              "Index(['ID', 'Text', 'Aggression', 'Aggression Intensity', 'Discursive Role',\n",
              "       'Gender Bias', 'Communal Bias', 'Caste/Class Bias',\n",
              "       'Ethnicity/Racial Bias', 'text'],\n",
              "      dtype='object')"
            ]
          },
          "metadata": {},
          "execution_count": 178
        }
      ]
    },
    {
      "cell_type": "code",
      "source": [
        "names = [ 'Aggression', 'Aggression Intensity', 'Discursive Role',\n",
        "       'Gender Bias', 'Communal Bias', 'Caste/Class Bias',\n",
        "       'Ethnicity/Racial Bias']\n",
        "map_dict = {}\n",
        "for name in names:\n",
        "    map_dict[name] = dict(zip(train[name].unique(),np.arange(0,len(train[name].unique()))))"
      ],
      "metadata": {
        "id": "Iv9XdFHTp1dJ"
      },
      "execution_count": null,
      "outputs": []
    },
    {
      "cell_type": "code",
      "source": [
        "map_dict"
      ],
      "metadata": {
        "colab": {
          "base_uri": "https://localhost:8080/"
        },
        "id": "_gpBtOfvqisO",
        "outputId": "c14efc1e-1e04-4b26-d074-aa9b1a28dcbd"
      },
      "execution_count": null,
      "outputs": [
        {
          "output_type": "execute_result",
          "data": {
            "text/plain": [
              "{'Aggression': {'CAG': 0, 'NAG': 2, 'OAG': 1},\n",
              " 'Aggression Intensity': {'CuAG': 2, 'NA': 1, 'NtAG': 0, 'PTH': 4, 'STH': 3},\n",
              " 'Caste/Class Bias': {'CAS': 1, 'CAST': 2, 'NCAS': 0},\n",
              " 'Communal Bias': {'COM': 1, 'COMT': 2, 'NCOM': 0},\n",
              " 'Discursive Role': {'AIN': 3,\n",
              "  'ATK': 2,\n",
              "  'CNS': 1,\n",
              "  'DFN': 4,\n",
              "  'GSL': 5,\n",
              "  'NA': 0},\n",
              " 'Ethnicity/Racial Bias': {'ETH': 1, 'ETHT': 2, 'NETH': 0},\n",
              " 'Gender Bias': {'GEN': 1, 'GENT': 2, 'NGEN': 0}}"
            ]
          },
          "metadata": {},
          "execution_count": 180
        }
      ]
    },
    {
      "cell_type": "code",
      "source": [
        "map_rev_dict = {}\n",
        "for name in names:\n",
        "    map_rev_dict[name] = {}\n",
        "    for key in map_dict[name].items():\n",
        "        map_rev_dict[name][key[1]] = key[0]"
      ],
      "metadata": {
        "id": "bghe1AyPt2Zo"
      },
      "execution_count": null,
      "outputs": []
    },
    {
      "cell_type": "code",
      "source": [
        "df = pd.DataFrame()\n",
        "for name in names:\n",
        "    df[name] = train[name].map(map_dict[name])\n",
        "df"
      ],
      "metadata": {
        "colab": {
          "base_uri": "https://localhost:8080/",
          "height": 424
        },
        "id": "ucHQP5hTqqD3",
        "outputId": "03b87e00-b85a-4dff-ae49-cc3246dca693"
      },
      "execution_count": null,
      "outputs": [
        {
          "output_type": "execute_result",
          "data": {
            "text/plain": [
              "       Aggression  Aggression Intensity  Discursive Role  Gender Bias  \\\n",
              "0               0                     0                0            0   \n",
              "1               1                     0                0            0   \n",
              "2               2                     1                0            0   \n",
              "3               0                     0                0            0   \n",
              "4               2                     1                0            0   \n",
              "...           ...                   ...              ...          ...   \n",
              "92091           1                     2                0            1   \n",
              "92092           2                     1                0            0   \n",
              "92093           1                     0                0            0   \n",
              "92094           2                     1                0            0   \n",
              "92095           1                     0                0            0   \n",
              "\n",
              "       Communal Bias  Caste/Class Bias  Ethnicity/Racial Bias  \n",
              "0                  0                 0                      0  \n",
              "1                  0                 0                      0  \n",
              "2                  0                 0                      0  \n",
              "3                  0                 0                      0  \n",
              "4                  0                 0                      0  \n",
              "...              ...               ...                    ...  \n",
              "92091              0                 0                      0  \n",
              "92092              0                 0                      0  \n",
              "92093              0                 0                      0  \n",
              "92094              0                 0                      0  \n",
              "92095              0                 0                      0  \n",
              "\n",
              "[92085 rows x 7 columns]"
            ],
            "text/html": [
              "\n",
              "  <div id=\"df-7f10a5b8-f254-4d53-9bde-6d915f24eed0\">\n",
              "    <div class=\"colab-df-container\">\n",
              "      <div>\n",
              "<style scoped>\n",
              "    .dataframe tbody tr th:only-of-type {\n",
              "        vertical-align: middle;\n",
              "    }\n",
              "\n",
              "    .dataframe tbody tr th {\n",
              "        vertical-align: top;\n",
              "    }\n",
              "\n",
              "    .dataframe thead th {\n",
              "        text-align: right;\n",
              "    }\n",
              "</style>\n",
              "<table border=\"1\" class=\"dataframe\">\n",
              "  <thead>\n",
              "    <tr style=\"text-align: right;\">\n",
              "      <th></th>\n",
              "      <th>Aggression</th>\n",
              "      <th>Aggression Intensity</th>\n",
              "      <th>Discursive Role</th>\n",
              "      <th>Gender Bias</th>\n",
              "      <th>Communal Bias</th>\n",
              "      <th>Caste/Class Bias</th>\n",
              "      <th>Ethnicity/Racial Bias</th>\n",
              "    </tr>\n",
              "  </thead>\n",
              "  <tbody>\n",
              "    <tr>\n",
              "      <th>0</th>\n",
              "      <td>0</td>\n",
              "      <td>0</td>\n",
              "      <td>0</td>\n",
              "      <td>0</td>\n",
              "      <td>0</td>\n",
              "      <td>0</td>\n",
              "      <td>0</td>\n",
              "    </tr>\n",
              "    <tr>\n",
              "      <th>1</th>\n",
              "      <td>1</td>\n",
              "      <td>0</td>\n",
              "      <td>0</td>\n",
              "      <td>0</td>\n",
              "      <td>0</td>\n",
              "      <td>0</td>\n",
              "      <td>0</td>\n",
              "    </tr>\n",
              "    <tr>\n",
              "      <th>2</th>\n",
              "      <td>2</td>\n",
              "      <td>1</td>\n",
              "      <td>0</td>\n",
              "      <td>0</td>\n",
              "      <td>0</td>\n",
              "      <td>0</td>\n",
              "      <td>0</td>\n",
              "    </tr>\n",
              "    <tr>\n",
              "      <th>3</th>\n",
              "      <td>0</td>\n",
              "      <td>0</td>\n",
              "      <td>0</td>\n",
              "      <td>0</td>\n",
              "      <td>0</td>\n",
              "      <td>0</td>\n",
              "      <td>0</td>\n",
              "    </tr>\n",
              "    <tr>\n",
              "      <th>4</th>\n",
              "      <td>2</td>\n",
              "      <td>1</td>\n",
              "      <td>0</td>\n",
              "      <td>0</td>\n",
              "      <td>0</td>\n",
              "      <td>0</td>\n",
              "      <td>0</td>\n",
              "    </tr>\n",
              "    <tr>\n",
              "      <th>...</th>\n",
              "      <td>...</td>\n",
              "      <td>...</td>\n",
              "      <td>...</td>\n",
              "      <td>...</td>\n",
              "      <td>...</td>\n",
              "      <td>...</td>\n",
              "      <td>...</td>\n",
              "    </tr>\n",
              "    <tr>\n",
              "      <th>92091</th>\n",
              "      <td>1</td>\n",
              "      <td>2</td>\n",
              "      <td>0</td>\n",
              "      <td>1</td>\n",
              "      <td>0</td>\n",
              "      <td>0</td>\n",
              "      <td>0</td>\n",
              "    </tr>\n",
              "    <tr>\n",
              "      <th>92092</th>\n",
              "      <td>2</td>\n",
              "      <td>1</td>\n",
              "      <td>0</td>\n",
              "      <td>0</td>\n",
              "      <td>0</td>\n",
              "      <td>0</td>\n",
              "      <td>0</td>\n",
              "    </tr>\n",
              "    <tr>\n",
              "      <th>92093</th>\n",
              "      <td>1</td>\n",
              "      <td>0</td>\n",
              "      <td>0</td>\n",
              "      <td>0</td>\n",
              "      <td>0</td>\n",
              "      <td>0</td>\n",
              "      <td>0</td>\n",
              "    </tr>\n",
              "    <tr>\n",
              "      <th>92094</th>\n",
              "      <td>2</td>\n",
              "      <td>1</td>\n",
              "      <td>0</td>\n",
              "      <td>0</td>\n",
              "      <td>0</td>\n",
              "      <td>0</td>\n",
              "      <td>0</td>\n",
              "    </tr>\n",
              "    <tr>\n",
              "      <th>92095</th>\n",
              "      <td>1</td>\n",
              "      <td>0</td>\n",
              "      <td>0</td>\n",
              "      <td>0</td>\n",
              "      <td>0</td>\n",
              "      <td>0</td>\n",
              "      <td>0</td>\n",
              "    </tr>\n",
              "  </tbody>\n",
              "</table>\n",
              "<p>92085 rows × 7 columns</p>\n",
              "</div>\n",
              "      <button class=\"colab-df-convert\" onclick=\"convertToInteractive('df-7f10a5b8-f254-4d53-9bde-6d915f24eed0')\"\n",
              "              title=\"Convert this dataframe to an interactive table.\"\n",
              "              style=\"display:none;\">\n",
              "        \n",
              "  <svg xmlns=\"http://www.w3.org/2000/svg\" height=\"24px\"viewBox=\"0 0 24 24\"\n",
              "       width=\"24px\">\n",
              "    <path d=\"M0 0h24v24H0V0z\" fill=\"none\"/>\n",
              "    <path d=\"M18.56 5.44l.94 2.06.94-2.06 2.06-.94-2.06-.94-.94-2.06-.94 2.06-2.06.94zm-11 1L8.5 8.5l.94-2.06 2.06-.94-2.06-.94L8.5 2.5l-.94 2.06-2.06.94zm10 10l.94 2.06.94-2.06 2.06-.94-2.06-.94-.94-2.06-.94 2.06-2.06.94z\"/><path d=\"M17.41 7.96l-1.37-1.37c-.4-.4-.92-.59-1.43-.59-.52 0-1.04.2-1.43.59L10.3 9.45l-7.72 7.72c-.78.78-.78 2.05 0 2.83L4 21.41c.39.39.9.59 1.41.59.51 0 1.02-.2 1.41-.59l7.78-7.78 2.81-2.81c.8-.78.8-2.07 0-2.86zM5.41 20L4 18.59l7.72-7.72 1.47 1.35L5.41 20z\"/>\n",
              "  </svg>\n",
              "      </button>\n",
              "      \n",
              "  <style>\n",
              "    .colab-df-container {\n",
              "      display:flex;\n",
              "      flex-wrap:wrap;\n",
              "      gap: 12px;\n",
              "    }\n",
              "\n",
              "    .colab-df-convert {\n",
              "      background-color: #E8F0FE;\n",
              "      border: none;\n",
              "      border-radius: 50%;\n",
              "      cursor: pointer;\n",
              "      display: none;\n",
              "      fill: #1967D2;\n",
              "      height: 32px;\n",
              "      padding: 0 0 0 0;\n",
              "      width: 32px;\n",
              "    }\n",
              "\n",
              "    .colab-df-convert:hover {\n",
              "      background-color: #E2EBFA;\n",
              "      box-shadow: 0px 1px 2px rgba(60, 64, 67, 0.3), 0px 1px 3px 1px rgba(60, 64, 67, 0.15);\n",
              "      fill: #174EA6;\n",
              "    }\n",
              "\n",
              "    [theme=dark] .colab-df-convert {\n",
              "      background-color: #3B4455;\n",
              "      fill: #D2E3FC;\n",
              "    }\n",
              "\n",
              "    [theme=dark] .colab-df-convert:hover {\n",
              "      background-color: #434B5C;\n",
              "      box-shadow: 0px 1px 3px 1px rgba(0, 0, 0, 0.15);\n",
              "      filter: drop-shadow(0px 1px 2px rgba(0, 0, 0, 0.3));\n",
              "      fill: #FFFFFF;\n",
              "    }\n",
              "  </style>\n",
              "\n",
              "      <script>\n",
              "        const buttonEl =\n",
              "          document.querySelector('#df-7f10a5b8-f254-4d53-9bde-6d915f24eed0 button.colab-df-convert');\n",
              "        buttonEl.style.display =\n",
              "          google.colab.kernel.accessAllowed ? 'block' : 'none';\n",
              "\n",
              "        async function convertToInteractive(key) {\n",
              "          const element = document.querySelector('#df-7f10a5b8-f254-4d53-9bde-6d915f24eed0');\n",
              "          const dataTable =\n",
              "            await google.colab.kernel.invokeFunction('convertToInteractive',\n",
              "                                                     [key], {});\n",
              "          if (!dataTable) return;\n",
              "\n",
              "          const docLinkHtml = 'Like what you see? Visit the ' +\n",
              "            '<a target=\"_blank\" href=https://colab.research.google.com/notebooks/data_table.ipynb>data table notebook</a>'\n",
              "            + ' to learn more about interactive tables.';\n",
              "          element.innerHTML = '';\n",
              "          dataTable['output_type'] = 'display_data';\n",
              "          await google.colab.output.renderOutput(dataTable, element);\n",
              "          const docLink = document.createElement('div');\n",
              "          docLink.innerHTML = docLinkHtml;\n",
              "          element.appendChild(docLink);\n",
              "        }\n",
              "      </script>\n",
              "    </div>\n",
              "  </div>\n",
              "  "
            ]
          },
          "metadata": {},
          "execution_count": 182
        }
      ]
    },
    {
      "cell_type": "code",
      "source": [
        "from sklearn.metrics import f1_score,classification_report"
      ],
      "metadata": {
        "id": "d6uwHlD-rQjF"
      },
      "execution_count": null,
      "outputs": []
    },
    {
      "cell_type": "markdown",
      "source": [
        "# Multinomial Bayes"
      ],
      "metadata": {
        "id": "59mGKkT4wrzs"
      }
    },
    {
      "cell_type": "markdown",
      "source": [
        "## Aggression"
      ],
      "metadata": {
        "id": "qMeW36Ycwwe4"
      }
    },
    {
      "cell_type": "code",
      "source": [
        "from sklearn.naive_bayes import MultinomialNB"
      ],
      "metadata": {
        "id": "p3wd4v0jf8dr"
      },
      "execution_count": null,
      "outputs": []
    },
    {
      "cell_type": "code",
      "source": [
        "model_aggression = MultinomialNB(alpha = 1e-03)\n",
        "model_aggression.fit(x_train,df['Aggression'].values)"
      ],
      "metadata": {
        "colab": {
          "base_uri": "https://localhost:8080/"
        },
        "id": "NfjMTd3xf8bb",
        "outputId": "20670538-069e-4949-e008-397b8d102bce"
      },
      "execution_count": null,
      "outputs": [
        {
          "output_type": "execute_result",
          "data": {
            "text/plain": [
              "MultinomialNB(alpha=0.001)"
            ]
          },
          "metadata": {},
          "execution_count": 185
        }
      ]
    },
    {
      "cell_type": "code",
      "source": [
        "pred = model_aggression.predict(x_train)"
      ],
      "metadata": {
        "id": "kzq84VIErY2J"
      },
      "execution_count": null,
      "outputs": []
    },
    {
      "cell_type": "code",
      "source": [
        "print(f\"{f1_score(pred,df['Aggression'].values,average='micro')} \\n -------------------------xxxxxxxxxxx----------------- \\n {classification_report(pred,df['Aggression'].values)}\")"
      ],
      "metadata": {
        "colab": {
          "base_uri": "https://localhost:8080/"
        },
        "id": "Dz33e7tOpaxK",
        "outputId": "545281a5-83d8-4283-d55c-cd8d79517701"
      },
      "execution_count": null,
      "outputs": [
        {
          "output_type": "stream",
          "name": "stdout",
          "text": [
            "0.7403051528479122 \n",
            " -------------------------xxxxxxxxxxx----------------- \n",
            "               precision    recall  f1-score   support\n",
            "\n",
            "           0       0.50      0.69      0.58     14896\n",
            "           1       0.87      0.74      0.80     51994\n",
            "           2       0.71      0.77      0.74     25195\n",
            "\n",
            "    accuracy                           0.74     92085\n",
            "   macro avg       0.69      0.73      0.71     92085\n",
            "weighted avg       0.77      0.74      0.75     92085\n",
            "\n"
          ]
        }
      ]
    },
    {
      "cell_type": "code",
      "source": [
        "def return_labels(task:str,label:int):\n",
        "    return map_rev_dict[task][label]"
      ],
      "metadata": {
        "id": "6vp6mJAGvDTt"
      },
      "execution_count": null,
      "outputs": []
    },
    {
      "cell_type": "code",
      "source": [
        "aggression1= [return_labels('Aggression',label) for label in model_aggression.predict(x_test1)]\n",
        "aggression2= [return_labels('Aggression',label) for label in model_aggression.predict(x_test2)]\n",
        "aggression3= [return_labels('Aggression',label) for label in model_aggression.predict(x_test3)]"
      ],
      "metadata": {
        "id": "FUsvg16EpavL"
      },
      "execution_count": null,
      "outputs": []
    },
    {
      "cell_type": "code",
      "source": [
        "pd.DataFrame({\"ID\":test2['ID'].values,\"Aggression\":aggression2}).to_csv('/content/drive/MyDrive/TRAC/Submission/Team1/MNB(a=1e-03)/trac_all_pred.tsv',sep='\\t',index=False)"
      ],
      "metadata": {
        "id": "lyj9P8LfpatT"
      },
      "execution_count": null,
      "outputs": []
    },
    {
      "cell_type": "markdown",
      "source": [
        "## Aggression Intensity"
      ],
      "metadata": {
        "id": "nnTbrIhowm9q"
      }
    },
    {
      "cell_type": "code",
      "source": [
        "model_aggression_intensity = MultinomialNB(alpha = 1e-03)\n",
        "model_aggression_intensity.fit(x_train,df['Aggression Intensity'].values)"
      ],
      "metadata": {
        "colab": {
          "base_uri": "https://localhost:8080/"
        },
        "id": "HQTUD00sparT",
        "outputId": "05390659-3592-4cf7-e024-5a8d7374e6a1"
      },
      "execution_count": null,
      "outputs": [
        {
          "output_type": "execute_result",
          "data": {
            "text/plain": [
              "MultinomialNB(alpha=0.001)"
            ]
          },
          "metadata": {},
          "execution_count": 191
        }
      ]
    },
    {
      "cell_type": "code",
      "source": [
        "pred = model_aggression_intensity.predict(x_train)\n",
        "print(f\"{f1_score(pred,df['Aggression Intensity'].values,average='micro')} \\n -------------------------xxxxxxxxxxx----------------- \\n {classification_report(pred,df['Aggression Intensity'].values)}\")"
      ],
      "metadata": {
        "colab": {
          "base_uri": "https://localhost:8080/"
        },
        "id": "FF0qLKfEpapi",
        "outputId": "301d47d3-ae05-490b-b0d6-3b5cc3e1affe"
      },
      "execution_count": null,
      "outputs": [
        {
          "output_type": "stream",
          "name": "stdout",
          "text": [
            "0.7233534234674486 \n",
            " -------------------------xxxxxxxxxxx----------------- \n",
            "               precision    recall  f1-score   support\n",
            "\n",
            "           0       0.77      0.66      0.71     42776\n",
            "           1       0.69      0.78      0.74     23944\n",
            "           2       0.69      0.78      0.73     21891\n",
            "           3       0.67      0.62      0.65      1419\n",
            "           4       0.68      0.72      0.70      2055\n",
            "\n",
            "    accuracy                           0.72     92085\n",
            "   macro avg       0.70      0.71      0.71     92085\n",
            "weighted avg       0.73      0.72      0.72     92085\n",
            "\n"
          ]
        }
      ]
    },
    {
      "cell_type": "code",
      "source": [
        "aggressionintensity1= [return_labels('Aggression Intensity',label) for label in model_aggression_intensity.predict(x_test1)]\n",
        "aggressionintensity3= [return_labels('Aggression Intensity',label) for label in model_aggression_intensity.predict(x_test3)]"
      ],
      "metadata": {
        "id": "8Ix95--RpanV"
      },
      "execution_count": null,
      "outputs": []
    },
    {
      "cell_type": "markdown",
      "source": [
        "## Discursive Role"
      ],
      "metadata": {
        "id": "17P4BL8ZxgJm"
      }
    },
    {
      "cell_type": "code",
      "source": [
        "model_dr = MultinomialNB(alpha = 1e-03)\n",
        "model_dr.fit(x_train,df['Discursive Role'].values)"
      ],
      "metadata": {
        "colab": {
          "base_uri": "https://localhost:8080/"
        },
        "id": "J3xnjLHrpala",
        "outputId": "9b10d7aa-2d89-4362-a658-73cad2ccbb90"
      },
      "execution_count": null,
      "outputs": [
        {
          "output_type": "execute_result",
          "data": {
            "text/plain": [
              "MultinomialNB(alpha=0.001)"
            ]
          },
          "metadata": {},
          "execution_count": 194
        }
      ]
    },
    {
      "cell_type": "code",
      "source": [
        "pred = model_dr.predict(x_train)\n",
        "print(f\"{f1_score(pred,df['Discursive Role'].values,average='micro')} \\n -------------------------xxxxxxxxxxx----------------- \\n {classification_report(pred,df['Discursive Role'].values)}\")"
      ],
      "metadata": {
        "colab": {
          "base_uri": "https://localhost:8080/"
        },
        "id": "ZdmOTs9QpajX",
        "outputId": "4a27ac68-9f63-4567-8351-1651f64a76a6"
      },
      "execution_count": null,
      "outputs": [
        {
          "output_type": "stream",
          "name": "stdout",
          "text": [
            "0.8468371613183472 \n",
            " -------------------------xxxxxxxxxxx----------------- \n",
            "               precision    recall  f1-score   support\n",
            "\n",
            "           0       0.92      0.88      0.90     66915\n",
            "           1       0.57      0.49      0.53       547\n",
            "           2       0.71      0.78      0.74     22031\n",
            "           3       0.47      0.60      0.53      1779\n",
            "           4       0.44      0.51      0.47       733\n",
            "           5       0.66      0.36      0.47        80\n",
            "\n",
            "    accuracy                           0.85     92085\n",
            "   macro avg       0.63      0.60      0.61     92085\n",
            "weighted avg       0.85      0.85      0.85     92085\n",
            "\n"
          ]
        }
      ]
    },
    {
      "cell_type": "code",
      "source": [
        "discursive1= [return_labels('Discursive Role',label) for label in model_dr.predict(x_test1)]\n",
        "discursive3= [return_labels('Discursive Role',label) for label in model_dr.predict(x_test3)]"
      ],
      "metadata": {
        "id": "Rp_kDz_oxert"
      },
      "execution_count": null,
      "outputs": []
    },
    {
      "cell_type": "markdown",
      "source": [
        "## Gender Bias"
      ],
      "metadata": {
        "id": "RrUXsPteyQyF"
      }
    },
    {
      "cell_type": "code",
      "source": [
        "model_gb = MultinomialNB(alpha = 1e-03)\n",
        "model_gb.fit(x_train,df['Gender Bias'].values)"
      ],
      "metadata": {
        "colab": {
          "base_uri": "https://localhost:8080/"
        },
        "outputId": "1418c8d4-7bb4-4ba5-95bf-14d397c25728",
        "id": "t8qjjcf9yZmx"
      },
      "execution_count": null,
      "outputs": [
        {
          "output_type": "execute_result",
          "data": {
            "text/plain": [
              "MultinomialNB(alpha=0.001)"
            ]
          },
          "metadata": {},
          "execution_count": 197
        }
      ]
    },
    {
      "cell_type": "code",
      "source": [
        "pred = model_gb.predict(x_train)\n",
        "print(f\"{f1_score(pred,df['Gender Bias'].values,average='micro')} \\n -------------------------xxxxxxxxxxx----------------- \\n {classification_report(pred,df['Gender Bias'].values)}\")"
      ],
      "metadata": {
        "colab": {
          "base_uri": "https://localhost:8080/"
        },
        "outputId": "de603755-6fbc-49a1-d0aa-df3f85c23362",
        "id": "WK_QPwAvyZmx"
      },
      "execution_count": null,
      "outputs": [
        {
          "output_type": "stream",
          "name": "stdout",
          "text": [
            "0.8871694629961449 \n",
            " -------------------------xxxxxxxxxxx----------------- \n",
            "               precision    recall  f1-score   support\n",
            "\n",
            "           0       0.93      0.94      0.94     75776\n",
            "           1       0.68      0.66      0.67     15315\n",
            "           2       0.57      0.59      0.58       994\n",
            "\n",
            "    accuracy                           0.89     92085\n",
            "   macro avg       0.73      0.73      0.73     92085\n",
            "weighted avg       0.89      0.89      0.89     92085\n",
            "\n"
          ]
        }
      ]
    },
    {
      "cell_type": "code",
      "source": [
        "gender1= [return_labels('Gender Bias',label) for label in model_gb.predict(x_test1)]\n",
        "gender3= [return_labels('Gender Bias',label) for label in model_gb.predict(x_test3)]"
      ],
      "metadata": {
        "id": "Co3QBZ9IyZmy"
      },
      "execution_count": null,
      "outputs": []
    },
    {
      "cell_type": "markdown",
      "source": [
        "## Communal Bias"
      ],
      "metadata": {
        "id": "E-wI4WbvyyJO"
      }
    },
    {
      "cell_type": "code",
      "source": [
        "model_cb = MultinomialNB(alpha = 1e-03)\n",
        "model_cb.fit(x_train,df['Communal Bias'].values)"
      ],
      "metadata": {
        "colab": {
          "base_uri": "https://localhost:8080/"
        },
        "outputId": "13fe05c9-756f-4edc-82bd-c9493090a122",
        "id": "wjeLyM0-y7QG"
      },
      "execution_count": null,
      "outputs": [
        {
          "output_type": "execute_result",
          "data": {
            "text/plain": [
              "MultinomialNB(alpha=0.001)"
            ]
          },
          "metadata": {},
          "execution_count": 200
        }
      ]
    },
    {
      "cell_type": "code",
      "source": [
        "pred = model_cb.predict(x_train)\n",
        "print(f\"{f1_score(pred,df['Communal Bias'].values,average='micro')} \\n -------------------------xxxxxxxxxxx----------------- \\n {classification_report(pred,df['Communal Bias'].values)}\")"
      ],
      "metadata": {
        "colab": {
          "base_uri": "https://localhost:8080/"
        },
        "outputId": "340e135f-804e-4e84-d422-b57969eeed7f",
        "id": "qQJo4MeFy7QH"
      },
      "execution_count": null,
      "outputs": [
        {
          "output_type": "stream",
          "name": "stdout",
          "text": [
            "0.939219199652495 \n",
            " -------------------------xxxxxxxxxxx----------------- \n",
            "               precision    recall  f1-score   support\n",
            "\n",
            "           0       0.97      0.97      0.97     82927\n",
            "           1       0.68      0.70      0.69      8598\n",
            "           2       0.72      0.52      0.60       560\n",
            "\n",
            "    accuracy                           0.94     92085\n",
            "   macro avg       0.79      0.73      0.75     92085\n",
            "weighted avg       0.94      0.94      0.94     92085\n",
            "\n"
          ]
        }
      ]
    },
    {
      "cell_type": "code",
      "source": [
        "cb1= [return_labels('Communal Bias',label) for label in model_cb.predict(x_test1)]\n",
        "cb3= [return_labels('Communal Bias',label) for label in model_cb.predict(x_test3)]"
      ],
      "metadata": {
        "id": "w4g6gIory7QH"
      },
      "execution_count": null,
      "outputs": []
    },
    {
      "cell_type": "markdown",
      "source": [
        "## Caste/Class Bias"
      ],
      "metadata": {
        "id": "lIzOQUJV1anz"
      }
    },
    {
      "cell_type": "code",
      "source": [
        "model_ccb = MultinomialNB(alpha = 1e-03)\n",
        "model_ccb.fit(x_train,df['Caste/Class Bias'].values)"
      ],
      "metadata": {
        "colab": {
          "base_uri": "https://localhost:8080/"
        },
        "outputId": "b68df692-66e0-4e90-9699-dbdd5763ebb3",
        "id": "YaIN7XM91ebD"
      },
      "execution_count": null,
      "outputs": [
        {
          "output_type": "execute_result",
          "data": {
            "text/plain": [
              "MultinomialNB(alpha=0.001)"
            ]
          },
          "metadata": {},
          "execution_count": 203
        }
      ]
    },
    {
      "cell_type": "code",
      "source": [
        "pred = model_ccb.predict(x_train)\n",
        "print(f\"{f1_score(pred,df['Caste/Class Bias'].values,average='micro')} \\n -------------------------xxxxxxxxxxx----------------- \\n {classification_report(pred,df['Caste/Class Bias'].values)}\")"
      ],
      "metadata": {
        "colab": {
          "base_uri": "https://localhost:8080/"
        },
        "outputId": "d0bdd0a6-c0d7-4ff8-f47a-489779783da8",
        "id": "7IIVog9s1ebD"
      },
      "execution_count": null,
      "outputs": [
        {
          "output_type": "stream",
          "name": "stdout",
          "text": [
            "0.9852744746701417 \n",
            " -------------------------xxxxxxxxxxx----------------- \n",
            "               precision    recall  f1-score   support\n",
            "\n",
            "           0       0.99      1.00      0.99     90144\n",
            "           1       0.72      0.48      0.58      1879\n",
            "           2       0.69      0.40      0.51        62\n",
            "\n",
            "    accuracy                           0.99     92085\n",
            "   macro avg       0.80      0.63      0.69     92085\n",
            "weighted avg       0.98      0.99      0.98     92085\n",
            "\n"
          ]
        }
      ]
    },
    {
      "cell_type": "code",
      "source": [
        "ccb1= [return_labels('Caste/Class Bias',label) for label in model_ccb.predict(x_test1)]\n",
        "ccb3= [return_labels('Caste/Class Bias',label) for label in model_ccb.predict(x_test3)]"
      ],
      "metadata": {
        "id": "SxYa9YFi1ebE"
      },
      "execution_count": null,
      "outputs": []
    },
    {
      "cell_type": "markdown",
      "source": [
        "## Ethnicity/Racial Bias"
      ],
      "metadata": {
        "id": "rrmdhb6w1xsQ"
      }
    },
    {
      "cell_type": "code",
      "source": [
        "model_erb = MultinomialNB(alpha = 1e-03)\n",
        "model_erb.fit(x_train,df['Ethnicity/Racial Bias'].values)"
      ],
      "metadata": {
        "colab": {
          "base_uri": "https://localhost:8080/"
        },
        "outputId": "06303178-f885-4429-e98e-e2aa5a2c86a9",
        "id": "gWXQ4I1920zF"
      },
      "execution_count": null,
      "outputs": [
        {
          "output_type": "execute_result",
          "data": {
            "text/plain": [
              "MultinomialNB(alpha=0.001)"
            ]
          },
          "metadata": {},
          "execution_count": 206
        }
      ]
    },
    {
      "cell_type": "code",
      "source": [
        "pred = model_erb.predict(x_train)\n",
        "print(f\"{f1_score(pred,df['Ethnicity/Racial Bias'].values,average='micro')} \\n -------------------------xxxxxxxxxxx----------------- \\n {classification_report(pred,df['Ethnicity/Racial Bias'].values)}\")"
      ],
      "metadata": {
        "colab": {
          "base_uri": "https://localhost:8080/"
        },
        "outputId": "0ce1bf3a-6be4-4c02-fabe-5e2a9dc16061",
        "id": "ENbkM87h20zG"
      },
      "execution_count": null,
      "outputs": [
        {
          "output_type": "stream",
          "name": "stdout",
          "text": [
            "0.9816691100613564 \n",
            " -------------------------xxxxxxxxxxx----------------- \n",
            "               precision    recall  f1-score   support\n",
            "\n",
            "           0       0.99      0.99      0.99     88944\n",
            "           1       0.77      0.66      0.71      3059\n",
            "           2       0.82      0.38      0.52        82\n",
            "\n",
            "    accuracy                           0.98     92085\n",
            "   macro avg       0.86      0.68      0.74     92085\n",
            "weighted avg       0.98      0.98      0.98     92085\n",
            "\n"
          ]
        }
      ]
    },
    {
      "cell_type": "code",
      "source": [
        "erb1= [return_labels('Ethnicity/Racial Bias',label) for label in model_erb.predict(x_test1)]\n",
        "erb3= [return_labels('Ethnicity/Racial Bias',label) for label in model_erb.predict(x_test3)]"
      ],
      "metadata": {
        "id": "gxSTbuy320zH"
      },
      "execution_count": null,
      "outputs": []
    },
    {
      "cell_type": "markdown",
      "source": [
        "## Final predictions\n"
      ],
      "metadata": {
        "id": "3r5s6VtV4cmk"
      }
    },
    {
      "cell_type": "code",
      "source": [
        "response1 = pd.DataFrame({\"ID\":test1['ID'],'Aggression': aggression1 , \"Aggression Intensity\":aggressionintensity1\n",
        "                          ,'Discursive Role': discursive1, 'Gender Bias':gender1 , 'Communal Bias' :cb1 ,  'Caste/Class Bias':ccb1,\n",
        "                          'Ethnicity/Racial Bias':erb1})\n",
        "response1.columns = trac.columns"
      ],
      "metadata": {
        "id": "269rMPRi1KAo"
      },
      "execution_count": null,
      "outputs": []
    },
    {
      "cell_type": "code",
      "source": [
        "response1.to_csv('/content/drive/MyDrive/TRAC/Submission/Team1/MNB(a=1e-03)/trac_2022_pred.tsv',sep='\\t',index=False)"
      ],
      "metadata": {
        "id": "V0o0zh2w1J7Y"
      },
      "execution_count": null,
      "outputs": []
    },
    {
      "cell_type": "code",
      "source": [
        "response3 = pd.DataFrame({\"ID\":test3['ID'],'Aggression': aggression3 , \"Aggression Intensity\":aggressionintensity3\n",
        "                          ,'Discursive Role': discursive3, 'Gender Bias':gender3 , 'Communal Bias' :cb3 ,  'Caste/Class Bias':ccb3,\n",
        "                          'Ethnicity/Racial Bias':erb3})\n",
        "response3.columns = trac.columns\n",
        "response3.to_csv('/content/drive/MyDrive/TRAC/Submission/Team1/MNB(a=1e-03)/trac_sur_pred.tsv',sep='\\t',index=False)"
      ],
      "metadata": {
        "id": "eV9Lun1r1J5a"
      },
      "execution_count": null,
      "outputs": []
    },
    {
      "cell_type": "code",
      "source": [
        "Test1 = pd.read_csv('/content/drive/MyDrive/TRAC/Submission/Team2/RF/trac_2022_pred.tsv',sep='\\t')\n",
        "Test2 = pd.read_csv('/content/drive/MyDrive/TRAC/Submission/Team2/RF/trac_sur_pred.tsv',sep='\\t')"
      ],
      "metadata": {
        "id": "xQYIQbO9mPrk"
      },
      "execution_count": null,
      "outputs": []
    },
    {
      "cell_type": "code",
      "source": [
        "Test1['ID'] = test1['ID']\n",
        "Test2['ID'] = test3['ID']"
      ],
      "metadata": {
        "id": "z9g6HlApmPp5"
      },
      "execution_count": null,
      "outputs": []
    },
    {
      "cell_type": "code",
      "source": [
        "Test1.fillna(\"NA\",inplace=True)\n",
        "Test2.fillna(\"NA\",inplace=True)"
      ],
      "metadata": {
        "id": "ukrzJg7cnLGb"
      },
      "execution_count": null,
      "outputs": []
    },
    {
      "cell_type": "code",
      "source": [
        "Test1.to_csv('/content/drive/MyDrive/TRAC/Submission/Team2/RF/trac_2022_pred.tsv',sep='\\t',index=False)\n",
        "Test2.to_csv('/content/drive/MyDrive/TRAC/Submission/Team2/RF/trac_sur_pred.tsv',sep='\\t',index=False)"
      ],
      "metadata": {
        "id": "OAAXq-jHmPoO"
      },
      "execution_count": null,
      "outputs": []
    }
  ],
  "metadata": {
    "colab": {
      "provenance": []
    },
    "kernelspec": {
      "display_name": "Python 3",
      "name": "python3"
    },
    "language_info": {
      "name": "python"
    },
    "gpuClass": "standard",
    "accelerator": "GPU"
  },
  "nbformat": 4,
  "nbformat_minor": 0
}