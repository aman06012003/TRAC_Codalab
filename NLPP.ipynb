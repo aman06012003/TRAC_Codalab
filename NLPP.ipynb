{
  "nbformat": 4,
  "nbformat_minor": 0,
  "metadata": {
    "colab": {
      "provenance": [],
      "collapsed_sections": [
        "QmojUqrsqG_a",
        "-ErYjPaGvnXD",
        "gP8phyRP4vUX",
        "k6x1S6bG5BGP",
        "ag1H8Mjx5HV6",
        "2XCdekOc5Mpq",
        "KeXcmjIN5QHq",
        "DXxKSv0w5UYb"
      ]
    },
    "kernelspec": {
      "name": "python3",
      "display_name": "Python 3"
    },
    "language_info": {
      "name": "python"
    }
  },
  "cells": [
    {
      "cell_type": "markdown",
      "source": [
        "# **Importing modules**"
      ],
      "metadata": {
        "id": "A-ZzOQlsp3Sl"
      }
    },
    {
      "cell_type": "code",
      "source": [
        "import pandas as pd\n",
        "import numpy as np\n",
        "from sklearn.feature_extraction.text import TfidfVectorizer\n",
        "from sklearn.metrics import f1_score\n",
        "from sklearn.metrics import confusion_matrix,classification_report\n",
        "from sklearn.model_selection import train_test_split\n",
        "import joblib"
      ],
      "metadata": {
        "id": "dpowktFeqBGm"
      },
      "execution_count": null,
      "outputs": []
    },
    {
      "cell_type": "markdown",
      "source": [
        "# **Extracting data**"
      ],
      "metadata": {
        "id": "QmojUqrsqG_a"
      }
    },
    {
      "cell_type": "code",
      "source": [
        "path1='dataset.csv'\n",
        "# path2='TEST.csv'"
      ],
      "metadata": {
        "id": "upQzV4FoqGWi"
      },
      "execution_count": null,
      "outputs": []
    },
    {
      "cell_type": "code",
      "source": [
        "df = pd.read_csv(path1,sep=',')\n",
        "df\n",
        "# df_test = pd.read_csv(path2,sep=',')"
      ],
      "metadata": {
        "id": "aK1ry9h7rwLf"
      },
      "execution_count": null,
      "outputs": []
    },
    {
      "cell_type": "code",
      "source": [
        "#function for lowering the text\n",
        "def lower_X(text):\n",
        "    if(type(text)==str):\n",
        "        s = ''\n",
        "        for i in text:\n",
        "            try:\n",
        "                s = s+ i.lower()\n",
        "            except:\n",
        "                s = s +i\n",
        "        return s\n",
        "    else:\n",
        "        return 'None'"
      ],
      "metadata": {
        "id": "vhGOQzXkr-dz"
      },
      "execution_count": null,
      "outputs": []
    },
    {
      "cell_type": "code",
      "source": [
        "df['Text'] = df['Text'].map(lower_X)\n",
        "# df_train['Text'] = df_train['Text'].map(lower_X)\n",
        "# df_test['Text'] = df_test['Text'].map(lower_X)"
      ],
      "metadata": {
        "id": "MZ7PIYS_sIGj"
      },
      "execution_count": null,
      "outputs": []
    },
    {
      "cell_type": "code",
      "source": [
        "def clean(text):\n",
        "  s =\"\"\n",
        "  for i in text:\n",
        "    if(i.isalnum() or i== ' '):\n",
        "      s = s + i\n",
        "    else:\n",
        "      s = s + \" \"\n",
        "  return s.strip()"
      ],
      "metadata": {
        "id": "JNiljCpIoEZG"
      },
      "execution_count": null,
      "outputs": []
    },
    {
      "cell_type": "code",
      "source": [
        "df['text'] = df['Text'].map(clean)"
      ],
      "metadata": {
        "id": "h_Q59wHRox2I"
      },
      "execution_count": null,
      "outputs": []
    },
    {
      "cell_type": "code",
      "source": [
        "from sklearn.model_selection import train_test_split"
      ],
      "metadata": {
        "id": "bRbP_fu3fSZE"
      },
      "execution_count": null,
      "outputs": []
    },
    {
      "cell_type": "code",
      "source": [
        "df_train, df_test = train_test_split(df, test_size=0.15 , random_state = 101)"
      ],
      "metadata": {
        "id": "Vacli4E1vM1L"
      },
      "execution_count": null,
      "outputs": []
    },
    {
      "cell_type": "code",
      "source": [
        "df_train = df"
      ],
      "metadata": {
        "id": "XNv8-O5WfgqI"
      },
      "execution_count": null,
      "outputs": []
    },
    {
      "cell_type": "markdown",
      "source": [
        "# **Loading testing data**"
      ],
      "metadata": {
        "id": "lQFL5hG1qu3O"
      }
    },
    {
      "cell_type": "code",
      "source": [
        "path2 = 'trac_sur_test.tsv'\n",
        "path3 = 'trac_all_test.tsv'\n",
        "path4 = 'trac_2022_test.tsv'"
      ],
      "metadata": {
        "id": "hf5LClI0qtJn"
      },
      "execution_count": null,
      "outputs": []
    },
    {
      "cell_type": "code",
      "source": [
        "df_test2 = pd.read_csv(path2, sep='\\t')\n",
        "df_test3=pd.read_csv(path3, sep='\\t')\n",
        "df_test4=pd.read_csv(path4, sep='\\t')"
      ],
      "metadata": {
        "id": "3pPtmk_krLAo"
      },
      "execution_count": null,
      "outputs": []
    },
    {
      "cell_type": "code",
      "source": [
        "df_test2['Text'] = df_test2['ID'].map(lower_X)\n",
        "df_test2['Text']"
      ],
      "metadata": {
        "colab": {
          "base_uri": "https://localhost:8080/"
        },
        "id": "2cNRP-Twsc8t",
        "outputId": "23486b4e-cad7-4a5d-ccbf-f4f71b0fdc9e"
      },
      "execution_count": null,
      "outputs": [
        {
          "output_type": "execute_result",
          "data": {
            "text/plain": [
              "Youtube Corpus 1036          https://www.youtube.com/watch?v=g4pkiz9gwwq\n",
              "C1036.1                allah apni sara duniar manush ke nrc hat theke...\n",
              "C1036.2                                    যেখান থেকে এসেছিলে সেখানে যাও\n",
              "C1036.2.1              onara to jak..kintu vai rules ta equal houa uc...\n",
              "C1036.3                                            a desh ki modir baper\n",
              "                                             ...                        \n",
              "C639.369               कोरोना संकट के समय राजस्थान का कांग्रेसी मु.मं...\n",
              "C639.369.1                           andbhakt hai whatsapp university se\n",
              "C639.369.2                           @indramani tripathi videshi pandit😂\n",
              "C639.369.3                              @sayed ashraf tu ndtv dekhta hai\n",
              "C639.369.4                                     modi tv dekhta hai shayed\n",
              "Name: Text, Length: 17908, dtype: object"
            ]
          },
          "metadata": {},
          "execution_count": 107
        }
      ]
    },
    {
      "cell_type": "code",
      "source": [
        "df_test3"
      ],
      "metadata": {
        "id": "ys3DQfBZuzWV"
      },
      "execution_count": null,
      "outputs": []
    },
    {
      "cell_type": "code",
      "source": [
        "df_test4.head(50)"
      ],
      "metadata": {
        "colab": {
          "base_uri": "https://localhost:8080/",
          "height": 423
        },
        "id": "NUR8CeJKu7b9",
        "outputId": "271baf60-980d-422e-b45d-5a578dd7da84"
      },
      "execution_count": null,
      "outputs": [
        {
          "output_type": "execute_result",
          "data": {
            "text/plain": [
              "                                                                    ID  \\\n",
              "Youtube Corpus 1036        https://www.youtube.com/watch?v=g4pKiz9GwwQ   \n",
              "C1036.1              Allah apni sara duniar manush ke nrc hat theke...   \n",
              "C1036.2                                  যেখান থেকে এসেছিলে সেখানে যাও   \n",
              "C1036.2.1            Onara to jak..kintu Vai rules ta equal houa uc...   \n",
              "C1036.3                                          A desh ki modir baper   \n",
              "...                                                                ...   \n",
              "C639.369             कोरोना संकट के समय राजस्थान का कांग्रेसी मु.मं...   \n",
              "C639.369.1                         Andbhakt hai whatsapp University se   \n",
              "C639.369.2                         @Indramani tripathi videshi pandit😂   \n",
              "C639.369.3                            @Sayed Ashraf tu ndtv dekhta hai   \n",
              "C639.369.4                                   Modi TV dekhta hai shayed   \n",
              "\n",
              "                     Aggression  Aggression_Intensity  Discursive_Role  \\\n",
              "Youtube Corpus 1036         NaN                   NaN              NaN   \n",
              "C1036.1                     NaN                   NaN              NaN   \n",
              "C1036.2                     NaN                   NaN              NaN   \n",
              "C1036.2.1                   NaN                   NaN              NaN   \n",
              "C1036.3                     NaN                   NaN              NaN   \n",
              "...                         ...                   ...              ...   \n",
              "C639.369                    NaN                   NaN              NaN   \n",
              "C639.369.1                  NaN                   NaN              NaN   \n",
              "C639.369.2                  NaN                   NaN              NaN   \n",
              "C639.369.3                  NaN                   NaN              NaN   \n",
              "C639.369.4                  NaN                   NaN              NaN   \n",
              "\n",
              "                     Gender_Bias  Communal_Bias  Caste_Class_Bias  \\\n",
              "Youtube Corpus 1036          NaN            NaN               NaN   \n",
              "C1036.1                      NaN            NaN               NaN   \n",
              "C1036.2                      NaN            NaN               NaN   \n",
              "C1036.2.1                    NaN            NaN               NaN   \n",
              "C1036.3                      NaN            NaN               NaN   \n",
              "...                          ...            ...               ...   \n",
              "C639.369                     NaN            NaN               NaN   \n",
              "C639.369.1                   NaN            NaN               NaN   \n",
              "C639.369.2                   NaN            NaN               NaN   \n",
              "C639.369.3                   NaN            NaN               NaN   \n",
              "C639.369.4                   NaN            NaN               NaN   \n",
              "\n",
              "                     Ethnicity_Racial_Bias  \n",
              "Youtube Corpus 1036                    NaN  \n",
              "C1036.1                                NaN  \n",
              "C1036.2                                NaN  \n",
              "C1036.2.1                              NaN  \n",
              "C1036.3                                NaN  \n",
              "...                                    ...  \n",
              "C639.369                               NaN  \n",
              "C639.369.1                             NaN  \n",
              "C639.369.2                             NaN  \n",
              "C639.369.3                             NaN  \n",
              "C639.369.4                             NaN  \n",
              "\n",
              "[14796 rows x 8 columns]"
            ],
            "text/html": [
              "<div>\n",
              "<style scoped>\n",
              "    .dataframe tbody tr th:only-of-type {\n",
              "        vertical-align: middle;\n",
              "    }\n",
              "\n",
              "    .dataframe tbody tr th {\n",
              "        vertical-align: top;\n",
              "    }\n",
              "\n",
              "    .dataframe thead th {\n",
              "        text-align: right;\n",
              "    }\n",
              "</style>\n",
              "<table border=\"1\" class=\"dataframe\">\n",
              "  <thead>\n",
              "    <tr style=\"text-align: right;\">\n",
              "      <th></th>\n",
              "      <th>ID</th>\n",
              "      <th>Aggression</th>\n",
              "      <th>Aggression_Intensity</th>\n",
              "      <th>Discursive_Role</th>\n",
              "      <th>Gender_Bias</th>\n",
              "      <th>Communal_Bias</th>\n",
              "      <th>Caste_Class_Bias</th>\n",
              "      <th>Ethnicity_Racial_Bias</th>\n",
              "    </tr>\n",
              "  </thead>\n",
              "  <tbody>\n",
              "    <tr>\n",
              "      <th>Youtube Corpus 1036</th>\n",
              "      <td>https://www.youtube.com/watch?v=g4pKiz9GwwQ</td>\n",
              "      <td>NaN</td>\n",
              "      <td>NaN</td>\n",
              "      <td>NaN</td>\n",
              "      <td>NaN</td>\n",
              "      <td>NaN</td>\n",
              "      <td>NaN</td>\n",
              "      <td>NaN</td>\n",
              "    </tr>\n",
              "    <tr>\n",
              "      <th>C1036.1</th>\n",
              "      <td>Allah apni sara duniar manush ke nrc hat theke...</td>\n",
              "      <td>NaN</td>\n",
              "      <td>NaN</td>\n",
              "      <td>NaN</td>\n",
              "      <td>NaN</td>\n",
              "      <td>NaN</td>\n",
              "      <td>NaN</td>\n",
              "      <td>NaN</td>\n",
              "    </tr>\n",
              "    <tr>\n",
              "      <th>C1036.2</th>\n",
              "      <td>যেখান থেকে এসেছিলে সেখানে যাও</td>\n",
              "      <td>NaN</td>\n",
              "      <td>NaN</td>\n",
              "      <td>NaN</td>\n",
              "      <td>NaN</td>\n",
              "      <td>NaN</td>\n",
              "      <td>NaN</td>\n",
              "      <td>NaN</td>\n",
              "    </tr>\n",
              "    <tr>\n",
              "      <th>C1036.2.1</th>\n",
              "      <td>Onara to jak..kintu Vai rules ta equal houa uc...</td>\n",
              "      <td>NaN</td>\n",
              "      <td>NaN</td>\n",
              "      <td>NaN</td>\n",
              "      <td>NaN</td>\n",
              "      <td>NaN</td>\n",
              "      <td>NaN</td>\n",
              "      <td>NaN</td>\n",
              "    </tr>\n",
              "    <tr>\n",
              "      <th>C1036.3</th>\n",
              "      <td>A desh ki modir baper</td>\n",
              "      <td>NaN</td>\n",
              "      <td>NaN</td>\n",
              "      <td>NaN</td>\n",
              "      <td>NaN</td>\n",
              "      <td>NaN</td>\n",
              "      <td>NaN</td>\n",
              "      <td>NaN</td>\n",
              "    </tr>\n",
              "    <tr>\n",
              "      <th>...</th>\n",
              "      <td>...</td>\n",
              "      <td>...</td>\n",
              "      <td>...</td>\n",
              "      <td>...</td>\n",
              "      <td>...</td>\n",
              "      <td>...</td>\n",
              "      <td>...</td>\n",
              "      <td>...</td>\n",
              "    </tr>\n",
              "    <tr>\n",
              "      <th>C639.369</th>\n",
              "      <td>कोरोना संकट के समय राजस्थान का कांग्रेसी मु.मं...</td>\n",
              "      <td>NaN</td>\n",
              "      <td>NaN</td>\n",
              "      <td>NaN</td>\n",
              "      <td>NaN</td>\n",
              "      <td>NaN</td>\n",
              "      <td>NaN</td>\n",
              "      <td>NaN</td>\n",
              "    </tr>\n",
              "    <tr>\n",
              "      <th>C639.369.1</th>\n",
              "      <td>Andbhakt hai whatsapp University se</td>\n",
              "      <td>NaN</td>\n",
              "      <td>NaN</td>\n",
              "      <td>NaN</td>\n",
              "      <td>NaN</td>\n",
              "      <td>NaN</td>\n",
              "      <td>NaN</td>\n",
              "      <td>NaN</td>\n",
              "    </tr>\n",
              "    <tr>\n",
              "      <th>C639.369.2</th>\n",
              "      <td>@Indramani tripathi videshi pandit😂</td>\n",
              "      <td>NaN</td>\n",
              "      <td>NaN</td>\n",
              "      <td>NaN</td>\n",
              "      <td>NaN</td>\n",
              "      <td>NaN</td>\n",
              "      <td>NaN</td>\n",
              "      <td>NaN</td>\n",
              "    </tr>\n",
              "    <tr>\n",
              "      <th>C639.369.3</th>\n",
              "      <td>@Sayed Ashraf tu ndtv dekhta hai</td>\n",
              "      <td>NaN</td>\n",
              "      <td>NaN</td>\n",
              "      <td>NaN</td>\n",
              "      <td>NaN</td>\n",
              "      <td>NaN</td>\n",
              "      <td>NaN</td>\n",
              "      <td>NaN</td>\n",
              "    </tr>\n",
              "    <tr>\n",
              "      <th>C639.369.4</th>\n",
              "      <td>Modi TV dekhta hai shayed</td>\n",
              "      <td>NaN</td>\n",
              "      <td>NaN</td>\n",
              "      <td>NaN</td>\n",
              "      <td>NaN</td>\n",
              "      <td>NaN</td>\n",
              "      <td>NaN</td>\n",
              "      <td>NaN</td>\n",
              "    </tr>\n",
              "  </tbody>\n",
              "</table>\n",
              "<p>14796 rows × 8 columns</p>\n",
              "</div>"
            ]
          },
          "metadata": {},
          "execution_count": 109
        }
      ]
    },
    {
      "cell_type": "code",
      "source": [
        "df_test3['Text'] = df_test3['Text'].map(lower_X)\n",
        "df_test4['Text'] = df_test4['ID'].map(lower_X)"
      ],
      "metadata": {
        "id": "4FnKjcvpurW9"
      },
      "execution_count": null,
      "outputs": []
    },
    {
      "cell_type": "code",
      "source": [
        "df_test2['text'] = df_test2['Text'].map(clean)"
      ],
      "metadata": {
        "id": "BaebfPZNtIj1"
      },
      "execution_count": null,
      "outputs": []
    },
    {
      "cell_type": "code",
      "source": [
        "df_test2"
      ],
      "metadata": {
        "id": "2UYZ-DCRyczP"
      },
      "execution_count": null,
      "outputs": []
    },
    {
      "cell_type": "code",
      "source": [
        "df_test3['text'] = df_test3['Text'].map(clean)\n",
        "df_test4['text'] = df_test4['Text'].map(clean)"
      ],
      "metadata": {
        "id": "XKHgaVYFvCLN"
      },
      "execution_count": null,
      "outputs": []
    },
    {
      "cell_type": "code",
      "source": [
        "df_test3 = "
      ],
      "metadata": {
        "id": "ZHnc8SxmrmGY"
      },
      "execution_count": null,
      "outputs": []
    },
    {
      "cell_type": "markdown",
      "source": [
        "# **Aggression**"
      ],
      "metadata": {
        "id": "-ErYjPaGvnXD"
      }
    },
    {
      "cell_type": "code",
      "source": [
        "df_train['Aggression'].isnull().sum()\n",
        "# df_test['Aggression'].isnull().sum()"
      ],
      "metadata": {
        "colab": {
          "base_uri": "https://localhost:8080/"
        },
        "id": "poc0AdVquJQq",
        "outputId": "8f906b97-b2ac-48ca-9d18-a47fed70c6f1"
      },
      "execution_count": null,
      "outputs": [
        {
          "output_type": "execute_result",
          "data": {
            "text/plain": [
              "5"
            ]
          },
          "metadata": {},
          "execution_count": 10
        }
      ]
    },
    {
      "cell_type": "code",
      "source": [
        "df_train['Aggression'].unique()\n",
        "# df_test['Aggression'].unique()"
      ],
      "metadata": {
        "colab": {
          "base_uri": "https://localhost:8080/"
        },
        "id": "M0XWhHEqvrrF",
        "outputId": "22d1141e-bdf7-4744-9d99-a596a37508c3"
      },
      "execution_count": null,
      "outputs": [
        {
          "output_type": "execute_result",
          "data": {
            "text/plain": [
              "array(['CAG', 'OAG', 'NAG', nan], dtype=object)"
            ]
          },
          "metadata": {},
          "execution_count": 11
        }
      ]
    },
    {
      "cell_type": "code",
      "source": [
        "df_train_agn= df_train[df_train['Aggression'].isnull()==False]\n",
        "# df_test_agn= df_test[df_test['Aggression'].isnull()==False] "
      ],
      "metadata": {
        "id": "yZTo3Zxgwbs7"
      },
      "execution_count": null,
      "outputs": []
    },
    {
      "cell_type": "code",
      "source": [
        "#changing arguments to number\n",
        "d = {\"CAG\":0, \"OAG\":1, \"NAG\":2}\n",
        "df_train_agn['Aggression'] = df_train_agn['Aggression'].map(d)\n",
        "# df_test_agn['Aggression'] = df_test_agn['Aggression'].map(d)"
      ],
      "metadata": {
        "id": "b7PFrQCexn4b",
        "colab": {
          "base_uri": "https://localhost:8080/"
        },
        "outputId": "a1c34c2e-330c-4adb-fffa-984c47e67a38"
      },
      "execution_count": null,
      "outputs": [
        {
          "output_type": "stream",
          "name": "stderr",
          "text": [
            "C:\\Users\\student\\AppData\\Local\\Temp\\ipykernel_11716\\2696156753.py:3: SettingWithCopyWarning: \n",
            "A value is trying to be set on a copy of a slice from a DataFrame.\n",
            "Try using .loc[row_indexer,col_indexer] = value instead\n",
            "\n",
            "See the caveats in the documentation: https://pandas.pydata.org/pandas-docs/stable/user_guide/indexing.html#returning-a-view-versus-a-copy\n",
            "  df_train_agn['Aggression'] = df_train_agn['Aggression'].map(d)\n"
          ]
        }
      ]
    },
    {
      "cell_type": "code",
      "source": [
        "df_train_agn['Aggression'].unique()\n",
        "# df_test_agn['Aggression'].unique()"
      ],
      "metadata": {
        "colab": {
          "base_uri": "https://localhost:8080/"
        },
        "id": "vOUxdlBFzVI7",
        "outputId": "9d213391-4563-4a68-9ac1-33d980adc07a"
      },
      "execution_count": null,
      "outputs": [
        {
          "output_type": "execute_result",
          "data": {
            "text/plain": [
              "array([0, 1, 2], dtype=int64)"
            ]
          },
          "metadata": {},
          "execution_count": 14
        }
      ]
    },
    {
      "cell_type": "code",
      "source": [
        "#vectorizing the dataset\n",
        "from sklearn.feature_extraction.text import TfidfVectorizer"
      ],
      "metadata": {
        "id": "e7AGcwNczuqc"
      },
      "execution_count": null,
      "outputs": []
    },
    {
      "cell_type": "code",
      "source": [
        "vector_agn = TfidfVectorizer()\n",
        "v1_agn = vector_agn.fit_transform(df_train_agn['text'])\n",
        "v2_agn2 = vector_agn.transform(df_test2['text'])\n"
      ],
      "metadata": {
        "id": "Hc4lIEtMzzZz"
      },
      "execution_count": null,
      "outputs": []
    },
    {
      "cell_type": "code",
      "source": [
        "v2_agn3 = vector_agn.transform(df_test3['text'])\n",
        "v2_agn4 = vector_agn.transform(df_test4['text'])"
      ],
      "metadata": {
        "id": "xKQZ_RsxvKSV"
      },
      "execution_count": null,
      "outputs": []
    },
    {
      "cell_type": "code",
      "source": [
        "import joblib\n",
        "joblib.dump(vector_agn,'result\\Aggression_vectorization.joblib')"
      ],
      "metadata": {
        "colab": {
          "base_uri": "https://localhost:8080/"
        },
        "id": "cKVyx9iy0wTU",
        "outputId": "e6680c3e-bcd1-40ab-894e-ee66c0f3edb3"
      },
      "execution_count": null,
      "outputs": [
        {
          "output_type": "execute_result",
          "data": {
            "text/plain": [
              "['result\\\\Aggression_vectorization.joblib']"
            ]
          },
          "metadata": {},
          "execution_count": 18
        }
      ]
    },
    {
      "cell_type": "code",
      "source": [
        "X_train_agn=v1_agn\n",
        "y_train_agn=df_train_agn['Aggression']\n",
        "X_test_agn2=v2_agn2\n",
        "# y_test_agn=df_test_agn['Aggression']"
      ],
      "metadata": {
        "id": "R1lHE27a1y0y"
      },
      "execution_count": null,
      "outputs": []
    },
    {
      "cell_type": "code",
      "source": [
        "X_test_agn3=v2_agn3\n",
        "X_test_agn4=v2_agn4"
      ],
      "metadata": {
        "id": "ykyq09z6vS7N"
      },
      "execution_count": null,
      "outputs": []
    },
    {
      "cell_type": "code",
      "source": [
        "#applying class weight\n",
        "from sklearn.utils import compute_class_weight\n",
        "classweight = dict(zip([0,1,2],compute_class_weight(class_weight = 'balanced',y=df_train_agn['Aggression'].values,classes=[0,1,2])))\n",
        "classweight"
      ],
      "metadata": {
        "colab": {
          "base_uri": "https://localhost:8080/"
        },
        "id": "OqWQh-4r38FT",
        "outputId": "58317498-cee8-442c-f203-8392071d2b15"
      },
      "execution_count": null,
      "outputs": [
        {
          "output_type": "execute_result",
          "data": {
            "text/plain": [
              "{0: 1.4786608863198458, 1: 0.6941881501582994, 2: 1.1322710338976798}"
            ]
          },
          "metadata": {},
          "execution_count": 18
        }
      ]
    },
    {
      "cell_type": "markdown",
      "source": [
        "Logistic Regression in Aggression"
      ],
      "metadata": {
        "id": "mN1fEn1S2kO9"
      }
    },
    {
      "cell_type": "code",
      "source": [
        "from sklearn.linear_model import LogisticRegression"
      ],
      "metadata": {
        "id": "A6UaH5mc2iNb"
      },
      "execution_count": null,
      "outputs": []
    },
    {
      "cell_type": "code",
      "source": [
        "f = open(\"result/lg_agn.txt\",'w')\n",
        "f.write(f\"LogisticRegression(C = {0},tol = {0},penalty ={0})\")\n",
        "f.close()\n",
        "from sklearn.metrics import f1_score\n",
        "C = [1,5,25,50,100,200]\n",
        "penalty = [\"l2\" , 'l1' ,'elasticnet']\n",
        "solver = ['newton-cg', 'lbfgs', 'sag','liblinear','saga']\n",
        "# l1_ratio = [0.0,0.3,0.5,0.8,1.0]"
      ],
      "metadata": {
        "id": "ds7E3PHy2-Zz"
      },
      "execution_count": null,
      "outputs": []
    },
    {
      "cell_type": "code",
      "source": [
        "score = 0\n",
        "for i in C:\n",
        "  for k in penalty:\n",
        "    for l in solver :\n",
        "      print(i,k,l)\n",
        "      try:\n",
        "        model = LogisticRegression(C = i,penalty =k  , solver = l , random_state = 42,class_weight=classweight)\n",
        "        model.fit(X_train_agn,y_train_agn)\n",
        "      except :\n",
        "        continue\n",
        "      pred_m = model.predict(X_test_agn)\n",
        "      f = f1_score(y_test_agn,pred_m,average = 'macro')\n",
        "      if(score<f):\n",
        "          score = f\n",
        "          f = open(\"result/lg_agn.txt\",'w')\n",
        "          f.write(f\"LogisticRegression(C = {i},penalty = {k},solver={l})\")\n",
        "          f.close()\n",
        "          joblib.dump(model,\"result/agn_lg.joblib\")\n",
        "          print(score)\n",
        "              "
      ],
      "metadata": {
        "id": "3cPPZiyU3LCU"
      },
      "execution_count": null,
      "outputs": []
    },
    {
      "cell_type": "code",
      "source": [
        "# model = LogisticRegression(C = 200,penalty = 'l2',solver='sag',random_state = 42,class_weight=classweight)\n",
        "# model.fit(X_train_agn,y_train_agn)"
      ],
      "metadata": {
        "id": "4JR9Yc3L-V8L"
      },
      "execution_count": null,
      "outputs": []
    },
    {
      "cell_type": "code",
      "source": [
        "model_agn_lg=joblib.load('result/agn_lg.joblib')"
      ],
      "metadata": {
        "id": "jo057wiK_C0D"
      },
      "execution_count": null,
      "outputs": []
    },
    {
      "cell_type": "code",
      "source": [
        "from sklearn.metrics import confusion_matrix,classification_report\n",
        "pred_agn = model_agn_lg.predict(X_test_agn)\n",
        "print(classification_report(y_test_agn,pred_agn))"
      ],
      "metadata": {
        "colab": {
          "base_uri": "https://localhost:8080/"
        },
        "id": "qhi_HMIg4Xda",
        "outputId": "2ec4b8e3-5d3d-44c8-8af6-2ea4266b0e35"
      },
      "execution_count": null,
      "outputs": [
        {
          "output_type": "stream",
          "name": "stdout",
          "text": [
            "              precision    recall  f1-score   support\n",
            "\n",
            "           0       0.33      0.40      0.36      3064\n",
            "           1       0.73      0.63      0.68      6814\n",
            "           2       0.59      0.63      0.61      3936\n",
            "\n",
            "    accuracy                           0.58     13814\n",
            "   macro avg       0.55      0.55      0.55     13814\n",
            "weighted avg       0.60      0.58      0.59     13814\n",
            "\n"
          ]
        }
      ]
    },
    {
      "cell_type": "markdown",
      "source": [
        "SVM in Aggression"
      ],
      "metadata": {
        "id": "eJfNx5i4NtdQ"
      }
    },
    {
      "cell_type": "code",
      "source": [
        "pip install scikit-learn-intelex"
      ],
      "metadata": {
        "id": "mF7rD8uuNsYK",
        "colab": {
          "base_uri": "https://localhost:8080/"
        },
        "outputId": "65b3768d-df81-4e8e-a4ff-7b57af9ef6cb"
      },
      "execution_count": null,
      "outputs": [
        {
          "output_type": "stream",
          "name": "stdout",
          "text": [
            "Requirement already satisfied: scikit-learn-intelex in c:\\users\\student\\appdata\\local\\programs\\python\\python310\\lib\\site-packages (2021.6.3)\n",
            "Requirement already satisfied: daal4py==2021.6.3 in c:\\users\\student\\appdata\\local\\programs\\python\\python310\\lib\\site-packages (from scikit-learn-intelex) (2021.6.3)\n",
            "Requirement already satisfied: scikit-learn>=0.22 in c:\\users\\student\\appdata\\local\\programs\\python\\python310\\lib\\site-packages (from scikit-learn-intelex) (1.1.1)\n",
            "Requirement already satisfied: daal==2021.6.0 in c:\\users\\student\\appdata\\local\\programs\\python\\python310\\lib\\site-packages (from daal4py==2021.6.3->scikit-learn-intelex) (2021.6.0)\n",
            "Requirement already satisfied: numpy>=1.15 in c:\\users\\student\\appdata\\local\\programs\\python\\python310\\lib\\site-packages (from daal4py==2021.6.3->scikit-learn-intelex) (1.23.0)\n",
            "Requirement already satisfied: tbb==2021.* in c:\\users\\student\\appdata\\local\\programs\\python\\python310\\lib\\site-packages (from daal==2021.6.0->daal4py==2021.6.3->scikit-learn-intelex) (2021.6.0)\n",
            "Requirement already satisfied: joblib>=1.0.0 in c:\\users\\student\\appdata\\local\\programs\\python\\python310\\lib\\site-packages (from scikit-learn>=0.22->scikit-learn-intelex) (1.1.0)\n",
            "Requirement already satisfied: scipy>=1.3.2 in c:\\users\\student\\appdata\\local\\programs\\python\\python310\\lib\\site-packages (from scikit-learn>=0.22->scikit-learn-intelex) (1.8.1)\n",
            "Requirement already satisfied: threadpoolctl>=2.0.0 in c:\\users\\student\\appdata\\local\\programs\\python\\python310\\lib\\site-packages (from scikit-learn>=0.22->scikit-learn-intelex) (3.1.0)\n",
            "Note: you may need to restart the kernel to use updated packages.\n"
          ]
        },
        {
          "output_type": "stream",
          "name": "stderr",
          "text": [
            "WARNING: You are using pip version 22.0.4; however, version 22.1.2 is available.\n",
            "You should consider upgrading via the 'C:\\Users\\student\\AppData\\Local\\Programs\\Python\\Python310\\python.exe -m pip install --upgrade pip' command.\n"
          ]
        }
      ]
    },
    {
      "cell_type": "code",
      "source": [
        "from sklearnex import patch_sklearn\n",
        "patch_sklearn('SVC')"
      ],
      "metadata": {
        "colab": {
          "base_uri": "https://localhost:8080/"
        },
        "id": "K8mx4CZvN7sT",
        "outputId": "fbd5221c-d652-4762-eb09-483c8317de2d"
      },
      "execution_count": null,
      "outputs": [
        {
          "output_type": "stream",
          "name": "stderr",
          "text": [
            "Intel(R) Extension for Scikit-learn* enabled (https://github.com/intel/scikit-learn-intelex)\n"
          ]
        }
      ]
    },
    {
      "cell_type": "code",
      "source": [
        "import joblib"
      ],
      "metadata": {
        "id": "oZMraBWLbp7a"
      },
      "execution_count": null,
      "outputs": []
    },
    {
      "cell_type": "code",
      "source": [
        "from sklearn.svm import SVC"
      ],
      "metadata": {
        "id": "xk_kDFvGN-7T"
      },
      "execution_count": null,
      "outputs": []
    },
    {
      "cell_type": "code",
      "source": [
        "mx = 0.5456418481501704\n",
        "for kernel in [ 'linear']:\n",
        "    for C in [1]:\n",
        "        if(kernel=='poly'):\n",
        "          if(C==200):\n",
        "            for degree in [1,2,3,4]:\n",
        "                model = SVC(C = C,kernel=kernel,class_weight=classweight,degree=degree)\n",
        "                model.fit(X_train_agn,y_train_agn)\n",
        "                pred = model.predict(X_test_agn)\n",
        "                f = f1_score(y_test_agn,pred,average='macro')\n",
        "                if(mx<f):\n",
        "                    mx = max(mx,f)\n",
        "                    s = open('result/agn_svm.text' , 'w')\n",
        "                    s.write(f\"SVC(C= {C}, degree = {degree} , kernel = {kernel}) score={mx}\")\n",
        "                    s.close()\n",
        "                    # joblib.dump(model,'result/agn_svm.joblib')\n",
        "                    print(mx)\n",
        "                    \n",
        "                    \n",
        "                print(f,f\"C = {C} , kernel = {kernel} , degree = {degree}\")\n",
        "        else:\n",
        "            model = SVC(C = C,kernel=kernel,class_weight=classweight)\n",
        "            model.fit(X_train_agn,y_train_agn)\n",
        "            pred = model.predict(X_test_agn)\n",
        "            f = f1_score(y_test_agn,pred,average='macro')\n",
        "            if(mx<f):\n",
        "                mx = max(mx,f)\n",
        "                s = open('result/agn_svm.text' , 'w')\n",
        "                s.write(f\"SVC(C= {C}, kernal = {kernel} score={mx}\")\n",
        "                s.close()\n",
        "                # joblib.dump(model,'result/agn_svm.joblib')\n",
        "                print(mx)\n",
        "            print(f,f\"C = {C} , kernel = {kernel}\")"
      ],
      "metadata": {
        "id": "rRQct8y6cq_K",
        "colab": {
          "base_uri": "https://localhost:8080/"
        },
        "outputId": "e2b9520d-c90b-462b-86c5-491a55f708f4"
      },
      "execution_count": null,
      "outputs": [
        {
          "output_type": "stream",
          "name": "stdout",
          "text": [
            "0.5470085163200492\n",
            "0.5470085163200492 C = 1 , kernel = linear\n"
          ]
        }
      ]
    },
    {
      "cell_type": "code",
      "source": [
        "model1 = SVC(C = 1 ,kernel= 'linear',class_weight=classweight)\n",
        "model1.fit(X_train_agn,y_train_agn)"
      ],
      "metadata": {
        "colab": {
          "base_uri": "https://localhost:8080/",
          "height": 127
        },
        "id": "RccGqKf_p1mI",
        "outputId": "7de9d70b-ebfb-4b22-bd86-db40252365b4"
      },
      "execution_count": null,
      "outputs": [
        {
          "output_type": "execute_result",
          "data": {
            "text/plain": [
              "SVC(C=1,\n",
              "    class_weight={0: 1.4786608863198458, 1: 0.6941881501582994,\n",
              "                  2: 1.1322710338976798},\n",
              "    kernel='linear')"
            ],
            "text/html": [
              "<style>#sk-container-id-1 {color: black;background-color: white;}#sk-container-id-1 pre{padding: 0;}#sk-container-id-1 div.sk-toggleable {background-color: white;}#sk-container-id-1 label.sk-toggleable__label {cursor: pointer;display: block;width: 100%;margin-bottom: 0;padding: 0.3em;box-sizing: border-box;text-align: center;}#sk-container-id-1 label.sk-toggleable__label-arrow:before {content: \"▸\";float: left;margin-right: 0.25em;color: #696969;}#sk-container-id-1 label.sk-toggleable__label-arrow:hover:before {color: black;}#sk-container-id-1 div.sk-estimator:hover label.sk-toggleable__label-arrow:before {color: black;}#sk-container-id-1 div.sk-toggleable__content {max-height: 0;max-width: 0;overflow: hidden;text-align: left;background-color: #f0f8ff;}#sk-container-id-1 div.sk-toggleable__content pre {margin: 0.2em;color: black;border-radius: 0.25em;background-color: #f0f8ff;}#sk-container-id-1 input.sk-toggleable__control:checked~div.sk-toggleable__content {max-height: 200px;max-width: 100%;overflow: auto;}#sk-container-id-1 input.sk-toggleable__control:checked~label.sk-toggleable__label-arrow:before {content: \"▾\";}#sk-container-id-1 div.sk-estimator input.sk-toggleable__control:checked~label.sk-toggleable__label {background-color: #d4ebff;}#sk-container-id-1 div.sk-label input.sk-toggleable__control:checked~label.sk-toggleable__label {background-color: #d4ebff;}#sk-container-id-1 input.sk-hidden--visually {border: 0;clip: rect(1px 1px 1px 1px);clip: rect(1px, 1px, 1px, 1px);height: 1px;margin: -1px;overflow: hidden;padding: 0;position: absolute;width: 1px;}#sk-container-id-1 div.sk-estimator {font-family: monospace;background-color: #f0f8ff;border: 1px dotted black;border-radius: 0.25em;box-sizing: border-box;margin-bottom: 0.5em;}#sk-container-id-1 div.sk-estimator:hover {background-color: #d4ebff;}#sk-container-id-1 div.sk-parallel-item::after {content: \"\";width: 100%;border-bottom: 1px solid gray;flex-grow: 1;}#sk-container-id-1 div.sk-label:hover label.sk-toggleable__label {background-color: #d4ebff;}#sk-container-id-1 div.sk-serial::before {content: \"\";position: absolute;border-left: 1px solid gray;box-sizing: border-box;top: 0;bottom: 0;left: 50%;z-index: 0;}#sk-container-id-1 div.sk-serial {display: flex;flex-direction: column;align-items: center;background-color: white;padding-right: 0.2em;padding-left: 0.2em;position: relative;}#sk-container-id-1 div.sk-item {position: relative;z-index: 1;}#sk-container-id-1 div.sk-parallel {display: flex;align-items: stretch;justify-content: center;background-color: white;position: relative;}#sk-container-id-1 div.sk-item::before, #sk-container-id-1 div.sk-parallel-item::before {content: \"\";position: absolute;border-left: 1px solid gray;box-sizing: border-box;top: 0;bottom: 0;left: 50%;z-index: -1;}#sk-container-id-1 div.sk-parallel-item {display: flex;flex-direction: column;z-index: 1;position: relative;background-color: white;}#sk-container-id-1 div.sk-parallel-item:first-child::after {align-self: flex-end;width: 50%;}#sk-container-id-1 div.sk-parallel-item:last-child::after {align-self: flex-start;width: 50%;}#sk-container-id-1 div.sk-parallel-item:only-child::after {width: 0;}#sk-container-id-1 div.sk-dashed-wrapped {border: 1px dashed gray;margin: 0 0.4em 0.5em 0.4em;box-sizing: border-box;padding-bottom: 0.4em;background-color: white;}#sk-container-id-1 div.sk-label label {font-family: monospace;font-weight: bold;display: inline-block;line-height: 1.2em;}#sk-container-id-1 div.sk-label-container {text-align: center;}#sk-container-id-1 div.sk-container {/* jupyter's `normalize.less` sets `[hidden] { display: none; }` but bootstrap.min.css set `[hidden] { display: none !important; }` so we also need the `!important` here to be able to override the default hidden behavior on the sphinx rendered scikit-learn.org. See: https://github.com/scikit-learn/scikit-learn/issues/21755 */display: inline-block !important;position: relative;}#sk-container-id-1 div.sk-text-repr-fallback {display: none;}</style><div id=\"sk-container-id-1\" class=\"sk-top-container\"><div class=\"sk-text-repr-fallback\"><pre>SVC(C=1,\n",
              "    class_weight={0: 1.4786608863198458, 1: 0.6941881501582994,\n",
              "                  2: 1.1322710338976798},\n",
              "    kernel=&#x27;linear&#x27;)</pre><b>In a Jupyter environment, please rerun this cell to show the HTML representation or trust the notebook. <br />On GitHub, the HTML representation is unable to render, please try loading this page with nbviewer.org.</b></div><div class=\"sk-container\" hidden><div class=\"sk-item\"><div class=\"sk-estimator sk-toggleable\"><input class=\"sk-toggleable__control sk-hidden--visually\" id=\"sk-estimator-id-1\" type=\"checkbox\" checked><label for=\"sk-estimator-id-1\" class=\"sk-toggleable__label sk-toggleable__label-arrow\">SVC</label><div class=\"sk-toggleable__content\"><pre>SVC(C=1,\n",
              "    class_weight={0: 1.4786608863198458, 1: 0.6941881501582994,\n",
              "                  2: 1.1322710338976798},\n",
              "    kernel=&#x27;linear&#x27;)</pre></div></div></div></div></div>"
            ]
          },
          "metadata": {},
          "execution_count": 22
        }
      ]
    },
    {
      "cell_type": "code",
      "source": [
        "pred_agn21 = model1.predict(X_test_agn2)"
      ],
      "metadata": {
        "id": "U88Bi7gAuATs"
      },
      "execution_count": null,
      "outputs": []
    },
    {
      "cell_type": "code",
      "source": [
        "pred_agn21"
      ],
      "metadata": {
        "colab": {
          "base_uri": "https://localhost:8080/"
        },
        "id": "vVBJp84C14qL",
        "outputId": "ae39a316-8aa4-4c51-de7b-bd4cbdbc7dba"
      },
      "execution_count": null,
      "outputs": [
        {
          "output_type": "execute_result",
          "data": {
            "text/plain": [
              "array([2, 1, 2, ..., 2, 2, 0], dtype=int64)"
            ]
          },
          "metadata": {},
          "execution_count": 77
        }
      ]
    },
    {
      "cell_type": "code",
      "source": [
        "import joblib"
      ],
      "metadata": {
        "id": "8C0TuBxh16w4"
      },
      "execution_count": null,
      "outputs": []
    },
    {
      "cell_type": "code",
      "source": [
        "joblib.dump(pred_agn21,'pred_agn21.joblib')"
      ],
      "metadata": {
        "colab": {
          "base_uri": "https://localhost:8080/"
        },
        "id": "Cxu8-QZK2GUH",
        "outputId": "31d104e7-4248-4086-c2b8-7fc9d51db94c"
      },
      "execution_count": null,
      "outputs": [
        {
          "output_type": "execute_result",
          "data": {
            "text/plain": [
              "['pred_agn21.joblib']"
            ]
          },
          "metadata": {},
          "execution_count": 84
        }
      ]
    },
    {
      "cell_type": "code",
      "source": [
        "joblib.dump(pred_agn22 , 'pred_agn22.joblib')"
      ],
      "metadata": {
        "colab": {
          "base_uri": "https://localhost:8080/"
        },
        "id": "jPLf2xEW2R2q",
        "outputId": "30f9298d-113f-464c-a147-1cb7bd00c9a9"
      },
      "execution_count": null,
      "outputs": [
        {
          "output_type": "execute_result",
          "data": {
            "text/plain": [
              "['pred_agn22.joblib']"
            ]
          },
          "metadata": {},
          "execution_count": 85
        }
      ]
    },
    {
      "cell_type": "code",
      "source": [
        "joblib.dump(pred_agn31 , 'pred_agn31.joblib')"
      ],
      "metadata": {
        "colab": {
          "base_uri": "https://localhost:8080/"
        },
        "id": "X3NMtbS22c54",
        "outputId": "e1409a5b-a7ba-4395-d9e3-4d639b605339"
      },
      "execution_count": null,
      "outputs": [
        {
          "output_type": "execute_result",
          "data": {
            "text/plain": [
              "['pred_agn31.joblib']"
            ]
          },
          "metadata": {},
          "execution_count": 86
        }
      ]
    },
    {
      "cell_type": "code",
      "source": [
        "joblib.dump(pred_agn42 , 'pred_agn42.joblib')"
      ],
      "metadata": {
        "colab": {
          "base_uri": "https://localhost:8080/"
        },
        "id": "W0hVXHa22lLH",
        "outputId": "5fcc85d5-7536-4d2f-b3fe-7da8fec70340"
      },
      "execution_count": null,
      "outputs": [
        {
          "output_type": "execute_result",
          "data": {
            "text/plain": [
              "['pred_agn42.joblib']"
            ]
          },
          "metadata": {},
          "execution_count": 89
        }
      ]
    },
    {
      "cell_type": "code",
      "source": [
        "pred_agn31 = model1.predict(X_test_agn3)\n",
        "pred_agn41 = model1.predict(X_test_agn4)"
      ],
      "metadata": {
        "id": "Dmko8k13vcGV"
      },
      "execution_count": null,
      "outputs": []
    },
    {
      "cell_type": "code",
      "source": [
        "df_test2"
      ],
      "metadata": {
        "colab": {
          "base_uri": "https://localhost:8080/",
          "height": 877
        },
        "id": "LDZCn16-vvnF",
        "outputId": "dfac0538-f5b5-476a-8148-4eb16c497386"
      },
      "execution_count": null,
      "outputs": [
        {
          "output_type": "execute_result",
          "data": {
            "text/plain": [
              "                                                                    ID  \\\n",
              "Youtube Corpus 1036        https://www.youtube.com/watch?v=g4pKiz9GwwQ   \n",
              "C1036.1              Allah apni sara duniar manush ke nrc hat theke...   \n",
              "C1036.2                                  যেখান থেকে এসেছিলে সেখানে যাও   \n",
              "C1036.2.1            Onara to jak..kintu Vai rules ta equal houa uc...   \n",
              "C1036.3                                          A desh ki modir baper   \n",
              "...                                                                ...   \n",
              "C639.369             कोरोना संकट के समय राजस्थान का कांग्रेसी मु.मं...   \n",
              "C639.369.1                         Andbhakt hai whatsapp University se   \n",
              "C639.369.2                         @Indramani tripathi videshi pandit😂   \n",
              "C639.369.3                            @Sayed Ashraf tu ndtv dekhta hai   \n",
              "C639.369.4                                   Modi TV dekhta hai shayed   \n",
              "\n",
              "                     Aggression  Aggression_Intensity  Discursive_Role  \\\n",
              "Youtube Corpus 1036         NaN                   NaN              NaN   \n",
              "C1036.1                     NaN                   NaN              NaN   \n",
              "C1036.2                     NaN                   NaN              NaN   \n",
              "C1036.2.1                   NaN                   NaN              NaN   \n",
              "C1036.3                     NaN                   NaN              NaN   \n",
              "...                         ...                   ...              ...   \n",
              "C639.369                    NaN                   NaN              NaN   \n",
              "C639.369.1                  NaN                   NaN              NaN   \n",
              "C639.369.2                  NaN                   NaN              NaN   \n",
              "C639.369.3                  NaN                   NaN              NaN   \n",
              "C639.369.4                  NaN                   NaN              NaN   \n",
              "\n",
              "                     Gender_Bias  Communal_Bias  Caste_Class_Bias  \\\n",
              "Youtube Corpus 1036          NaN            NaN               NaN   \n",
              "C1036.1                      NaN            NaN               NaN   \n",
              "C1036.2                      NaN            NaN               NaN   \n",
              "C1036.2.1                    NaN            NaN               NaN   \n",
              "C1036.3                      NaN            NaN               NaN   \n",
              "...                          ...            ...               ...   \n",
              "C639.369                     NaN            NaN               NaN   \n",
              "C639.369.1                   NaN            NaN               NaN   \n",
              "C639.369.2                   NaN            NaN               NaN   \n",
              "C639.369.3                   NaN            NaN               NaN   \n",
              "C639.369.4                   NaN            NaN               NaN   \n",
              "\n",
              "                     Ethnicity_Racial_Bias  \\\n",
              "Youtube Corpus 1036                    NaN   \n",
              "C1036.1                                NaN   \n",
              "C1036.2                                NaN   \n",
              "C1036.2.1                              NaN   \n",
              "C1036.3                                NaN   \n",
              "...                                    ...   \n",
              "C639.369                               NaN   \n",
              "C639.369.1                             NaN   \n",
              "C639.369.2                             NaN   \n",
              "C639.369.3                             NaN   \n",
              "C639.369.4                             NaN   \n",
              "\n",
              "                                                                  Text  \\\n",
              "Youtube Corpus 1036        https://www.youtube.com/watch?v=g4pkiz9gwwq   \n",
              "C1036.1              allah apni sara duniar manush ke nrc hat theke...   \n",
              "C1036.2                                  যেখান থেকে এসেছিলে সেখানে যাও   \n",
              "C1036.2.1            onara to jak..kintu vai rules ta equal houa uc...   \n",
              "C1036.3                                          a desh ki modir baper   \n",
              "...                                                                ...   \n",
              "C639.369             कोरोना संकट के समय राजस्थान का कांग्रेसी मु.मं...   \n",
              "C639.369.1                         andbhakt hai whatsapp university se   \n",
              "C639.369.2                         @indramani tripathi videshi pandit😂   \n",
              "C639.369.3                            @sayed ashraf tu ndtv dekhta hai   \n",
              "C639.369.4                                   modi tv dekhta hai shayed   \n",
              "\n",
              "                                                                  text  \n",
              "Youtube Corpus 1036        https   www youtube com watch v g4pkiz9gwwq  \n",
              "C1036.1              allah apni sara duniar manush ke nrc hat theke...  \n",
              "C1036.2                                  য খ ন থ ক  এস ছ ল  স খ ন  য ও  \n",
              "C1036.2.1            onara to jak  kintu vai rules ta equal houa uc...  \n",
              "C1036.3                                          a desh ki modir baper  \n",
              "...                                                                ...  \n",
              "C639.369             क र न  स कट क  समय र जस थ न क  क  ग र स  म  म ...  \n",
              "C639.369.1                         andbhakt hai whatsapp university se  \n",
              "C639.369.2                           indramani tripathi videshi pandit  \n",
              "C639.369.3                             sayed ashraf tu ndtv dekhta hai  \n",
              "C639.369.4                                   modi tv dekhta hai shayed  \n",
              "\n",
              "[17908 rows x 10 columns]"
            ],
            "text/html": [
              "<div>\n",
              "<style scoped>\n",
              "    .dataframe tbody tr th:only-of-type {\n",
              "        vertical-align: middle;\n",
              "    }\n",
              "\n",
              "    .dataframe tbody tr th {\n",
              "        vertical-align: top;\n",
              "    }\n",
              "\n",
              "    .dataframe thead th {\n",
              "        text-align: right;\n",
              "    }\n",
              "</style>\n",
              "<table border=\"1\" class=\"dataframe\">\n",
              "  <thead>\n",
              "    <tr style=\"text-align: right;\">\n",
              "      <th></th>\n",
              "      <th>ID</th>\n",
              "      <th>Aggression</th>\n",
              "      <th>Aggression_Intensity</th>\n",
              "      <th>Discursive_Role</th>\n",
              "      <th>Gender_Bias</th>\n",
              "      <th>Communal_Bias</th>\n",
              "      <th>Caste_Class_Bias</th>\n",
              "      <th>Ethnicity_Racial_Bias</th>\n",
              "      <th>Text</th>\n",
              "      <th>text</th>\n",
              "    </tr>\n",
              "  </thead>\n",
              "  <tbody>\n",
              "    <tr>\n",
              "      <th>Youtube Corpus 1036</th>\n",
              "      <td>https://www.youtube.com/watch?v=g4pKiz9GwwQ</td>\n",
              "      <td>NaN</td>\n",
              "      <td>NaN</td>\n",
              "      <td>NaN</td>\n",
              "      <td>NaN</td>\n",
              "      <td>NaN</td>\n",
              "      <td>NaN</td>\n",
              "      <td>NaN</td>\n",
              "      <td>https://www.youtube.com/watch?v=g4pkiz9gwwq</td>\n",
              "      <td>https   www youtube com watch v g4pkiz9gwwq</td>\n",
              "    </tr>\n",
              "    <tr>\n",
              "      <th>C1036.1</th>\n",
              "      <td>Allah apni sara duniar manush ke nrc hat theke...</td>\n",
              "      <td>NaN</td>\n",
              "      <td>NaN</td>\n",
              "      <td>NaN</td>\n",
              "      <td>NaN</td>\n",
              "      <td>NaN</td>\n",
              "      <td>NaN</td>\n",
              "      <td>NaN</td>\n",
              "      <td>allah apni sara duniar manush ke nrc hat theke...</td>\n",
              "      <td>allah apni sara duniar manush ke nrc hat theke...</td>\n",
              "    </tr>\n",
              "    <tr>\n",
              "      <th>C1036.2</th>\n",
              "      <td>যেখান থেকে এসেছিলে সেখানে যাও</td>\n",
              "      <td>NaN</td>\n",
              "      <td>NaN</td>\n",
              "      <td>NaN</td>\n",
              "      <td>NaN</td>\n",
              "      <td>NaN</td>\n",
              "      <td>NaN</td>\n",
              "      <td>NaN</td>\n",
              "      <td>যেখান থেকে এসেছিলে সেখানে যাও</td>\n",
              "      <td>য খ ন থ ক  এস ছ ল  স খ ন  য ও</td>\n",
              "    </tr>\n",
              "    <tr>\n",
              "      <th>C1036.2.1</th>\n",
              "      <td>Onara to jak..kintu Vai rules ta equal houa uc...</td>\n",
              "      <td>NaN</td>\n",
              "      <td>NaN</td>\n",
              "      <td>NaN</td>\n",
              "      <td>NaN</td>\n",
              "      <td>NaN</td>\n",
              "      <td>NaN</td>\n",
              "      <td>NaN</td>\n",
              "      <td>onara to jak..kintu vai rules ta equal houa uc...</td>\n",
              "      <td>onara to jak  kintu vai rules ta equal houa uc...</td>\n",
              "    </tr>\n",
              "    <tr>\n",
              "      <th>C1036.3</th>\n",
              "      <td>A desh ki modir baper</td>\n",
              "      <td>NaN</td>\n",
              "      <td>NaN</td>\n",
              "      <td>NaN</td>\n",
              "      <td>NaN</td>\n",
              "      <td>NaN</td>\n",
              "      <td>NaN</td>\n",
              "      <td>NaN</td>\n",
              "      <td>a desh ki modir baper</td>\n",
              "      <td>a desh ki modir baper</td>\n",
              "    </tr>\n",
              "    <tr>\n",
              "      <th>...</th>\n",
              "      <td>...</td>\n",
              "      <td>...</td>\n",
              "      <td>...</td>\n",
              "      <td>...</td>\n",
              "      <td>...</td>\n",
              "      <td>...</td>\n",
              "      <td>...</td>\n",
              "      <td>...</td>\n",
              "      <td>...</td>\n",
              "      <td>...</td>\n",
              "    </tr>\n",
              "    <tr>\n",
              "      <th>C639.369</th>\n",
              "      <td>कोरोना संकट के समय राजस्थान का कांग्रेसी मु.मं...</td>\n",
              "      <td>NaN</td>\n",
              "      <td>NaN</td>\n",
              "      <td>NaN</td>\n",
              "      <td>NaN</td>\n",
              "      <td>NaN</td>\n",
              "      <td>NaN</td>\n",
              "      <td>NaN</td>\n",
              "      <td>कोरोना संकट के समय राजस्थान का कांग्रेसी मु.मं...</td>\n",
              "      <td>क र न  स कट क  समय र जस थ न क  क  ग र स  म  म ...</td>\n",
              "    </tr>\n",
              "    <tr>\n",
              "      <th>C639.369.1</th>\n",
              "      <td>Andbhakt hai whatsapp University se</td>\n",
              "      <td>NaN</td>\n",
              "      <td>NaN</td>\n",
              "      <td>NaN</td>\n",
              "      <td>NaN</td>\n",
              "      <td>NaN</td>\n",
              "      <td>NaN</td>\n",
              "      <td>NaN</td>\n",
              "      <td>andbhakt hai whatsapp university se</td>\n",
              "      <td>andbhakt hai whatsapp university se</td>\n",
              "    </tr>\n",
              "    <tr>\n",
              "      <th>C639.369.2</th>\n",
              "      <td>@Indramani tripathi videshi pandit😂</td>\n",
              "      <td>NaN</td>\n",
              "      <td>NaN</td>\n",
              "      <td>NaN</td>\n",
              "      <td>NaN</td>\n",
              "      <td>NaN</td>\n",
              "      <td>NaN</td>\n",
              "      <td>NaN</td>\n",
              "      <td>@indramani tripathi videshi pandit😂</td>\n",
              "      <td>indramani tripathi videshi pandit</td>\n",
              "    </tr>\n",
              "    <tr>\n",
              "      <th>C639.369.3</th>\n",
              "      <td>@Sayed Ashraf tu ndtv dekhta hai</td>\n",
              "      <td>NaN</td>\n",
              "      <td>NaN</td>\n",
              "      <td>NaN</td>\n",
              "      <td>NaN</td>\n",
              "      <td>NaN</td>\n",
              "      <td>NaN</td>\n",
              "      <td>NaN</td>\n",
              "      <td>@sayed ashraf tu ndtv dekhta hai</td>\n",
              "      <td>sayed ashraf tu ndtv dekhta hai</td>\n",
              "    </tr>\n",
              "    <tr>\n",
              "      <th>C639.369.4</th>\n",
              "      <td>Modi TV dekhta hai shayed</td>\n",
              "      <td>NaN</td>\n",
              "      <td>NaN</td>\n",
              "      <td>NaN</td>\n",
              "      <td>NaN</td>\n",
              "      <td>NaN</td>\n",
              "      <td>NaN</td>\n",
              "      <td>NaN</td>\n",
              "      <td>modi tv dekhta hai shayed</td>\n",
              "      <td>modi tv dekhta hai shayed</td>\n",
              "    </tr>\n",
              "  </tbody>\n",
              "</table>\n",
              "<p>17908 rows × 10 columns</p>\n",
              "</div>"
            ]
          },
          "metadata": {},
          "execution_count": 70
        }
      ]
    },
    {
      "cell_type": "code",
      "source": [
        "df_test2=df_test2.drop('Aggression_new',axis=1)"
      ],
      "metadata": {
        "id": "SJzyVjmgzBut"
      },
      "execution_count": null,
      "outputs": []
    },
    {
      "cell_type": "code",
      "source": [],
      "metadata": {
        "id": "lHdBB2s_1Qpq"
      },
      "execution_count": null,
      "outputs": []
    },
    {
      "cell_type": "code",
      "source": [
        "df_test2"
      ],
      "metadata": {
        "colab": {
          "base_uri": "https://localhost:8080/",
          "height": 877
        },
        "id": "9--xaGCSzRmW",
        "outputId": "1fd929d2-30d2-4254-97d5-fcc6f16d2a48"
      },
      "execution_count": null,
      "outputs": [
        {
          "output_type": "execute_result",
          "data": {
            "text/plain": [
              "                                                                    ID  \\\n",
              "Youtube Corpus 1036        https://www.youtube.com/watch?v=g4pKiz9GwwQ   \n",
              "C1036.1              Allah apni sara duniar manush ke nrc hat theke...   \n",
              "C1036.2                                  যেখান থেকে এসেছিলে সেখানে যাও   \n",
              "C1036.2.1            Onara to jak..kintu Vai rules ta equal houa uc...   \n",
              "C1036.3                                          A desh ki modir baper   \n",
              "...                                                                ...   \n",
              "C639.369             कोरोना संकट के समय राजस्थान का कांग्रेसी मु.मं...   \n",
              "C639.369.1                         Andbhakt hai whatsapp University se   \n",
              "C639.369.2                         @Indramani tripathi videshi pandit😂   \n",
              "C639.369.3                            @Sayed Ashraf tu ndtv dekhta hai   \n",
              "C639.369.4                                   Modi TV dekhta hai shayed   \n",
              "\n",
              "                     Aggression  Aggression_Intensity  Discursive_Role  \\\n",
              "Youtube Corpus 1036         NaN                   NaN              NaN   \n",
              "C1036.1                     NaN                   NaN              NaN   \n",
              "C1036.2                     NaN                   NaN              NaN   \n",
              "C1036.2.1                   NaN                   NaN              NaN   \n",
              "C1036.3                     NaN                   NaN              NaN   \n",
              "...                         ...                   ...              ...   \n",
              "C639.369                    NaN                   NaN              NaN   \n",
              "C639.369.1                  NaN                   NaN              NaN   \n",
              "C639.369.2                  NaN                   NaN              NaN   \n",
              "C639.369.3                  NaN                   NaN              NaN   \n",
              "C639.369.4                  NaN                   NaN              NaN   \n",
              "\n",
              "                     Gender_Bias  Communal_Bias  Caste_Class_Bias  \\\n",
              "Youtube Corpus 1036          NaN            NaN               NaN   \n",
              "C1036.1                      NaN            NaN               NaN   \n",
              "C1036.2                      NaN            NaN               NaN   \n",
              "C1036.2.1                    NaN            NaN               NaN   \n",
              "C1036.3                      NaN            NaN               NaN   \n",
              "...                          ...            ...               ...   \n",
              "C639.369                     NaN            NaN               NaN   \n",
              "C639.369.1                   NaN            NaN               NaN   \n",
              "C639.369.2                   NaN            NaN               NaN   \n",
              "C639.369.3                   NaN            NaN               NaN   \n",
              "C639.369.4                   NaN            NaN               NaN   \n",
              "\n",
              "                     Ethnicity_Racial_Bias  \\\n",
              "Youtube Corpus 1036                    NaN   \n",
              "C1036.1                                NaN   \n",
              "C1036.2                                NaN   \n",
              "C1036.2.1                              NaN   \n",
              "C1036.3                                NaN   \n",
              "...                                    ...   \n",
              "C639.369                               NaN   \n",
              "C639.369.1                             NaN   \n",
              "C639.369.2                             NaN   \n",
              "C639.369.3                             NaN   \n",
              "C639.369.4                             NaN   \n",
              "\n",
              "                                                                  Text  \\\n",
              "Youtube Corpus 1036        https://www.youtube.com/watch?v=g4pkiz9gwwq   \n",
              "C1036.1              allah apni sara duniar manush ke nrc hat theke...   \n",
              "C1036.2                                  যেখান থেকে এসেছিলে সেখানে যাও   \n",
              "C1036.2.1            onara to jak..kintu vai rules ta equal houa uc...   \n",
              "C1036.3                                          a desh ki modir baper   \n",
              "...                                                                ...   \n",
              "C639.369             कोरोना संकट के समय राजस्थान का कांग्रेसी मु.मं...   \n",
              "C639.369.1                         andbhakt hai whatsapp university se   \n",
              "C639.369.2                         @indramani tripathi videshi pandit😂   \n",
              "C639.369.3                            @sayed ashraf tu ndtv dekhta hai   \n",
              "C639.369.4                                   modi tv dekhta hai shayed   \n",
              "\n",
              "                                                                  text  \n",
              "Youtube Corpus 1036        https   www youtube com watch v g4pkiz9gwwq  \n",
              "C1036.1              allah apni sara duniar manush ke nrc hat theke...  \n",
              "C1036.2                                  য খ ন থ ক  এস ছ ল  স খ ন  য ও  \n",
              "C1036.2.1            onara to jak  kintu vai rules ta equal houa uc...  \n",
              "C1036.3                                          a desh ki modir baper  \n",
              "...                                                                ...  \n",
              "C639.369             क र न  स कट क  समय र जस थ न क  क  ग र स  म  म ...  \n",
              "C639.369.1                         andbhakt hai whatsapp university se  \n",
              "C639.369.2                           indramani tripathi videshi pandit  \n",
              "C639.369.3                             sayed ashraf tu ndtv dekhta hai  \n",
              "C639.369.4                                   modi tv dekhta hai shayed  \n",
              "\n",
              "[17908 rows x 10 columns]"
            ],
            "text/html": [
              "<div>\n",
              "<style scoped>\n",
              "    .dataframe tbody tr th:only-of-type {\n",
              "        vertical-align: middle;\n",
              "    }\n",
              "\n",
              "    .dataframe tbody tr th {\n",
              "        vertical-align: top;\n",
              "    }\n",
              "\n",
              "    .dataframe thead th {\n",
              "        text-align: right;\n",
              "    }\n",
              "</style>\n",
              "<table border=\"1\" class=\"dataframe\">\n",
              "  <thead>\n",
              "    <tr style=\"text-align: right;\">\n",
              "      <th></th>\n",
              "      <th>ID</th>\n",
              "      <th>Aggression</th>\n",
              "      <th>Aggression_Intensity</th>\n",
              "      <th>Discursive_Role</th>\n",
              "      <th>Gender_Bias</th>\n",
              "      <th>Communal_Bias</th>\n",
              "      <th>Caste_Class_Bias</th>\n",
              "      <th>Ethnicity_Racial_Bias</th>\n",
              "      <th>Text</th>\n",
              "      <th>text</th>\n",
              "    </tr>\n",
              "  </thead>\n",
              "  <tbody>\n",
              "    <tr>\n",
              "      <th>Youtube Corpus 1036</th>\n",
              "      <td>https://www.youtube.com/watch?v=g4pKiz9GwwQ</td>\n",
              "      <td>NaN</td>\n",
              "      <td>NaN</td>\n",
              "      <td>NaN</td>\n",
              "      <td>NaN</td>\n",
              "      <td>NaN</td>\n",
              "      <td>NaN</td>\n",
              "      <td>NaN</td>\n",
              "      <td>https://www.youtube.com/watch?v=g4pkiz9gwwq</td>\n",
              "      <td>https   www youtube com watch v g4pkiz9gwwq</td>\n",
              "    </tr>\n",
              "    <tr>\n",
              "      <th>C1036.1</th>\n",
              "      <td>Allah apni sara duniar manush ke nrc hat theke...</td>\n",
              "      <td>NaN</td>\n",
              "      <td>NaN</td>\n",
              "      <td>NaN</td>\n",
              "      <td>NaN</td>\n",
              "      <td>NaN</td>\n",
              "      <td>NaN</td>\n",
              "      <td>NaN</td>\n",
              "      <td>allah apni sara duniar manush ke nrc hat theke...</td>\n",
              "      <td>allah apni sara duniar manush ke nrc hat theke...</td>\n",
              "    </tr>\n",
              "    <tr>\n",
              "      <th>C1036.2</th>\n",
              "      <td>যেখান থেকে এসেছিলে সেখানে যাও</td>\n",
              "      <td>NaN</td>\n",
              "      <td>NaN</td>\n",
              "      <td>NaN</td>\n",
              "      <td>NaN</td>\n",
              "      <td>NaN</td>\n",
              "      <td>NaN</td>\n",
              "      <td>NaN</td>\n",
              "      <td>যেখান থেকে এসেছিলে সেখানে যাও</td>\n",
              "      <td>য খ ন থ ক  এস ছ ল  স খ ন  য ও</td>\n",
              "    </tr>\n",
              "    <tr>\n",
              "      <th>C1036.2.1</th>\n",
              "      <td>Onara to jak..kintu Vai rules ta equal houa uc...</td>\n",
              "      <td>NaN</td>\n",
              "      <td>NaN</td>\n",
              "      <td>NaN</td>\n",
              "      <td>NaN</td>\n",
              "      <td>NaN</td>\n",
              "      <td>NaN</td>\n",
              "      <td>NaN</td>\n",
              "      <td>onara to jak..kintu vai rules ta equal houa uc...</td>\n",
              "      <td>onara to jak  kintu vai rules ta equal houa uc...</td>\n",
              "    </tr>\n",
              "    <tr>\n",
              "      <th>C1036.3</th>\n",
              "      <td>A desh ki modir baper</td>\n",
              "      <td>NaN</td>\n",
              "      <td>NaN</td>\n",
              "      <td>NaN</td>\n",
              "      <td>NaN</td>\n",
              "      <td>NaN</td>\n",
              "      <td>NaN</td>\n",
              "      <td>NaN</td>\n",
              "      <td>a desh ki modir baper</td>\n",
              "      <td>a desh ki modir baper</td>\n",
              "    </tr>\n",
              "    <tr>\n",
              "      <th>...</th>\n",
              "      <td>...</td>\n",
              "      <td>...</td>\n",
              "      <td>...</td>\n",
              "      <td>...</td>\n",
              "      <td>...</td>\n",
              "      <td>...</td>\n",
              "      <td>...</td>\n",
              "      <td>...</td>\n",
              "      <td>...</td>\n",
              "      <td>...</td>\n",
              "    </tr>\n",
              "    <tr>\n",
              "      <th>C639.369</th>\n",
              "      <td>कोरोना संकट के समय राजस्थान का कांग्रेसी मु.मं...</td>\n",
              "      <td>NaN</td>\n",
              "      <td>NaN</td>\n",
              "      <td>NaN</td>\n",
              "      <td>NaN</td>\n",
              "      <td>NaN</td>\n",
              "      <td>NaN</td>\n",
              "      <td>NaN</td>\n",
              "      <td>कोरोना संकट के समय राजस्थान का कांग्रेसी मु.मं...</td>\n",
              "      <td>क र न  स कट क  समय र जस थ न क  क  ग र स  म  म ...</td>\n",
              "    </tr>\n",
              "    <tr>\n",
              "      <th>C639.369.1</th>\n",
              "      <td>Andbhakt hai whatsapp University se</td>\n",
              "      <td>NaN</td>\n",
              "      <td>NaN</td>\n",
              "      <td>NaN</td>\n",
              "      <td>NaN</td>\n",
              "      <td>NaN</td>\n",
              "      <td>NaN</td>\n",
              "      <td>NaN</td>\n",
              "      <td>andbhakt hai whatsapp university se</td>\n",
              "      <td>andbhakt hai whatsapp university se</td>\n",
              "    </tr>\n",
              "    <tr>\n",
              "      <th>C639.369.2</th>\n",
              "      <td>@Indramani tripathi videshi pandit😂</td>\n",
              "      <td>NaN</td>\n",
              "      <td>NaN</td>\n",
              "      <td>NaN</td>\n",
              "      <td>NaN</td>\n",
              "      <td>NaN</td>\n",
              "      <td>NaN</td>\n",
              "      <td>NaN</td>\n",
              "      <td>@indramani tripathi videshi pandit😂</td>\n",
              "      <td>indramani tripathi videshi pandit</td>\n",
              "    </tr>\n",
              "    <tr>\n",
              "      <th>C639.369.3</th>\n",
              "      <td>@Sayed Ashraf tu ndtv dekhta hai</td>\n",
              "      <td>NaN</td>\n",
              "      <td>NaN</td>\n",
              "      <td>NaN</td>\n",
              "      <td>NaN</td>\n",
              "      <td>NaN</td>\n",
              "      <td>NaN</td>\n",
              "      <td>NaN</td>\n",
              "      <td>@sayed ashraf tu ndtv dekhta hai</td>\n",
              "      <td>sayed ashraf tu ndtv dekhta hai</td>\n",
              "    </tr>\n",
              "    <tr>\n",
              "      <th>C639.369.4</th>\n",
              "      <td>Modi TV dekhta hai shayed</td>\n",
              "      <td>NaN</td>\n",
              "      <td>NaN</td>\n",
              "      <td>NaN</td>\n",
              "      <td>NaN</td>\n",
              "      <td>NaN</td>\n",
              "      <td>NaN</td>\n",
              "      <td>NaN</td>\n",
              "      <td>modi tv dekhta hai shayed</td>\n",
              "      <td>modi tv dekhta hai shayed</td>\n",
              "    </tr>\n",
              "  </tbody>\n",
              "</table>\n",
              "<p>17908 rows × 10 columns</p>\n",
              "</div>"
            ]
          },
          "metadata": {},
          "execution_count": 76
        }
      ]
    },
    {
      "cell_type": "code",
      "source": [
        "mn"
      ],
      "metadata": {
        "colab": {
          "base_uri": "https://localhost:8080/",
          "height": 423
        },
        "id": "Hk0wfDjvwOa3",
        "outputId": "9117a246-f79c-410d-9e39-43d4cb332aed"
      },
      "execution_count": null,
      "outputs": [
        {
          "output_type": "execute_result",
          "data": {
            "text/plain": [
              "       0\n",
              "0      2\n",
              "1      1\n",
              "2      2\n",
              "3      0\n",
              "4      1\n",
              "...   ..\n",
              "17903  1\n",
              "17904  1\n",
              "17905  2\n",
              "17906  2\n",
              "17907  0\n",
              "\n",
              "[17908 rows x 1 columns]"
            ],
            "text/html": [
              "<div>\n",
              "<style scoped>\n",
              "    .dataframe tbody tr th:only-of-type {\n",
              "        vertical-align: middle;\n",
              "    }\n",
              "\n",
              "    .dataframe tbody tr th {\n",
              "        vertical-align: top;\n",
              "    }\n",
              "\n",
              "    .dataframe thead th {\n",
              "        text-align: right;\n",
              "    }\n",
              "</style>\n",
              "<table border=\"1\" class=\"dataframe\">\n",
              "  <thead>\n",
              "    <tr style=\"text-align: right;\">\n",
              "      <th></th>\n",
              "      <th>0</th>\n",
              "    </tr>\n",
              "  </thead>\n",
              "  <tbody>\n",
              "    <tr>\n",
              "      <th>0</th>\n",
              "      <td>2</td>\n",
              "    </tr>\n",
              "    <tr>\n",
              "      <th>1</th>\n",
              "      <td>1</td>\n",
              "    </tr>\n",
              "    <tr>\n",
              "      <th>2</th>\n",
              "      <td>2</td>\n",
              "    </tr>\n",
              "    <tr>\n",
              "      <th>3</th>\n",
              "      <td>0</td>\n",
              "    </tr>\n",
              "    <tr>\n",
              "      <th>4</th>\n",
              "      <td>1</td>\n",
              "    </tr>\n",
              "    <tr>\n",
              "      <th>...</th>\n",
              "      <td>...</td>\n",
              "    </tr>\n",
              "    <tr>\n",
              "      <th>17903</th>\n",
              "      <td>1</td>\n",
              "    </tr>\n",
              "    <tr>\n",
              "      <th>17904</th>\n",
              "      <td>1</td>\n",
              "    </tr>\n",
              "    <tr>\n",
              "      <th>17905</th>\n",
              "      <td>2</td>\n",
              "    </tr>\n",
              "    <tr>\n",
              "      <th>17906</th>\n",
              "      <td>2</td>\n",
              "    </tr>\n",
              "    <tr>\n",
              "      <th>17907</th>\n",
              "      <td>0</td>\n",
              "    </tr>\n",
              "  </tbody>\n",
              "</table>\n",
              "<p>17908 rows × 1 columns</p>\n",
              "</div>"
            ]
          },
          "metadata": {},
          "execution_count": 54
        }
      ]
    },
    {
      "cell_type": "code",
      "source": [
        "df_test2=pd.concat([df_test2, mn],axis = 1)"
      ],
      "metadata": {
        "id": "i6ASxryVwj-V"
      },
      "execution_count": null,
      "outputs": []
    },
    {
      "cell_type": "code",
      "source": [
        "df_test2"
      ],
      "metadata": {
        "colab": {
          "base_uri": "https://localhost:8080/",
          "height": 493
        },
        "id": "GundyowLxMiI",
        "outputId": "88f5ab2a-5e86-41bb-a6c2-cb851510a3a0"
      },
      "execution_count": null,
      "outputs": [
        {
          "output_type": "execute_result",
          "data": {
            "text/plain": [
              "                                                                    ID  \\\n",
              "Youtube Corpus 1036        https://www.youtube.com/watch?v=g4pKiz9GwwQ   \n",
              "C1036.1              Allah apni sara duniar manush ke nrc hat theke...   \n",
              "C1036.2                                  যেখান থেকে এসেছিলে সেখানে যাও   \n",
              "C1036.2.1            Onara to jak..kintu Vai rules ta equal houa uc...   \n",
              "C1036.3                                          A desh ki modir baper   \n",
              "...                                                                ...   \n",
              "17903                                                              NaN   \n",
              "17904                                                              NaN   \n",
              "17905                                                              NaN   \n",
              "17906                                                              NaN   \n",
              "17907                                                              NaN   \n",
              "\n",
              "                     Aggression  Aggression_Intensity  Discursive_Role  \\\n",
              "Youtube Corpus 1036         NaN                   NaN              NaN   \n",
              "C1036.1                     NaN                   NaN              NaN   \n",
              "C1036.2                     NaN                   NaN              NaN   \n",
              "C1036.2.1                   NaN                   NaN              NaN   \n",
              "C1036.3                     NaN                   NaN              NaN   \n",
              "...                         ...                   ...              ...   \n",
              "17903                       NaN                   NaN              NaN   \n",
              "17904                       NaN                   NaN              NaN   \n",
              "17905                       NaN                   NaN              NaN   \n",
              "17906                       NaN                   NaN              NaN   \n",
              "17907                       NaN                   NaN              NaN   \n",
              "\n",
              "                     Gender_Bias  Communal_Bias  Caste_Class_Bias  \\\n",
              "Youtube Corpus 1036          NaN            NaN               NaN   \n",
              "C1036.1                      NaN            NaN               NaN   \n",
              "C1036.2                      NaN            NaN               NaN   \n",
              "C1036.2.1                    NaN            NaN               NaN   \n",
              "C1036.3                      NaN            NaN               NaN   \n",
              "...                          ...            ...               ...   \n",
              "17903                        NaN            NaN               NaN   \n",
              "17904                        NaN            NaN               NaN   \n",
              "17905                        NaN            NaN               NaN   \n",
              "17906                        NaN            NaN               NaN   \n",
              "17907                        NaN            NaN               NaN   \n",
              "\n",
              "                     Ethnicity_Racial_Bias  Aggression_new    0  \n",
              "Youtube Corpus 1036                    NaN             NaN  NaN  \n",
              "C1036.1                                NaN             NaN  NaN  \n",
              "C1036.2                                NaN             NaN  NaN  \n",
              "C1036.2.1                              NaN             NaN  NaN  \n",
              "C1036.3                                NaN             NaN  NaN  \n",
              "...                                    ...             ...  ...  \n",
              "17903                                  NaN             NaN  1.0  \n",
              "17904                                  NaN             NaN  1.0  \n",
              "17905                                  NaN             NaN  2.0  \n",
              "17906                                  NaN             NaN  2.0  \n",
              "17907                                  NaN             NaN  0.0  \n",
              "\n",
              "[35816 rows x 10 columns]"
            ],
            "text/html": [
              "<div>\n",
              "<style scoped>\n",
              "    .dataframe tbody tr th:only-of-type {\n",
              "        vertical-align: middle;\n",
              "    }\n",
              "\n",
              "    .dataframe tbody tr th {\n",
              "        vertical-align: top;\n",
              "    }\n",
              "\n",
              "    .dataframe thead th {\n",
              "        text-align: right;\n",
              "    }\n",
              "</style>\n",
              "<table border=\"1\" class=\"dataframe\">\n",
              "  <thead>\n",
              "    <tr style=\"text-align: right;\">\n",
              "      <th></th>\n",
              "      <th>ID</th>\n",
              "      <th>Aggression</th>\n",
              "      <th>Aggression_Intensity</th>\n",
              "      <th>Discursive_Role</th>\n",
              "      <th>Gender_Bias</th>\n",
              "      <th>Communal_Bias</th>\n",
              "      <th>Caste_Class_Bias</th>\n",
              "      <th>Ethnicity_Racial_Bias</th>\n",
              "      <th>Aggression_new</th>\n",
              "      <th>0</th>\n",
              "    </tr>\n",
              "  </thead>\n",
              "  <tbody>\n",
              "    <tr>\n",
              "      <th>Youtube Corpus 1036</th>\n",
              "      <td>https://www.youtube.com/watch?v=g4pKiz9GwwQ</td>\n",
              "      <td>NaN</td>\n",
              "      <td>NaN</td>\n",
              "      <td>NaN</td>\n",
              "      <td>NaN</td>\n",
              "      <td>NaN</td>\n",
              "      <td>NaN</td>\n",
              "      <td>NaN</td>\n",
              "      <td>NaN</td>\n",
              "      <td>NaN</td>\n",
              "    </tr>\n",
              "    <tr>\n",
              "      <th>C1036.1</th>\n",
              "      <td>Allah apni sara duniar manush ke nrc hat theke...</td>\n",
              "      <td>NaN</td>\n",
              "      <td>NaN</td>\n",
              "      <td>NaN</td>\n",
              "      <td>NaN</td>\n",
              "      <td>NaN</td>\n",
              "      <td>NaN</td>\n",
              "      <td>NaN</td>\n",
              "      <td>NaN</td>\n",
              "      <td>NaN</td>\n",
              "    </tr>\n",
              "    <tr>\n",
              "      <th>C1036.2</th>\n",
              "      <td>যেখান থেকে এসেছিলে সেখানে যাও</td>\n",
              "      <td>NaN</td>\n",
              "      <td>NaN</td>\n",
              "      <td>NaN</td>\n",
              "      <td>NaN</td>\n",
              "      <td>NaN</td>\n",
              "      <td>NaN</td>\n",
              "      <td>NaN</td>\n",
              "      <td>NaN</td>\n",
              "      <td>NaN</td>\n",
              "    </tr>\n",
              "    <tr>\n",
              "      <th>C1036.2.1</th>\n",
              "      <td>Onara to jak..kintu Vai rules ta equal houa uc...</td>\n",
              "      <td>NaN</td>\n",
              "      <td>NaN</td>\n",
              "      <td>NaN</td>\n",
              "      <td>NaN</td>\n",
              "      <td>NaN</td>\n",
              "      <td>NaN</td>\n",
              "      <td>NaN</td>\n",
              "      <td>NaN</td>\n",
              "      <td>NaN</td>\n",
              "    </tr>\n",
              "    <tr>\n",
              "      <th>C1036.3</th>\n",
              "      <td>A desh ki modir baper</td>\n",
              "      <td>NaN</td>\n",
              "      <td>NaN</td>\n",
              "      <td>NaN</td>\n",
              "      <td>NaN</td>\n",
              "      <td>NaN</td>\n",
              "      <td>NaN</td>\n",
              "      <td>NaN</td>\n",
              "      <td>NaN</td>\n",
              "      <td>NaN</td>\n",
              "    </tr>\n",
              "    <tr>\n",
              "      <th>...</th>\n",
              "      <td>...</td>\n",
              "      <td>...</td>\n",
              "      <td>...</td>\n",
              "      <td>...</td>\n",
              "      <td>...</td>\n",
              "      <td>...</td>\n",
              "      <td>...</td>\n",
              "      <td>...</td>\n",
              "      <td>...</td>\n",
              "      <td>...</td>\n",
              "    </tr>\n",
              "    <tr>\n",
              "      <th>17903</th>\n",
              "      <td>NaN</td>\n",
              "      <td>NaN</td>\n",
              "      <td>NaN</td>\n",
              "      <td>NaN</td>\n",
              "      <td>NaN</td>\n",
              "      <td>NaN</td>\n",
              "      <td>NaN</td>\n",
              "      <td>NaN</td>\n",
              "      <td>NaN</td>\n",
              "      <td>1.0</td>\n",
              "    </tr>\n",
              "    <tr>\n",
              "      <th>17904</th>\n",
              "      <td>NaN</td>\n",
              "      <td>NaN</td>\n",
              "      <td>NaN</td>\n",
              "      <td>NaN</td>\n",
              "      <td>NaN</td>\n",
              "      <td>NaN</td>\n",
              "      <td>NaN</td>\n",
              "      <td>NaN</td>\n",
              "      <td>NaN</td>\n",
              "      <td>1.0</td>\n",
              "    </tr>\n",
              "    <tr>\n",
              "      <th>17905</th>\n",
              "      <td>NaN</td>\n",
              "      <td>NaN</td>\n",
              "      <td>NaN</td>\n",
              "      <td>NaN</td>\n",
              "      <td>NaN</td>\n",
              "      <td>NaN</td>\n",
              "      <td>NaN</td>\n",
              "      <td>NaN</td>\n",
              "      <td>NaN</td>\n",
              "      <td>2.0</td>\n",
              "    </tr>\n",
              "    <tr>\n",
              "      <th>17906</th>\n",
              "      <td>NaN</td>\n",
              "      <td>NaN</td>\n",
              "      <td>NaN</td>\n",
              "      <td>NaN</td>\n",
              "      <td>NaN</td>\n",
              "      <td>NaN</td>\n",
              "      <td>NaN</td>\n",
              "      <td>NaN</td>\n",
              "      <td>NaN</td>\n",
              "      <td>2.0</td>\n",
              "    </tr>\n",
              "    <tr>\n",
              "      <th>17907</th>\n",
              "      <td>NaN</td>\n",
              "      <td>NaN</td>\n",
              "      <td>NaN</td>\n",
              "      <td>NaN</td>\n",
              "      <td>NaN</td>\n",
              "      <td>NaN</td>\n",
              "      <td>NaN</td>\n",
              "      <td>NaN</td>\n",
              "      <td>NaN</td>\n",
              "      <td>0.0</td>\n",
              "    </tr>\n",
              "  </tbody>\n",
              "</table>\n",
              "<p>35816 rows × 10 columns</p>\n",
              "</div>"
            ]
          },
          "metadata": {},
          "execution_count": 62
        }
      ]
    },
    {
      "cell_type": "code",
      "source": [],
      "metadata": {
        "id": "Fpg5MYB5t37k"
      },
      "execution_count": null,
      "outputs": []
    },
    {
      "cell_type": "code",
      "source": [
        "model2 = SVC(C = 1 ,kernel= 'rbf',class_weight=classweight)\n",
        "model2.fit(X_train_agn,y_train_agn)"
      ],
      "metadata": {
        "colab": {
          "base_uri": "https://localhost:8080/",
          "height": 109
        },
        "id": "qPyjPOCFqM83",
        "outputId": "af566d5d-cf65-41dd-e30d-d3f2759a20f4"
      },
      "execution_count": null,
      "outputs": [
        {
          "output_type": "execute_result",
          "data": {
            "text/plain": [
              "SVC(C=1,\n",
              "    class_weight={0: 1.4786608863198458, 1: 0.6941881501582994,\n",
              "                  2: 1.1322710338976798})"
            ],
            "text/html": [
              "<style>#sk-container-id-2 {color: black;background-color: white;}#sk-container-id-2 pre{padding: 0;}#sk-container-id-2 div.sk-toggleable {background-color: white;}#sk-container-id-2 label.sk-toggleable__label {cursor: pointer;display: block;width: 100%;margin-bottom: 0;padding: 0.3em;box-sizing: border-box;text-align: center;}#sk-container-id-2 label.sk-toggleable__label-arrow:before {content: \"▸\";float: left;margin-right: 0.25em;color: #696969;}#sk-container-id-2 label.sk-toggleable__label-arrow:hover:before {color: black;}#sk-container-id-2 div.sk-estimator:hover label.sk-toggleable__label-arrow:before {color: black;}#sk-container-id-2 div.sk-toggleable__content {max-height: 0;max-width: 0;overflow: hidden;text-align: left;background-color: #f0f8ff;}#sk-container-id-2 div.sk-toggleable__content pre {margin: 0.2em;color: black;border-radius: 0.25em;background-color: #f0f8ff;}#sk-container-id-2 input.sk-toggleable__control:checked~div.sk-toggleable__content {max-height: 200px;max-width: 100%;overflow: auto;}#sk-container-id-2 input.sk-toggleable__control:checked~label.sk-toggleable__label-arrow:before {content: \"▾\";}#sk-container-id-2 div.sk-estimator input.sk-toggleable__control:checked~label.sk-toggleable__label {background-color: #d4ebff;}#sk-container-id-2 div.sk-label input.sk-toggleable__control:checked~label.sk-toggleable__label {background-color: #d4ebff;}#sk-container-id-2 input.sk-hidden--visually {border: 0;clip: rect(1px 1px 1px 1px);clip: rect(1px, 1px, 1px, 1px);height: 1px;margin: -1px;overflow: hidden;padding: 0;position: absolute;width: 1px;}#sk-container-id-2 div.sk-estimator {font-family: monospace;background-color: #f0f8ff;border: 1px dotted black;border-radius: 0.25em;box-sizing: border-box;margin-bottom: 0.5em;}#sk-container-id-2 div.sk-estimator:hover {background-color: #d4ebff;}#sk-container-id-2 div.sk-parallel-item::after {content: \"\";width: 100%;border-bottom: 1px solid gray;flex-grow: 1;}#sk-container-id-2 div.sk-label:hover label.sk-toggleable__label {background-color: #d4ebff;}#sk-container-id-2 div.sk-serial::before {content: \"\";position: absolute;border-left: 1px solid gray;box-sizing: border-box;top: 0;bottom: 0;left: 50%;z-index: 0;}#sk-container-id-2 div.sk-serial {display: flex;flex-direction: column;align-items: center;background-color: white;padding-right: 0.2em;padding-left: 0.2em;position: relative;}#sk-container-id-2 div.sk-item {position: relative;z-index: 1;}#sk-container-id-2 div.sk-parallel {display: flex;align-items: stretch;justify-content: center;background-color: white;position: relative;}#sk-container-id-2 div.sk-item::before, #sk-container-id-2 div.sk-parallel-item::before {content: \"\";position: absolute;border-left: 1px solid gray;box-sizing: border-box;top: 0;bottom: 0;left: 50%;z-index: -1;}#sk-container-id-2 div.sk-parallel-item {display: flex;flex-direction: column;z-index: 1;position: relative;background-color: white;}#sk-container-id-2 div.sk-parallel-item:first-child::after {align-self: flex-end;width: 50%;}#sk-container-id-2 div.sk-parallel-item:last-child::after {align-self: flex-start;width: 50%;}#sk-container-id-2 div.sk-parallel-item:only-child::after {width: 0;}#sk-container-id-2 div.sk-dashed-wrapped {border: 1px dashed gray;margin: 0 0.4em 0.5em 0.4em;box-sizing: border-box;padding-bottom: 0.4em;background-color: white;}#sk-container-id-2 div.sk-label label {font-family: monospace;font-weight: bold;display: inline-block;line-height: 1.2em;}#sk-container-id-2 div.sk-label-container {text-align: center;}#sk-container-id-2 div.sk-container {/* jupyter's `normalize.less` sets `[hidden] { display: none; }` but bootstrap.min.css set `[hidden] { display: none !important; }` so we also need the `!important` here to be able to override the default hidden behavior on the sphinx rendered scikit-learn.org. See: https://github.com/scikit-learn/scikit-learn/issues/21755 */display: inline-block !important;position: relative;}#sk-container-id-2 div.sk-text-repr-fallback {display: none;}</style><div id=\"sk-container-id-2\" class=\"sk-top-container\"><div class=\"sk-text-repr-fallback\"><pre>SVC(C=1,\n",
              "    class_weight={0: 1.4786608863198458, 1: 0.6941881501582994,\n",
              "                  2: 1.1322710338976798})</pre><b>In a Jupyter environment, please rerun this cell to show the HTML representation or trust the notebook. <br />On GitHub, the HTML representation is unable to render, please try loading this page with nbviewer.org.</b></div><div class=\"sk-container\" hidden><div class=\"sk-item\"><div class=\"sk-estimator sk-toggleable\"><input class=\"sk-toggleable__control sk-hidden--visually\" id=\"sk-estimator-id-2\" type=\"checkbox\" checked><label for=\"sk-estimator-id-2\" class=\"sk-toggleable__label sk-toggleable__label-arrow\">SVC</label><div class=\"sk-toggleable__content\"><pre>SVC(C=1,\n",
              "    class_weight={0: 1.4786608863198458, 1: 0.6941881501582994,\n",
              "                  2: 1.1322710338976798})</pre></div></div></div></div></div>"
            ]
          },
          "metadata": {},
          "execution_count": 23
        }
      ]
    },
    {
      "cell_type": "code",
      "source": [],
      "metadata": {
        "id": "S_Cz7dPQqU4k"
      },
      "execution_count": null,
      "outputs": []
    },
    {
      "cell_type": "code",
      "source": [
        "pred_agn22 = model2.predict(X_test_agn2)"
      ],
      "metadata": {
        "id": "g83-G0mXuBiM"
      },
      "execution_count": null,
      "outputs": []
    },
    {
      "cell_type": "code",
      "source": [
        "pred_agn32 = model2.predict(X_test_agn3)\n",
        "pred_agn42 = model2.predict(X_test_agn4)"
      ],
      "metadata": {
        "id": "W1rD8stBvjd1"
      },
      "execution_count": null,
      "outputs": []
    },
    {
      "cell_type": "markdown",
      "source": [
        "poly c= 200"
      ],
      "metadata": {
        "id": "LuLER7E-BQIb"
      }
    },
    {
      "cell_type": "code",
      "source": [
        "model = joblib.load('result/agn_svm.joblib')\n"
      ],
      "metadata": {
        "id": "4J01eSJ0Txsj"
      },
      "execution_count": null,
      "outputs": []
    },
    {
      "cell_type": "code",
      "source": [
        "\n",
        "pred_agn = model.predict(X_test_agn)\n",
        "print(classification_report(y_test_agn,pred_agn))"
      ],
      "metadata": {
        "id": "ZhHx_o8rT_6G"
      },
      "execution_count": null,
      "outputs": []
    },
    {
      "cell_type": "markdown",
      "source": [
        "MNB in Agression "
      ],
      "metadata": {
        "id": "X551BbbMVjP4"
      }
    },
    {
      "cell_type": "code",
      "source": [
        "from sklearn.naive_bayes import MultinomialNB\n",
        "f = open(\"result/agn_mnb.txt\",'w')\n",
        "f.write(f\"MultinomialNB(alpha = {0})\")\n",
        "f.close()\n"
      ],
      "metadata": {
        "id": "LDlm6qObVi5k"
      },
      "execution_count": null,
      "outputs": []
    },
    {
      "cell_type": "code",
      "source": [
        "\n",
        "from sklearn.metrics import f1_score\n",
        "score =0\n",
        "for i in np.arange(1e-05,1e-01,1e-04):\n",
        "  print(i)\n",
        "  model = MultinomialNB(alpha=i)\n",
        "  model.fit(X_train_agn,y_train_agn)\n",
        "  pred = model.predict(X_test_agn)\n",
        "  f = f1_score(y_test_agn,pred,average='macro')\n",
        "  if(score<f):\n",
        "    score = f\n",
        "    f = open(\"result/agn_mnb.txt\",'w')\n",
        "    f.write(f\"MultinomialNB(alpha = {i})\")\n",
        "    f.close()\n",
        "    joblib.dump(model,'result/agn_mnb.joblib')\n",
        "    print(score)"
      ],
      "metadata": {
        "id": "fVA_LnciWGKi"
      },
      "execution_count": null,
      "outputs": []
    },
    {
      "cell_type": "code",
      "source": [
        "model = joblib.load('result/agn_mnb.joblib')"
      ],
      "metadata": {
        "id": "2fpoi4FLVbTI"
      },
      "execution_count": null,
      "outputs": []
    },
    {
      "cell_type": "code",
      "source": [
        "pred_agn = model.predict(X_test_agn)\n",
        "print(classification_report(y_test_agn,pred_agn))"
      ],
      "metadata": {
        "id": "whLAL6XwWo0F",
        "colab": {
          "base_uri": "https://localhost:8080/"
        },
        "outputId": "a8da2464-f433-4f49-abc4-d5a21483f373"
      },
      "execution_count": null,
      "outputs": [
        {
          "output_type": "stream",
          "name": "stdout",
          "text": [
            "              precision    recall  f1-score   support\n",
            "\n",
            "           0       0.32      0.22      0.26      3064\n",
            "           1       0.62      0.78      0.69      6814\n",
            "           2       0.60      0.48      0.53      3936\n",
            "\n",
            "    accuracy                           0.57     13814\n",
            "   macro avg       0.51      0.49      0.49     13814\n",
            "weighted avg       0.55      0.57      0.55     13814\n",
            "\n"
          ]
        }
      ]
    },
    {
      "cell_type": "markdown",
      "source": [
        "Random Forest in agression "
      ],
      "metadata": {
        "id": "RQmihw7memN5"
      }
    },
    {
      "cell_type": "code",
      "source": [
        "from sklearn.ensemble import RandomForestClassifier "
      ],
      "metadata": {
        "id": "WHaXDsaZeINt"
      },
      "execution_count": null,
      "outputs": []
    },
    {
      "cell_type": "code",
      "source": [
        "f = open(\"result/agn_rf.txt\",'w')\n",
        "f.write(f\"RandomForestClassifier(max_features={0},max_depth={0},criterion={0})\")\n",
        "f.close()"
      ],
      "metadata": {
        "id": "P-IkjXIyWot3"
      },
      "execution_count": null,
      "outputs": []
    },
    {
      "cell_type": "code",
      "source": [
        "from sklearn.metrics import f1_score\n",
        "max_features = ['auto', 'sqrt', 'log2']\n",
        "max_depth = [4,5,6,7,8]\n",
        "criterion =['gini', 'entropy'] "
      ],
      "metadata": {
        "id": "cntyYmVCevLo"
      },
      "execution_count": null,
      "outputs": []
    },
    {
      "cell_type": "code",
      "source": [
        "score=0\n",
        "for i in max_features:\n",
        "  for j in max_depth:\n",
        "    for k in criterion:\n",
        "      print(i,j,k)\n",
        "      model=RandomForestClassifier(max_features=i,max_depth=j,criterion=k,class_weight=classweight)\n",
        "      model.fit(X_train_agn,y_train_agn)\n",
        "      pred=model.predict(X_test_agn)\n",
        "      f=f1_score(y_test_agn,pred,average='macro')\n",
        "      if(score<f):\n",
        "        score=f\n",
        "        f=open(\"result/agn_rf.txt\",'w')\n",
        "        f.write(f\"RandomForestClassifier(C={i},tol={j},penalty={k}) score={score}\")\n",
        "        joblib.dump(model,'result/agn_rf.joblib')\n",
        "        print(score)\n",
        "        f.close()"
      ],
      "metadata": {
        "id": "77r-8yWAexrd"
      },
      "execution_count": null,
      "outputs": []
    },
    {
      "cell_type": "code",
      "source": [
        "model = joblib.load('result/agn_rf.joblib')"
      ],
      "metadata": {
        "id": "372Rxqvw1b-7"
      },
      "execution_count": null,
      "outputs": []
    },
    {
      "cell_type": "code",
      "source": [
        "from sklearn.metrics import confusion_matrix,classification_report\n",
        "pred_agn = model.predict(X_test_agn)\n",
        "print(classification_report(y_test_agn,pred_agn))"
      ],
      "metadata": {
        "id": "HJjWJG22e1sC",
        "colab": {
          "base_uri": "https://localhost:8080/"
        },
        "outputId": "fcd19486-175c-464a-dbf1-47fc3cfe04ae"
      },
      "execution_count": null,
      "outputs": [
        {
          "output_type": "stream",
          "name": "stdout",
          "text": [
            "              precision    recall  f1-score   support\n",
            "\n",
            "           0       0.32      0.31      0.32      3064\n",
            "           1       0.71      0.43      0.54      6814\n",
            "           2       0.44      0.75      0.55      3936\n",
            "\n",
            "    accuracy                           0.50     13814\n",
            "   macro avg       0.49      0.50      0.47     13814\n",
            "weighted avg       0.55      0.50      0.49     13814\n",
            "\n"
          ]
        }
      ]
    },
    {
      "cell_type": "markdown",
      "source": [
        "XGBoost in Agression"
      ],
      "metadata": {
        "id": "ReqMNOyyzqQ5"
      }
    },
    {
      "cell_type": "code",
      "source": [
        "from xgboost import XGBClassifier"
      ],
      "metadata": {
        "id": "NUxyxTn20SNX"
      },
      "execution_count": null,
      "outputs": []
    },
    {
      "cell_type": "code",
      "source": [
        "g=open(\"agn_xgb.txt\",'w')\n",
        "g.write(f\"XGBClassifie(min_child_weight={0},gamma={0},subsample={0})\")\n",
        "g.close()\n",
        "from sklearn.metrics import f1_score\n",
        "min_child_weight = [1, 5, 10]\n",
        "gamma =[0.5, 1, 1.5, 2, 5]\n",
        "subsample= [0.6, 0.8, 1.0]"
      ],
      "metadata": {
        "id": "AL76RTtRztq1"
      },
      "execution_count": null,
      "outputs": []
    },
    {
      "cell_type": "code",
      "source": [
        "from xgboost import XGBClassifier\n",
        "score=0\n",
        "for i in min_child_weight:\n",
        "  for j in gamma:\n",
        "    for k in subsample:\n",
        "      model=XGBClassifier(min_child_weight=i,gamma=j,subsample=k,class_weight=classweight)\n",
        "      model.fit(X_train_agn,y_train_agn)\n",
        "      pred_m=model.predict(X_test_agn)\n",
        "      f=f1_score(y_test_agn,pred_m,average='macro')\n",
        "      if(score<f):\n",
        "        score=f\n",
        "        g=open(\"result/agn_xbg.txt\",'w')\n",
        "        g.write(f\"XGBClassifier(min_child_weight={i},gamma={j},subsample={k})\")\n",
        "        g.close()\n",
        "        joblib.dump(model , 'result/agn_xgb.joblib')\n",
        "        print(score)"
      ],
      "metadata": {
        "id": "tO2-WGNgzuqU"
      },
      "execution_count": null,
      "outputs": []
    },
    {
      "cell_type": "code",
      "source": [
        "model = joblib.load('result/agn_xgb.joblib')"
      ],
      "metadata": {
        "id": "AkUSsbtXzukr"
      },
      "execution_count": null,
      "outputs": []
    },
    {
      "cell_type": "code",
      "source": [
        "pred_agn = model.predict(X_test_agn)\n",
        "print(classification_report(y_test_agn,pred_agn))"
      ],
      "metadata": {
        "id": "pijdJNJCzuYf"
      },
      "execution_count": null,
      "outputs": []
    },
    {
      "cell_type": "markdown",
      "source": [
        "ADABOOST in aggression"
      ],
      "metadata": {
        "id": "i9gwsJEqc4o4"
      }
    },
    {
      "cell_type": "code",
      "source": [
        "from sklearn.ensemble import AdaBoostClassifier"
      ],
      "metadata": {
        "id": "42MJ_2WCc7dw"
      },
      "execution_count": null,
      "outputs": []
    },
    {
      "cell_type": "code",
      "source": [
        "model = AdaBoostClassifier()"
      ],
      "metadata": {
        "id": "a9NgY2Spd4-7"
      },
      "execution_count": null,
      "outputs": []
    },
    {
      "cell_type": "code",
      "source": [
        "for i in [30,50,70,80,90,100,120]:\n",
        "  for j in np.arange(1e-02,1,1e-01):\n",
        "      model=AdaBoostClassifier(n_estimators=i,learning_rate=j)\n",
        "      model.fit(X_train_agn,y_train_agn)\n",
        "      pred_m=model.predict(X_test_agn)\n",
        "      f=f1_score(y_test_agn,pred_m,average='macro')\n",
        "      if(score<f):\n",
        "        score=f\n",
        "        g=open(\"result/agn_adb.txt\",'w')\n",
        "        g.write(f\"AdaBoost(n_estimators={i},learning_rate={j})\")\n",
        "        g.close()\n",
        "        print(score)\n",
        "        joblib.dump(model,\"result/agn_adb.joblib\")"
      ],
      "metadata": {
        "id": "idoglIXceW5G",
        "colab": {
          "base_uri": "https://localhost:8080/"
        },
        "outputId": "4432ab55-c6f6-4829-db4a-70bc844e1b2c"
      },
      "execution_count": null,
      "outputs": [
        {
          "output_type": "stream",
          "name": "stdout",
          "text": [
            "0.2202184732725745\n",
            "0.2558083989096545\n",
            "0.28178448840718234\n",
            "0.2906002631233348\n",
            "0.29934254509907726\n",
            "0.2993962148544313\n",
            "0.2997246970138206\n",
            "0.30164622338052144\n",
            "0.30813433175604504\n",
            "0.3112524567544551\n",
            "0.3141072408623878\n",
            "0.31928642677052477\n",
            "0.32629544087096024\n",
            "0.33308265557996547\n",
            "0.3346234200163389\n",
            "0.3363702421909866\n",
            "0.336436604498956\n",
            "0.3390773199590808\n",
            "0.3400623797516376\n",
            "0.34325465044064263\n",
            "0.3464865131707911\n",
            "0.346556698251304\n",
            "0.3482366893317074\n",
            "0.3503779139797931\n",
            "0.35158466210051226\n",
            "0.35419157276972735\n",
            "0.3559086234588655\n",
            "0.3565070334289489\n"
          ]
        }
      ]
    },
    {
      "cell_type": "code",
      "source": [
        "model = joblib.load('result/agn_adb.joblib')"
      ],
      "metadata": {
        "id": "d6wdmOPokBhB"
      },
      "execution_count": null,
      "outputs": []
    },
    {
      "cell_type": "code",
      "source": [
        "pred_agn = model.predict(X_test_agn)\n",
        "print(classification_report(y_test_agn,pred_agn))"
      ],
      "metadata": {
        "id": "mra6WiuwkLM1",
        "colab": {
          "base_uri": "https://localhost:8080/"
        },
        "outputId": "f79430b4-3aac-4f1e-9dcd-57b30e26eaa5"
      },
      "execution_count": null,
      "outputs": [
        {
          "output_type": "stream",
          "name": "stdout",
          "text": [
            "              precision    recall  f1-score   support\n",
            "\n",
            "           0       0.38      0.02      0.03      3064\n",
            "           1       0.53      0.97      0.69      6814\n",
            "           2       0.72      0.23      0.35      3936\n",
            "\n",
            "    accuracy                           0.55     13814\n",
            "   macro avg       0.54      0.41      0.36     13814\n",
            "weighted avg       0.55      0.55      0.45     13814\n",
            "\n"
          ]
        }
      ]
    },
    {
      "cell_type": "markdown",
      "source": [
        "# **Gender Bias**"
      ],
      "metadata": {
        "id": "gP8phyRP4vUX"
      }
    },
    {
      "cell_type": "code",
      "source": [
        "df_train['Gender Bias'].isnull().sum()\n",
        "# ,df_test['Gender Bias'].isnull().sum()"
      ],
      "metadata": {
        "colab": {
          "base_uri": "https://localhost:8080/"
        },
        "id": "nf3cBFVn48WV",
        "outputId": "6afb77e6-0dc1-4fbc-d0d8-e696eb252d53"
      },
      "execution_count": null,
      "outputs": [
        {
          "output_type": "execute_result",
          "data": {
            "text/plain": [
              "2"
            ]
          },
          "metadata": {},
          "execution_count": 90
        }
      ]
    },
    {
      "cell_type": "code",
      "source": [
        "df_"
      ],
      "metadata": {
        "id": "wDyAk5uM4_Wq"
      },
      "execution_count": null,
      "outputs": []
    },
    {
      "cell_type": "code",
      "source": [
        "df_train['Gender Bias'].unique()\n",
        "# ,df_test['Gender Bias'].unique()"
      ],
      "metadata": {
        "colab": {
          "base_uri": "https://localhost:8080/"
        },
        "id": "zBv7GIIh5eBC",
        "outputId": "4c3233a3-d5d2-4acb-ef34-549c001f5c89"
      },
      "execution_count": null,
      "outputs": [
        {
          "output_type": "execute_result",
          "data": {
            "text/plain": [
              "array(['NGEN', 'GEN', 'GENT', nan], dtype=object)"
            ]
          },
          "metadata": {},
          "execution_count": 91
        }
      ]
    },
    {
      "cell_type": "code",
      "source": [
        "df_train_gen= df_train[df_train['Gender Bias'].isnull()==False]\n",
        "# df_test_gen= df_test[df_test['Gender Bias'].isnull()==False]\n",
        "df_train_gen \n",
        "# ,df_test_gen "
      ],
      "metadata": {
        "id": "Y67H0vgo5qL6"
      },
      "execution_count": null,
      "outputs": []
    },
    {
      "cell_type": "code",
      "source": [
        "#changing arguments to number\n",
        "d = {\"NGEN\":0, \"GEN\":1, \"GENT\":2}\n",
        "df_train_gen['Gender Bias'] = df_train_gen['Gender Bias'].map(d)\n",
        "# df_test_gen['Gender Bias'] = df_test_gen['Gender Bias'].map(d)"
      ],
      "metadata": {
        "id": "YtW564QQ5xB_"
      },
      "execution_count": null,
      "outputs": []
    },
    {
      "cell_type": "code",
      "source": [
        "df_train_gen['Gender Bias'].unique()\n",
        "# ,df_test_gen['Gender Bias'].unique()"
      ],
      "metadata": {
        "id": "oxE0ysv554d7",
        "colab": {
          "base_uri": "https://localhost:8080/"
        },
        "outputId": "75098c8e-b7ae-45f8-9b16-36e5739e6127"
      },
      "execution_count": null,
      "outputs": [
        {
          "output_type": "execute_result",
          "data": {
            "text/plain": [
              "array([0, 1, 2], dtype=int64)"
            ]
          },
          "metadata": {},
          "execution_count": 94
        }
      ]
    },
    {
      "cell_type": "code",
      "source": [
        "#vectorizing the dataset\n",
        "from sklearn.feature_extraction.text import TfidfVectorizer"
      ],
      "metadata": {
        "id": "TBX2Q_dF6AUS"
      },
      "execution_count": null,
      "outputs": []
    },
    {
      "cell_type": "code",
      "source": [
        "df_train_agn"
      ],
      "metadata": {
        "id": "J6qXzOV83fRr"
      },
      "execution_count": null,
      "outputs": []
    },
    {
      "cell_type": "code",
      "source": [
        "vector_gen = TfidfVectorizer()\n",
        "v1_gen = vector_gen.fit_transform(df_train_gen['text'])\n",
        "# v2_gen = vector_gen.transform(df_test_gen['text'])"
      ],
      "metadata": {
        "id": "wHXF5kVm6H6y"
      },
      "execution_count": null,
      "outputs": []
    },
    {
      "cell_type": "code",
      "source": [
        "import joblib\n",
        "joblib.dump(vector_gen,'result\\GenderBias_vectorization.joblib')"
      ],
      "metadata": {
        "id": "DNjogc5t6RmD",
        "colab": {
          "base_uri": "https://localhost:8080/"
        },
        "outputId": "f56ec6d7-edb5-4238-f2e6-d9861db2e0a1"
      },
      "execution_count": null,
      "outputs": [
        {
          "output_type": "execute_result",
          "data": {
            "text/plain": [
              "['result\\\\GenderBias_vectorization.joblib']"
            ]
          },
          "metadata": {},
          "execution_count": 15
        }
      ]
    },
    {
      "cell_type": "code",
      "source": [
        "X_train_gen=v1_gen\n",
        "y_train_gen=df_train_gen['Gender Bias']\n",
        "# X_test_gen=v2_gen\n",
        "# y_test_gen=df_test_gen['Gender Bias']"
      ],
      "metadata": {
        "id": "-WWphs7O6agr"
      },
      "execution_count": null,
      "outputs": []
    },
    {
      "cell_type": "code",
      "source": [
        "#applying class weight\n",
        "from sklearn.utils import compute_class_weight\n",
        "classweight = dict(zip([0,1,2],compute_class_weight(class_weight = 'balanced',y=df_train_gen['Gender Bias'].values,classes=[0,1,2])))\n",
        "classweight"
      ],
      "metadata": {
        "id": "yVxQo0Yz6hy7",
        "colab": {
          "base_uri": "https://localhost:8080/"
        },
        "outputId": "017e9793-6dd8-4831-a0ca-40e8a8fd4834"
      },
      "execution_count": null,
      "outputs": [
        {
          "output_type": "execute_result",
          "data": {
            "text/plain": [
              "{0: 0.4027287635290259, 1: 2.068598382749326, 2: 29.83284742468416}"
            ]
          },
          "metadata": {},
          "execution_count": 99
        }
      ]
    },
    {
      "cell_type": "markdown",
      "source": [
        "Logistic in gender bias"
      ],
      "metadata": {
        "id": "PVRnUP0Cxewo"
      }
    },
    {
      "cell_type": "code",
      "source": [
        "from sklearn.linear_model import LogisticRegression"
      ],
      "metadata": {
        "id": "AK62Qomj60Cw"
      },
      "execution_count": null,
      "outputs": []
    },
    {
      "cell_type": "code",
      "source": [
        "f = open(\"result/lg_gen.txt\",'w')\n",
        "f.write(f\"LogisticRegression(C = {0},tol = {0},penalty ={0})\")\n",
        "f.close()\n",
        "from sklearn.metrics import f1_score\n",
        "C = [1,5,25,50,100,200]\n",
        "penalty = [\"l2\" , 'l1' ]\n",
        "solver = ['newton-cg', 'lbfgs', 'sag']\n",
        "# l1_ratio = [0.0,0.3,0.5,0.8,1.0]"
      ],
      "metadata": {
        "id": "kUjX_4sS67iK"
      },
      "execution_count": null,
      "outputs": []
    },
    {
      "cell_type": "code",
      "source": [
        "score = 0\n",
        "for i in C:\n",
        "  for k in penalty:\n",
        "    for l in solver :\n",
        "      print(i,k,l)\n",
        "      try:\n",
        "        model = LogisticRegression(C = i,penalty =k  , solver = l , random_state = 42,class_weight=classweight)\n",
        "        model.fit(X_train_gen,y_train_gen)\n",
        "      except :\n",
        "        continue\n",
        "      pred_m = model.predict(X_test_gen)\n",
        "      f = f1_score(y_test_gen,pred_m,average = 'macro')\n",
        "      if(score<f):\n",
        "          score = f\n",
        "          f = open(\"result/lg_gen.txt\",'w')\n",
        "          f.write(f\"LogisticRegression(C = {i},penalty = {k},solver={l})\")\n",
        "          f.close()\n",
        "          joblib.dump(model,'result/gen_lg.joblib')\n",
        "          print(score)\n",
        "          \n",
        "              "
      ],
      "metadata": {
        "id": "c-hX1KKL7DzT"
      },
      "execution_count": null,
      "outputs": []
    },
    {
      "cell_type": "code",
      "source": [
        "model = joblib.load('result/gen_lg.joblib')"
      ],
      "metadata": {
        "id": "zqZDaFCDIS9K"
      },
      "execution_count": null,
      "outputs": []
    },
    {
      "cell_type": "code",
      "source": [
        "pred_gen = model.predict(X_test_gen)\n",
        "print(classification_report(y_test_gen,pred_gen))"
      ],
      "metadata": {
        "colab": {
          "base_uri": "https://localhost:8080/"
        },
        "id": "hHL4bCCx7QfD",
        "outputId": "05236475-c876-4ff1-e0ef-3dccdbca4b8a"
      },
      "execution_count": null,
      "outputs": [
        {
          "output_type": "stream",
          "name": "stdout",
          "text": [
            "              precision    recall  f1-score   support\n",
            "\n",
            "           0       0.93      0.83      0.88     11447\n",
            "           1       0.44      0.63      0.51      2200\n",
            "           2       0.14      0.34      0.20       168\n",
            "\n",
            "    accuracy                           0.79     13815\n",
            "   macro avg       0.50      0.60      0.53     13815\n",
            "weighted avg       0.84      0.79      0.81     13815\n",
            "\n"
          ]
        }
      ]
    },
    {
      "cell_type": "markdown",
      "source": [
        "SVM in Gender bias "
      ],
      "metadata": {
        "id": "7N03R2OPM11p"
      }
    },
    {
      "cell_type": "code",
      "source": [
        "from sklearn.svm import SVC"
      ],
      "metadata": {
        "id": "U3Sowz62NEAB"
      },
      "execution_count": null,
      "outputs": []
    },
    {
      "cell_type": "code",
      "source": [
        "mx = 0\n",
        "for kernel in ['linear', 'poly', 'rbf']:\n",
        "  for C in [1,5,10,25,50,100,200]:\n",
        "    if(kernel=='poly'):\n",
        "      if(C != 200):\n",
        "        for degree in [1,2,3,4]:\n",
        "            model = SVC(C = C,kernel=kernel,class_weight=classweight,degree=degree)\n",
        "            model.fit(X_train_gen,y_train_gen)\n",
        "            pred = model.predict(X_test_gen)\n",
        "            f = f1_score(y_test_gen,pred,average='macro')\n",
        "            if(mx<f):\n",
        "                mx = max(mx,f)\n",
        "                s = open('result/gen_svm.txt' , 'w')\n",
        "                s.write(f\"SVC(C= {C}, degree = {degree} , kernel = {kernel}) score={mx}\")\n",
        "                s.close()\n",
        "                # joblib.dump(model,'result/gen_svm.joblib')\n",
        "                print(mx)\n",
        "            print(f,f\"C = {C} , kernel = {kernel} , degree = {degree}\")\n",
        "    else:\n",
        "        model = SVC(C = C,kernel=kernel,class_weight=classweight)\n",
        "        model.fit(X_train_gen,y_train_gen)\n",
        "        pred = model.predict(X_test_gen)\n",
        "        f = f1_score(y_test_gen,pred,average='macro')\n",
        "        if(mx<f):\n",
        "            mx = max(mx,f)\n",
        "            s = open('result/gen_svm.txt' , 'w')\n",
        "            s.write(f\"SVC(C= {C}, degree = {1} , kernal = {kernel}) score={mx}\")\n",
        "            s.close()\n",
        "            # joblib.dump(model,'result/gen_svm.joblib')\n",
        "            print(mx)\n",
        "        print(f,f\"C = {C} , kernel = {kernel}\")"
      ],
      "metadata": {
        "id": "sKt-r8DeNOYY"
      },
      "execution_count": null,
      "outputs": []
    },
    {
      "cell_type": "markdown",
      "source": [
        "poly c = 200"
      ],
      "metadata": {
        "id": "i95S6dT7D0XV"
      }
    },
    {
      "cell_type": "code",
      "source": [
        "model3 = SVC(C = 1 ,kernel= 'linear',class_weight=classweight)\n",
        "model3.fit(X_train_gen,y_train_gen)"
      ],
      "metadata": {
        "id": "7DCUjDfHOeCF",
        "colab": {
          "base_uri": "https://localhost:8080/",
          "height": 127
        },
        "outputId": "dc00329e-72fc-4a2f-e49b-dd253e131063"
      },
      "execution_count": null,
      "outputs": [
        {
          "output_type": "execute_result",
          "data": {
            "text/plain": [
              "SVC(C=1,\n",
              "    class_weight={0: 0.4027287635290259, 1: 2.068598382749326,\n",
              "                  2: 29.83284742468416},\n",
              "    kernel='linear')"
            ],
            "text/html": [
              "<style>#sk-container-id-3 {color: black;background-color: white;}#sk-container-id-3 pre{padding: 0;}#sk-container-id-3 div.sk-toggleable {background-color: white;}#sk-container-id-3 label.sk-toggleable__label {cursor: pointer;display: block;width: 100%;margin-bottom: 0;padding: 0.3em;box-sizing: border-box;text-align: center;}#sk-container-id-3 label.sk-toggleable__label-arrow:before {content: \"▸\";float: left;margin-right: 0.25em;color: #696969;}#sk-container-id-3 label.sk-toggleable__label-arrow:hover:before {color: black;}#sk-container-id-3 div.sk-estimator:hover label.sk-toggleable__label-arrow:before {color: black;}#sk-container-id-3 div.sk-toggleable__content {max-height: 0;max-width: 0;overflow: hidden;text-align: left;background-color: #f0f8ff;}#sk-container-id-3 div.sk-toggleable__content pre {margin: 0.2em;color: black;border-radius: 0.25em;background-color: #f0f8ff;}#sk-container-id-3 input.sk-toggleable__control:checked~div.sk-toggleable__content {max-height: 200px;max-width: 100%;overflow: auto;}#sk-container-id-3 input.sk-toggleable__control:checked~label.sk-toggleable__label-arrow:before {content: \"▾\";}#sk-container-id-3 div.sk-estimator input.sk-toggleable__control:checked~label.sk-toggleable__label {background-color: #d4ebff;}#sk-container-id-3 div.sk-label input.sk-toggleable__control:checked~label.sk-toggleable__label {background-color: #d4ebff;}#sk-container-id-3 input.sk-hidden--visually {border: 0;clip: rect(1px 1px 1px 1px);clip: rect(1px, 1px, 1px, 1px);height: 1px;margin: -1px;overflow: hidden;padding: 0;position: absolute;width: 1px;}#sk-container-id-3 div.sk-estimator {font-family: monospace;background-color: #f0f8ff;border: 1px dotted black;border-radius: 0.25em;box-sizing: border-box;margin-bottom: 0.5em;}#sk-container-id-3 div.sk-estimator:hover {background-color: #d4ebff;}#sk-container-id-3 div.sk-parallel-item::after {content: \"\";width: 100%;border-bottom: 1px solid gray;flex-grow: 1;}#sk-container-id-3 div.sk-label:hover label.sk-toggleable__label {background-color: #d4ebff;}#sk-container-id-3 div.sk-serial::before {content: \"\";position: absolute;border-left: 1px solid gray;box-sizing: border-box;top: 0;bottom: 0;left: 50%;z-index: 0;}#sk-container-id-3 div.sk-serial {display: flex;flex-direction: column;align-items: center;background-color: white;padding-right: 0.2em;padding-left: 0.2em;position: relative;}#sk-container-id-3 div.sk-item {position: relative;z-index: 1;}#sk-container-id-3 div.sk-parallel {display: flex;align-items: stretch;justify-content: center;background-color: white;position: relative;}#sk-container-id-3 div.sk-item::before, #sk-container-id-3 div.sk-parallel-item::before {content: \"\";position: absolute;border-left: 1px solid gray;box-sizing: border-box;top: 0;bottom: 0;left: 50%;z-index: -1;}#sk-container-id-3 div.sk-parallel-item {display: flex;flex-direction: column;z-index: 1;position: relative;background-color: white;}#sk-container-id-3 div.sk-parallel-item:first-child::after {align-self: flex-end;width: 50%;}#sk-container-id-3 div.sk-parallel-item:last-child::after {align-self: flex-start;width: 50%;}#sk-container-id-3 div.sk-parallel-item:only-child::after {width: 0;}#sk-container-id-3 div.sk-dashed-wrapped {border: 1px dashed gray;margin: 0 0.4em 0.5em 0.4em;box-sizing: border-box;padding-bottom: 0.4em;background-color: white;}#sk-container-id-3 div.sk-label label {font-family: monospace;font-weight: bold;display: inline-block;line-height: 1.2em;}#sk-container-id-3 div.sk-label-container {text-align: center;}#sk-container-id-3 div.sk-container {/* jupyter's `normalize.less` sets `[hidden] { display: none; }` but bootstrap.min.css set `[hidden] { display: none !important; }` so we also need the `!important` here to be able to override the default hidden behavior on the sphinx rendered scikit-learn.org. See: https://github.com/scikit-learn/scikit-learn/issues/21755 */display: inline-block !important;position: relative;}#sk-container-id-3 div.sk-text-repr-fallback {display: none;}</style><div id=\"sk-container-id-3\" class=\"sk-top-container\"><div class=\"sk-text-repr-fallback\"><pre>SVC(C=1,\n",
              "    class_weight={0: 0.4027287635290259, 1: 2.068598382749326,\n",
              "                  2: 29.83284742468416},\n",
              "    kernel=&#x27;linear&#x27;)</pre><b>In a Jupyter environment, please rerun this cell to show the HTML representation or trust the notebook. <br />On GitHub, the HTML representation is unable to render, please try loading this page with nbviewer.org.</b></div><div class=\"sk-container\" hidden><div class=\"sk-item\"><div class=\"sk-estimator sk-toggleable\"><input class=\"sk-toggleable__control sk-hidden--visually\" id=\"sk-estimator-id-3\" type=\"checkbox\" checked><label for=\"sk-estimator-id-3\" class=\"sk-toggleable__label sk-toggleable__label-arrow\">SVC</label><div class=\"sk-toggleable__content\"><pre>SVC(C=1,\n",
              "    class_weight={0: 0.4027287635290259, 1: 2.068598382749326,\n",
              "                  2: 29.83284742468416},\n",
              "    kernel=&#x27;linear&#x27;)</pre></div></div></div></div></div>"
            ]
          },
          "metadata": {},
          "execution_count": 101
        }
      ]
    },
    {
      "cell_type": "code",
      "source": [
        "model4 = SVC(C = 1 ,kernel= 'rbf',class_weight=classweight)\n",
        "model4.fit(X_train_gen,y_train_gen)"
      ],
      "metadata": {
        "colab": {
          "base_uri": "https://localhost:8080/",
          "height": 109
        },
        "id": "ImGbkxcm4XRZ",
        "outputId": "a6264860-932d-4bc0-e344-8604153e39ab"
      },
      "execution_count": null,
      "outputs": [
        {
          "output_type": "execute_result",
          "data": {
            "text/plain": [
              "SVC(C=1,\n",
              "    class_weight={0: 0.4027287635290259, 1: 2.068598382749326,\n",
              "                  2: 29.83284742468416})"
            ],
            "text/html": [
              "<style>#sk-container-id-4 {color: black;background-color: white;}#sk-container-id-4 pre{padding: 0;}#sk-container-id-4 div.sk-toggleable {background-color: white;}#sk-container-id-4 label.sk-toggleable__label {cursor: pointer;display: block;width: 100%;margin-bottom: 0;padding: 0.3em;box-sizing: border-box;text-align: center;}#sk-container-id-4 label.sk-toggleable__label-arrow:before {content: \"▸\";float: left;margin-right: 0.25em;color: #696969;}#sk-container-id-4 label.sk-toggleable__label-arrow:hover:before {color: black;}#sk-container-id-4 div.sk-estimator:hover label.sk-toggleable__label-arrow:before {color: black;}#sk-container-id-4 div.sk-toggleable__content {max-height: 0;max-width: 0;overflow: hidden;text-align: left;background-color: #f0f8ff;}#sk-container-id-4 div.sk-toggleable__content pre {margin: 0.2em;color: black;border-radius: 0.25em;background-color: #f0f8ff;}#sk-container-id-4 input.sk-toggleable__control:checked~div.sk-toggleable__content {max-height: 200px;max-width: 100%;overflow: auto;}#sk-container-id-4 input.sk-toggleable__control:checked~label.sk-toggleable__label-arrow:before {content: \"▾\";}#sk-container-id-4 div.sk-estimator input.sk-toggleable__control:checked~label.sk-toggleable__label {background-color: #d4ebff;}#sk-container-id-4 div.sk-label input.sk-toggleable__control:checked~label.sk-toggleable__label {background-color: #d4ebff;}#sk-container-id-4 input.sk-hidden--visually {border: 0;clip: rect(1px 1px 1px 1px);clip: rect(1px, 1px, 1px, 1px);height: 1px;margin: -1px;overflow: hidden;padding: 0;position: absolute;width: 1px;}#sk-container-id-4 div.sk-estimator {font-family: monospace;background-color: #f0f8ff;border: 1px dotted black;border-radius: 0.25em;box-sizing: border-box;margin-bottom: 0.5em;}#sk-container-id-4 div.sk-estimator:hover {background-color: #d4ebff;}#sk-container-id-4 div.sk-parallel-item::after {content: \"\";width: 100%;border-bottom: 1px solid gray;flex-grow: 1;}#sk-container-id-4 div.sk-label:hover label.sk-toggleable__label {background-color: #d4ebff;}#sk-container-id-4 div.sk-serial::before {content: \"\";position: absolute;border-left: 1px solid gray;box-sizing: border-box;top: 0;bottom: 0;left: 50%;z-index: 0;}#sk-container-id-4 div.sk-serial {display: flex;flex-direction: column;align-items: center;background-color: white;padding-right: 0.2em;padding-left: 0.2em;position: relative;}#sk-container-id-4 div.sk-item {position: relative;z-index: 1;}#sk-container-id-4 div.sk-parallel {display: flex;align-items: stretch;justify-content: center;background-color: white;position: relative;}#sk-container-id-4 div.sk-item::before, #sk-container-id-4 div.sk-parallel-item::before {content: \"\";position: absolute;border-left: 1px solid gray;box-sizing: border-box;top: 0;bottom: 0;left: 50%;z-index: -1;}#sk-container-id-4 div.sk-parallel-item {display: flex;flex-direction: column;z-index: 1;position: relative;background-color: white;}#sk-container-id-4 div.sk-parallel-item:first-child::after {align-self: flex-end;width: 50%;}#sk-container-id-4 div.sk-parallel-item:last-child::after {align-self: flex-start;width: 50%;}#sk-container-id-4 div.sk-parallel-item:only-child::after {width: 0;}#sk-container-id-4 div.sk-dashed-wrapped {border: 1px dashed gray;margin: 0 0.4em 0.5em 0.4em;box-sizing: border-box;padding-bottom: 0.4em;background-color: white;}#sk-container-id-4 div.sk-label label {font-family: monospace;font-weight: bold;display: inline-block;line-height: 1.2em;}#sk-container-id-4 div.sk-label-container {text-align: center;}#sk-container-id-4 div.sk-container {/* jupyter's `normalize.less` sets `[hidden] { display: none; }` but bootstrap.min.css set `[hidden] { display: none !important; }` so we also need the `!important` here to be able to override the default hidden behavior on the sphinx rendered scikit-learn.org. See: https://github.com/scikit-learn/scikit-learn/issues/21755 */display: inline-block !important;position: relative;}#sk-container-id-4 div.sk-text-repr-fallback {display: none;}</style><div id=\"sk-container-id-4\" class=\"sk-top-container\"><div class=\"sk-text-repr-fallback\"><pre>SVC(C=1,\n",
              "    class_weight={0: 0.4027287635290259, 1: 2.068598382749326,\n",
              "                  2: 29.83284742468416})</pre><b>In a Jupyter environment, please rerun this cell to show the HTML representation or trust the notebook. <br />On GitHub, the HTML representation is unable to render, please try loading this page with nbviewer.org.</b></div><div class=\"sk-container\" hidden><div class=\"sk-item\"><div class=\"sk-estimator sk-toggleable\"><input class=\"sk-toggleable__control sk-hidden--visually\" id=\"sk-estimator-id-4\" type=\"checkbox\" checked><label for=\"sk-estimator-id-4\" class=\"sk-toggleable__label sk-toggleable__label-arrow\">SVC</label><div class=\"sk-toggleable__content\"><pre>SVC(C=1,\n",
              "    class_weight={0: 0.4027287635290259, 1: 2.068598382749326,\n",
              "                  2: 29.83284742468416})</pre></div></div></div></div></div>"
            ]
          },
          "metadata": {},
          "execution_count": 102
        }
      ]
    },
    {
      "cell_type": "code",
      "source": [
        "v2_agn2 = vector_gen.transform(df_test2['text'])\n",
        "# v2_agn4 = vector_agn.transform(df_test4['text'])\n",
        "v2_agn3 = vector_gen.transform(df_test3['text'])\n",
        "v2_agn4 = vector_gen.transform(df_test4['text'])"
      ],
      "metadata": {
        "colab": {
          "base_uri": "https://localhost:8080/",
          "height": 865
        },
        "id": "pKmV1BZv5Z3C",
        "outputId": "5c5b4bab-7f5f-42d7-ed4c-7db7687d3da7"
      },
      "execution_count": null,
      "outputs": [
        {
          "output_type": "error",
          "ename": "KeyError",
          "evalue": "ignored",
          "traceback": [
            "\u001b[1;31m---------------------------------------------------------------------------\u001b[0m",
            "\u001b[1;31mKeyError\u001b[0m                                  Traceback (most recent call last)",
            "File \u001b[1;32m~\\AppData\\Local\\Programs\\Python\\Python310\\lib\\site-packages\\pandas\\core\\indexes\\base.py:3621\u001b[0m, in \u001b[0;36mIndex.get_loc\u001b[1;34m(self, key, method, tolerance)\u001b[0m\n\u001b[0;32m   3620\u001b[0m \u001b[38;5;28;01mtry\u001b[39;00m:\n\u001b[1;32m-> 3621\u001b[0m     \u001b[38;5;28;01mreturn\u001b[39;00m \u001b[38;5;28;43mself\u001b[39;49m\u001b[38;5;241;43m.\u001b[39;49m\u001b[43m_engine\u001b[49m\u001b[38;5;241;43m.\u001b[39;49m\u001b[43mget_loc\u001b[49m\u001b[43m(\u001b[49m\u001b[43mcasted_key\u001b[49m\u001b[43m)\u001b[49m\n\u001b[0;32m   3622\u001b[0m \u001b[38;5;28;01mexcept\u001b[39;00m \u001b[38;5;167;01mKeyError\u001b[39;00m \u001b[38;5;28;01mas\u001b[39;00m err:\n",
            "File \u001b[1;32m~\\AppData\\Local\\Programs\\Python\\Python310\\lib\\site-packages\\pandas\\_libs\\index.pyx:136\u001b[0m, in \u001b[0;36mpandas._libs.index.IndexEngine.get_loc\u001b[1;34m()\u001b[0m\n",
            "File \u001b[1;32m~\\AppData\\Local\\Programs\\Python\\Python310\\lib\\site-packages\\pandas\\_libs\\index.pyx:163\u001b[0m, in \u001b[0;36mpandas._libs.index.IndexEngine.get_loc\u001b[1;34m()\u001b[0m\n",
            "File \u001b[1;32mpandas\\_libs\\hashtable_class_helper.pxi:5198\u001b[0m, in \u001b[0;36mpandas._libs.hashtable.PyObjectHashTable.get_item\u001b[1;34m()\u001b[0m\n",
            "File \u001b[1;32mpandas\\_libs\\hashtable_class_helper.pxi:5206\u001b[0m, in \u001b[0;36mpandas._libs.hashtable.PyObjectHashTable.get_item\u001b[1;34m()\u001b[0m\n",
            "\u001b[1;31mKeyError\u001b[0m: 'text'",
            "\nThe above exception was the direct cause of the following exception:\n",
            "\u001b[1;31mKeyError\u001b[0m                                  Traceback (most recent call last)",
            "Input \u001b[1;32mIn [103]\u001b[0m, in \u001b[0;36m<cell line: 3>\u001b[1;34m()\u001b[0m\n\u001b[0;32m      1\u001b[0m v2_agn2 \u001b[38;5;241m=\u001b[39m vector_agn\u001b[38;5;241m.\u001b[39mtransform(df_test2[\u001b[38;5;124m'\u001b[39m\u001b[38;5;124mtext\u001b[39m\u001b[38;5;124m'\u001b[39m])\n\u001b[0;32m      2\u001b[0m \u001b[38;5;66;03m# v2_agn4 = vector_agn.transform(df_test4['text'])\u001b[39;00m\n\u001b[1;32m----> 3\u001b[0m v2_agn3 \u001b[38;5;241m=\u001b[39m vector_agn\u001b[38;5;241m.\u001b[39mtransform(\u001b[43mdf_test3\u001b[49m\u001b[43m[\u001b[49m\u001b[38;5;124;43m'\u001b[39;49m\u001b[38;5;124;43mtext\u001b[39;49m\u001b[38;5;124;43m'\u001b[39;49m\u001b[43m]\u001b[49m)\n\u001b[0;32m      4\u001b[0m v2_agn4 \u001b[38;5;241m=\u001b[39m vector_agn\u001b[38;5;241m.\u001b[39mtransform(df_test4[\u001b[38;5;124m'\u001b[39m\u001b[38;5;124mtext\u001b[39m\u001b[38;5;124m'\u001b[39m])\n",
            "File \u001b[1;32m~\\AppData\\Local\\Programs\\Python\\Python310\\lib\\site-packages\\pandas\\core\\frame.py:3505\u001b[0m, in \u001b[0;36mDataFrame.__getitem__\u001b[1;34m(self, key)\u001b[0m\n\u001b[0;32m   3503\u001b[0m \u001b[38;5;28;01mif\u001b[39;00m \u001b[38;5;28mself\u001b[39m\u001b[38;5;241m.\u001b[39mcolumns\u001b[38;5;241m.\u001b[39mnlevels \u001b[38;5;241m>\u001b[39m \u001b[38;5;241m1\u001b[39m:\n\u001b[0;32m   3504\u001b[0m     \u001b[38;5;28;01mreturn\u001b[39;00m \u001b[38;5;28mself\u001b[39m\u001b[38;5;241m.\u001b[39m_getitem_multilevel(key)\n\u001b[1;32m-> 3505\u001b[0m indexer \u001b[38;5;241m=\u001b[39m \u001b[38;5;28;43mself\u001b[39;49m\u001b[38;5;241;43m.\u001b[39;49m\u001b[43mcolumns\u001b[49m\u001b[38;5;241;43m.\u001b[39;49m\u001b[43mget_loc\u001b[49m\u001b[43m(\u001b[49m\u001b[43mkey\u001b[49m\u001b[43m)\u001b[49m\n\u001b[0;32m   3506\u001b[0m \u001b[38;5;28;01mif\u001b[39;00m is_integer(indexer):\n\u001b[0;32m   3507\u001b[0m     indexer \u001b[38;5;241m=\u001b[39m [indexer]\n",
            "File \u001b[1;32m~\\AppData\\Local\\Programs\\Python\\Python310\\lib\\site-packages\\pandas\\core\\indexes\\base.py:3623\u001b[0m, in \u001b[0;36mIndex.get_loc\u001b[1;34m(self, key, method, tolerance)\u001b[0m\n\u001b[0;32m   3621\u001b[0m     \u001b[38;5;28;01mreturn\u001b[39;00m \u001b[38;5;28mself\u001b[39m\u001b[38;5;241m.\u001b[39m_engine\u001b[38;5;241m.\u001b[39mget_loc(casted_key)\n\u001b[0;32m   3622\u001b[0m \u001b[38;5;28;01mexcept\u001b[39;00m \u001b[38;5;167;01mKeyError\u001b[39;00m \u001b[38;5;28;01mas\u001b[39;00m err:\n\u001b[1;32m-> 3623\u001b[0m     \u001b[38;5;28;01mraise\u001b[39;00m \u001b[38;5;167;01mKeyError\u001b[39;00m(key) \u001b[38;5;28;01mfrom\u001b[39;00m \u001b[38;5;21;01merr\u001b[39;00m\n\u001b[0;32m   3624\u001b[0m \u001b[38;5;28;01mexcept\u001b[39;00m \u001b[38;5;167;01mTypeError\u001b[39;00m:\n\u001b[0;32m   3625\u001b[0m     \u001b[38;5;66;03m# If we have a listlike key, _check_indexing_error will raise\u001b[39;00m\n\u001b[0;32m   3626\u001b[0m     \u001b[38;5;66;03m#  InvalidIndexError. Otherwise we fall through and re-raise\u001b[39;00m\n\u001b[0;32m   3627\u001b[0m     \u001b[38;5;66;03m#  the TypeError.\u001b[39;00m\n\u001b[0;32m   3628\u001b[0m     \u001b[38;5;28mself\u001b[39m\u001b[38;5;241m.\u001b[39m_check_indexing_error(key)\n",
            "\u001b[1;31mKeyError\u001b[0m: 'text'"
          ]
        }
      ]
    },
    {
      "cell_type": "code",
      "source": [
        "pred_gen21 = model3.predict(X_test_agn2)"
      ],
      "metadata": {
        "id": "xK5uk3bU4jTY"
      },
      "execution_count": null,
      "outputs": []
    },
    {
      "cell_type": "code",
      "source": [
        "model = joblib.load(model,'result/gen_svm.joblib')"
      ],
      "metadata": {
        "id": "ahLHEcX4Od7A"
      },
      "execution_count": null,
      "outputs": []
    },
    {
      "cell_type": "code",
      "source": [
        "pred_gen = model.predict(X_test_gen)\n",
        "print(classification_report(y_test_gen,pred_gen))"
      ],
      "metadata": {
        "id": "2byO2-8fOdpq"
      },
      "execution_count": null,
      "outputs": []
    },
    {
      "cell_type": "markdown",
      "source": [
        "MNB in Gender Bias"
      ],
      "metadata": {
        "id": "gEvEwB92Y4f2"
      }
    },
    {
      "cell_type": "code",
      "source": [
        "from sklearn.naive_bayes import MultinomialNB"
      ],
      "metadata": {
        "id": "JafO9Vv71Rxq"
      },
      "execution_count": null,
      "outputs": []
    },
    {
      "cell_type": "code",
      "source": [
        "f = open(\"result/mnb_gen.txt\",'w')\n",
        "f.write(f\"MultinomialNB(alpha = {0})\")\n",
        "f.close()"
      ],
      "metadata": {
        "id": "IsQ9g7RtY3fq"
      },
      "execution_count": null,
      "outputs": []
    },
    {
      "cell_type": "code",
      "source": [
        "\n",
        "from sklearn.naive_bayes import MultinomialNB\n",
        "from sklearn.metrics import f1_score\n",
        "score =0\n",
        "for i in np.arange(1e-05,1e-01,1e-04):\n",
        "  print(i)\n",
        "  model = MultinomialNB(alpha=i)\n",
        "  model.fit(X_train_gen,y_train_gen)\n",
        "  pred = model.predict(X_test_gen)\n",
        "  f = f1_score(y_test_gen,pred,average='macro')\n",
        "  if(score<f):\n",
        "    score = f\n",
        "    f = open(\"result/gen_mnb.txt\",'w')\n",
        "    f.write(f\"MultinomialNB(alpha = {i})\")\n",
        "    f.close()\n",
        "    joblib.dump(model,'result/gen_mnb.joblib')\n",
        "    print(score)"
      ],
      "metadata": {
        "id": "71dkG0_qZJ3p"
      },
      "execution_count": null,
      "outputs": []
    },
    {
      "cell_type": "code",
      "source": [
        "model = joblib.load('result/gen_mnb.joblib')"
      ],
      "metadata": {
        "id": "JInWw3iGZKhU"
      },
      "execution_count": null,
      "outputs": []
    },
    {
      "cell_type": "code",
      "source": [
        "pred_gen = model.predict(X_test_gen)\n",
        "print(classification_report(y_test_gen,pred_gen))"
      ],
      "metadata": {
        "id": "Anwk4vAPZKcH",
        "colab": {
          "base_uri": "https://localhost:8080/"
        },
        "outputId": "272b1e65-0806-4b6f-fe11-485cda0f65bc"
      },
      "execution_count": null,
      "outputs": [
        {
          "output_type": "stream",
          "name": "stdout",
          "text": [
            "              precision    recall  f1-score   support\n",
            "\n",
            "           0       0.90      0.91      0.90     11447\n",
            "           1       0.48      0.46      0.47      2200\n",
            "           2       0.26      0.14      0.18       168\n",
            "\n",
            "    accuracy                           0.83     13815\n",
            "   macro avg       0.55      0.50      0.52     13815\n",
            "weighted avg       0.82      0.83      0.83     13815\n",
            "\n"
          ]
        }
      ]
    },
    {
      "cell_type": "markdown",
      "source": [
        "Random Forest in Gender Bias"
      ],
      "metadata": {
        "id": "PGsYFO9gglsb"
      }
    },
    {
      "cell_type": "code",
      "source": [
        "from sklearn.ensemble import RandomForestClassifier "
      ],
      "metadata": {
        "id": "ohNH-Epw_PZW"
      },
      "execution_count": null,
      "outputs": []
    },
    {
      "cell_type": "code",
      "source": [
        "f = open(\"result/gen_rf.txt\",'w')\n",
        "f.write(f\"RandomForestClassifier(max_features={0},max_depth={0},criterion={0})\")\n",
        "f.close()"
      ],
      "metadata": {
        "id": "LgsPnYhagk5W"
      },
      "execution_count": null,
      "outputs": []
    },
    {
      "cell_type": "code",
      "source": [
        "from sklearn.metrics import f1_score\n",
        "max_features = ['auto', 'sqrt', 'log2']\n",
        "max_depth = [4,5,6,7,8]\n",
        "criterion =['gini', 'entropy'] "
      ],
      "metadata": {
        "id": "zVQQ8otNZKOc"
      },
      "execution_count": null,
      "outputs": []
    },
    {
      "cell_type": "code",
      "source": [
        "score=0\n",
        "for i in max_features:\n",
        "  for j in max_depth:\n",
        "    for k in criterion:\n",
        "      print(i,j,k)\n",
        "      model=RandomForestClassifier(max_features=i,max_depth=j,criterion=k,class_weight=classweight)\n",
        "      model.fit(X_train_gen,y_train_gen)\n",
        "      pred=model.predict(X_test_gen)\n",
        "      f=f1_score(y_test_gen,pred,average='macro')\n",
        "      if(score<f):\n",
        "        score=f\n",
        "        f=open(\"result/gen_rf.txt\",'w')\n",
        "        f.write(f\"RandomForestClassifier(C={i},tol={j},penalty={k}) score={score}\")\n",
        "        f.close()\n",
        "        joblib.dump(model,'result/gen_rf.joblib')\n",
        "        print(score)"
      ],
      "metadata": {
        "id": "Sup5qkI8gwSo",
        "colab": {
          "base_uri": "https://localhost:8080/"
        },
        "outputId": "8e77ecf2-19f4-417e-ecf1-c6704e078b1f"
      },
      "execution_count": null,
      "outputs": [
        {
          "output_type": "stream",
          "name": "stdout",
          "text": [
            "auto 4 gini\n"
          ]
        },
        {
          "output_type": "stream",
          "name": "stderr",
          "text": [
            "C:\\Users\\student\\AppData\\Local\\Programs\\Python\\Python310\\lib\\site-packages\\sklearn\\ensemble\\_forest.py:427: FutureWarning: `max_features='auto'` has been deprecated in 1.1 and will be removed in 1.3. To keep the past behaviour, explicitly set `max_features='sqrt'` or remove this parameter as it is also the default value for RandomForestClassifiers and ExtraTreesClassifiers.\n",
            "  warn(\n"
          ]
        },
        {
          "output_type": "stream",
          "name": "stdout",
          "text": [
            "0.32129462173557705\n",
            "auto 4 entropy\n"
          ]
        },
        {
          "output_type": "stream",
          "name": "stderr",
          "text": [
            "C:\\Users\\student\\AppData\\Local\\Programs\\Python\\Python310\\lib\\site-packages\\sklearn\\ensemble\\_forest.py:427: FutureWarning: `max_features='auto'` has been deprecated in 1.1 and will be removed in 1.3. To keep the past behaviour, explicitly set `max_features='sqrt'` or remove this parameter as it is also the default value for RandomForestClassifiers and ExtraTreesClassifiers.\n",
            "  warn(\n"
          ]
        },
        {
          "output_type": "stream",
          "name": "stdout",
          "text": [
            "0.3360312302743562\n",
            "auto 5 gini\n"
          ]
        },
        {
          "output_type": "stream",
          "name": "stderr",
          "text": [
            "C:\\Users\\student\\AppData\\Local\\Programs\\Python\\Python310\\lib\\site-packages\\sklearn\\ensemble\\_forest.py:427: FutureWarning: `max_features='auto'` has been deprecated in 1.1 and will be removed in 1.3. To keep the past behaviour, explicitly set `max_features='sqrt'` or remove this parameter as it is also the default value for RandomForestClassifiers and ExtraTreesClassifiers.\n",
            "  warn(\n"
          ]
        },
        {
          "output_type": "stream",
          "name": "stdout",
          "text": [
            "0.33773188703037343\n",
            "auto 5 entropy\n"
          ]
        },
        {
          "output_type": "stream",
          "name": "stderr",
          "text": [
            "C:\\Users\\student\\AppData\\Local\\Programs\\Python\\Python310\\lib\\site-packages\\sklearn\\ensemble\\_forest.py:427: FutureWarning: `max_features='auto'` has been deprecated in 1.1 and will be removed in 1.3. To keep the past behaviour, explicitly set `max_features='sqrt'` or remove this parameter as it is also the default value for RandomForestClassifiers and ExtraTreesClassifiers.\n",
            "  warn(\n"
          ]
        },
        {
          "output_type": "stream",
          "name": "stdout",
          "text": [
            "0.34048408482402004\n",
            "auto 6 gini\n"
          ]
        },
        {
          "output_type": "stream",
          "name": "stderr",
          "text": [
            "C:\\Users\\student\\AppData\\Local\\Programs\\Python\\Python310\\lib\\site-packages\\sklearn\\ensemble\\_forest.py:427: FutureWarning: `max_features='auto'` has been deprecated in 1.1 and will be removed in 1.3. To keep the past behaviour, explicitly set `max_features='sqrt'` or remove this parameter as it is also the default value for RandomForestClassifiers and ExtraTreesClassifiers.\n",
            "  warn(\n"
          ]
        },
        {
          "output_type": "stream",
          "name": "stdout",
          "text": [
            "0.35908269457891756\n",
            "auto 6 entropy\n"
          ]
        },
        {
          "output_type": "stream",
          "name": "stderr",
          "text": [
            "C:\\Users\\student\\AppData\\Local\\Programs\\Python\\Python310\\lib\\site-packages\\sklearn\\ensemble\\_forest.py:427: FutureWarning: `max_features='auto'` has been deprecated in 1.1 and will be removed in 1.3. To keep the past behaviour, explicitly set `max_features='sqrt'` or remove this parameter as it is also the default value for RandomForestClassifiers and ExtraTreesClassifiers.\n",
            "  warn(\n"
          ]
        },
        {
          "output_type": "stream",
          "name": "stdout",
          "text": [
            "auto 7 gini\n"
          ]
        },
        {
          "output_type": "stream",
          "name": "stderr",
          "text": [
            "C:\\Users\\student\\AppData\\Local\\Programs\\Python\\Python310\\lib\\site-packages\\sklearn\\ensemble\\_forest.py:427: FutureWarning: `max_features='auto'` has been deprecated in 1.1 and will be removed in 1.3. To keep the past behaviour, explicitly set `max_features='sqrt'` or remove this parameter as it is also the default value for RandomForestClassifiers and ExtraTreesClassifiers.\n",
            "  warn(\n"
          ]
        },
        {
          "output_type": "stream",
          "name": "stdout",
          "text": [
            "auto 7 entropy\n"
          ]
        },
        {
          "output_type": "stream",
          "name": "stderr",
          "text": [
            "C:\\Users\\student\\AppData\\Local\\Programs\\Python\\Python310\\lib\\site-packages\\sklearn\\ensemble\\_forest.py:427: FutureWarning: `max_features='auto'` has been deprecated in 1.1 and will be removed in 1.3. To keep the past behaviour, explicitly set `max_features='sqrt'` or remove this parameter as it is also the default value for RandomForestClassifiers and ExtraTreesClassifiers.\n",
            "  warn(\n"
          ]
        },
        {
          "output_type": "stream",
          "name": "stdout",
          "text": [
            "auto 8 gini\n"
          ]
        },
        {
          "output_type": "stream",
          "name": "stderr",
          "text": [
            "C:\\Users\\student\\AppData\\Local\\Programs\\Python\\Python310\\lib\\site-packages\\sklearn\\ensemble\\_forest.py:427: FutureWarning: `max_features='auto'` has been deprecated in 1.1 and will be removed in 1.3. To keep the past behaviour, explicitly set `max_features='sqrt'` or remove this parameter as it is also the default value for RandomForestClassifiers and ExtraTreesClassifiers.\n",
            "  warn(\n"
          ]
        },
        {
          "output_type": "stream",
          "name": "stdout",
          "text": [
            "0.3619732528177046\n",
            "auto 8 entropy\n"
          ]
        },
        {
          "output_type": "stream",
          "name": "stderr",
          "text": [
            "C:\\Users\\student\\AppData\\Local\\Programs\\Python\\Python310\\lib\\site-packages\\sklearn\\ensemble\\_forest.py:427: FutureWarning: `max_features='auto'` has been deprecated in 1.1 and will be removed in 1.3. To keep the past behaviour, explicitly set `max_features='sqrt'` or remove this parameter as it is also the default value for RandomForestClassifiers and ExtraTreesClassifiers.\n",
            "  warn(\n"
          ]
        },
        {
          "output_type": "stream",
          "name": "stdout",
          "text": [
            "0.3643361480330789\n",
            "sqrt 4 gini\n",
            "sqrt 4 entropy\n",
            "sqrt 5 gini\n",
            "sqrt 5 entropy\n",
            "sqrt 6 gini\n",
            "sqrt 6 entropy\n",
            "sqrt 7 gini\n",
            "sqrt 7 entropy\n",
            "sqrt 8 gini\n",
            "sqrt 8 entropy\n",
            "0.37326738100742096\n",
            "log2 4 gini\n",
            "log2 4 entropy\n",
            "log2 5 gini\n",
            "log2 5 entropy\n",
            "log2 6 gini\n",
            "log2 6 entropy\n",
            "0.37467442092994946\n",
            "log2 7 gini\n",
            "log2 7 entropy\n",
            "log2 8 gini\n",
            "0.38255950853015674\n",
            "log2 8 entropy\n"
          ]
        }
      ]
    },
    {
      "cell_type": "code",
      "source": [
        "\n",
        "model=joblib.load('result/gen_rf.joblib')"
      ],
      "metadata": {
        "id": "c38aVTMHgypM"
      },
      "execution_count": null,
      "outputs": []
    },
    {
      "cell_type": "code",
      "source": [
        "\n",
        "from sklearn.metrics import confusion_matrix,classification_report\n",
        "pred_gen = model.predict(X_test_gen)\n",
        "print(classification_report(y_test_gen,pred_gen))"
      ],
      "metadata": {
        "id": "gniVnghog0Y2",
        "colab": {
          "base_uri": "https://localhost:8080/"
        },
        "outputId": "c8d9f638-cfe4-4d22-afce-ed31d7342636"
      },
      "execution_count": null,
      "outputs": [
        {
          "output_type": "stream",
          "name": "stdout",
          "text": [
            "              precision    recall  f1-score   support\n",
            "\n",
            "           0       0.85      0.92      0.88     11447\n",
            "           1       0.34      0.13      0.19      2200\n",
            "           2       0.05      0.15      0.08       168\n",
            "\n",
            "    accuracy                           0.79     13815\n",
            "   macro avg       0.41      0.40      0.38     13815\n",
            "weighted avg       0.76      0.79      0.76     13815\n",
            "\n"
          ]
        }
      ]
    },
    {
      "cell_type": "markdown",
      "source": [
        "XGBoost in gender bias"
      ],
      "metadata": {
        "id": "z0O5Sos_1UqG"
      }
    },
    {
      "cell_type": "code",
      "source": [
        "from xgboost import XGBClassifier"
      ],
      "metadata": {
        "id": "u7nTRcrn1UBb"
      },
      "execution_count": null,
      "outputs": []
    },
    {
      "cell_type": "code",
      "source": [
        "g=open(\"result/gen_xgb.txt\",'w')\n",
        "g.write(f\"XGBClassifier(min_child_weight={0},gamma={0},subsample={0})\")\n",
        "g.close()\n",
        "from sklearn.metrics import f1_score\n",
        "min_child_weight = [1, 5, 10]\n",
        "gamma =[0.5, 1, 1.5, 2, 5]\n",
        "subsample= [0.6, 0.8, 1.0]"
      ],
      "metadata": {
        "id": "pPZ0lnUM1e5Z"
      },
      "execution_count": null,
      "outputs": []
    },
    {
      "cell_type": "code",
      "source": [
        "from xgboost import XGBClassifier\n",
        "score=0\n",
        "for i in min_child_weight:\n",
        "  for j in gamma:\n",
        "    for k in subsample:\n",
        "      model=XGBClassifier(min_child_weight=i,gamma=j,subsample=k,class_weight=classweight)\n",
        "      model.fit(X_train_gen,y_train_gen)\n",
        "      pred_m=model.predict(X_test_gen)\n",
        "      f=f1_score(y_test_gen,pred_m,average='macro')\n",
        "      if(score<f):\n",
        "        score=f\n",
        "        g=open(\"result/gen_xbg.txt\",'w')\n",
        "        g.write(f\"XGBClassifier(min_child_weight={i},gamma={j},subsample={k})\")\n",
        "        g.close()"
      ],
      "metadata": {
        "id": "f0cstidt1evH"
      },
      "execution_count": null,
      "outputs": []
    },
    {
      "cell_type": "code",
      "source": [
        "model=XGBClassifier(min_child_weight=1,gamma=2,subsample=0.6,class_weight=classweight)\n",
        "model.fit(X_train_gen,y_train_gen)"
      ],
      "metadata": {
        "id": "gtuJFrtX1eqk"
      },
      "execution_count": null,
      "outputs": []
    },
    {
      "cell_type": "code",
      "source": [
        "from sklearn.metrics import confusion_matrix,classification_report\n",
        "pred_gen = model.predict(X_test_gen)\n",
        "print(classification_report(y_test_gen,pred_gen))"
      ],
      "metadata": {
        "id": "HR6H22hz1ekM"
      },
      "execution_count": null,
      "outputs": []
    },
    {
      "cell_type": "markdown",
      "source": [
        "ADABOOST in gender bias"
      ],
      "metadata": {
        "id": "6rlYlboVkqqU"
      }
    },
    {
      "cell_type": "code",
      "source": [
        "from sklearn.ensemble import AdaBoostClassifier"
      ],
      "metadata": {
        "id": "NfnoKB6u1ecu"
      },
      "execution_count": null,
      "outputs": []
    },
    {
      "cell_type": "code",
      "source": [
        "g=open(\"result/gen_adb.txt\",'w')\n",
        "g.write(f\"AdaBoost(n_estimators={0},learning_rate={0})\")\n",
        "g.close()\n",
        "from sklearn.metrics import f1_score"
      ],
      "metadata": {
        "id": "XaQE7kLdlA9g"
      },
      "execution_count": null,
      "outputs": []
    },
    {
      "cell_type": "code",
      "source": [
        "score=0.33968574816966357\n",
        "for i in [50,70,80,90,100,120]:\n",
        "  for j in np.arange(1e-02,1,1e-01):\n",
        "    print(i,j)\n",
        "    model=AdaBoostClassifier(n_estimators=i,learning_rate=j)\n",
        "    model.fit(X_train_gen,y_train_gen)\n",
        "    pred_m=model.predict(X_test_gen)\n",
        "    f=f1_score(y_test_gen,pred_m,average='macro')\n",
        "    if(score<f):\n",
        "      score=f\n",
        "      g=open(\"result/gen_adb.txt\",'w')\n",
        "      g.write(f\"AdaBoost(n_estimators={i},learning_rate={j})\")\n",
        "      g.close()\n",
        "      print(score)\n",
        "      joblib.dump(model,\"result/gen_adb.joblib\")"
      ],
      "metadata": {
        "id": "R24qhd_3k9wF",
        "colab": {
          "base_uri": "https://localhost:8080/"
        },
        "outputId": "a9fd592b-af4c-42c9-86cb-bbd7acb1197f"
      },
      "execution_count": null,
      "outputs": [
        {
          "output_type": "stream",
          "name": "stdout",
          "text": [
            "50 0.01\n",
            "50 0.11\n",
            "50 0.21000000000000002\n",
            "50 0.31000000000000005\n",
            "50 0.41000000000000003\n",
            "50 0.51\n",
            "50 0.6100000000000001\n",
            "50 0.7100000000000001\n",
            "50 0.81\n",
            "50 0.91\n",
            "70 0.01\n",
            "70 0.11\n",
            "70 0.21000000000000002\n",
            "70 0.31000000000000005\n",
            "70 0.41000000000000003\n",
            "70 0.51\n",
            "70 0.6100000000000001\n",
            "70 0.7100000000000001\n",
            "70 0.81\n",
            "0.3416628505810901\n",
            "70 0.91\n",
            "0.3472200701372518\n",
            "80 0.01\n",
            "80 0.11\n",
            "80 0.21000000000000002\n",
            "80 0.31000000000000005\n",
            "80 0.41000000000000003\n",
            "80 0.51\n",
            "80 0.6100000000000001\n",
            "80 0.7100000000000001\n",
            "80 0.81\n",
            "80 0.91\n",
            "0.35318949620430035\n",
            "90 0.01\n",
            "90 0.11\n",
            "90 0.21000000000000002\n",
            "90 0.31000000000000005\n",
            "90 0.41000000000000003\n",
            "90 0.51\n",
            "90 0.6100000000000001\n",
            "90 0.7100000000000001\n",
            "90 0.81\n",
            "0.35348001891499603\n",
            "90 0.91\n",
            "0.3542244409271968\n",
            "100 0.01\n",
            "100 0.11\n",
            "100 0.21000000000000002\n",
            "100 0.31000000000000005\n",
            "100 0.41000000000000003\n",
            "100 0.51\n",
            "100 0.6100000000000001\n",
            "100 0.7100000000000001\n",
            "100 0.81\n",
            "0.35742026234572083\n",
            "100 0.91\n",
            "0.3580826149344603\n",
            "120 0.01\n",
            "120 0.11\n",
            "120 0.21000000000000002\n",
            "120 0.31000000000000005\n",
            "120 0.41000000000000003\n",
            "120 0.51\n",
            "120 0.6100000000000001\n",
            "120 0.7100000000000001\n",
            "120 0.81\n",
            "0.363781746682649\n",
            "120 0.91\n",
            "0.37161986798816443\n"
          ]
        }
      ]
    },
    {
      "cell_type": "code",
      "source": [
        "model = joblib.load('result/gen_adb.joblib')"
      ],
      "metadata": {
        "id": "WCX_JV1Jly1H"
      },
      "execution_count": null,
      "outputs": []
    },
    {
      "cell_type": "code",
      "source": [
        "pred_gen = model.predict(X_test_gen)\n",
        "print(classification_report(y_test_gen,pred_gen))"
      ],
      "metadata": {
        "id": "_NWPdDRZl5P_",
        "colab": {
          "base_uri": "https://localhost:8080/"
        },
        "outputId": "84cb8f82-7e97-4499-afdd-83fc8ff75178"
      },
      "execution_count": null,
      "outputs": [
        {
          "output_type": "stream",
          "name": "stdout",
          "text": [
            "              precision    recall  f1-score   support\n",
            "\n",
            "           0       0.84      0.99      0.91     11447\n",
            "           1       0.71      0.10      0.17      2200\n",
            "           2       0.17      0.02      0.03       168\n",
            "\n",
            "    accuracy                           0.84     13815\n",
            "   macro avg       0.57      0.37      0.37     13815\n",
            "weighted avg       0.81      0.84      0.78     13815\n",
            "\n"
          ]
        }
      ]
    },
    {
      "cell_type": "markdown",
      "source": [
        "# **Caste/Class Bias**"
      ],
      "metadata": {
        "id": "k6x1S6bG5BGP"
      }
    },
    {
      "cell_type": "code",
      "source": [
        "df_train['Caste/Class Bias'].isnull().sum(),df_test['Caste/Class Bias'].isnull().sum()"
      ],
      "metadata": {
        "colab": {
          "base_uri": "https://localhost:8080/"
        },
        "id": "GpwBk8dR5Gj6",
        "outputId": "8f04cb4d-2fa2-4e44-89a9-7cea383937ba"
      },
      "execution_count": null,
      "outputs": [
        {
          "output_type": "execute_result",
          "data": {
            "text/plain": [
              "(2, 0)"
            ]
          },
          "metadata": {},
          "execution_count": 22
        }
      ]
    },
    {
      "cell_type": "code",
      "source": [
        "df_train['Caste/Class Bias'].unique(),df_test['Caste/Class Bias'].unique()"
      ],
      "metadata": {
        "colab": {
          "base_uri": "https://localhost:8080/"
        },
        "id": "JbV_CD2J5ej6",
        "outputId": "2d2233a8-9a25-4917-d973-3735155aff5f"
      },
      "execution_count": null,
      "outputs": [
        {
          "output_type": "execute_result",
          "data": {
            "text/plain": [
              "(array(['NCAS', 'CAS', 'CAST', nan], dtype=object),\n",
              " array(['CAS', 'NCAS', 'CAST'], dtype=object))"
            ]
          },
          "metadata": {},
          "execution_count": 23
        }
      ]
    },
    {
      "cell_type": "code",
      "source": [
        "df_train_cls= df_train[df_train['Caste/Class Bias'].isnull()==False]\n",
        "df_test_cls= df_test[df_test['Caste/Class Bias'].isnull()==False]\n",
        "df_train_cls "
      ],
      "metadata": {
        "id": "lwEBQu5g5q6T",
        "colab": {
          "base_uri": "https://localhost:8080/",
          "height": 424
        },
        "outputId": "1d91c520-e04e-4275-abcb-2dae699c940b"
      },
      "execution_count": null,
      "outputs": [
        {
          "output_type": "execute_result",
          "data": {
            "text/plain": [
              "                ID                                               Text  \\\n",
              "50552    C1082.115                  sundar. kono katha hobe na. great   \n",
              "73812      C635.49  कंगना रावत विन आवज के भौकने की आदत है मै रामअव...   \n",
              "1546       T.1.911                          coz where can fir on sham   \n",
              "31543    C98.102.5  e mang noi leibagini eina warise nashana nasha...   \n",
              "51313  C1086.244.1  @jyoti nayak name ladki hai boll ladki ka lga ...   \n",
              "...            ...                                                ...   \n",
              "5695      C576.578  sabse wo aurten un muloon ka jo paisa lekar gl...   \n",
              "73542      C632.36  यही तो प्रॉब्लम है अपना यह लोग का घर संभाल नही...   \n",
              "83281  C1092.200.1                                        tik bola6an   \n",
              "83467  C1092.280.3                                                  😂   \n",
              "45919  C1050.471.4                                       তুমি আগে হয়   \n",
              "\n",
              "      Aggression Aggression Intensity Discursive Role Gender Bias  \\\n",
              "50552        NAG                  NaN             NaN        NGEN   \n",
              "73812        OAG                 CuAG             NaN        NGEN   \n",
              "1546         NAG                  NaN             NaN        NGEN   \n",
              "31543        OAG                 CuAG             ATK        NGEN   \n",
              "51313        CAG                 NtAG             ATK         GEN   \n",
              "...          ...                  ...             ...         ...   \n",
              "5695         OAG                 NtAG             NaN        NGEN   \n",
              "73542        OAG                 NtAG             NaN        NGEN   \n",
              "83281        OAG                 NtAG             ATK         GEN   \n",
              "83467        OAG                 CuAG             NaN        NGEN   \n",
              "45919        NAG                  NaN             NaN        NGEN   \n",
              "\n",
              "      Communal Bias Caste/Class Bias Ethnicity/Racial Bias  \n",
              "50552          NCOM             NCAS                  NETH  \n",
              "73812          NCOM             NCAS                  NETH  \n",
              "1546           NCOM             NCAS                  NETH  \n",
              "31543          NCOM             NCAS                  NETH  \n",
              "51313          NCOM             NCAS                  NETH  \n",
              "...             ...              ...                   ...  \n",
              "5695           NCOM             NCAS                  NETH  \n",
              "73542          NCOM             NCAS                  NETH  \n",
              "83281          NCOM             NCAS                  NETH  \n",
              "83467          NCOM             NCAS                  NETH  \n",
              "45919          NCOM             NCAS                  NETH  \n",
              "\n",
              "[78279 rows x 9 columns]"
            ],
            "text/html": [
              "<div>\n",
              "<style scoped>\n",
              "    .dataframe tbody tr th:only-of-type {\n",
              "        vertical-align: middle;\n",
              "    }\n",
              "\n",
              "    .dataframe tbody tr th {\n",
              "        vertical-align: top;\n",
              "    }\n",
              "\n",
              "    .dataframe thead th {\n",
              "        text-align: right;\n",
              "    }\n",
              "</style>\n",
              "<table border=\"1\" class=\"dataframe\">\n",
              "  <thead>\n",
              "    <tr style=\"text-align: right;\">\n",
              "      <th></th>\n",
              "      <th>ID</th>\n",
              "      <th>Text</th>\n",
              "      <th>Aggression</th>\n",
              "      <th>Aggression Intensity</th>\n",
              "      <th>Discursive Role</th>\n",
              "      <th>Gender Bias</th>\n",
              "      <th>Communal Bias</th>\n",
              "      <th>Caste/Class Bias</th>\n",
              "      <th>Ethnicity/Racial Bias</th>\n",
              "    </tr>\n",
              "  </thead>\n",
              "  <tbody>\n",
              "    <tr>\n",
              "      <th>50552</th>\n",
              "      <td>C1082.115</td>\n",
              "      <td>sundar. kono katha hobe na. great</td>\n",
              "      <td>NAG</td>\n",
              "      <td>NaN</td>\n",
              "      <td>NaN</td>\n",
              "      <td>NGEN</td>\n",
              "      <td>NCOM</td>\n",
              "      <td>NCAS</td>\n",
              "      <td>NETH</td>\n",
              "    </tr>\n",
              "    <tr>\n",
              "      <th>73812</th>\n",
              "      <td>C635.49</td>\n",
              "      <td>कंगना रावत विन आवज के भौकने की आदत है मै रामअव...</td>\n",
              "      <td>OAG</td>\n",
              "      <td>CuAG</td>\n",
              "      <td>NaN</td>\n",
              "      <td>NGEN</td>\n",
              "      <td>NCOM</td>\n",
              "      <td>NCAS</td>\n",
              "      <td>NETH</td>\n",
              "    </tr>\n",
              "    <tr>\n",
              "      <th>1546</th>\n",
              "      <td>T.1.911</td>\n",
              "      <td>coz where can fir on sham</td>\n",
              "      <td>NAG</td>\n",
              "      <td>NaN</td>\n",
              "      <td>NaN</td>\n",
              "      <td>NGEN</td>\n",
              "      <td>NCOM</td>\n",
              "      <td>NCAS</td>\n",
              "      <td>NETH</td>\n",
              "    </tr>\n",
              "    <tr>\n",
              "      <th>31543</th>\n",
              "      <td>C98.102.5</td>\n",
              "      <td>e mang noi leibagini eina warise nashana nasha...</td>\n",
              "      <td>OAG</td>\n",
              "      <td>CuAG</td>\n",
              "      <td>ATK</td>\n",
              "      <td>NGEN</td>\n",
              "      <td>NCOM</td>\n",
              "      <td>NCAS</td>\n",
              "      <td>NETH</td>\n",
              "    </tr>\n",
              "    <tr>\n",
              "      <th>51313</th>\n",
              "      <td>C1086.244.1</td>\n",
              "      <td>@jyoti nayak name ladki hai boll ladki ka lga ...</td>\n",
              "      <td>CAG</td>\n",
              "      <td>NtAG</td>\n",
              "      <td>ATK</td>\n",
              "      <td>GEN</td>\n",
              "      <td>NCOM</td>\n",
              "      <td>NCAS</td>\n",
              "      <td>NETH</td>\n",
              "    </tr>\n",
              "    <tr>\n",
              "      <th>...</th>\n",
              "      <td>...</td>\n",
              "      <td>...</td>\n",
              "      <td>...</td>\n",
              "      <td>...</td>\n",
              "      <td>...</td>\n",
              "      <td>...</td>\n",
              "      <td>...</td>\n",
              "      <td>...</td>\n",
              "      <td>...</td>\n",
              "    </tr>\n",
              "    <tr>\n",
              "      <th>5695</th>\n",
              "      <td>C576.578</td>\n",
              "      <td>sabse wo aurten un muloon ka jo paisa lekar gl...</td>\n",
              "      <td>OAG</td>\n",
              "      <td>NtAG</td>\n",
              "      <td>NaN</td>\n",
              "      <td>NGEN</td>\n",
              "      <td>NCOM</td>\n",
              "      <td>NCAS</td>\n",
              "      <td>NETH</td>\n",
              "    </tr>\n",
              "    <tr>\n",
              "      <th>73542</th>\n",
              "      <td>C632.36</td>\n",
              "      <td>यही तो प्रॉब्लम है अपना यह लोग का घर संभाल नही...</td>\n",
              "      <td>OAG</td>\n",
              "      <td>NtAG</td>\n",
              "      <td>NaN</td>\n",
              "      <td>NGEN</td>\n",
              "      <td>NCOM</td>\n",
              "      <td>NCAS</td>\n",
              "      <td>NETH</td>\n",
              "    </tr>\n",
              "    <tr>\n",
              "      <th>83281</th>\n",
              "      <td>C1092.200.1</td>\n",
              "      <td>tik bola6an</td>\n",
              "      <td>OAG</td>\n",
              "      <td>NtAG</td>\n",
              "      <td>ATK</td>\n",
              "      <td>GEN</td>\n",
              "      <td>NCOM</td>\n",
              "      <td>NCAS</td>\n",
              "      <td>NETH</td>\n",
              "    </tr>\n",
              "    <tr>\n",
              "      <th>83467</th>\n",
              "      <td>C1092.280.3</td>\n",
              "      <td>😂</td>\n",
              "      <td>OAG</td>\n",
              "      <td>CuAG</td>\n",
              "      <td>NaN</td>\n",
              "      <td>NGEN</td>\n",
              "      <td>NCOM</td>\n",
              "      <td>NCAS</td>\n",
              "      <td>NETH</td>\n",
              "    </tr>\n",
              "    <tr>\n",
              "      <th>45919</th>\n",
              "      <td>C1050.471.4</td>\n",
              "      <td>তুমি আগে হয়</td>\n",
              "      <td>NAG</td>\n",
              "      <td>NaN</td>\n",
              "      <td>NaN</td>\n",
              "      <td>NGEN</td>\n",
              "      <td>NCOM</td>\n",
              "      <td>NCAS</td>\n",
              "      <td>NETH</td>\n",
              "    </tr>\n",
              "  </tbody>\n",
              "</table>\n",
              "<p>78279 rows × 9 columns</p>\n",
              "</div>"
            ]
          },
          "metadata": {},
          "execution_count": 24
        }
      ]
    },
    {
      "cell_type": "code",
      "source": [
        "#changing arguments to number\n",
        "d = {\"NCAS\":0, \"CAS\":1, \"CAST\":2}\n",
        "df_train_cls['Caste/Class Bias'] = df_train_cls['Caste/Class Bias'].map(d)\n",
        "df_test_cls['Caste/Class Bias'] = df_test_cls['Caste/Class Bias'].map(d)"
      ],
      "metadata": {
        "id": "xMh3INxN5x3L",
        "colab": {
          "base_uri": "https://localhost:8080/"
        },
        "outputId": "fb1623c5-2915-49ef-8641-9f0e40606532"
      },
      "execution_count": null,
      "outputs": [
        {
          "output_type": "stream",
          "name": "stderr",
          "text": [
            "C:\\Users\\student\\AppData\\Local\\Temp\\ipykernel_12600\\1451772147.py:3: SettingWithCopyWarning: \n",
            "A value is trying to be set on a copy of a slice from a DataFrame.\n",
            "Try using .loc[row_indexer,col_indexer] = value instead\n",
            "\n",
            "See the caveats in the documentation: https://pandas.pydata.org/pandas-docs/stable/user_guide/indexing.html#returning-a-view-versus-a-copy\n",
            "  df_train_cls['Caste/Class Bias'] = df_train_cls['Caste/Class Bias'].map(d)\n"
          ]
        }
      ]
    },
    {
      "cell_type": "code",
      "source": [
        "df_train_cls['Caste/Class Bias'].unique(),df_test_cls['Caste/Class Bias'].unique()"
      ],
      "metadata": {
        "id": "7_mD-C8Z55Yk",
        "colab": {
          "base_uri": "https://localhost:8080/"
        },
        "outputId": "14990ceb-d053-4783-8553-d82a2caff6fd"
      },
      "execution_count": null,
      "outputs": [
        {
          "output_type": "execute_result",
          "data": {
            "text/plain": [
              "(array([0, 1, 2], dtype=int64), array([1, 0, 2], dtype=int64))"
            ]
          },
          "metadata": {},
          "execution_count": 26
        }
      ]
    },
    {
      "cell_type": "code",
      "source": [
        "#vectorizing the dataset\n",
        "from sklearn.feature_extraction.text import TfidfVectorizer"
      ],
      "metadata": {
        "id": "hjnS6v4P6Baj"
      },
      "execution_count": null,
      "outputs": []
    },
    {
      "cell_type": "code",
      "source": [
        "vector_cls = TfidfVectorizer()\n",
        "v1_cls = vector_cls.fit_transform(df_train_cls['Text'])\n",
        "v2_cls = vector_cls.transform(df_test_cls['Text'])"
      ],
      "metadata": {
        "id": "VCGPGV-t6Iwd"
      },
      "execution_count": null,
      "outputs": []
    },
    {
      "cell_type": "code",
      "source": [
        "import joblib\n",
        "joblib.dump(vector_cls,'result\\CasteClassBias_vectorization.joblib')"
      ],
      "metadata": {
        "colab": {
          "base_uri": "https://localhost:8080/"
        },
        "id": "_inZ2NPl6SlK",
        "outputId": "d1591cc6-f2a2-45fe-813a-41b616c508c9"
      },
      "execution_count": null,
      "outputs": [
        {
          "output_type": "execute_result",
          "data": {
            "text/plain": [
              "['result\\\\CasteClassBias_vectorization.joblib']"
            ]
          },
          "metadata": {},
          "execution_count": 35
        }
      ]
    },
    {
      "cell_type": "code",
      "source": [
        "# import joblib\n",
        "# vector_cls=joblib.load('result\\CasteClassBias_vectorization.joblib')\n",
        "# v1_cls = vector_cls.transform(df_train_cls['Text'])\n",
        "# v2_cls = vector_cls.transform(df_test['Text'])"
      ],
      "metadata": {
        "id": "fh8YjtVZH4oA"
      },
      "execution_count": null,
      "outputs": []
    },
    {
      "cell_type": "code",
      "source": [
        "X_train_cls=v1_cls\n",
        "y_train_cls=df_train_cls['Caste/Class Bias']\n",
        "X_test_cls=v2_cls\n",
        "y_test_cls=df_test_cls['Caste/Class Bias']"
      ],
      "metadata": {
        "id": "K7HqiDkf6bUD"
      },
      "execution_count": null,
      "outputs": []
    },
    {
      "cell_type": "code",
      "source": [
        "#applying class weight\n",
        "from sklearn.utils import compute_class_weight\n",
        "classweight = dict(zip([0,1,2],compute_class_weight(class_weight = 'balanced',y=df_train_cls['Caste/Class Bias'].values,classes=[0,1,2])))\n",
        "classweight"
      ],
      "metadata": {
        "colab": {
          "base_uri": "https://localhost:8080/"
        },
        "id": "hjAFLzdd6i87",
        "outputId": "6c99a2ef-1414-4c96-b2c3-1627e895f1b6"
      },
      "execution_count": null,
      "outputs": [
        {
          "output_type": "execute_result",
          "data": {
            "text/plain": [
              "{0: 0.3380666727129031, 1: 24.47748592870544, 2: 869.7666666666667}"
            ]
          },
          "metadata": {},
          "execution_count": 30
        }
      ]
    },
    {
      "cell_type": "markdown",
      "source": [
        "Logistic in class bias"
      ],
      "metadata": {
        "id": "8ULEPicGX5xa"
      }
    },
    {
      "cell_type": "code",
      "source": [
        "from sklearn.linear_model import LogisticRegression"
      ],
      "metadata": {
        "id": "_fZOukzh61Dz"
      },
      "execution_count": null,
      "outputs": []
    },
    {
      "cell_type": "code",
      "source": [
        "f = open(\"result/lg_cls.txt\",'w')\n",
        "f.write(f\"LogisticRegression(C = {0},tol = {0},penalty ={0})\")\n",
        "f.close()\n",
        "from sklearn.metrics import f1_score\n",
        "C = [1,5,25,50,100,200]\n",
        "penalty = [\"l2\" , 'l1' ]\n",
        "solver = ['newton-cg', 'lbfgs', 'sag']\n",
        "# l1_ratio = [0.0,0.3,0.5,0.8,1.0]"
      ],
      "metadata": {
        "id": "CIXdXi7N68hi"
      },
      "execution_count": null,
      "outputs": []
    },
    {
      "cell_type": "code",
      "source": [
        "score = 0\n",
        "for i in C:\n",
        "  for k in penalty:\n",
        "    for l in solver :\n",
        "      print(i,k,l)\n",
        "      try:\n",
        "        model = LogisticRegression(C = i,penalty =k  , solver = l , random_state = 42,class_weight=classweight)\n",
        "        model.fit(X_train_cls,y_train_cls)\n",
        "      except :\n",
        "        continue\n",
        "      pred_m = model.predict(X_test_cls)\n",
        "      f = f1_score(y_test_cls,pred_m,average = 'macro')\n",
        "      if(score<f):\n",
        "          score = f\n",
        "          f = open(\"result/lg_cls.txt\",'w')\n",
        "          f.write(f\"LogisticRegression(C = {i},penalty = {k},solver={l}) score={score}\")\n",
        "          f.close()\n",
        "          joblib.dump(model,'result/cls_lg.joblib')\n",
        "          print(score)\n"
      ],
      "metadata": {
        "id": "oer8ODszt96x"
      },
      "execution_count": null,
      "outputs": []
    },
    {
      "cell_type": "code",
      "source": [
        "# model = LogisticRegression(C = 200,penalty = 'l2',solver='newton-cg', random_state = 42,class_weight=classweight)\n",
        "# model.fit(X_train_cls,y_train_cls)"
      ],
      "metadata": {
        "id": "_2aTME9SJvIy",
        "colab": {
          "base_uri": "https://localhost:8080/",
          "height": 127
        },
        "outputId": "37c8ad12-5d30-48c7-81a3-1a1fe86fb123"
      },
      "execution_count": null,
      "outputs": [
        {
          "output_type": "execute_result",
          "data": {
            "text/plain": [
              "LogisticRegression(C=200,\n",
              "                   class_weight={0: 0.3418197506911189, 1: 13.584040631284726,\n",
              "                                 2: 1155.1159420289855},\n",
              "                   random_state=42, solver='newton-cg')"
            ],
            "text/html": [
              "<style>#sk-container-id-3 {color: black;background-color: white;}#sk-container-id-3 pre{padding: 0;}#sk-container-id-3 div.sk-toggleable {background-color: white;}#sk-container-id-3 label.sk-toggleable__label {cursor: pointer;display: block;width: 100%;margin-bottom: 0;padding: 0.3em;box-sizing: border-box;text-align: center;}#sk-container-id-3 label.sk-toggleable__label-arrow:before {content: \"▸\";float: left;margin-right: 0.25em;color: #696969;}#sk-container-id-3 label.sk-toggleable__label-arrow:hover:before {color: black;}#sk-container-id-3 div.sk-estimator:hover label.sk-toggleable__label-arrow:before {color: black;}#sk-container-id-3 div.sk-toggleable__content {max-height: 0;max-width: 0;overflow: hidden;text-align: left;background-color: #f0f8ff;}#sk-container-id-3 div.sk-toggleable__content pre {margin: 0.2em;color: black;border-radius: 0.25em;background-color: #f0f8ff;}#sk-container-id-3 input.sk-toggleable__control:checked~div.sk-toggleable__content {max-height: 200px;max-width: 100%;overflow: auto;}#sk-container-id-3 input.sk-toggleable__control:checked~label.sk-toggleable__label-arrow:before {content: \"▾\";}#sk-container-id-3 div.sk-estimator input.sk-toggleable__control:checked~label.sk-toggleable__label {background-color: #d4ebff;}#sk-container-id-3 div.sk-label input.sk-toggleable__control:checked~label.sk-toggleable__label {background-color: #d4ebff;}#sk-container-id-3 input.sk-hidden--visually {border: 0;clip: rect(1px 1px 1px 1px);clip: rect(1px, 1px, 1px, 1px);height: 1px;margin: -1px;overflow: hidden;padding: 0;position: absolute;width: 1px;}#sk-container-id-3 div.sk-estimator {font-family: monospace;background-color: #f0f8ff;border: 1px dotted black;border-radius: 0.25em;box-sizing: border-box;margin-bottom: 0.5em;}#sk-container-id-3 div.sk-estimator:hover {background-color: #d4ebff;}#sk-container-id-3 div.sk-parallel-item::after {content: \"\";width: 100%;border-bottom: 1px solid gray;flex-grow: 1;}#sk-container-id-3 div.sk-label:hover label.sk-toggleable__label {background-color: #d4ebff;}#sk-container-id-3 div.sk-serial::before {content: \"\";position: absolute;border-left: 1px solid gray;box-sizing: border-box;top: 0;bottom: 0;left: 50%;z-index: 0;}#sk-container-id-3 div.sk-serial {display: flex;flex-direction: column;align-items: center;background-color: white;padding-right: 0.2em;padding-left: 0.2em;position: relative;}#sk-container-id-3 div.sk-item {position: relative;z-index: 1;}#sk-container-id-3 div.sk-parallel {display: flex;align-items: stretch;justify-content: center;background-color: white;position: relative;}#sk-container-id-3 div.sk-item::before, #sk-container-id-3 div.sk-parallel-item::before {content: \"\";position: absolute;border-left: 1px solid gray;box-sizing: border-box;top: 0;bottom: 0;left: 50%;z-index: -1;}#sk-container-id-3 div.sk-parallel-item {display: flex;flex-direction: column;z-index: 1;position: relative;background-color: white;}#sk-container-id-3 div.sk-parallel-item:first-child::after {align-self: flex-end;width: 50%;}#sk-container-id-3 div.sk-parallel-item:last-child::after {align-self: flex-start;width: 50%;}#sk-container-id-3 div.sk-parallel-item:only-child::after {width: 0;}#sk-container-id-3 div.sk-dashed-wrapped {border: 1px dashed gray;margin: 0 0.4em 0.5em 0.4em;box-sizing: border-box;padding-bottom: 0.4em;background-color: white;}#sk-container-id-3 div.sk-label label {font-family: monospace;font-weight: bold;display: inline-block;line-height: 1.2em;}#sk-container-id-3 div.sk-label-container {text-align: center;}#sk-container-id-3 div.sk-container {/* jupyter's `normalize.less` sets `[hidden] { display: none; }` but bootstrap.min.css set `[hidden] { display: none !important; }` so we also need the `!important` here to be able to override the default hidden behavior on the sphinx rendered scikit-learn.org. See: https://github.com/scikit-learn/scikit-learn/issues/21755 */display: inline-block !important;position: relative;}#sk-container-id-3 div.sk-text-repr-fallback {display: none;}</style><div id=\"sk-container-id-3\" class=\"sk-top-container\"><div class=\"sk-text-repr-fallback\"><pre>LogisticRegression(C=200,\n",
              "                   class_weight={0: 0.3418197506911189, 1: 13.584040631284726,\n",
              "                                 2: 1155.1159420289855},\n",
              "                   random_state=42, solver=&#x27;newton-cg&#x27;)</pre><b>In a Jupyter environment, please rerun this cell to show the HTML representation or trust the notebook. <br />On GitHub, the HTML representation is unable to render, please try loading this page with nbviewer.org.</b></div><div class=\"sk-container\" hidden><div class=\"sk-item\"><div class=\"sk-estimator sk-toggleable\"><input class=\"sk-toggleable__control sk-hidden--visually\" id=\"sk-estimator-id-3\" type=\"checkbox\" checked><label for=\"sk-estimator-id-3\" class=\"sk-toggleable__label sk-toggleable__label-arrow\">LogisticRegression</label><div class=\"sk-toggleable__content\"><pre>LogisticRegression(C=200,\n",
              "                   class_weight={0: 0.3418197506911189, 1: 13.584040631284726,\n",
              "                                 2: 1155.1159420289855},\n",
              "                   random_state=42, solver=&#x27;newton-cg&#x27;)</pre></div></div></div></div></div>"
            ]
          },
          "metadata": {},
          "execution_count": 42
        }
      ]
    },
    {
      "cell_type": "code",
      "source": [
        "model=joblib.load('result/cls_lg.joblib')"
      ],
      "metadata": {
        "id": "U05WxpEwJxA6"
      },
      "execution_count": null,
      "outputs": []
    },
    {
      "cell_type": "code",
      "source": [
        "from sklearn.metrics import confusion_matrix,classification_report\n",
        "pred_cls = model.predict(X_test_cls)\n",
        "print(classification_report(y_test_cls,pred_cls))"
      ],
      "metadata": {
        "id": "_f5LUmkd7UeL",
        "colab": {
          "base_uri": "https://localhost:8080/"
        },
        "outputId": "bf722101-c280-4271-cda1-7f5d5893acaa"
      },
      "execution_count": null,
      "outputs": [
        {
          "output_type": "stream",
          "name": "stdout",
          "text": [
            "              precision    recall  f1-score   support\n",
            "\n",
            "           0       0.99      0.98      0.99     13618\n",
            "           1       0.24      0.48      0.32       191\n",
            "           2       0.00      0.00      0.00         6\n",
            "\n",
            "    accuracy                           0.97     13815\n",
            "   macro avg       0.41      0.48      0.44     13815\n",
            "weighted avg       0.98      0.97      0.98     13815\n",
            "\n"
          ]
        }
      ]
    },
    {
      "cell_type": "markdown",
      "source": [
        "SVM Caste/class bias"
      ],
      "metadata": {
        "id": "Et74Qh3nPHcF"
      }
    },
    {
      "cell_type": "code",
      "source": [
        "from sklearn.svm import SVC"
      ],
      "metadata": {
        "id": "I63m4ZGnPGxY"
      },
      "execution_count": null,
      "outputs": []
    },
    {
      "cell_type": "code",
      "source": [
        "mx = 0\n",
        "for kernel in ['linear', 'poly', 'rbf']:\n",
        "    for C in [1,5,10,25,50,100,200]:\n",
        "        if(kernel=='poly'):\n",
        "          if(C!=200):\n",
        "            for degree in [1,2,3,4]:\n",
        "                model = SVC(C = C,kernel=kernel,class_weight=classweight,degree=degree)\n",
        "                model.fit(X_train_cls,y_train_cls)\n",
        "                pred = model.predict(X_test_cls)\n",
        "                f = f1_score(y_test_cls,pred,average='macro')\n",
        "                if(mx<f):\n",
        "                    mx = max(mx,f)\n",
        "                    s = open('result/sv_cls.txt' , 'w')\n",
        "                    s.write(f\"SVC(C= {C}, degree = {degree} , kernel = {kernel}) score={mx}\")\n",
        "                    s.close()\n",
        "                    print(mx)\n",
        "                print(f,f\"C = {C} , kernel = {kernel} , degree = {degree}\")\n",
        "        else:\n",
        "            model = SVC(C = C,kernel=kernel,class_weight=classweight)\n",
        "            model.fit(X_train_cls,y_train_cls)\n",
        "            pred = model.predict(X_test_cls)\n",
        "            f = f1_score(y_test_cls,pred,average='macro')\n",
        "            if(mx<f):\n",
        "                mx = max(mx,f)\n",
        "                s = open('result/sv_cls.txt' , 'w')\n",
        "                s.write(f\"SVC(C= {C}, kernal = {kernel})  score={mx}\")\n",
        "                s.close()\n",
        "                print(mx)\n",
        "            print(f,f\"C = {C} , kernel = {kernel}\")"
      ],
      "metadata": {
        "id": "K6JggGtQPF6S",
        "colab": {
          "base_uri": "https://localhost:8080/"
        },
        "outputId": "c274979a-1b3a-4b06-e4f4-0c0829ed0456"
      },
      "execution_count": null,
      "outputs": [
        {
          "output_type": "stream",
          "name": "stdout",
          "text": [
            "0.4258404554679544\n",
            "0.4258404554679544 C = 1 , kernel = linear\n",
            "0.41895062476662454 C = 5 , kernel = linear\n",
            "0.42029344252270734 C = 10 , kernel = linear\n",
            "0.42030515028191257 C = 25 , kernel = linear\n",
            "0.4219092776358029 C = 50 , kernel = linear\n",
            "0.41733990245858044 C = 100 , kernel = linear\n",
            "0.4177287524230608 C = 200 , kernel = linear\n",
            "0.4256679681742152 C = 1 , kernel = poly , degree = 1\n",
            "0.4258976304413998\n",
            "0.4258976304413998 C = 1 , kernel = poly , degree = 2\n",
            "0.41841132668130426 C = 1 , kernel = poly , degree = 3\n",
            "0.4168578458374647 C = 1 , kernel = poly , degree = 4\n",
            "0.4193230217281181 C = 5 , kernel = poly , degree = 1\n",
            "0.42474889564845525 C = 5 , kernel = poly , degree = 2\n",
            "0.41710313545351907 C = 5 , kernel = poly , degree = 3\n",
            "0.41553788284577076 C = 5 , kernel = poly , degree = 4\n",
            "0.42088175317691867 C = 10 , kernel = poly , degree = 1\n",
            "0.4232519106476713 C = 10 , kernel = poly , degree = 2\n",
            "0.41734967304786846 C = 10 , kernel = poly , degree = 3\n",
            "0.41578087479202547 C = 10 , kernel = poly , degree = 4\n",
            "0.4207016102467705 C = 25 , kernel = poly , degree = 1\n",
            "0.42376494789976743 C = 25 , kernel = poly , degree = 2\n",
            "0.41734967304786846 C = 25 , kernel = poly , degree = 3\n",
            "0.41578087479202547 C = 25 , kernel = poly , degree = 4\n",
            "0.4217060674316698 C = 50 , kernel = poly , degree = 1\n",
            "0.42376494789976743 C = 50 , kernel = poly , degree = 2\n",
            "0.41734967304786846 C = 50 , kernel = poly , degree = 3\n",
            "0.41578087479202547 C = 50 , kernel = poly , degree = 4\n",
            "0.4171465901598875 C = 100 , kernel = poly , degree = 1\n",
            "0.42376494789976743 C = 100 , kernel = poly , degree = 2\n",
            "0.41734967304786846 C = 100 , kernel = poly , degree = 3\n",
            "0.41578087479202547 C = 100 , kernel = poly , degree = 4\n",
            "0.43591592105638544\n",
            "0.43591592105638544 C = 1 , kernel = rbf\n",
            "0.4297324989488551 C = 5 , kernel = rbf\n",
            "0.43000371818446004 C = 10 , kernel = rbf\n",
            "0.43027628115611655 C = 25 , kernel = rbf\n",
            "0.43027628115611655 C = 50 , kernel = rbf\n",
            "0.43027628115611655 C = 100 , kernel = rbf\n",
            "0.43027628115611655 C = 200 , kernel = rbf\n"
          ]
        }
      ]
    },
    {
      "cell_type": "code",
      "source": [
        "model = SVC(C = ,kernel=,class_weight=classweight,degree=)\n",
        "model.fit(X_train_cls,y_train_cls)"
      ],
      "metadata": {
        "id": "3WdHaZq_Pq13"
      },
      "execution_count": null,
      "outputs": []
    },
    {
      "cell_type": "code",
      "source": [
        "joblib.dump(model,'result/cls_sv.joblib')"
      ],
      "metadata": {
        "id": "gDiYMA3PPquo"
      },
      "execution_count": null,
      "outputs": []
    },
    {
      "cell_type": "code",
      "source": [
        "\n",
        "pred_agn = model.predict(X_test_cls)\n",
        "print(classification_report(y_test_cls,pred_cls))"
      ],
      "metadata": {
        "id": "0oXEn82aPqhL"
      },
      "execution_count": null,
      "outputs": []
    },
    {
      "cell_type": "markdown",
      "source": [
        "MNB in Caste/Class Bias"
      ],
      "metadata": {
        "id": "f3RJ-G2uamIG"
      }
    },
    {
      "cell_type": "code",
      "source": [
        "f = open(\"result/cls_mnb.txt\",'w')\n",
        "f.write(f\"MultinomialNB(alpha = {0})\")\n",
        "f.close()"
      ],
      "metadata": {
        "id": "lA_lkWsQapoQ"
      },
      "execution_count": null,
      "outputs": []
    },
    {
      "cell_type": "code",
      "source": [
        "from sklearn.naive_bayes import MultinomialNB\n",
        "from sklearn.metrics import f1_score\n",
        "score =0\n",
        "for i in np.arange(1e-05,1e-01,1e-04):\n",
        "  model = MultinomialNB(alpha=i)\n",
        "  model.fit(X_train_cls,y_train_cls)\n",
        "  pred = model.predict(X_test_cls)\n",
        "  f = f1_score(y_test_cls,pred,average='macro')\n",
        "  if(score<f):\n",
        "    score = f\n",
        "    f = open(\"result/cls_mnb.txt\",'w')\n",
        "    f.write(f\"MultinomialNB(alpha = {i}) score={score}\")\n",
        "    f.close()\n",
        "    joblib.dump(model,\"result/cls_mnb.joblib\")\n",
        "    print(score)"
      ],
      "metadata": {
        "id": "LxneNDAearQp"
      },
      "execution_count": null,
      "outputs": []
    },
    {
      "cell_type": "code",
      "source": [
        "model=joblib.load('result/cls_mnb.joblib')"
      ],
      "metadata": {
        "id": "MQ5xQu1Zaqce"
      },
      "execution_count": null,
      "outputs": []
    },
    {
      "cell_type": "code",
      "source": [
        "from sklearn.metrics import confusion_matrix,classification_report\n",
        "\n",
        "pred_cls = model.predict(X_test_cls)\n",
        "print(classification_report(y_test_cls,pred_cls))"
      ],
      "metadata": {
        "id": "XMbrMdcCbHZ_",
        "colab": {
          "base_uri": "https://localhost:8080/"
        },
        "outputId": "a9e3935f-a4e0-40a4-c1ef-37321b83b31c"
      },
      "execution_count": null,
      "outputs": [
        {
          "output_type": "stream",
          "name": "stdout",
          "text": [
            "              precision    recall  f1-score   support\n",
            "\n",
            "           0       0.99      0.99      0.99     13618\n",
            "           1       0.39      0.37      0.38       191\n",
            "           2       0.00      0.00      0.00         6\n",
            "\n",
            "    accuracy                           0.98     13815\n",
            "   macro avg       0.46      0.45      0.46     13815\n",
            "weighted avg       0.98      0.98      0.98     13815\n",
            "\n"
          ]
        },
        {
          "output_type": "stream",
          "name": "stderr",
          "text": [
            "C:\\Users\\student\\AppData\\Local\\Programs\\Python\\Python310\\lib\\site-packages\\sklearn\\metrics\\_classification.py:1327: UndefinedMetricWarning: Precision and F-score are ill-defined and being set to 0.0 in labels with no predicted samples. Use `zero_division` parameter to control this behavior.\n",
            "  _warn_prf(average, modifier, msg_start, len(result))\n",
            "C:\\Users\\student\\AppData\\Local\\Programs\\Python\\Python310\\lib\\site-packages\\sklearn\\metrics\\_classification.py:1327: UndefinedMetricWarning: Precision and F-score are ill-defined and being set to 0.0 in labels with no predicted samples. Use `zero_division` parameter to control this behavior.\n",
            "  _warn_prf(average, modifier, msg_start, len(result))\n",
            "C:\\Users\\student\\AppData\\Local\\Programs\\Python\\Python310\\lib\\site-packages\\sklearn\\metrics\\_classification.py:1327: UndefinedMetricWarning: Precision and F-score are ill-defined and being set to 0.0 in labels with no predicted samples. Use `zero_division` parameter to control this behavior.\n",
            "  _warn_prf(average, modifier, msg_start, len(result))\n"
          ]
        }
      ]
    },
    {
      "cell_type": "markdown",
      "source": [
        "random forest in caste class"
      ],
      "metadata": {
        "id": "Sgf-9Y3h2RH9"
      }
    },
    {
      "cell_type": "code",
      "source": [
        "from sklearn.ensemble import RandomForestClassifier "
      ],
      "metadata": {
        "id": "JEoV2rOz7N3E"
      },
      "execution_count": null,
      "outputs": []
    },
    {
      "cell_type": "code",
      "source": [
        "f = open(\"result/cls_rf.txt\",'w')\n",
        "f.write(f\"RandomForestClassifier(max_features={0},max_depth={0},criterion={0})\")\n",
        "f.close()"
      ],
      "metadata": {
        "id": "IjgECJOs7Nv8"
      },
      "execution_count": null,
      "outputs": []
    },
    {
      "cell_type": "code",
      "source": [
        "from sklearn.metrics import f1_score\n",
        "max_features = ['auto', 'sqrt', 'log2']\n",
        "max_depth = [4,5,6,7,8]\n",
        "criterion =['gini', 'entropy'] "
      ],
      "metadata": {
        "id": "OJGpLoaj7VVq"
      },
      "execution_count": null,
      "outputs": []
    },
    {
      "cell_type": "code",
      "source": [
        "score=0\n",
        "for i in max_features:\n",
        "  for j in max_depth:\n",
        "    for k in criterion:\n",
        "      print(i,j,k)\n",
        "      model=RandomForestClassifier(max_features=i,max_depth=j,criterion=k,class_weight=classweight)\n",
        "      model.fit(X_train_cls,y_train_cls)\n",
        "      pred=model.predict(X_test_cls)\n",
        "      f=f1_score(y_test_cls,pred,average='macro')\n",
        "      if(score<f):\n",
        "        score=f\n",
        "        f=open(\"result/cls_rf.txt\",'w')\n",
        "        f.write(f\"RandomForestClassifier(C={i},tol={j},penalty={k}) score={score}\")\n",
        "        joblib.dump(model,\"result/cls_rf.joblib\")\n",
        "        print(score)\n",
        "        f.close()"
      ],
      "metadata": {
        "id": "LPy3a3MD7Opd",
        "colab": {
          "base_uri": "https://localhost:8080/"
        },
        "outputId": "b9d05ce7-cc8d-4e65-91c7-b08c2160ae7a"
      },
      "execution_count": null,
      "outputs": [
        {
          "output_type": "stream",
          "name": "stdout",
          "text": [
            "auto 4 gini\n"
          ]
        },
        {
          "output_type": "stream",
          "name": "stderr",
          "text": [
            "C:\\Users\\student\\AppData\\Local\\Programs\\Python\\Python310\\lib\\site-packages\\sklearn\\ensemble\\_forest.py:427: FutureWarning: `max_features='auto'` has been deprecated in 1.1 and will be removed in 1.3. To keep the past behaviour, explicitly set `max_features='sqrt'` or remove this parameter as it is also the default value for RandomForestClassifiers and ExtraTreesClassifiers.\n",
            "  warn(\n"
          ]
        },
        {
          "output_type": "stream",
          "name": "stdout",
          "text": [
            "0.3906396230764948\n",
            "auto 4 entropy\n"
          ]
        },
        {
          "output_type": "stream",
          "name": "stderr",
          "text": [
            "C:\\Users\\student\\AppData\\Local\\Programs\\Python\\Python310\\lib\\site-packages\\sklearn\\ensemble\\_forest.py:427: FutureWarning: `max_features='auto'` has been deprecated in 1.1 and will be removed in 1.3. To keep the past behaviour, explicitly set `max_features='sqrt'` or remove this parameter as it is also the default value for RandomForestClassifiers and ExtraTreesClassifiers.\n",
            "  warn(\n"
          ]
        },
        {
          "output_type": "stream",
          "name": "stdout",
          "text": [
            "0.3939281747500926\n",
            "auto 5 gini\n"
          ]
        },
        {
          "output_type": "stream",
          "name": "stderr",
          "text": [
            "C:\\Users\\student\\AppData\\Local\\Programs\\Python\\Python310\\lib\\site-packages\\sklearn\\ensemble\\_forest.py:427: FutureWarning: `max_features='auto'` has been deprecated in 1.1 and will be removed in 1.3. To keep the past behaviour, explicitly set `max_features='sqrt'` or remove this parameter as it is also the default value for RandomForestClassifiers and ExtraTreesClassifiers.\n",
            "  warn(\n"
          ]
        },
        {
          "output_type": "stream",
          "name": "stdout",
          "text": [
            "auto 5 entropy\n"
          ]
        },
        {
          "output_type": "stream",
          "name": "stderr",
          "text": [
            "C:\\Users\\student\\AppData\\Local\\Programs\\Python\\Python310\\lib\\site-packages\\sklearn\\ensemble\\_forest.py:427: FutureWarning: `max_features='auto'` has been deprecated in 1.1 and will be removed in 1.3. To keep the past behaviour, explicitly set `max_features='sqrt'` or remove this parameter as it is also the default value for RandomForestClassifiers and ExtraTreesClassifiers.\n",
            "  warn(\n"
          ]
        },
        {
          "output_type": "stream",
          "name": "stdout",
          "text": [
            "auto 6 gini\n"
          ]
        },
        {
          "output_type": "stream",
          "name": "stderr",
          "text": [
            "C:\\Users\\student\\AppData\\Local\\Programs\\Python\\Python310\\lib\\site-packages\\sklearn\\ensemble\\_forest.py:427: FutureWarning: `max_features='auto'` has been deprecated in 1.1 and will be removed in 1.3. To keep the past behaviour, explicitly set `max_features='sqrt'` or remove this parameter as it is also the default value for RandomForestClassifiers and ExtraTreesClassifiers.\n",
            "  warn(\n"
          ]
        },
        {
          "output_type": "stream",
          "name": "stdout",
          "text": [
            "auto 6 entropy\n"
          ]
        },
        {
          "output_type": "stream",
          "name": "stderr",
          "text": [
            "C:\\Users\\student\\AppData\\Local\\Programs\\Python\\Python310\\lib\\site-packages\\sklearn\\ensemble\\_forest.py:427: FutureWarning: `max_features='auto'` has been deprecated in 1.1 and will be removed in 1.3. To keep the past behaviour, explicitly set `max_features='sqrt'` or remove this parameter as it is also the default value for RandomForestClassifiers and ExtraTreesClassifiers.\n",
            "  warn(\n"
          ]
        },
        {
          "output_type": "stream",
          "name": "stdout",
          "text": [
            "0.3952592847611147\n",
            "auto 7 gini\n"
          ]
        },
        {
          "output_type": "stream",
          "name": "stderr",
          "text": [
            "C:\\Users\\student\\AppData\\Local\\Programs\\Python\\Python310\\lib\\site-packages\\sklearn\\ensemble\\_forest.py:427: FutureWarning: `max_features='auto'` has been deprecated in 1.1 and will be removed in 1.3. To keep the past behaviour, explicitly set `max_features='sqrt'` or remove this parameter as it is also the default value for RandomForestClassifiers and ExtraTreesClassifiers.\n",
            "  warn(\n"
          ]
        },
        {
          "output_type": "stream",
          "name": "stdout",
          "text": [
            "0.39630441705511793\n",
            "auto 7 entropy\n"
          ]
        },
        {
          "output_type": "stream",
          "name": "stderr",
          "text": [
            "C:\\Users\\student\\AppData\\Local\\Programs\\Python\\Python310\\lib\\site-packages\\sklearn\\ensemble\\_forest.py:427: FutureWarning: `max_features='auto'` has been deprecated in 1.1 and will be removed in 1.3. To keep the past behaviour, explicitly set `max_features='sqrt'` or remove this parameter as it is also the default value for RandomForestClassifiers and ExtraTreesClassifiers.\n",
            "  warn(\n"
          ]
        },
        {
          "output_type": "stream",
          "name": "stdout",
          "text": [
            "0.39820673154006486\n",
            "auto 8 gini\n"
          ]
        },
        {
          "output_type": "stream",
          "name": "stderr",
          "text": [
            "C:\\Users\\student\\AppData\\Local\\Programs\\Python\\Python310\\lib\\site-packages\\sklearn\\ensemble\\_forest.py:427: FutureWarning: `max_features='auto'` has been deprecated in 1.1 and will be removed in 1.3. To keep the past behaviour, explicitly set `max_features='sqrt'` or remove this parameter as it is also the default value for RandomForestClassifiers and ExtraTreesClassifiers.\n",
            "  warn(\n"
          ]
        },
        {
          "output_type": "stream",
          "name": "stdout",
          "text": [
            "0.4038592452208066\n",
            "auto 8 entropy\n"
          ]
        },
        {
          "output_type": "stream",
          "name": "stderr",
          "text": [
            "C:\\Users\\student\\AppData\\Local\\Programs\\Python\\Python310\\lib\\site-packages\\sklearn\\ensemble\\_forest.py:427: FutureWarning: `max_features='auto'` has been deprecated in 1.1 and will be removed in 1.3. To keep the past behaviour, explicitly set `max_features='sqrt'` or remove this parameter as it is also the default value for RandomForestClassifiers and ExtraTreesClassifiers.\n",
            "  warn(\n"
          ]
        },
        {
          "output_type": "stream",
          "name": "stdout",
          "text": [
            "0.4062549621409042\n",
            "sqrt 4 gini\n",
            "sqrt 4 entropy\n",
            "sqrt 5 gini\n",
            "sqrt 5 entropy\n",
            "sqrt 6 gini\n",
            "sqrt 6 entropy\n",
            "sqrt 7 gini\n",
            "sqrt 7 entropy\n",
            "sqrt 8 gini\n",
            "sqrt 8 entropy\n",
            "log2 4 gini\n",
            "log2 4 entropy\n",
            "log2 5 gini\n",
            "log2 5 entropy\n",
            "log2 6 gini\n",
            "log2 6 entropy\n",
            "log2 7 gini\n",
            "log2 7 entropy\n",
            "log2 8 gini\n",
            "log2 8 entropy\n"
          ]
        }
      ]
    },
    {
      "cell_type": "code",
      "source": [
        "model=joblib.load('result/cls_rf.joblib')"
      ],
      "metadata": {
        "id": "IqVhq1ap7ZAV"
      },
      "execution_count": null,
      "outputs": []
    },
    {
      "cell_type": "code",
      "source": [
        "\n",
        "from sklearn.metrics import confusion_matrix,classification_report\n",
        "pred_cls = model.predict(X_test_cls)\n",
        "print(classification_report(y_test_cls,pred_cls))"
      ],
      "metadata": {
        "id": "T_DD8xmZ7are",
        "colab": {
          "base_uri": "https://localhost:8080/"
        },
        "outputId": "3c59554c-1764-46ea-b47c-8f3937dc6420"
      },
      "execution_count": null,
      "outputs": [
        {
          "output_type": "stream",
          "name": "stdout",
          "text": [
            "              precision    recall  f1-score   support\n",
            "\n",
            "           0       0.99      0.98      0.98     13618\n",
            "           1       0.18      0.36      0.24       191\n",
            "           2       0.00      0.00      0.00         6\n",
            "\n",
            "    accuracy                           0.97     13815\n",
            "   macro avg       0.39      0.44      0.41     13815\n",
            "weighted avg       0.98      0.97      0.97     13815\n",
            "\n"
          ]
        }
      ]
    },
    {
      "cell_type": "markdown",
      "source": [
        "XGboost in class caste "
      ],
      "metadata": {
        "id": "iOzrvl-a2X3W"
      }
    },
    {
      "cell_type": "code",
      "source": [
        "from xgboost import XGBClassifier"
      ],
      "metadata": {
        "id": "tOVfFhyM2Qsn"
      },
      "execution_count": null,
      "outputs": []
    },
    {
      "cell_type": "code",
      "source": [
        "g=open(\"result/cls_xgb.txt\",'w')\n",
        "g.write(f\"XGBClassifier(min_child_weight={0},gamma={0},subsample={0})\")\n",
        "g.close()\n",
        "from sklearn.metrics import f1_score\n",
        "min_child_weight = [1, 5, 10]\n",
        "gamma =[0.5, 1, 1.5, 2, 5]\n",
        "subsample= [0.6, 0.8, 1.0]"
      ],
      "metadata": {
        "id": "fYw1XgCV2Qmy"
      },
      "execution_count": null,
      "outputs": []
    },
    {
      "cell_type": "code",
      "source": [
        "from xgboost import XGBClassifier\n",
        "score=0\n",
        "for i in min_child_weight:\n",
        "  for j in gamma:\n",
        "    for k in subsample:\n",
        "      model=XGBClassifier(min_child_weight=i,gamma=j,subsample=k,class_weight=classweight)\n",
        "      model.fit(X_train_cls,y_train_cls)\n",
        "      pred_m=model.predict(X_test_cls)\n",
        "      f=f1_score(y_test_cls,pred_m,average='macro')\n",
        "      if(score<f):\n",
        "        score=f\n",
        "        g=open(\"result/cls_xbg.txt\",'w')\n",
        "        g.write(f\"XGBClassifier(min_child_weight={i},gamma={j},subsample={k})\")\n",
        "        g.close()"
      ],
      "metadata": {
        "id": "REhkbknP2QhE"
      },
      "execution_count": null,
      "outputs": []
    },
    {
      "cell_type": "code",
      "source": [
        "\n",
        "model=XGBClassifier(min_child_weight=1,gamma=2,subsample=0.6,class_weight=classweight)\n",
        "model.fit(X_train_cls,y_train_cls)"
      ],
      "metadata": {
        "id": "ZAHB2i3X2Qb2"
      },
      "execution_count": null,
      "outputs": []
    },
    {
      "cell_type": "code",
      "source": [
        "from sklearn.metrics import confusion_matrix,classification_report\n",
        "pred_cls = model.predict(X_test_cls)\n",
        "print(classification_report(y_test_cls,pred_cls)) "
      ],
      "metadata": {
        "id": "U9WLFMjG2QRn"
      },
      "execution_count": null,
      "outputs": []
    },
    {
      "cell_type": "markdown",
      "source": [
        "adaboost in class bias"
      ],
      "metadata": {
        "id": "feZWqnRmmoyB"
      }
    },
    {
      "cell_type": "code",
      "source": [
        "from sklearn.ensemble import AdaBoostClassifier"
      ],
      "metadata": {
        "id": "P16eoEhiok3n"
      },
      "execution_count": null,
      "outputs": []
    },
    {
      "cell_type": "code",
      "source": [
        "g=open(\"result/cls_adb.txt\",'w')\n",
        "g.write(f\"Adaboost(n_estimators={0},learning_rate={0})\")\n",
        "g.close()\n",
        "from sklearn.metrics import f1_score\n"
      ],
      "metadata": {
        "id": "XAIkQQlOon9M"
      },
      "execution_count": null,
      "outputs": []
    },
    {
      "cell_type": "code",
      "source": [
        "score=0\n",
        "for i in [30,50,70,80,90,100,120]:\n",
        "  for j in np.arange(1e-02,1,1e-01):\n",
        "    print(i,j)\n",
        "    model=AdaBoostClassifier(n_estimators=i,learning_rate=j)\n",
        "    model.fit(X_train_cls,y_train_cls)\n",
        "    pred_m=model.predict(X_test_cls)\n",
        "    f=f1_score(y_test_cls,pred_m,average='macro')\n",
        "    if(score<f):\n",
        "      score=f\n",
        "      g=open(\"result/cls_adb.txt\",'w')\n",
        "      g.write(f\"Adaboost(n_estimators={i},learning_rate={j}) score={score}\")\n",
        "      g.close()\n",
        "      print(score)\n",
        "      joblib.dump(model,\"result/cls_adb.joblib\")"
      ],
      "metadata": {
        "id": "2ryL9oEUoqXO",
        "colab": {
          "base_uri": "https://localhost:8080/"
        },
        "outputId": "f0fba8fd-2f63-46e8-8e0c-8515dcb52b5d"
      },
      "execution_count": null,
      "outputs": [
        {
          "output_type": "stream",
          "name": "stdout",
          "text": [
            "30 0.01\n",
            "0.3309396225956573\n",
            "30 0.11\n",
            "30 0.21000000000000002\n",
            "30 0.31000000000000005\n",
            "30 0.41000000000000003\n",
            "30 0.51\n",
            "30 0.6100000000000001\n",
            "0.33442390881695344\n",
            "30 0.7100000000000001\n",
            "30 0.81\n",
            "0.3376829815025975\n",
            "30 0.91\n",
            "50 0.01\n",
            "50 0.11\n",
            "50 0.21000000000000002\n",
            "50 0.31000000000000005\n",
            "50 0.41000000000000003\n",
            "0.34466309754508373\n",
            "50 0.51\n",
            "50 0.6100000000000001\n",
            "50 0.7100000000000001\n",
            "50 0.81\n",
            "0.35072831134316934\n",
            "50 0.91\n",
            "70 0.01\n",
            "70 0.11\n",
            "70 0.21000000000000002\n",
            "70 0.31000000000000005\n",
            "70 0.41000000000000003\n",
            "70 0.51\n",
            "70 0.6100000000000001\n",
            "70 0.7100000000000001\n",
            "0.35117732164114895\n",
            "70 0.81\n",
            "0.3539513930719262\n",
            "70 0.91\n",
            "80 0.01\n",
            "80 0.11\n",
            "80 0.21000000000000002\n",
            "80 0.31000000000000005\n",
            "80 0.41000000000000003\n",
            "80 0.51\n",
            "80 0.6100000000000001\n",
            "80 0.7100000000000001\n",
            "80 0.81\n",
            "0.353963463199108\n",
            "80 0.91\n",
            "90 0.01\n",
            "90 0.11\n",
            "90 0.21000000000000002\n",
            "90 0.31000000000000005\n",
            "90 0.41000000000000003\n",
            "90 0.51\n",
            "90 0.6100000000000001\n",
            "90 0.7100000000000001\n",
            "90 0.81\n",
            "90 0.91\n",
            "100 0.01\n",
            "100 0.11\n",
            "100 0.21000000000000002\n",
            "100 0.31000000000000005\n",
            "0.36948478522741723\n",
            "100 0.41000000000000003\n",
            "100 0.51\n",
            "100 0.6100000000000001\n",
            "100 0.7100000000000001\n",
            "100 0.81\n",
            "100 0.91\n",
            "120 0.01\n",
            "120 0.11\n",
            "120 0.21000000000000002\n",
            "120 0.31000000000000005\n",
            "120 0.41000000000000003\n",
            "120 0.51\n",
            "120 0.6100000000000001\n",
            "120 0.7100000000000001\n",
            "120 0.81\n",
            "120 0.91\n"
          ]
        }
      ]
    },
    {
      "cell_type": "code",
      "source": [
        "model = joblib.load('result/cls_adb.joblib')"
      ],
      "metadata": {
        "id": "k-oi65BTo9Ne"
      },
      "execution_count": null,
      "outputs": []
    },
    {
      "cell_type": "code",
      "source": [
        "pred_cls = model.predict(X_test_cls)\n",
        "print(classification_report(y_test_cls,pred_cls))"
      ],
      "metadata": {
        "id": "V6BOngGXpZgh",
        "colab": {
          "base_uri": "https://localhost:8080/"
        },
        "outputId": "d83e821e-aea4-4616-8231-feef1f749e79"
      },
      "execution_count": null,
      "outputs": [
        {
          "output_type": "stream",
          "name": "stdout",
          "text": [
            "              precision    recall  f1-score   support\n",
            "\n",
            "           0       0.99      1.00      0.99     13618\n",
            "           1       0.71      0.06      0.12       191\n",
            "           2       0.00      0.00      0.00         6\n",
            "\n",
            "    accuracy                           0.99     13815\n",
            "   macro avg       0.56      0.35      0.37     13815\n",
            "weighted avg       0.98      0.99      0.98     13815\n",
            "\n"
          ]
        },
        {
          "output_type": "stream",
          "name": "stderr",
          "text": [
            "C:\\Users\\student\\AppData\\Local\\Programs\\Python\\Python310\\lib\\site-packages\\sklearn\\metrics\\_classification.py:1327: UndefinedMetricWarning: Precision and F-score are ill-defined and being set to 0.0 in labels with no predicted samples. Use `zero_division` parameter to control this behavior.\n",
            "  _warn_prf(average, modifier, msg_start, len(result))\n",
            "C:\\Users\\student\\AppData\\Local\\Programs\\Python\\Python310\\lib\\site-packages\\sklearn\\metrics\\_classification.py:1327: UndefinedMetricWarning: Precision and F-score are ill-defined and being set to 0.0 in labels with no predicted samples. Use `zero_division` parameter to control this behavior.\n",
            "  _warn_prf(average, modifier, msg_start, len(result))\n",
            "C:\\Users\\student\\AppData\\Local\\Programs\\Python\\Python310\\lib\\site-packages\\sklearn\\metrics\\_classification.py:1327: UndefinedMetricWarning: Precision and F-score are ill-defined and being set to 0.0 in labels with no predicted samples. Use `zero_division` parameter to control this behavior.\n",
            "  _warn_prf(average, modifier, msg_start, len(result))\n"
          ]
        }
      ]
    },
    {
      "cell_type": "markdown",
      "source": [
        "# **Aggression Intensity**"
      ],
      "metadata": {
        "id": "ag1H8Mjx5HV6"
      }
    },
    {
      "cell_type": "code",
      "source": [
        "df_train['Aggression Intensity'].isnull().sum(),df_test['Aggression Intensity'].isnull().sum()"
      ],
      "metadata": {
        "id": "JjxLGfPe5MLC",
        "colab": {
          "base_uri": "https://localhost:8080/"
        },
        "outputId": "3e1cb467-26c7-4f95-c646-0c658fb0f60c"
      },
      "execution_count": null,
      "outputs": [
        {
          "output_type": "execute_result",
          "data": {
            "text/plain": [
              "(23189, 3946)"
            ]
          },
          "metadata": {},
          "execution_count": 66
        }
      ]
    },
    {
      "cell_type": "code",
      "source": [
        "df_train['Aggression Intensity'].unique(),df_test['Aggression Intensity'].unique()"
      ],
      "metadata": {
        "id": "eSaUPOCy5fi0",
        "colab": {
          "base_uri": "https://localhost:8080/"
        },
        "outputId": "55192736-af79-42f1-ad8a-10574938d967"
      },
      "execution_count": null,
      "outputs": [
        {
          "output_type": "execute_result",
          "data": {
            "text/plain": [
              "(array([nan, 'CuAG', 'NtAG', 'PTH', 'STH'], dtype=object),\n",
              " array(['NtAG', nan, 'CuAG', 'PTH', 'STH'], dtype=object))"
            ]
          },
          "metadata": {},
          "execution_count": 67
        }
      ]
    },
    {
      "cell_type": "code",
      "source": [
        "df_train_agI= df_train['Aggression Intensity'].fillna(\"NA\")\n",
        "df_test_agI= df_test['Aggression Intensity'].fillna(\"NA\")"
      ],
      "metadata": {
        "id": "Y13tQS6a5rsU"
      },
      "execution_count": null,
      "outputs": []
    },
    {
      "cell_type": "code",
      "source": [
        "df_train_agI.unique(),df_test_agI.unique()"
      ],
      "metadata": {
        "colab": {
          "base_uri": "https://localhost:8080/"
        },
        "id": "nPUBsKaSzr0g",
        "outputId": "00eac642-2cac-4ca3-fbfb-63c8d6920d69"
      },
      "execution_count": null,
      "outputs": [
        {
          "output_type": "execute_result",
          "data": {
            "text/plain": [
              "(array(['NA', 'CuAG', 'NtAG', 'PTH', 'STH'], dtype=object),\n",
              " array(['NtAG', 'NA', 'CuAG', 'PTH', 'STH'], dtype=object))"
            ]
          },
          "metadata": {},
          "execution_count": 69
        }
      ]
    },
    {
      "cell_type": "code",
      "source": [
        "#changing arguments to number\n",
        "d = {\"CuAG\":0, \"PTH\":1, \"NtAG\":2,\"STH\":3,\"NA\":4}\n",
        "df_train_agI= df_train_agI.map(d)\n",
        "df_test_agI= df_test_agI.map(d)"
      ],
      "metadata": {
        "id": "YyIvubux5yzC"
      },
      "execution_count": null,
      "outputs": []
    },
    {
      "cell_type": "code",
      "source": [
        "df_train_agI.unique(),df_test_agI.unique()"
      ],
      "metadata": {
        "id": "umzRVNtQ56Pq",
        "colab": {
          "base_uri": "https://localhost:8080/"
        },
        "outputId": "efdc2ebd-9324-4308-d6be-f60a0c19f653"
      },
      "execution_count": null,
      "outputs": [
        {
          "output_type": "execute_result",
          "data": {
            "text/plain": [
              "(array([4, 0, 2, 1, 3], dtype=int64), array([2, 4, 0, 1, 3], dtype=int64))"
            ]
          },
          "metadata": {},
          "execution_count": 71
        }
      ]
    },
    {
      "cell_type": "code",
      "source": [
        "#vectorizing the dataset\n",
        "from sklearn.feature_extraction.text import TfidfVectorizer"
      ],
      "metadata": {
        "id": "Vh61w4Z96CWN"
      },
      "execution_count": null,
      "outputs": []
    },
    {
      "cell_type": "code",
      "source": [
        "vector_agI = TfidfVectorizer()\n",
        "v1_agI = vector_agI.fit_transform(df_train['Text'])\n",
        "v2_agI = vector_agI.transform(df_test['Text'])"
      ],
      "metadata": {
        "id": "mj7oUAJd6JsL"
      },
      "execution_count": null,
      "outputs": []
    },
    {
      "cell_type": "code",
      "source": [
        "import joblib\n",
        "joblib.dump(vector_agI,'result\\AggressionIntensity_vectorization.joblib')"
      ],
      "metadata": {
        "id": "bA9AqoYA6Txj",
        "colab": {
          "base_uri": "https://localhost:8080/"
        },
        "outputId": "d2342f0e-5d56-4fb7-f4da-cfa414174600"
      },
      "execution_count": null,
      "outputs": [
        {
          "output_type": "execute_result",
          "data": {
            "text/plain": [
              "['result\\\\AggressionIntensity_vectorization.joblib']"
            ]
          },
          "metadata": {},
          "execution_count": 40
        }
      ]
    },
    {
      "cell_type": "code",
      "source": [
        "X_train_agI=v1_agI\n",
        "y_train_agI=df_train_agI\n",
        "X_test_agI=v2_agI\n",
        "y_test_agI=df_test_agI"
      ],
      "metadata": {
        "id": "Z6lWcp-p6cNj"
      },
      "execution_count": null,
      "outputs": []
    },
    {
      "cell_type": "code",
      "source": [
        "#applying class weight\n",
        "from sklearn.utils import compute_class_weight\n",
        "classweight = dict(zip([0,1,2,3,4],compute_class_weight(class_weight = 'balanced',y=df_train_agI.values,classes=[0,1,2,3,4])))\n",
        "classweight"
      ],
      "metadata": {
        "id": "K3EV9Il16j6G",
        "colab": {
          "base_uri": "https://localhost:8080/"
        },
        "outputId": "aacf7cbd-2c4c-4d1f-d3f3-79226b48e5fb"
      },
      "execution_count": null,
      "outputs": [
        {
          "output_type": "execute_result",
          "data": {
            "text/plain": [
              "{0: 0.7541158903713694,\n",
              " 1: 8.40827067669173,\n",
              " 2: 0.4992092341049678,\n",
              " 3: 14.142908762420957,\n",
              " 4: 0.6751563241191945}"
            ]
          },
          "metadata": {},
          "execution_count": 75
        }
      ]
    },
    {
      "cell_type": "markdown",
      "source": [
        "Logistic in Aggression Intensity"
      ],
      "metadata": {
        "id": "PwQGDNWCjYZ-"
      }
    },
    {
      "cell_type": "code",
      "source": [
        "from sklearn.linear_model import LogisticRegression"
      ],
      "metadata": {
        "id": "sG2LUogl619f"
      },
      "execution_count": null,
      "outputs": []
    },
    {
      "cell_type": "code",
      "source": [
        "f = open(\"result/lg_agI.txt\",'w')\n",
        "f.write(f\"LogisticRegression(C = {0},tol = {0},penalty ={0})\")\n",
        "f.close()\n",
        "from sklearn.metrics import f1_score\n",
        "C = [1,5,25,50,100,200]\n",
        "penalty = [\"l2\" , 'l1' ]\n",
        "solver = ['newton-cg', 'lbfgs', 'sag']\n",
        "# l1_ratio = [0.0,0.3,0.5,0.8,1.0]"
      ],
      "metadata": {
        "id": "DxayWyA169VS"
      },
      "execution_count": null,
      "outputs": []
    },
    {
      "cell_type": "code",
      "source": [
        "score = 0\n",
        "for i in C:\n",
        "  for k in penalty:\n",
        "    for l in solver :\n",
        "      print(i,k,l)\n",
        "      try:\n",
        "        model = LogisticRegression(C = i,penalty =k  , solver = l , random_state = 42,class_weight=classweight)\n",
        "        model.fit(X_train_agI,y_train_agI)\n",
        "      except :\n",
        "        continue\n",
        "      pred_m = model.predict(X_test_agI)\n",
        "      f = f1_score(y_test_agI,pred_m,average = 'macro')\n",
        "      if(score<f):\n",
        "          score = f\n",
        "          f = open(\"result/lg_agI.txt\",'w')\n",
        "          f.write(f\"LogisticRegression(C = {i},penalty = {k},solver={l}) score={score}\")\n",
        "          f.close()\n",
        "          joblib.dump(model,'result/agI_lg.joblib')\n",
        "          print(score)\n",
        "              "
      ],
      "metadata": {
        "id": "YdE-dYln7G0a"
      },
      "execution_count": null,
      "outputs": []
    },
    {
      "cell_type": "code",
      "source": [
        "model=joblib.load('result/agI_lg.joblib')"
      ],
      "metadata": {
        "id": "S94BWX94J1iC"
      },
      "execution_count": null,
      "outputs": []
    },
    {
      "cell_type": "code",
      "source": [
        "from sklearn.metrics import confusion_matrix,classification_report\n",
        "pred_agI = model.predict(X_test_agI)\n",
        "print(classification_report(y_test_agI,pred_agI))"
      ],
      "metadata": {
        "id": "z3WEPGtD7VpT",
        "colab": {
          "base_uri": "https://localhost:8080/"
        },
        "outputId": "36dd4cd6-07cc-4d6d-a9a8-808f6d6e49a4"
      },
      "execution_count": null,
      "outputs": [
        {
          "output_type": "stream",
          "name": "stdout",
          "text": [
            "              precision    recall  f1-score   support\n",
            "\n",
            "           0       0.56      0.58      0.57      3788\n",
            "           1       0.27      0.43      0.33       310\n",
            "           2       0.55      0.46      0.51      5561\n",
            "           3       0.25      0.50      0.34       210\n",
            "           4       0.59      0.65      0.62      3946\n",
            "\n",
            "    accuracy                           0.55     13815\n",
            "   macro avg       0.45      0.53      0.47     13815\n",
            "weighted avg       0.56      0.55      0.55     13815\n",
            "\n"
          ]
        }
      ]
    },
    {
      "cell_type": "markdown",
      "source": [
        "SVM in Agression Intensity"
      ],
      "metadata": {
        "id": "lYdJYf-0QFtU"
      }
    },
    {
      "cell_type": "code",
      "source": [
        "from sklearn.svm import SVC"
      ],
      "metadata": {
        "id": "1PFIpG0GQFGX"
      },
      "execution_count": null,
      "outputs": []
    },
    {
      "cell_type": "code",
      "source": [
        "mx = 0\n",
        "for kernel in ['linear', 'poly', 'rbf']:\n",
        "    for C in [1,5,10,25,50,100,200]:\n",
        "        if(kernel=='poly'):\n",
        "          if(C!=200):\n",
        "            for degree in [1,2,3,4]:\n",
        "                model = SVC(C = C,kernel=kernel,class_weight=classweight,degree=degree)\n",
        "                model.fit(X_train_agI,y_train_agI)\n",
        "                pred = model.predict(X_test_agI)\n",
        "                f = f1_score(y_test_agI,pred,average='macro')\n",
        "                if(mx<f):\n",
        "                    mx = max(mx,f)\n",
        "                    s = open('result/sv_agI.txt' , 'w')\n",
        "                    s.write(f\"SVC(C= {C}, degree = {degree} , kernel = {kernel}) score = {mx}\")\n",
        "                    s.close()\n",
        "                    print(mx)\n",
        "                print(f,f\"C = {C} , kernel = {kernel} , degree = {degree}\")\n",
        "        else:\n",
        "            model = SVC(C = C,kernel=kernel,class_weight=classweight)\n",
        "            model.fit(X_train_agI,y_train_agI)\n",
        "            pred = model.predict(X_test_agI)\n",
        "            f = f1_score(y_test_agI,pred,average='macro')\n",
        "            if(mx<f):\n",
        "                mx = max(mx,f)\n",
        "                s = open('result/sv_agI.txt' , 'w')\n",
        "                s.write(f\"SVC(C= {C}, degree = {degree} , kernal = {kernel}\")\n",
        "                s.close()\n",
        "                print(mx)\n",
        "            print(f,f\"C = {C} , kernel = {kernel} score ={mx}\")"
      ],
      "metadata": {
        "id": "IRVGvfarQEXZ",
        "colab": {
          "base_uri": "https://localhost:8080/"
        },
        "outputId": "f4ab8da2-ec47-474d-9aa6-84b879d64b9d"
      },
      "execution_count": null,
      "outputs": [
        {
          "output_type": "stream",
          "name": "stdout",
          "text": [
            "0.4858503861541359\n",
            "0.4858503861541359 C = 1 , kernel = linear score =0.4858503861541359\n",
            "0.4666055033827729 C = 5 , kernel = linear score =0.4858503861541359\n",
            "0.45994982590860156 C = 10 , kernel = linear score =0.4858503861541359\n",
            "0.4510049845724355 C = 25 , kernel = linear score =0.4858503861541359\n",
            "0.4476057720799851 C = 50 , kernel = linear score =0.4858503861541359\n",
            "0.44064618038916903 C = 100 , kernel = linear score =0.4858503861541359\n",
            "0.4374589027263376 C = 200 , kernel = linear score =0.4858503861541359\n",
            "0.48513896252670996 C = 1 , kernel = poly , degree = 1\n",
            "0.46442028312629324 C = 1 , kernel = poly , degree = 2\n",
            "0.42907565436041806 C = 1 , kernel = poly , degree = 3\n",
            "0.40845941141412234 C = 1 , kernel = poly , degree = 4\n",
            "0.4663547209487091 C = 5 , kernel = poly , degree = 1\n",
            "0.46234052299501 C = 5 , kernel = poly , degree = 2\n",
            "0.4476057247284767 C = 5 , kernel = poly , degree = 3\n",
            "0.42556355402293944 C = 5 , kernel = poly , degree = 4\n",
            "0.459743759112787 C = 10 , kernel = poly , degree = 1\n",
            "0.4540281966407643 C = 10 , kernel = poly , degree = 2\n",
            "0.4272972727567545 C = 10 , kernel = poly , degree = 3\n",
            "0.4086411001860982 C = 10 , kernel = poly , degree = 4\n",
            "0.4503047054972999 C = 25 , kernel = poly , degree = 1\n",
            "0.4505148178400143 C = 25 , kernel = poly , degree = 2\n",
            "0.41400350165354 C = 25 , kernel = poly , degree = 3\n",
            "0.4001347250130916 C = 25 , kernel = poly , degree = 4\n",
            "0.4473034777351728 C = 50 , kernel = poly , degree = 1\n",
            "0.4488565561883594 C = 50 , kernel = poly , degree = 2\n",
            "0.4139733307219509 C = 50 , kernel = poly , degree = 3\n",
            "0.39943213801607536 C = 50 , kernel = poly , degree = 4\n",
            "0.44018317718968536 C = 100 , kernel = poly , degree = 1\n",
            "0.4489259739911514 C = 100 , kernel = poly , degree = 2\n",
            "0.41466037772399034 C = 100 , kernel = poly , degree = 3\n",
            "0.39917571202477664 C = 100 , kernel = poly , degree = 4\n",
            "0.49799996070903846\n",
            "0.49799996070903846 C = 1 , kernel = rbf score =0.49799996070903846\n",
            "0.4767087860042921 C = 5 , kernel = rbf score =0.49799996070903846\n",
            "0.4738820522305086 C = 10 , kernel = rbf score =0.49799996070903846\n",
            "0.47269921268637366 C = 25 , kernel = rbf score =0.49799996070903846\n",
            "0.47306268839883125 C = 50 , kernel = rbf score =0.49799996070903846\n",
            "0.47316874223341177 C = 100 , kernel = rbf score =0.49799996070903846\n",
            "0.47306896807872273 C = 200 , kernel = rbf score =0.49799996070903846\n"
          ]
        }
      ]
    },
    {
      "cell_type": "code",
      "source": [
        "model = SVC(C = ,kernel=,class_weight=classweight,degree=)\n",
        "model.fit(X_train_agI,y_train_agI)"
      ],
      "metadata": {
        "id": "HAUID7UnQN8k"
      },
      "execution_count": null,
      "outputs": []
    },
    {
      "cell_type": "code",
      "source": [
        "joblib.dump(model,'result/agI_sv.joblib')"
      ],
      "metadata": {
        "id": "IuBCkLHQQN3R"
      },
      "execution_count": null,
      "outputs": []
    },
    {
      "cell_type": "code",
      "source": [
        "pred_agI = model.predict(X_test_agI)\n",
        "print(classification_report(y_test_agI,pred_agI))"
      ],
      "metadata": {
        "id": "mvLxbmMEQNps"
      },
      "execution_count": null,
      "outputs": []
    },
    {
      "cell_type": "markdown",
      "source": [
        "MNB agression Intensity"
      ],
      "metadata": {
        "id": "RxYgOqRNbT1X"
      }
    },
    {
      "cell_type": "code",
      "source": [
        "f = open(\"result/agI_mnb.txt\",'w')\n",
        "f.write(f\"MultinomialNB(alpha = {0})\")\n",
        "f.close()"
      ],
      "metadata": {
        "id": "JeiaDAkyQNk6"
      },
      "execution_count": null,
      "outputs": []
    },
    {
      "cell_type": "code",
      "source": [
        "from sklearn.naive_bayes import MultinomialNB\n",
        "from sklearn.metrics import f1_score\n",
        "score =0\n",
        "for i in np.arange(1e-05,1e-01,1e-04):\n",
        "  model = MultinomialNB(alpha=i)\n",
        "  model.fit(X_train_agI,y_train_agI)\n",
        "  pred = model.predict(X_test_agI)\n",
        "  f = f1_score(y_test_agI,pred,average='macro')\n",
        "  if(score<f):\n",
        "    score = f\n",
        "    f = open(\"result/agI_mnb.txt\",'w')\n",
        "    f.write(f\"MultinomialNB(alpha = {i}) score={score}\")\n",
        "    f.close()\n",
        "    joblib.dump(model,'result/agI_mnb.joblib')\n",
        "    print(score)"
      ],
      "metadata": {
        "id": "59hGQ16fQNf8",
        "colab": {
          "base_uri": "https://localhost:8080/"
        },
        "outputId": "d32f2ae4-5d09-4410-ec4f-eb8d7238e04f"
      },
      "execution_count": null,
      "outputs": [
        {
          "output_type": "stream",
          "name": "stdout",
          "text": [
            "0.4516261113343979\n",
            "0.45208494894153006\n",
            "0.4522415914068831\n",
            "0.45228766818106625\n",
            "0.4525592306798495\n",
            "0.45278874559342\n",
            "0.4528146005127405\n",
            "0.45302850336339306\n",
            "0.4530594459672394\n",
            "0.4533497148466317\n"
          ]
        }
      ]
    },
    {
      "cell_type": "code",
      "source": [
        "model=joblib.load('result/agI_mnb.joblib')"
      ],
      "metadata": {
        "id": "JO-f8kHHb-G6"
      },
      "execution_count": null,
      "outputs": []
    },
    {
      "cell_type": "code",
      "source": [
        "from sklearn.metrics import confusion_matrix,classification_report\n",
        "\n",
        "pred_agI = model.predict(X_test_agI)\n",
        "print(classification_report(y_test_agI,pred_agI))"
      ],
      "metadata": {
        "id": "dtFvixzZb-dJ",
        "colab": {
          "base_uri": "https://localhost:8080/"
        },
        "outputId": "369e5286-7f73-46b9-b5ab-68b5e04f6a6b"
      },
      "execution_count": null,
      "outputs": [
        {
          "output_type": "stream",
          "name": "stdout",
          "text": [
            "              precision    recall  f1-score   support\n",
            "\n",
            "           0       0.56      0.52      0.54      3788\n",
            "           1       0.42      0.24      0.30       310\n",
            "           2       0.48      0.60      0.54      5561\n",
            "           3       0.44      0.32      0.37       210\n",
            "           4       0.59      0.46      0.52      3946\n",
            "\n",
            "    accuracy                           0.53     13815\n",
            "   macro avg       0.50      0.43      0.45     13815\n",
            "weighted avg       0.53      0.53      0.52     13815\n",
            "\n"
          ]
        }
      ]
    },
    {
      "cell_type": "markdown",
      "source": [
        "Random Forest in Agression Intensity"
      ],
      "metadata": {
        "id": "o12JmDichf7V"
      }
    },
    {
      "cell_type": "code",
      "source": [
        "from sklearn.ensemble import RandomForestClassifier "
      ],
      "metadata": {
        "id": "eNVoyOm2_byu"
      },
      "execution_count": null,
      "outputs": []
    },
    {
      "cell_type": "code",
      "source": [
        "f = open(\"result/agI_rf.txt\",'w')\n",
        "f.write(f\"RandomForestClassifier(max_features={0},max_depth={0},criterion={0})\")\n",
        "f.close()"
      ],
      "metadata": {
        "id": "opYAkGH5htXV"
      },
      "execution_count": null,
      "outputs": []
    },
    {
      "cell_type": "code",
      "source": [
        "from sklearn.metrics import f1_score\n",
        "max_features = ['auto', 'sqrt', 'log2']\n",
        "max_depth = [4,5,6,7,8]\n",
        "criterion =['gini', 'entropy'] "
      ],
      "metadata": {
        "id": "_2OXbKzBhwwv"
      },
      "execution_count": null,
      "outputs": []
    },
    {
      "cell_type": "code",
      "source": [
        "score=0\n",
        "for i in max_features:\n",
        "  for j in max_depth:\n",
        "    for k in criterion:\n",
        "      print(i,j,k)\n",
        "      model=RandomForestClassifier(max_features=i,max_depth=j,criterion=k,class_weight=classweight)\n",
        "      model.fit(X_train_agI,y_train_agI)\n",
        "      pred=model.predict(X_test_agI)\n",
        "      f=f1_score(y_test_agI,pred,average='macro')\n",
        "      if(score<f):\n",
        "        score=f\n",
        "        f=open(\"result/agI_rf.txt\",'w')\n",
        "        f.write(f\"RandomForestClassifier(C={i},tol={j},penalty={k})\")\n",
        "        f.close()\n",
        "        joblib.dump(model,'result/agI_rf.joblib')\n",
        "        print(score)"
      ],
      "metadata": {
        "id": "CpX9DeTlhyZI",
        "colab": {
          "base_uri": "https://localhost:8080/"
        },
        "outputId": "9831351e-d832-4028-d742-61b2e996b0e7"
      },
      "execution_count": null,
      "outputs": [
        {
          "output_type": "stream",
          "name": "stdout",
          "text": [
            "auto 4 gini\n"
          ]
        },
        {
          "output_type": "stream",
          "name": "stderr",
          "text": [
            "C:\\Users\\student\\AppData\\Local\\Programs\\Python\\Python310\\lib\\site-packages\\sklearn\\ensemble\\_forest.py:427: FutureWarning: `max_features='auto'` has been deprecated in 1.1 and will be removed in 1.3. To keep the past behaviour, explicitly set `max_features='sqrt'` or remove this parameter as it is also the default value for RandomForestClassifiers and ExtraTreesClassifiers.\n",
            "  warn(\n"
          ]
        },
        {
          "output_type": "stream",
          "name": "stdout",
          "text": [
            "0.27214269433848803\n",
            "auto 4 entropy\n"
          ]
        },
        {
          "output_type": "stream",
          "name": "stderr",
          "text": [
            "C:\\Users\\student\\AppData\\Local\\Programs\\Python\\Python310\\lib\\site-packages\\sklearn\\ensemble\\_forest.py:427: FutureWarning: `max_features='auto'` has been deprecated in 1.1 and will be removed in 1.3. To keep the past behaviour, explicitly set `max_features='sqrt'` or remove this parameter as it is also the default value for RandomForestClassifiers and ExtraTreesClassifiers.\n",
            "  warn(\n"
          ]
        },
        {
          "output_type": "stream",
          "name": "stdout",
          "text": [
            "0.2819900063083991\n",
            "auto 5 gini\n"
          ]
        },
        {
          "output_type": "stream",
          "name": "stderr",
          "text": [
            "C:\\Users\\student\\AppData\\Local\\Programs\\Python\\Python310\\lib\\site-packages\\sklearn\\ensemble\\_forest.py:427: FutureWarning: `max_features='auto'` has been deprecated in 1.1 and will be removed in 1.3. To keep the past behaviour, explicitly set `max_features='sqrt'` or remove this parameter as it is also the default value for RandomForestClassifiers and ExtraTreesClassifiers.\n",
            "  warn(\n"
          ]
        },
        {
          "output_type": "stream",
          "name": "stdout",
          "text": [
            "auto 5 entropy\n"
          ]
        },
        {
          "output_type": "stream",
          "name": "stderr",
          "text": [
            "C:\\Users\\student\\AppData\\Local\\Programs\\Python\\Python310\\lib\\site-packages\\sklearn\\ensemble\\_forest.py:427: FutureWarning: `max_features='auto'` has been deprecated in 1.1 and will be removed in 1.3. To keep the past behaviour, explicitly set `max_features='sqrt'` or remove this parameter as it is also the default value for RandomForestClassifiers and ExtraTreesClassifiers.\n",
            "  warn(\n"
          ]
        },
        {
          "output_type": "stream",
          "name": "stdout",
          "text": [
            "0.29414110268003435\n",
            "auto 6 gini\n"
          ]
        },
        {
          "output_type": "stream",
          "name": "stderr",
          "text": [
            "C:\\Users\\student\\AppData\\Local\\Programs\\Python\\Python310\\lib\\site-packages\\sklearn\\ensemble\\_forest.py:427: FutureWarning: `max_features='auto'` has been deprecated in 1.1 and will be removed in 1.3. To keep the past behaviour, explicitly set `max_features='sqrt'` or remove this parameter as it is also the default value for RandomForestClassifiers and ExtraTreesClassifiers.\n",
            "  warn(\n"
          ]
        },
        {
          "output_type": "stream",
          "name": "stdout",
          "text": [
            "auto 6 entropy\n"
          ]
        },
        {
          "output_type": "stream",
          "name": "stderr",
          "text": [
            "C:\\Users\\student\\AppData\\Local\\Programs\\Python\\Python310\\lib\\site-packages\\sklearn\\ensemble\\_forest.py:427: FutureWarning: `max_features='auto'` has been deprecated in 1.1 and will be removed in 1.3. To keep the past behaviour, explicitly set `max_features='sqrt'` or remove this parameter as it is also the default value for RandomForestClassifiers and ExtraTreesClassifiers.\n",
            "  warn(\n"
          ]
        },
        {
          "output_type": "stream",
          "name": "stdout",
          "text": [
            "auto 7 gini\n"
          ]
        },
        {
          "output_type": "stream",
          "name": "stderr",
          "text": [
            "C:\\Users\\student\\AppData\\Local\\Programs\\Python\\Python310\\lib\\site-packages\\sklearn\\ensemble\\_forest.py:427: FutureWarning: `max_features='auto'` has been deprecated in 1.1 and will be removed in 1.3. To keep the past behaviour, explicitly set `max_features='sqrt'` or remove this parameter as it is also the default value for RandomForestClassifiers and ExtraTreesClassifiers.\n",
            "  warn(\n"
          ]
        },
        {
          "output_type": "stream",
          "name": "stdout",
          "text": [
            "auto 7 entropy\n"
          ]
        },
        {
          "output_type": "stream",
          "name": "stderr",
          "text": [
            "C:\\Users\\student\\AppData\\Local\\Programs\\Python\\Python310\\lib\\site-packages\\sklearn\\ensemble\\_forest.py:427: FutureWarning: `max_features='auto'` has been deprecated in 1.1 and will be removed in 1.3. To keep the past behaviour, explicitly set `max_features='sqrt'` or remove this parameter as it is also the default value for RandomForestClassifiers and ExtraTreesClassifiers.\n",
            "  warn(\n"
          ]
        },
        {
          "output_type": "stream",
          "name": "stdout",
          "text": [
            "0.3003520623221846\n",
            "auto 8 gini\n"
          ]
        },
        {
          "output_type": "stream",
          "name": "stderr",
          "text": [
            "C:\\Users\\student\\AppData\\Local\\Programs\\Python\\Python310\\lib\\site-packages\\sklearn\\ensemble\\_forest.py:427: FutureWarning: `max_features='auto'` has been deprecated in 1.1 and will be removed in 1.3. To keep the past behaviour, explicitly set `max_features='sqrt'` or remove this parameter as it is also the default value for RandomForestClassifiers and ExtraTreesClassifiers.\n",
            "  warn(\n"
          ]
        },
        {
          "output_type": "stream",
          "name": "stdout",
          "text": [
            "0.3060261185458307\n",
            "auto 8 entropy\n"
          ]
        },
        {
          "output_type": "stream",
          "name": "stderr",
          "text": [
            "C:\\Users\\student\\AppData\\Local\\Programs\\Python\\Python310\\lib\\site-packages\\sklearn\\ensemble\\_forest.py:427: FutureWarning: `max_features='auto'` has been deprecated in 1.1 and will be removed in 1.3. To keep the past behaviour, explicitly set `max_features='sqrt'` or remove this parameter as it is also the default value for RandomForestClassifiers and ExtraTreesClassifiers.\n",
            "  warn(\n"
          ]
        },
        {
          "output_type": "stream",
          "name": "stdout",
          "text": [
            "0.30880056300770586\n",
            "sqrt 4 gini\n",
            "sqrt 4 entropy\n",
            "sqrt 5 gini\n",
            "sqrt 5 entropy\n",
            "sqrt 6 gini\n",
            "sqrt 6 entropy\n",
            "sqrt 7 gini\n",
            "sqrt 7 entropy\n",
            "sqrt 8 gini\n",
            "0.31193245803051706\n",
            "sqrt 8 entropy\n",
            "log2 4 gini\n",
            "log2 4 entropy\n",
            "log2 5 gini\n",
            "log2 5 entropy\n",
            "log2 6 gini\n",
            "log2 6 entropy\n",
            "log2 7 gini\n",
            "log2 7 entropy\n",
            "log2 8 gini\n",
            "log2 8 entropy\n"
          ]
        }
      ]
    },
    {
      "cell_type": "code",
      "source": [
        "model=joblib.load('result/agI_rf.joblib')"
      ],
      "metadata": {
        "id": "TbRHEwv9h0-_"
      },
      "execution_count": null,
      "outputs": []
    },
    {
      "cell_type": "code",
      "source": [
        "\n",
        "from sklearn.metrics import confusion_matrix,classification_report\n",
        "pred_agI = model.predict(X_test_agI)\n",
        "print(classification_report(y_test_agI,pred_agI))"
      ],
      "metadata": {
        "id": "_NlTGPVFh01F",
        "colab": {
          "base_uri": "https://localhost:8080/"
        },
        "outputId": "6104072e-f134-4761-886c-9b725a99c6ce"
      },
      "execution_count": null,
      "outputs": [
        {
          "output_type": "stream",
          "name": "stdout",
          "text": [
            "              precision    recall  f1-score   support\n",
            "\n",
            "           0       0.47      0.39      0.43      3788\n",
            "           1       0.12      0.45      0.19       310\n",
            "           2       0.54      0.18      0.27      5561\n",
            "           3       0.08      0.47      0.14       210\n",
            "           4       0.43      0.70      0.53      3946\n",
            "\n",
            "    accuracy                           0.40     13815\n",
            "   macro avg       0.33      0.44      0.31     13815\n",
            "weighted avg       0.47      0.40      0.38     13815\n",
            "\n"
          ]
        }
      ]
    },
    {
      "cell_type": "markdown",
      "source": [
        "XGboost in agression intensity "
      ],
      "metadata": {
        "id": "7nLZJWoP2_13"
      }
    },
    {
      "cell_type": "code",
      "source": [
        "from xgboost import XGBClassifier"
      ],
      "metadata": {
        "id": "U6lxN2rr2_SC"
      },
      "execution_count": null,
      "outputs": []
    },
    {
      "cell_type": "code",
      "source": [
        "g=open(\"result/agI_xgb.txt\",'w')\n",
        "g.write(f\"XGBClassifier(min_child_weight={0},gamma={0},subsample={0})\")\n",
        "g.close()\n",
        "from sklearn.metrics import f1_score\n",
        "min_child_weight = [1, 5, 10]\n",
        "gamma =[0.5, 1, 1.5, 2, 5]\n",
        "subsample= [0.6, 0.8, 1.0]"
      ],
      "metadata": {
        "id": "Sp8Lvnahh0me"
      },
      "execution_count": null,
      "outputs": []
    },
    {
      "cell_type": "code",
      "source": [
        "  from xgboost import XGBClassifier\n",
        "score=0\n",
        "for i in min_child_weight:\n",
        "  for j in gamma:\n",
        "    for k in subsample:\n",
        "      model=XGBClassifier(min_child_weight=i,gamma=j,subsample=k,class_weight=classweight)\n",
        "      model.fit(X_train_agI,y_train_agI)\n",
        "      pred_m=model.predict(X_test_agI)\n",
        "      f=f1_score(y_test_agI,pred_m,average='macro')\n",
        "      if(score<f):\n",
        "        score=f\n",
        "        g=open(\"result/agI_xbg.txt\",'w')\n",
        "        g.write(f\"XGBClassifier(min_child_weight={i},gamma={j},subsample={k})\")\n",
        "        g.close()"
      ],
      "metadata": {
        "id": "kz0fRWZG3HhG"
      },
      "execution_count": null,
      "outputs": []
    },
    {
      "cell_type": "code",
      "source": [
        "model=XGBClassifier(min_child_weight=1,gamma=2,subsample=0.6,class_weight=classweight)\n",
        "model.fit(X_train_agI,y_train_agI)"
      ],
      "metadata": {
        "id": "Oxex5T013Hcb"
      },
      "execution_count": null,
      "outputs": []
    },
    {
      "cell_type": "code",
      "source": [
        "from sklearn.metrics import confusion_matrix,classification_report\n",
        "pred_agI = model.predict(X_test_agI)\n",
        "print(classification_report(y_test_agI,pred_agI))"
      ],
      "metadata": {
        "id": "tiNpDpLs3HYL"
      },
      "execution_count": null,
      "outputs": []
    },
    {
      "cell_type": "markdown",
      "source": [
        "Adaboost in aggression intensity"
      ],
      "metadata": {
        "id": "FWw5jSUUrFZC"
      }
    },
    {
      "cell_type": "code",
      "source": [
        "from sklearn.ensemble import AdaBoostClassifier"
      ],
      "metadata": {
        "id": "TACpEMexrCv3"
      },
      "execution_count": null,
      "outputs": []
    },
    {
      "cell_type": "code",
      "source": [
        "g=open(\"result/agI_adb.txt\",'w')\n",
        "g.write(f\"AdaBoost(n_estimators={0},learning_rate={0})\")\n",
        "g.close()"
      ],
      "metadata": {
        "id": "6SBQHOyirLvA"
      },
      "execution_count": null,
      "outputs": []
    },
    {
      "cell_type": "code",
      "source": [
        "score=0.2733427520214515\n",
        "for i in [90,100,120]:\n",
        "  for j in np.arange(1e-02,1,1e-01):\n",
        "    print(i,j)\n",
        "    model=AdaBoostClassifier(n_estimators=i,learning_rate=j)\n",
        "    model.fit(X_train_agI,y_train_agI)\n",
        "    pred_m=model.predict(X_test_agI)\n",
        "    f=f1_score(y_test_agI,pred_m,average='macro')\n",
        "    if(score<f):\n",
        "      score=f\n",
        "      g=open(\"result/agI_adb.txt\",'w')\n",
        "      g.write(f\"Adaboost(n_estimators={i},learning_rate={j}) score={score}\")\n",
        "      g.close()\n",
        "      print(score)\n",
        "      joblib.dump(model,\"result/agI_adb.joblib\")"
      ],
      "metadata": {
        "id": "hOUjC_h1rRZ-",
        "colab": {
          "base_uri": "https://localhost:8080/"
        },
        "outputId": "515f3208-f48b-45b8-c663-3c1f1f449bf0"
      },
      "execution_count": null,
      "outputs": [
        {
          "output_type": "stream",
          "name": "stdout",
          "text": [
            "90 0.01\n",
            "90 0.11\n",
            "90 0.21000000000000002\n",
            "90 0.31000000000000005\n",
            "90 0.41000000000000003\n",
            "90 0.51\n",
            "90 0.6100000000000001\n",
            "90 0.7100000000000001\n",
            "90 0.81\n",
            "90 0.91\n",
            "0.27529595081103625\n",
            "100 0.01\n",
            "100 0.11\n",
            "100 0.21000000000000002\n",
            "100 0.31000000000000005\n",
            "100 0.41000000000000003\n",
            "100 0.51\n",
            "100 0.6100000000000001\n",
            "100 0.7100000000000001\n",
            "100 0.81\n",
            "100 0.91\n",
            "0.2798983281347826\n",
            "120 0.01\n",
            "120 0.11\n",
            "120 0.21000000000000002\n",
            "120 0.31000000000000005\n",
            "120 0.41000000000000003\n",
            "120 0.51\n",
            "120 0.6100000000000001\n",
            "120 0.7100000000000001\n",
            "120 0.81\n",
            "120 0.91\n",
            "0.28253716378557703\n"
          ]
        }
      ]
    },
    {
      "cell_type": "code",
      "source": [
        "model = joblib.load('result/agI_adb.joblib')"
      ],
      "metadata": {
        "id": "BHg25fG8rlXP"
      },
      "execution_count": null,
      "outputs": []
    },
    {
      "cell_type": "code",
      "source": [
        "pred_agI = model.predict(X_test_agI)\n",
        "print(classification_report(y_test_agI,pred_agI))"
      ],
      "metadata": {
        "id": "1iUDAhSlrpr-",
        "colab": {
          "base_uri": "https://localhost:8080/"
        },
        "outputId": "96447ccf-4ded-4d46-e6d8-82bd355bfaad"
      },
      "execution_count": null,
      "outputs": [
        {
          "output_type": "stream",
          "name": "stdout",
          "text": [
            "              precision    recall  f1-score   support\n",
            "\n",
            "           0       0.59      0.20      0.30      3788\n",
            "           1       0.51      0.10      0.17       310\n",
            "           2       0.43      0.90      0.58      5561\n",
            "           3       0.49      0.08      0.14       210\n",
            "           4       0.66      0.13      0.22      3946\n",
            "\n",
            "    accuracy                           0.46     13815\n",
            "   macro avg       0.54      0.28      0.28     13815\n",
            "weighted avg       0.54      0.46      0.39     13815\n",
            "\n"
          ]
        }
      ]
    },
    {
      "cell_type": "markdown",
      "source": [
        "# **Discursive Role**"
      ],
      "metadata": {
        "id": "2XCdekOc5Mpq"
      }
    },
    {
      "cell_type": "code",
      "source": [
        "df_train['Discursive Role'].isnull().sum(),df_test['Discursive Role'].isnull().sum()"
      ],
      "metadata": {
        "id": "LOY4vjXy5PfD",
        "colab": {
          "base_uri": "https://localhost:8080/"
        },
        "outputId": "ceadf4f0-7374-4ff8-f599-8a2c10778e56"
      },
      "execution_count": null,
      "outputs": [
        {
          "output_type": "execute_result",
          "data": {
            "text/plain": [
              "(54608, 9667)"
            ]
          },
          "metadata": {},
          "execution_count": 78
        }
      ]
    },
    {
      "cell_type": "code",
      "source": [
        "df_train['Discursive Role'].unique(),df_test['Discursive Role'].value_counts()"
      ],
      "metadata": {
        "id": "vbMgjgtJ5gMK",
        "colab": {
          "base_uri": "https://localhost:8080/"
        },
        "outputId": "9432e4b5-e3ab-4fa7-827f-4e45c0713291"
      },
      "execution_count": null,
      "outputs": [
        {
          "output_type": "execute_result",
          "data": {
            "text/plain": [
              "(array([nan, 'ATK', 'AIN', 'DFN', 'CNS', 'GSL', 'PTH', ' `'], dtype=object),\n",
              " ATK    3631\n",
              " AIN     319\n",
              " DFN     127\n",
              " CNS      64\n",
              " GSL       7\n",
              " Name: Discursive Role, dtype: int64)"
            ]
          },
          "metadata": {},
          "execution_count": 79
        }
      ]
    },
    {
      "cell_type": "code",
      "source": [
        "df_train_dis= df_train[df_train['Discursive Role']!=\"PTH\"]\n",
        "df_train_dis= df_train_dis[df_train_dis['Discursive Role']!=\" `\"]\n",
        "df_train_dis=df_train_dis[\"Discursive Role\"].fillna(\"NA\")\n",
        "df_train_dis.unique()"
      ],
      "metadata": {
        "id": "OuOkpqjk5sg-",
        "colab": {
          "base_uri": "https://localhost:8080/"
        },
        "outputId": "96984f91-650a-4618-9c94-0f91462d2bf2"
      },
      "execution_count": null,
      "outputs": [
        {
          "output_type": "execute_result",
          "data": {
            "text/plain": [
              "array(['NA', 'ATK', 'AIN', 'DFN', 'CNS', 'GSL'], dtype=object)"
            ]
          },
          "metadata": {},
          "execution_count": 80
        }
      ]
    },
    {
      "cell_type": "code",
      "source": [
        "df_train= df_train[df_train['Discursive Role']!=\"PTH\"]\n",
        "df_train= df_train[df_train['Discursive Role']!=\" `\"]\n",
        "df_train_dis=df_train[\"Discursive Role\"].fillna(\"NA\")\n",
        "df_train_dis.unique()\n"
      ],
      "metadata": {
        "colab": {
          "base_uri": "https://localhost:8080/"
        },
        "id": "1zxdB2nG-OTR",
        "outputId": "a682e286-1924-4f9a-c139-985048958f8d"
      },
      "execution_count": null,
      "outputs": [
        {
          "output_type": "execute_result",
          "data": {
            "text/plain": [
              "array(['NA', 'ATK', 'AIN', 'DFN', 'CNS', 'GSL'], dtype=object)"
            ]
          },
          "metadata": {},
          "execution_count": 81
        }
      ]
    },
    {
      "cell_type": "code",
      "source": [
        "df_test_dis=df_test[\"Discursive Role\"].fillna(\"NA\")\n",
        "df_test_dis.unique()"
      ],
      "metadata": {
        "colab": {
          "base_uri": "https://localhost:8080/"
        },
        "id": "r8KySBSK7i-W",
        "outputId": "7d787cae-d37f-43d1-c7d6-5f6928b9ac3b"
      },
      "execution_count": null,
      "outputs": [
        {
          "output_type": "execute_result",
          "data": {
            "text/plain": [
              "array(['ATK', 'NA', 'AIN', 'DFN', 'CNS', 'GSL'], dtype=object)"
            ]
          },
          "metadata": {},
          "execution_count": 82
        }
      ]
    },
    {
      "cell_type": "code",
      "source": [
        "#changing arguments to number\n",
        "d = {\"ATK\":0, \"AIN\":1, \"DFN\":2,\"CNS\":3,\"GSL\":4,\"NA\":5}\n",
        "df_train_dis = df_train_dis.map(d)\n",
        "df_test_dis= df_test_dis.map(d)"
      ],
      "metadata": {
        "id": "cT0mjeW85zs9"
      },
      "execution_count": null,
      "outputs": []
    },
    {
      "cell_type": "code",
      "source": [
        "df_train_dis.unique(),df_test_dis.unique()"
      ],
      "metadata": {
        "id": "w5XTW54S56_C",
        "colab": {
          "base_uri": "https://localhost:8080/"
        },
        "outputId": "487d21d9-0251-419e-cb1d-8a580335b25c"
      },
      "execution_count": null,
      "outputs": [
        {
          "output_type": "execute_result",
          "data": {
            "text/plain": [
              "(array([5, 0, 1, 2, 3, 4], dtype=int64),\n",
              " array([0, 5, 1, 2, 3, 4], dtype=int64))"
            ]
          },
          "metadata": {},
          "execution_count": 84
        }
      ]
    },
    {
      "cell_type": "code",
      "source": [
        "#vectorizing the dataset\n",
        "from sklearn.feature_extraction.text import TfidfVectorizer"
      ],
      "metadata": {
        "id": "7QS9b2dU6DQ6"
      },
      "execution_count": null,
      "outputs": []
    },
    {
      "cell_type": "code",
      "source": [
        "vector_dis = TfidfVectorizer()\n",
        "v1_dis = vector_dis.fit_transform(df_train['Text'])\n",
        "v2_dis = vector_dis.transform(df_test['Text'])"
      ],
      "metadata": {
        "id": "HhwTH9bB6KuV"
      },
      "execution_count": null,
      "outputs": []
    },
    {
      "cell_type": "code",
      "source": [
        "import joblib\n",
        "joblib.dump(vector_dis,'result\\DiscursiveRole_vectorization.joblib')"
      ],
      "metadata": {
        "id": "81WsE5wT6UyG",
        "colab": {
          "base_uri": "https://localhost:8080/"
        },
        "outputId": "a814da3b-f25e-4e26-c6a1-28fdd6a7abef"
      },
      "execution_count": null,
      "outputs": [
        {
          "output_type": "execute_result",
          "data": {
            "text/plain": [
              "['result\\\\DiscursiveRole_vectorization.joblib']"
            ]
          },
          "metadata": {},
          "execution_count": 17
        }
      ]
    },
    {
      "cell_type": "code",
      "source": [
        "X_train_dis=v1_dis\n",
        "y_train_dis=df_train_dis\n",
        "X_test_dis=v2_dis\n",
        "y_test_dis=df_test_dis"
      ],
      "metadata": {
        "id": "r8pwMEo46dDj"
      },
      "execution_count": null,
      "outputs": []
    },
    {
      "cell_type": "code",
      "source": [
        "#applying class weight\n",
        "from sklearn.utils import compute_class_weight\n",
        "classweight = dict(zip([0,1,2,3,4,5],compute_class_weight(class_weight = 'balanced',y=df_train_dis.values,classes=[0,1,2,3,4,5])))\n",
        "classweight"
      ],
      "metadata": {
        "id": "7qfQNIWM6lC7",
        "colab": {
          "base_uri": "https://localhost:8080/"
        },
        "outputId": "139ed066-b4f2-44ea-833f-6757c4458a94"
      },
      "execution_count": null,
      "outputs": [
        {
          "output_type": "execute_result",
          "data": {
            "text/plain": [
              "{0: 0.6348970752834688,\n",
              " 1: 6.700821777092964,\n",
              " 2: 17.921016483516482,\n",
              " 3: 31.820731707317073,\n",
              " 4: 352.6081081081081,\n",
              " 5: 0.23891188104307062}"
            ]
          },
          "metadata": {},
          "execution_count": 88
        }
      ]
    },
    {
      "cell_type": "markdown",
      "source": [
        "logistic regression"
      ],
      "metadata": {
        "id": "QUzKc3wUBigc"
      }
    },
    {
      "cell_type": "code",
      "source": [
        "from sklearn.linear_model import LogisticRegression"
      ],
      "metadata": {
        "id": "T3r1ZKLO624b"
      },
      "execution_count": null,
      "outputs": []
    },
    {
      "cell_type": "code",
      "source": [
        "f = open(\"result/dis_lg.txt\",'w')\n",
        "f.write(f\"LogisticRegression(C = {0},tol = {0},penalty ={0})\")\n",
        "f.close()\n",
        "from sklearn.metrics import f1_score\n",
        "C = [1,5,25,50,100,200]\n",
        "penalty = [\"l2\" , 'l1' ]\n",
        "solver = ['newton-cg', 'lbfgs', 'sag']\n",
        "# l1_ratio = [0.0,0.3,0.5,0.8,1.0]"
      ],
      "metadata": {
        "id": "zd09tOpc6-Sx"
      },
      "execution_count": null,
      "outputs": []
    },
    {
      "cell_type": "code",
      "source": [
        "score = 0\n",
        "for i in C:\n",
        "  for k in penalty:\n",
        "    for l in solver :\n",
        "      print(i,k,l)\n",
        "      try:\n",
        "        model = LogisticRegression(C = i,penalty =k  , solver = l , random_state = 42,class_weight=classweight)\n",
        "        model.fit(X_train_dis,y_train_dis)\n",
        "      except :\n",
        "        continue\n",
        "      pred_m = model.predict(X_test_dis)\n",
        "      f = f1_score(y_test_dis,pred_m,average = 'macro')\n",
        "      if(score<f):\n",
        "          score = f\n",
        "          f = open(\"result/dis_lg.txt\",'w')\n",
        "          f.write(f\"LogisticRegression(C = {i},penalty = {k},solver={l})\")\n",
        "          f.close()\n",
        "          joblib.dump(model,\"result/dis_lg.joblib\")\n",
        "          print(score)\n",
        "              "
      ],
      "metadata": {
        "id": "Yb8jrCnh7H5a"
      },
      "execution_count": null,
      "outputs": []
    },
    {
      "cell_type": "code",
      "source": [
        "model=joblib.load('result/dis_lg.joblib')"
      ],
      "metadata": {
        "id": "WHiTeYclJ3l6"
      },
      "execution_count": null,
      "outputs": []
    },
    {
      "cell_type": "code",
      "source": [
        "from sklearn.metrics import confusion_matrix,classification_report\n",
        "pred_dis = model.predict(X_test_dis)\n",
        "print(classification_report(y_test_dis,pred_dis))"
      ],
      "metadata": {
        "id": "Z14hLKfI7Wkz",
        "colab": {
          "base_uri": "https://localhost:8080/"
        },
        "outputId": "2c5c51d6-409d-47df-9fe2-52eb4b8ca5de"
      },
      "execution_count": null,
      "outputs": [
        {
          "output_type": "stream",
          "name": "stdout",
          "text": [
            "              precision    recall  f1-score   support\n",
            "\n",
            "           0       0.60      0.65      0.62      3631\n",
            "           1       0.19      0.46      0.27       319\n",
            "           2       0.08      0.20      0.11       127\n",
            "           3       0.06      0.19      0.09        64\n",
            "           4       0.00      0.00      0.00         7\n",
            "           5       0.87      0.77      0.82      9667\n",
            "\n",
            "    accuracy                           0.72     13815\n",
            "   macro avg       0.30      0.38      0.32     13815\n",
            "weighted avg       0.77      0.72      0.74     13815\n",
            "\n"
          ]
        }
      ]
    },
    {
      "cell_type": "markdown",
      "source": [
        "SVM in Discursive Role"
      ],
      "metadata": {
        "id": "SVW6n6q9RI7b"
      }
    },
    {
      "cell_type": "code",
      "source": [
        "from sklearn.svm import SVC"
      ],
      "metadata": {
        "id": "4iyWZ5cORIRX"
      },
      "execution_count": null,
      "outputs": []
    },
    {
      "cell_type": "code",
      "source": [
        "mx = 0\n",
        "for kernel in ['linear', 'poly', 'rbf']:\n",
        "    for C in [1,5,10,25,50,100,200]:\n",
        "        if(kernel=='poly'):\n",
        "          if(C != 200):\n",
        "            for degree in [1,2,3,4]:\n",
        "                model = SVC(C = C,kernel=kernel,class_weight=classweight,degree=degree)\n",
        "                model.fit(X_train_dis,y_train_dis)\n",
        "                pred = model.predict(X_test_dis)\n",
        "                f = f1_score(y_test_dis,pred,average='macro')\n",
        "                if(mx<f):\n",
        "                    mx = max(mx,f)\n",
        "                    s = open('result/sv_agn.txt' , 'w')\n",
        "                    s.write(f\"SVC(C= {C}, degree = {degree} , kernel = {kernel}) score ={mx}\")\n",
        "                    s.close()\n",
        "                    print(mx)\n",
        "                print(f,f\"C = {C} , kernel = {kernel} , degree = {degree}\")\n",
        "        else:\n",
        "            model = SVC(C = C,kernel=kernel,class_weight=classweight)\n",
        "            model.fit(X_train_dis,y_train_dis)\n",
        "            pred = model.predict(X_test_dis)\n",
        "            f = f1_score(y_test_dis,pred,average='macro')\n",
        "            if(mx<f):\n",
        "                mx = max(mx,f)\n",
        "                s = open('result/sv_dis.txt' , 'w')\n",
        "                s.write(f\"SVC(C= {C} , kernal = {kernel}) score = {mx}\")\n",
        "                s.close()\n",
        "                print(mx)\n",
        "            print(f,f\"C = {C} , kernel = {kernel})  \")"
      ],
      "metadata": {
        "id": "z9Q-jYw1RSWf",
        "colab": {
          "base_uri": "https://localhost:8080/"
        },
        "outputId": "23f63650-2460-4cac-9b8a-afb71c093b01"
      },
      "execution_count": null,
      "outputs": [
        {
          "output_type": "stream",
          "name": "stdout",
          "text": [
            "0.3246132186562977\n",
            "0.3246132186562977 C = 1 , kernel = linear)  \n",
            "0.3186954643085527 C = 5 , kernel = linear)  \n",
            "0.3108431198900853 C = 10 , kernel = linear)  \n",
            "0.2917411018303593 C = 25 , kernel = linear)  \n",
            "0.2894989953680685 C = 50 , kernel = linear)  \n",
            "0.28755647536697787 C = 100 , kernel = linear)  \n",
            "0.28607904568621 C = 200 , kernel = linear)  \n",
            "0.32436758953655126 C = 1 , kernel = poly , degree = 1\n",
            "0.33416180836467335\n",
            "0.33416180836467335 C = 1 , kernel = poly , degree = 2\n",
            "0.3198187721019434 C = 1 , kernel = poly , degree = 3\n",
            "0.30956559911985065 C = 1 , kernel = poly , degree = 4\n",
            "0.31851575273694305 C = 5 , kernel = poly , degree = 1\n",
            "0.32306568729976576 C = 5 , kernel = poly , degree = 2\n",
            "0.3133207807380131 C = 5 , kernel = poly , degree = 3\n",
            "0.3073435302320569 C = 5 , kernel = poly , degree = 4\n",
            "0.3108274222980652 C = 10 , kernel = poly , degree = 1\n",
            "0.3209303107447116 C = 10 , kernel = poly , degree = 2\n",
            "0.3126792305412699 C = 10 , kernel = poly , degree = 3\n",
            "0.30637412577278056 C = 10 , kernel = poly , degree = 4\n",
            "0.2916720909110881 C = 25 , kernel = poly , degree = 1\n",
            "0.29987270937590116 C = 25 , kernel = poly , degree = 2\n",
            "0.3117063568138311 C = 25 , kernel = poly , degree = 3\n",
            "0.3052369742511946 C = 25 , kernel = poly , degree = 4\n",
            "0.2894246310318918 C = 50 , kernel = poly , degree = 1\n",
            "0.29168697985707065 C = 50 , kernel = poly , degree = 2\n",
            "0.2757632489103357 C = 50 , kernel = poly , degree = 3\n",
            "0.3044720440253112 C = 50 , kernel = poly , degree = 4\n",
            "0.2874624928697702 C = 100 , kernel = poly , degree = 1\n",
            "0.2912974117516253 C = 100 , kernel = poly , degree = 2\n",
            "0.2556425275658926 C = 100 , kernel = poly , degree = 3\n",
            "0.23563335050360537 C = 100 , kernel = poly , degree = 4\n",
            "0.32280694207961974 C = 1 , kernel = rbf)  \n",
            "0.3114446146776728 C = 5 , kernel = rbf)  \n",
            "0.30824812540552676 C = 10 , kernel = rbf)  \n",
            "0.3071829994638094 C = 25 , kernel = rbf)  \n",
            "0.30658941243630106 C = 50 , kernel = rbf)  \n",
            "0.30623523464340835 C = 100 , kernel = rbf)  \n",
            "0.3062799842771864 C = 200 , kernel = rbf)  \n"
          ]
        }
      ]
    },
    {
      "cell_type": "code",
      "source": [
        "model = SVC(C = ,kernel=,class_weight=classweight,degree=)\n",
        "model.fit(X_train_dis,y_train_dis)"
      ],
      "metadata": {
        "id": "PRTlrvRYSEbH"
      },
      "execution_count": null,
      "outputs": []
    },
    {
      "cell_type": "code",
      "source": [
        "joblib.dump(model,'result/dis_sv.joblib')"
      ],
      "metadata": {
        "id": "bdwyozLJSEUA"
      },
      "execution_count": null,
      "outputs": []
    },
    {
      "cell_type": "code",
      "source": [
        "pred_dis = model.predict(X_test_dis)\n",
        "print(classification_report(y_test_dis,pred_dis))"
      ],
      "metadata": {
        "id": "0CZRk7uMSEMh"
      },
      "execution_count": null,
      "outputs": []
    },
    {
      "cell_type": "markdown",
      "source": [
        "MNB in Discursive bias"
      ],
      "metadata": {
        "id": "juetaXCyiPVq"
      }
    },
    {
      "cell_type": "code",
      "source": [
        "f = open(\"result/dis_mnb.txt\",'w')\n",
        "f.write(f\"MultinomialNB(alpha = {0})\")\n",
        "f.close()"
      ],
      "metadata": {
        "id": "3ucd9vN2jJtm"
      },
      "execution_count": null,
      "outputs": []
    },
    {
      "cell_type": "code",
      "source": [
        "\n",
        "from sklearn.naive_bayes import MultinomialNB\n",
        "from sklearn.metrics import f1_score\n",
        "score =0\n",
        "for i in np.arange(1e-05,1e-01,1e-04):\n",
        "  print(i)\n",
        "  model = MultinomialNB(alpha=i)\n",
        "  model.fit(X_train_dis,y_train_dis)\n",
        "  pred = model.predict(X_test_dis)\n",
        "  f = f1_score(y_test_dis,pred,average='macro')\n",
        "  if(score<f):\n",
        "    score = f\n",
        "    f = open(\"result/dis_mnb.txt\",'w')\n",
        "    f.write(f\"MultinomialNB(alpha = {i})\")\n",
        "    f.close()\n",
        "    joblib.dump(model,'result/dis_mnb.joblib')\n",
        "    print(score)"
      ],
      "metadata": {
        "id": "nkKIPvKqjJm0"
      },
      "execution_count": null,
      "outputs": []
    },
    {
      "cell_type": "code",
      "source": [
        "model = joblib.load('result/dis_mnb.joblib')"
      ],
      "metadata": {
        "id": "4riTMnnZjJbH"
      },
      "execution_count": null,
      "outputs": []
    },
    {
      "cell_type": "code",
      "source": [
        "from sklearn.metrics import confusion_matrix,classification_report\n",
        "\n",
        "pred_dis = model.predict(X_test_dis)\n",
        "print(classification_report(y_test_dis,pred_dis))"
      ],
      "metadata": {
        "id": "XhqHJ97ojJU_",
        "colab": {
          "base_uri": "https://localhost:8080/"
        },
        "outputId": "ccf9464d-e238-4b61-ed71-b9af60481ea2"
      },
      "execution_count": null,
      "outputs": [
        {
          "output_type": "stream",
          "name": "stdout",
          "text": [
            "              precision    recall  f1-score   support\n",
            "\n",
            "           0       0.66      0.61      0.64      3631\n",
            "           1       0.28      0.16      0.20       319\n",
            "           2       0.13      0.08      0.10       127\n",
            "           3       0.10      0.08      0.09        64\n",
            "           4       0.00      0.00      0.00         7\n",
            "           5       0.84      0.88      0.86      9667\n",
            "\n",
            "    accuracy                           0.78     13815\n",
            "   macro avg       0.34      0.30      0.31     13815\n",
            "weighted avg       0.77      0.78      0.78     13815\n",
            "\n"
          ]
        }
      ]
    },
    {
      "cell_type": "code",
      "source": [],
      "metadata": {
        "id": "MAJ5GPxWjJN3"
      },
      "execution_count": null,
      "outputs": []
    },
    {
      "cell_type": "markdown",
      "source": [
        "Random Forest in Discursive bias"
      ],
      "metadata": {
        "id": "TcSMBeemiYFG"
      }
    },
    {
      "cell_type": "code",
      "source": [
        "f = open(\"result/dis_rf.txt\",'w')\n",
        "f.write(f\"RandomForestClassifier(max_features={0},max_depth={0},criterion={0})\")\n",
        "f.close()"
      ],
      "metadata": {
        "id": "xQsf1e2Yidli"
      },
      "execution_count": null,
      "outputs": []
    },
    {
      "cell_type": "code",
      "source": [
        "from sklearn.metrics import f1_score\n",
        "max_features = ['auto', 'sqrt', 'log2']\n",
        "max_depth = [4,5,6,7,8]\n",
        "criterion =['gini', 'entropy'] "
      ],
      "metadata": {
        "id": "j0-7Py4kidaC"
      },
      "execution_count": null,
      "outputs": []
    },
    {
      "cell_type": "code",
      "source": [
        "score=0\n",
        "for i in max_features:\n",
        "  for j in max_depth:\n",
        "    for k in criterion:\n",
        "      print(i,j,k)\n",
        "      model=RandomForestClassifier(max_features=i,max_depth=j,criterion=k,class_weight=classweight)\n",
        "      model.fit(X_train_dis,y_train_dis)\n",
        "      pred=model.predict(X_test_dis)\n",
        "      f=f1_score(y_test_dis,pred,average='macro')\n",
        "      if(score<f):\n",
        "        score=f\n",
        "        f=open(\"result/dis_rf.txt\",'w')\n",
        "        f.write(f\"RandomForestClassifier(C={i},tol={j},penalty={k}) score={score}\")\n",
        "        f.close() \n",
        "        joblib.dump(model,'result/dis_rf.joblib')\n",
        "        print(score)"
      ],
      "metadata": {
        "id": "D0lvoU7zidOc",
        "colab": {
          "base_uri": "https://localhost:8080/"
        },
        "outputId": "15393e8d-92f2-437f-a07f-cdf7bd6dfdb7"
      },
      "execution_count": null,
      "outputs": [
        {
          "output_type": "stream",
          "name": "stdout",
          "text": [
            "auto 4 gini\n"
          ]
        },
        {
          "output_type": "stream",
          "name": "stderr",
          "text": [
            "C:\\Users\\student\\AppData\\Local\\Programs\\Python\\Python310\\lib\\site-packages\\sklearn\\ensemble\\_forest.py:427: FutureWarning: `max_features='auto'` has been deprecated in 1.1 and will be removed in 1.3. To keep the past behaviour, explicitly set `max_features='sqrt'` or remove this parameter as it is also the default value for RandomForestClassifiers and ExtraTreesClassifiers.\n",
            "  warn(\n"
          ]
        },
        {
          "output_type": "stream",
          "name": "stdout",
          "text": [
            "0.1371520269659093\n",
            "auto 4 entropy\n"
          ]
        },
        {
          "output_type": "stream",
          "name": "stderr",
          "text": [
            "C:\\Users\\student\\AppData\\Local\\Programs\\Python\\Python310\\lib\\site-packages\\sklearn\\ensemble\\_forest.py:427: FutureWarning: `max_features='auto'` has been deprecated in 1.1 and will be removed in 1.3. To keep the past behaviour, explicitly set `max_features='sqrt'` or remove this parameter as it is also the default value for RandomForestClassifiers and ExtraTreesClassifiers.\n",
            "  warn(\n"
          ]
        },
        {
          "output_type": "stream",
          "name": "stdout",
          "text": [
            "auto 5 gini\n"
          ]
        },
        {
          "output_type": "stream",
          "name": "stderr",
          "text": [
            "C:\\Users\\student\\AppData\\Local\\Programs\\Python\\Python310\\lib\\site-packages\\sklearn\\ensemble\\_forest.py:427: FutureWarning: `max_features='auto'` has been deprecated in 1.1 and will be removed in 1.3. To keep the past behaviour, explicitly set `max_features='sqrt'` or remove this parameter as it is also the default value for RandomForestClassifiers and ExtraTreesClassifiers.\n",
            "  warn(\n"
          ]
        },
        {
          "output_type": "stream",
          "name": "stdout",
          "text": [
            "auto 5 entropy\n"
          ]
        },
        {
          "output_type": "stream",
          "name": "stderr",
          "text": [
            "C:\\Users\\student\\AppData\\Local\\Programs\\Python\\Python310\\lib\\site-packages\\sklearn\\ensemble\\_forest.py:427: FutureWarning: `max_features='auto'` has been deprecated in 1.1 and will be removed in 1.3. To keep the past behaviour, explicitly set `max_features='sqrt'` or remove this parameter as it is also the default value for RandomForestClassifiers and ExtraTreesClassifiers.\n",
            "  warn(\n"
          ]
        },
        {
          "output_type": "stream",
          "name": "stdout",
          "text": [
            "0.14347067801441749\n",
            "auto 6 gini\n"
          ]
        },
        {
          "output_type": "stream",
          "name": "stderr",
          "text": [
            "C:\\Users\\student\\AppData\\Local\\Programs\\Python\\Python310\\lib\\site-packages\\sklearn\\ensemble\\_forest.py:427: FutureWarning: `max_features='auto'` has been deprecated in 1.1 and will be removed in 1.3. To keep the past behaviour, explicitly set `max_features='sqrt'` or remove this parameter as it is also the default value for RandomForestClassifiers and ExtraTreesClassifiers.\n",
            "  warn(\n"
          ]
        },
        {
          "output_type": "stream",
          "name": "stdout",
          "text": [
            "0.15712503593975746\n",
            "auto 6 entropy\n"
          ]
        },
        {
          "output_type": "stream",
          "name": "stderr",
          "text": [
            "C:\\Users\\student\\AppData\\Local\\Programs\\Python\\Python310\\lib\\site-packages\\sklearn\\ensemble\\_forest.py:427: FutureWarning: `max_features='auto'` has been deprecated in 1.1 and will be removed in 1.3. To keep the past behaviour, explicitly set `max_features='sqrt'` or remove this parameter as it is also the default value for RandomForestClassifiers and ExtraTreesClassifiers.\n",
            "  warn(\n"
          ]
        },
        {
          "output_type": "stream",
          "name": "stdout",
          "text": [
            "0.1624634353089468\n",
            "auto 7 gini\n"
          ]
        },
        {
          "output_type": "stream",
          "name": "stderr",
          "text": [
            "C:\\Users\\student\\AppData\\Local\\Programs\\Python\\Python310\\lib\\site-packages\\sklearn\\ensemble\\_forest.py:427: FutureWarning: `max_features='auto'` has been deprecated in 1.1 and will be removed in 1.3. To keep the past behaviour, explicitly set `max_features='sqrt'` or remove this parameter as it is also the default value for RandomForestClassifiers and ExtraTreesClassifiers.\n",
            "  warn(\n"
          ]
        },
        {
          "output_type": "stream",
          "name": "stdout",
          "text": [
            "auto 7 entropy\n"
          ]
        },
        {
          "output_type": "stream",
          "name": "stderr",
          "text": [
            "C:\\Users\\student\\AppData\\Local\\Programs\\Python\\Python310\\lib\\site-packages\\sklearn\\ensemble\\_forest.py:427: FutureWarning: `max_features='auto'` has been deprecated in 1.1 and will be removed in 1.3. To keep the past behaviour, explicitly set `max_features='sqrt'` or remove this parameter as it is also the default value for RandomForestClassifiers and ExtraTreesClassifiers.\n",
            "  warn(\n"
          ]
        },
        {
          "output_type": "stream",
          "name": "stdout",
          "text": [
            "auto 8 gini\n"
          ]
        },
        {
          "output_type": "stream",
          "name": "stderr",
          "text": [
            "C:\\Users\\student\\AppData\\Local\\Programs\\Python\\Python310\\lib\\site-packages\\sklearn\\ensemble\\_forest.py:427: FutureWarning: `max_features='auto'` has been deprecated in 1.1 and will be removed in 1.3. To keep the past behaviour, explicitly set `max_features='sqrt'` or remove this parameter as it is also the default value for RandomForestClassifiers and ExtraTreesClassifiers.\n",
            "  warn(\n"
          ]
        },
        {
          "output_type": "stream",
          "name": "stdout",
          "text": [
            "auto 8 entropy\n"
          ]
        },
        {
          "output_type": "stream",
          "name": "stderr",
          "text": [
            "C:\\Users\\student\\AppData\\Local\\Programs\\Python\\Python310\\lib\\site-packages\\sklearn\\ensemble\\_forest.py:427: FutureWarning: `max_features='auto'` has been deprecated in 1.1 and will be removed in 1.3. To keep the past behaviour, explicitly set `max_features='sqrt'` or remove this parameter as it is also the default value for RandomForestClassifiers and ExtraTreesClassifiers.\n",
            "  warn(\n"
          ]
        },
        {
          "output_type": "stream",
          "name": "stdout",
          "text": [
            "sqrt 4 gini\n",
            "sqrt 4 entropy\n",
            "sqrt 5 gini\n",
            "sqrt 5 entropy\n",
            "sqrt 6 gini\n",
            "sqrt 6 entropy\n",
            "sqrt 7 gini\n",
            "sqrt 7 entropy\n",
            "0.16352135675399107\n",
            "sqrt 8 gini\n",
            "sqrt 8 entropy\n",
            "0.16953405210222847\n",
            "log2 4 gini\n",
            "log2 4 entropy\n",
            "0.17453578166082417\n",
            "log2 5 gini\n",
            "log2 5 entropy\n",
            "log2 6 gini\n",
            "log2 6 entropy\n",
            "log2 7 gini\n",
            "log2 7 entropy\n",
            "log2 8 gini\n",
            "0.19475799644110045\n",
            "log2 8 entropy\n"
          ]
        }
      ]
    },
    {
      "cell_type": "code",
      "source": [
        "model=joblib.load('result/dis_rf.joblib')"
      ],
      "metadata": {
        "id": "aSE_PbX0icfF"
      },
      "execution_count": null,
      "outputs": []
    },
    {
      "cell_type": "code",
      "source": [
        "\n",
        "from sklearn.metrics import confusion_matrix,classification_report\n",
        "pred_dis = model.predict(X_test_dis)\n",
        "print(classification_report(y_test_dis,pred_dis))"
      ],
      "metadata": {
        "id": "FKNDU7RZics0",
        "colab": {
          "base_uri": "https://localhost:8080/"
        },
        "outputId": "66f30ac0-5d72-450b-f8ac-3ee6cb5e9e00"
      },
      "execution_count": null,
      "outputs": [
        {
          "output_type": "stream",
          "name": "stdout",
          "text": [
            "              precision    recall  f1-score   support\n",
            "\n",
            "           0       0.64      0.11      0.19      3631\n",
            "           1       0.14      0.13      0.14       319\n",
            "           2       0.04      0.12      0.05       127\n",
            "           3       0.01      0.14      0.02        64\n",
            "           4       0.00      0.00      0.00         7\n",
            "           5       0.73      0.81      0.77      9667\n",
            "\n",
            "    accuracy                           0.60     13815\n",
            "   macro avg       0.26      0.22      0.19     13815\n",
            "weighted avg       0.68      0.60      0.59     13815\n",
            "\n"
          ]
        }
      ]
    },
    {
      "cell_type": "markdown",
      "source": [
        "XGBoost in discursive bias"
      ],
      "metadata": {
        "id": "Nh3AR22V3p8C"
      }
    },
    {
      "cell_type": "code",
      "source": [
        "pip install xgboost"
      ],
      "metadata": {
        "colab": {
          "base_uri": "https://localhost:8080/"
        },
        "id": "DbbgYyGeDos_",
        "outputId": "b3bdbf66-e642-472d-a1c4-8c7f3d7a08c5"
      },
      "execution_count": null,
      "outputs": [
        {
          "output_type": "stream",
          "name": "stdout",
          "text": [
            "Collecting xgboost\n",
            "  Downloading xgboost-1.6.1-py3-none-win_amd64.whl (125.4 MB)\n",
            "     -------------------------------------- 125.4/125.4 MB 3.3 MB/s eta 0:00:00\n",
            "Requirement already satisfied: numpy in c:\\users\\student\\appdata\\local\\programs\\python\\python310\\lib\\site-packages (from xgboost) (1.23.0)\n",
            "Requirement already satisfied: scipy in c:\\users\\student\\appdata\\local\\programs\\python\\python310\\lib\\site-packages (from xgboost) (1.8.1)\n",
            "Installing collected packages: xgboost\n",
            "Successfully installed xgboost-1.6.1\n",
            "Note: you may need to restart the kernel to use updated packages.\n"
          ]
        },
        {
          "output_type": "stream",
          "name": "stderr",
          "text": [
            "WARNING: You are using pip version 22.0.4; however, version 22.1.2 is available.\n",
            "You should consider upgrading via the 'C:\\Users\\student\\AppData\\Local\\Programs\\Python\\Python310\\python.exe -m pip install --upgrade pip' command.\n"
          ]
        }
      ]
    },
    {
      "cell_type": "code",
      "source": [
        "from xgboost import XGBClassifier"
      ],
      "metadata": {
        "id": "QbQrtLbaicmy"
      },
      "execution_count": null,
      "outputs": []
    },
    {
      "cell_type": "code",
      "source": [
        "g=open(\"result/dis_xgb.txt\",'w')\n",
        "g.write(f\"XGBClassifier(min_child_weight={0},gamma={0},subsample={0})\")\n",
        "g.close()\n",
        "from sklearn.metrics import f1_score\n",
        "min_child_weight = [1, 5, 10]\n",
        "gamma =[0.5, 1, 1.5, 2, 5]\n",
        "subsample= [0.6, 0.8, 1.0]"
      ],
      "metadata": {
        "id": "s7xkIIYT329T"
      },
      "execution_count": null,
      "outputs": []
    },
    {
      "cell_type": "code",
      "source": [
        "from xgboost import XGBClassifier\n",
        "score=0\n",
        "for i in min_child_weight:\n",
        "  for j in gamma:\n",
        "    for k in subsample:\n",
        "      model=XGBClassifier(min_child_weight=i,gamma=j,subsample=k,class_weight=classweight)\n",
        "      model.fit(X_train_dis,y_train_dis)\n",
        "      pred_m=model.predict(X_test_dis)\n",
        "      f=f1_score(y_test_dis,pred_m,average='macro')\n",
        "      if(score<f):\n",
        "        score=f\n",
        "        g=open(\"result/dis_xbg.txt\",'w')\n",
        "        g.write(f\"XGBClassifier(min_child_weight={i},gamma={j},subsample={k})\")\n",
        "        g.close() \n",
        "        joblib.dump(model,'result/dis_xgb.joblib')\n",
        "        print(score)\n"
      ],
      "metadata": {
        "id": "1sE-rcIK3246"
      },
      "execution_count": null,
      "outputs": []
    },
    {
      "cell_type": "code",
      "source": [
        "model = joblib.load('result/dis_xgb.joblib')"
      ],
      "metadata": {
        "id": "NknnddSyDF79"
      },
      "execution_count": null,
      "outputs": []
    },
    {
      "cell_type": "code",
      "source": [
        "from sklearn.metrics import confusion_matrix,classification_report\n",
        "pred_dis = model.predict(X_test_dis)\n",
        "print(classification_report(y_test_dis,pred_dis))"
      ],
      "metadata": {
        "id": "MXrC8iTk32sB",
        "colab": {
          "base_uri": "https://localhost:8080/"
        },
        "outputId": "8f48d948-79d9-4428-e77e-e6a429a91aae"
      },
      "execution_count": null,
      "outputs": [
        {
          "output_type": "stream",
          "name": "stdout",
          "text": [
            "              precision    recall  f1-score   support\n",
            "\n",
            "           0       0.78      0.39      0.52      3631\n",
            "           1       0.35      0.03      0.05       319\n",
            "           2       0.30      0.05      0.08       127\n",
            "           3       0.10      0.02      0.03        64\n",
            "           4       0.00      0.00      0.00         7\n",
            "           5       0.78      0.96      0.86      9667\n",
            "\n",
            "    accuracy                           0.78     13815\n",
            "   macro avg       0.38      0.24      0.26     13815\n",
            "weighted avg       0.76      0.78      0.74     13815\n",
            "\n"
          ]
        }
      ]
    },
    {
      "cell_type": "markdown",
      "source": [
        "Adaboost in discursive bias"
      ],
      "metadata": {
        "id": "nsMI6g4s32Cj"
      }
    },
    {
      "cell_type": "code",
      "source": [
        "from sklearn.ensemble import AdaBoostClassifier"
      ],
      "metadata": {
        "id": "xc7HXYiOr5Nt"
      },
      "execution_count": null,
      "outputs": []
    },
    {
      "cell_type": "code",
      "source": [
        "g=open(\"result/dis_adb.txt\",'w')\n",
        "g.write(f\"AdaBoost(n_estimators={0},learning_rate={0})\")\n",
        "g.close()"
      ],
      "metadata": {
        "id": "UClPrylJr-Fb"
      },
      "execution_count": null,
      "outputs": []
    },
    {
      "cell_type": "code",
      "source": [
        "score=0\n",
        "for i in [30,50,70,80,90,100,120]:\n",
        "  for j in np.arange(1e-02,1,1e-01):\n",
        "      print(i,j)\n",
        "      model=AdaBoostClassifier(n_estimators=i,learning_rate=j)\n",
        "      model.fit(X_train_dis,y_train_dis)\n",
        "      pred_m=model.predict(X_test_dis)\n",
        "      f=f1_score(y_test_dis,pred_m,average='macro')\n",
        "      if(score<f):\n",
        "        score=f\n",
        "        g=open(\"result/dis_adb.txt\",'w')\n",
        "        g.write(f\"Adaboost(n_estimators={i},learning_rate={j}) score = {score}\")\n",
        "        g.close()\n",
        "        print(score)\n",
        "        joblib.dump(model,\"result/dis_adb.joblib\")"
      ],
      "metadata": {
        "id": "itH2UThbsCp8",
        "colab": {
          "base_uri": "https://localhost:8080/"
        },
        "outputId": "f4477cb2-4653-4558-df6d-721def0c9bd6"
      },
      "execution_count": null,
      "outputs": [
        {
          "output_type": "stream",
          "name": "stdout",
          "text": [
            "30 0.01\n",
            "0.16169512237815795\n",
            "30 0.11\n",
            "30 0.21000000000000002\n",
            "30 0.31000000000000005\n",
            "0.16257888640267917\n",
            "30 0.41000000000000003\n",
            "30 0.51\n",
            "0.16365813142873545\n",
            "30 0.6100000000000001\n",
            "30 0.7100000000000001\n",
            "0.1646121222590496\n",
            "30 0.81\n",
            "0.164630145426074\n",
            "30 0.91\n",
            "0.16541593911148544\n",
            "50 0.01\n",
            "50 0.11\n",
            "50 0.21000000000000002\n",
            "50 0.31000000000000005\n",
            "50 0.41000000000000003\n",
            "50 0.51\n",
            "0.16642426201478902\n",
            "50 0.6100000000000001\n",
            "50 0.7100000000000001\n",
            "50 0.81\n",
            "0.1670129873427686\n",
            "50 0.91\n",
            "70 0.01\n",
            "70 0.11\n",
            "70 0.21000000000000002\n",
            "70 0.31000000000000005\n",
            "70 0.41000000000000003\n",
            "70 0.51\n",
            "0.16701486916394637\n",
            "70 0.6100000000000001\n",
            "70 0.7100000000000001\n",
            "0.16854013406342047\n",
            "70 0.81\n",
            "70 0.91\n",
            "80 0.01\n",
            "80 0.11\n",
            "80 0.21000000000000002\n",
            "80 0.31000000000000005\n",
            "80 0.41000000000000003\n",
            "80 0.51\n",
            "80 0.6100000000000001\n",
            "80 0.7100000000000001\n",
            "0.16862532202094227\n",
            "80 0.81\n",
            "80 0.91\n",
            "90 0.01\n",
            "90 0.11\n",
            "90 0.21000000000000002\n",
            "90 0.31000000000000005\n",
            "90 0.41000000000000003\n",
            "90 0.51\n",
            "90 0.6100000000000001\n",
            "90 0.7100000000000001\n",
            "90 0.81\n",
            "90 0.91\n",
            "100 0.01\n",
            "100 0.11\n",
            "100 0.21000000000000002\n",
            "100 0.31000000000000005\n",
            "100 0.41000000000000003\n",
            "100 0.51\n",
            "100 0.6100000000000001\n",
            "100 0.7100000000000001\n",
            "100 0.81\n",
            "100 0.91\n",
            "120 0.01\n",
            "120 0.11\n",
            "120 0.21000000000000002\n",
            "120 0.31000000000000005\n",
            "120 0.41000000000000003\n",
            "120 0.51\n",
            "120 0.6100000000000001\n",
            "120 0.7100000000000001\n",
            "120 0.81\n",
            "120 0.91\n"
          ]
        }
      ]
    },
    {
      "cell_type": "code",
      "source": [
        "model = joblib.load('result/dis_adb.joblib')"
      ],
      "metadata": {
        "id": "7LEqT8VWsPaE"
      },
      "execution_count": null,
      "outputs": []
    },
    {
      "cell_type": "code",
      "source": [
        "pred_dis = model.predict(X_test_dis)\n",
        "print(classification_report(y_test_dis,pred_dis))"
      ],
      "metadata": {
        "id": "Hz05vWC4sV19",
        "colab": {
          "base_uri": "https://localhost:8080/"
        },
        "outputId": "4f26aeab-3e7f-4675-b045-5b01eebcaaed"
      },
      "execution_count": null,
      "outputs": [
        {
          "output_type": "stream",
          "name": "stdout",
          "text": [
            "              precision    recall  f1-score   support\n",
            "\n",
            "           0       0.72      0.10      0.18      3631\n",
            "           1       0.00      0.00      0.00       319\n",
            "           2       0.00      0.00      0.00       127\n",
            "           3       0.00      0.00      0.00        64\n",
            "           4       0.00      0.00      0.00         7\n",
            "           5       0.72      0.99      0.83      9667\n",
            "\n",
            "    accuracy                           0.72     13815\n",
            "   macro avg       0.24      0.18      0.17     13815\n",
            "weighted avg       0.69      0.72      0.63     13815\n",
            "\n"
          ]
        },
        {
          "output_type": "stream",
          "name": "stderr",
          "text": [
            "C:\\Users\\student\\AppData\\Local\\Programs\\Python\\Python310\\lib\\site-packages\\sklearn\\metrics\\_classification.py:1327: UndefinedMetricWarning: Precision and F-score are ill-defined and being set to 0.0 in labels with no predicted samples. Use `zero_division` parameter to control this behavior.\n",
            "  _warn_prf(average, modifier, msg_start, len(result))\n",
            "C:\\Users\\student\\AppData\\Local\\Programs\\Python\\Python310\\lib\\site-packages\\sklearn\\metrics\\_classification.py:1327: UndefinedMetricWarning: Precision and F-score are ill-defined and being set to 0.0 in labels with no predicted samples. Use `zero_division` parameter to control this behavior.\n",
            "  _warn_prf(average, modifier, msg_start, len(result))\n",
            "C:\\Users\\student\\AppData\\Local\\Programs\\Python\\Python310\\lib\\site-packages\\sklearn\\metrics\\_classification.py:1327: UndefinedMetricWarning: Precision and F-score are ill-defined and being set to 0.0 in labels with no predicted samples. Use `zero_division` parameter to control this behavior.\n",
            "  _warn_prf(average, modifier, msg_start, len(result))\n"
          ]
        }
      ]
    },
    {
      "cell_type": "markdown",
      "source": [
        "# **Communal Bias**"
      ],
      "metadata": {
        "id": "KeXcmjIN5QHq"
      }
    },
    {
      "cell_type": "code",
      "source": [
        "df_train['Communal Bias'].isnull().sum(),df_test['Communal Bias'].value_counts().isnull().sum()"
      ],
      "metadata": {
        "colab": {
          "base_uri": "https://localhost:8080/"
        },
        "id": "l0fpNm925UB6",
        "outputId": "bc16f77a-b1db-431d-bc96-b2e3b7141077"
      },
      "execution_count": null,
      "outputs": [
        {
          "output_type": "execute_result",
          "data": {
            "text/plain": [
              "(3, 0)"
            ]
          },
          "metadata": {},
          "execution_count": 41
        }
      ]
    },
    {
      "cell_type": "code",
      "source": [
        "df_train['Communal Bias'].unique(),df_test['Communal Bias'].unique()"
      ],
      "metadata": {
        "colab": {
          "base_uri": "https://localhost:8080/"
        },
        "id": "BcY4QdZB5mSC",
        "outputId": "d89838ad-bd6f-416f-92e1-cbed4776fea4"
      },
      "execution_count": null,
      "outputs": [
        {
          "output_type": "execute_result",
          "data": {
            "text/plain": [
              "(array(['NCOM', 'COM', 'COMT', nan], dtype=object),\n",
              " array(['NCOM', 'COM', 'COMT'], dtype=object))"
            ]
          },
          "metadata": {},
          "execution_count": 42
        }
      ]
    },
    {
      "cell_type": "code",
      "source": [
        "df_train_com= df_train[df_train['Communal Bias'].isnull()==False]\n",
        "df_test_com= df_test[df_test['Communal Bias'].isnull()==False]\n",
        "df_train_com"
      ],
      "metadata": {
        "id": "RBfK5C_A5tWz"
      },
      "execution_count": null,
      "outputs": []
    },
    {
      "cell_type": "code",
      "source": [
        "#changing arguments to number\n",
        "d = {\"NCOM\":0, \"COM\":1, \"COMT\":2}\n",
        "df_train_com['Communal Bias'] = df_train_com['Communal Bias'].map(d)\n",
        "df_test_com['Communal Bias'] = df_test_com['Communal Bias'].map(d)"
      ],
      "metadata": {
        "id": "nuncfUf150b6"
      },
      "execution_count": null,
      "outputs": []
    },
    {
      "cell_type": "code",
      "source": [
        "df_train_com['Communal Bias'].unique(),df_test_com['Communal Bias'].unique()"
      ],
      "metadata": {
        "id": "fR8ONnvc57uS",
        "colab": {
          "base_uri": "https://localhost:8080/"
        },
        "outputId": "bfe2fcae-2151-4ebb-8c3b-f4a74dcaf255"
      },
      "execution_count": null,
      "outputs": [
        {
          "output_type": "execute_result",
          "data": {
            "text/plain": [
              "(array([0, 1, 2], dtype=int64), array([0, 1, 2], dtype=int64))"
            ]
          },
          "metadata": {},
          "execution_count": 45
        }
      ]
    },
    {
      "cell_type": "code",
      "source": [
        "#vectorizing the dataset\n",
        "from sklearn.feature_extraction.text import TfidfVectorizer"
      ],
      "metadata": {
        "id": "hbjoTY1d6EBq"
      },
      "execution_count": null,
      "outputs": []
    },
    {
      "cell_type": "code",
      "source": [
        "vector_com = TfidfVectorizer()\n",
        "v1_com = vector_com.fit_transform(df_train_com['Text'])\n",
        "v2_com = vector_com.transform(df_test_com['Text'])"
      ],
      "metadata": {
        "id": "ovd3yGuM6L76"
      },
      "execution_count": null,
      "outputs": []
    },
    {
      "cell_type": "code",
      "source": [
        "import joblib\n",
        "joblib.dump(vector_com,'result\\CommunalBias_vectorization.joblib')"
      ],
      "metadata": {
        "colab": {
          "base_uri": "https://localhost:8080/"
        },
        "id": "tF2j7GP16V4i",
        "outputId": "95032cda-34d2-4227-c609-6d00c9bf51e6"
      },
      "execution_count": null,
      "outputs": [
        {
          "output_type": "execute_result",
          "data": {
            "text/plain": [
              "['result\\\\CommunalBias_vectorization.joblib']"
            ]
          },
          "metadata": {},
          "execution_count": 20
        }
      ]
    },
    {
      "cell_type": "code",
      "source": [
        "X_train_com=v1_com\n",
        "y_train_com=df_train_com['Communal Bias']\n",
        "X_test_com=v2_com\n",
        "y_test_com=df_test_com['Communal Bias']"
      ],
      "metadata": {
        "id": "UCg0YVPo6d0D"
      },
      "execution_count": null,
      "outputs": []
    },
    {
      "cell_type": "code",
      "source": [
        "#applying class weight\n",
        "from sklearn.utils import compute_class_weight\n",
        "classweight = dict(zip([0,1,2],compute_class_weight(class_weight = 'balanced',y=df_train_com['Communal Bias'].values,classes=[0,1,2])))\n",
        "classweight"
      ],
      "metadata": {
        "colab": {
          "base_uri": "https://localhost:8080/"
        },
        "id": "xHlr2PYQ6mDD",
        "outputId": "e4cd6af1-2d0b-4afb-d5ac-bf704b71dde0"
      },
      "execution_count": null,
      "outputs": [
        {
          "output_type": "execute_result",
          "data": {
            "text/plain": [
              "{0: 0.3712197736013696, 1: 3.40991461927165, 2: 77.42631058358062}"
            ]
          },
          "metadata": {},
          "execution_count": 49
        }
      ]
    },
    {
      "cell_type": "markdown",
      "source": [
        "Logistic in Communal"
      ],
      "metadata": {
        "id": "AbUj4RLCY-PU"
      }
    },
    {
      "cell_type": "code",
      "source": [
        "from sklearn.linear_model import LogisticRegression"
      ],
      "metadata": {
        "id": "mpir05FN63wT"
      },
      "execution_count": null,
      "outputs": []
    },
    {
      "cell_type": "code",
      "source": [
        "f = open(\"result/lg_com.txt\",'w')\n",
        "f.write(f\"LogisticRegression(C = {0},tol = {0},penalty ={0})\")\n",
        "f.close()\n",
        "from sklearn.metrics import f1_score\n",
        "C = [1,5,25,50,100,200]\n",
        "penalty = [\"l2\" , 'l1' ]\n",
        "solver = ['newton-cg', 'lbfgs', 'sag']\n",
        "# l1_ratio = [0.0,0.3,0.5,0.8,1.0]"
      ],
      "metadata": {
        "id": "QbvAbqsv6_Lq"
      },
      "execution_count": null,
      "outputs": []
    },
    {
      "cell_type": "code",
      "source": [
        "score = 0\n",
        "for i in C:\n",
        "  for k in penalty:\n",
        "    for l in solver :\n",
        "      print(i,k,l)\n",
        "      try:\n",
        "        model = LogisticRegression(C = i,penalty =k  , solver = l , random_state = 42,class_weight=classweight)\n",
        "        model.fit(X_train_com,y_train_com)\n",
        "      except :\n",
        "        continue\n",
        "      pred_m = model.predict(X_test_com)\n",
        "      f = f1_score(y_test_com,pred_m,average = 'macro')\n",
        "      if(score<f):\n",
        "          score = f\n",
        "          f = open(\"result/lg_com.txt\",'w')\n",
        "          f.write(f\"LogisticRegression(C = {i},penalty = {k},solver={l})\")\n",
        "          f.close()\n",
        "          joblib.dump(model,\"result/com_lg.joblib\")\n",
        "          print(score)\n",
        "              "
      ],
      "metadata": {
        "id": "e29zz30E7JN6"
      },
      "execution_count": null,
      "outputs": []
    },
    {
      "cell_type": "code",
      "source": [
        "model=joblib.load('result/com_lg.joblib')"
      ],
      "metadata": {
        "colab": {
          "base_uri": "https://localhost:8080/"
        },
        "id": "KBBilI3WO78T",
        "outputId": "584513bf-a639-43cc-dcfb-e5269a8b749f"
      },
      "execution_count": null,
      "outputs": [
        {
          "output_type": "execute_result",
          "data": {
            "text/plain": [
              "['result/com_lg.joblib']"
            ]
          },
          "metadata": {},
          "execution_count": 161
        }
      ]
    },
    {
      "cell_type": "code",
      "source": [
        "from sklearn.metrics import confusion_matrix,classification_report\n",
        "pred_com = model.predict(X_test_com)\n",
        "print(classification_report(y_test_com,pred_com))"
      ],
      "metadata": {
        "colab": {
          "base_uri": "https://localhost:8080/"
        },
        "id": "oSGNqgyn7Xma",
        "outputId": "5cfca150-c21c-4031-d290-f886f184cbcc"
      },
      "execution_count": null,
      "outputs": [
        {
          "output_type": "stream",
          "name": "stdout",
          "text": [
            "              precision    recall  f1-score   support\n",
            "\n",
            "           0       1.00      0.97      0.98     22410\n",
            "           1       0.81      0.98      0.89      3054\n",
            "           2       0.70      1.00      0.82       122\n",
            "\n",
            "    accuracy                           0.97     25586\n",
            "   macro avg       0.84      0.98      0.90     25586\n",
            "weighted avg       0.97      0.97      0.97     25586\n",
            "\n"
          ]
        }
      ]
    },
    {
      "cell_type": "markdown",
      "source": [
        "SVM in Communal bias"
      ],
      "metadata": {
        "id": "HP6M8gNBSieA"
      }
    },
    {
      "cell_type": "code",
      "source": [
        "pip install "
      ],
      "metadata": {
        "id": "331YYTKaaX01"
      },
      "execution_count": null,
      "outputs": []
    },
    {
      "cell_type": "code",
      "source": [
        "from sklearn.svm import SVC"
      ],
      "metadata": {
        "id": "jCTJn9MMSnwj"
      },
      "execution_count": null,
      "outputs": []
    },
    {
      "cell_type": "code",
      "source": [
        "mx = 0\n",
        "for kernel in ['linear', 'poly', 'rbf']:\n",
        "    for C in [1,5,10,25,50,100,200]:\n",
        "        if(kernel=='poly'):\n",
        "          if(C!=200):\n",
        "            for degree in [1,2,3,4]:\n",
        "                model = SVC(C = C,kernel=kernel,class_weight=classweight,degree=degree)\n",
        "                model.fit(X_train_com,y_train_com)\n",
        "                pred = model.predict(X_test_com)\n",
        "                f = f1_score(y_test_com,pred,average='macro')\n",
        "                if(mx<f):\n",
        "                    mx = max(mx,f)\n",
        "                    s = open('result/com_svm.txt' , 'w')\n",
        "                    s.write(f\"SVC(C= {C}, degree = {degree} , kernel = {kernel}) score={mx}\")\n",
        "                    s.close()\n",
        "                    # joblib.dump(model,\"result/com_svm.joblib\")\n",
        "                    print(mx)\n",
        "                print(f,f\"C = {C} , kernel = {kernel} , degree = {degree}\")\n",
        "        else:\n",
        "            model = SVC(C = C,kernel=kernel,class_weight=classweight)\n",
        "            model.fit(X_train_com,y_train_com)\n",
        "            pred = model.predict(X_test_com)\n",
        "            f = f1_score(y_test_com,pred,average='macro')\n",
        "            if(mx<f):\n",
        "                mx = max(mx,f)\n",
        "                s = open('result/com_svm.txt' , 'w')\n",
        "                s.write(f\"SVC(C= {C}, kernal = {kernel}) score = {mx}\")\n",
        "                s.close()\n",
        "                # joblib.dump(model,\"result/com_svm.joblib\")\n",
        "                print(mx)\n",
        "            print(f,f\"C = {C} , kernel = {kernel}\")"
      ],
      "metadata": {
        "id": "dzIka8yzShtd",
        "colab": {
          "base_uri": "https://localhost:8080/"
        },
        "outputId": "37151f0b-718c-48a5-98ea-a5e8057aea65"
      },
      "execution_count": null,
      "outputs": [
        {
          "output_type": "stream",
          "name": "stdout",
          "text": [
            "0.5218824147526065\n",
            "0.5218824147526065 C = 1 , kernel = linear\n",
            "0.5232340470137563\n",
            "0.5232340470137563 C = 5 , kernel = linear\n",
            "0.51825228763407 C = 10 , kernel = linear\n",
            "0.5111406903762264 C = 25 , kernel = linear\n",
            "0.5082879489277933 C = 50 , kernel = linear\n",
            "0.5037656705029795 C = 100 , kernel = linear\n",
            "0.4973406979662285 C = 200 , kernel = linear\n",
            "0.5220095543530723 C = 1 , kernel = poly , degree = 1\n",
            "0.5286337180450743\n",
            "0.5286337180450743 C = 1 , kernel = poly , degree = 2\n",
            "0.5051527097790841 C = 1 , kernel = poly , degree = 3\n",
            "0.49938564487200016 C = 1 , kernel = poly , degree = 4\n",
            "0.5230608924545334 C = 5 , kernel = poly , degree = 1\n",
            "0.5196496313587055 C = 5 , kernel = poly , degree = 2\n",
            "0.5015079897340035 C = 5 , kernel = poly , degree = 3\n",
            "0.49757136963768395 C = 5 , kernel = poly , degree = 4\n",
            "0.518004551393426 C = 10 , kernel = poly , degree = 1\n",
            "0.5184648793085062 C = 10 , kernel = poly , degree = 2\n",
            "0.5006769649020876 C = 10 , kernel = poly , degree = 3\n",
            "0.4973423665562513 C = 10 , kernel = poly , degree = 4\n",
            "0.5109613275807412 C = 25 , kernel = poly , degree = 1\n",
            "0.5176018597213691 C = 25 , kernel = poly , degree = 2\n",
            "0.5003734080473783 C = 25 , kernel = poly , degree = 3\n",
            "0.49711318162420287 C = 25 , kernel = poly , degree = 4\n",
            "0.5082512623698655 C = 50 , kernel = poly , degree = 1\n",
            "0.5168605428533226 C = 50 , kernel = poly , degree = 2\n",
            "0.5005319471882458 C = 50 , kernel = poly , degree = 3\n",
            "0.497271127483964 C = 50 , kernel = poly , degree = 4\n",
            "0.5034632826629032 C = 100 , kernel = poly , degree = 1\n",
            "0.5168183099769023 C = 100 , kernel = poly , degree = 2\n",
            "0.5007563219460897 C = 100 , kernel = poly , degree = 3\n",
            "0.497271127483964 C = 100 , kernel = poly , degree = 4\n",
            "0.5411532451401538\n",
            "0.5411532451401538 C = 1 , kernel = rbf\n",
            "0.5291200857611897 C = 5 , kernel = rbf\n",
            "0.5274645362253847 C = 10 , kernel = rbf\n",
            "0.5263394657856668 C = 25 , kernel = rbf\n",
            "0.5263921869754823 C = 50 , kernel = rbf\n",
            "0.5263612831393375 C = 100 , kernel = rbf\n",
            "0.5263612831393375 C = 200 , kernel = rbf\n"
          ]
        }
      ]
    },
    {
      "cell_type": "code",
      "source": [
        "model=joblib.load('result/com_svm.joblib')"
      ],
      "metadata": {
        "id": "fWVhBJ_TTEgp"
      },
      "execution_count": null,
      "outputs": []
    },
    {
      "cell_type": "code",
      "source": [
        "from sklearn.metrics import confusion_matrix,classification_report\n",
        "pred_com = model.predict(X_test_com)\n",
        "print(classification_report(y_test_com,pred_com))"
      ],
      "metadata": {
        "id": "S3no6G0QTEYN"
      },
      "execution_count": null,
      "outputs": []
    },
    {
      "cell_type": "markdown",
      "source": [
        "MNB in communal Bias"
      ],
      "metadata": {
        "id": "cSVkeNbfciM0"
      }
    },
    {
      "cell_type": "code",
      "source": [
        "f = open(\"result/com_mnb.txt\",'w')\n",
        "f.write(f\"MultinomialNB(alpha = {0})\")\n",
        "f.close()"
      ],
      "metadata": {
        "id": "wm-l3rRDcl_W"
      },
      "execution_count": null,
      "outputs": []
    },
    {
      "cell_type": "code",
      "source": [
        "from sklearn.naive_bayes import MultinomialNB\n",
        "from sklearn.metrics import f1_score\n",
        "score =0\n",
        "for i in np.arange(1e-05,1e-01,1e-04):\n",
        "  model = MultinomialNB(alpha=i)\n",
        "  model.fit(X_train_com,y_train_com)\n",
        "  pred = model.predict(X_test_com)\n",
        "  f = f1_score(y_test_com,pred,average='macro')\n",
        "  if(score<f):\n",
        "    score = f\n",
        "    f = open(\"result/com_mnb.txt\",'w')\n",
        "    f.write(f\"MultinomialNB(alpha = {i})\")\n",
        "    f.close()\n",
        "    joblib.dump(model,'result/com_mnb.joblib')\n",
        "    print(score)"
      ],
      "metadata": {
        "id": "v2EUo65Hclz-"
      },
      "execution_count": null,
      "outputs": []
    },
    {
      "cell_type": "code",
      "source": [
        "model=joblib.load('result/com_mnb.joblib')"
      ],
      "metadata": {
        "id": "1z-99dpAcuWV"
      },
      "execution_count": null,
      "outputs": []
    },
    {
      "cell_type": "code",
      "source": [
        "from sklearn.metrics import confusion_matrix,classification_report\n",
        "\n",
        "pred_com = model.predict(X_test_com)\n",
        "print(classification_report(y_test_com,pred_com))"
      ],
      "metadata": {
        "id": "ln0DPSNATESu",
        "colab": {
          "base_uri": "https://localhost:8080/"
        },
        "outputId": "0641a30e-6a33-4b00-f1f9-288553385dd4"
      },
      "execution_count": null,
      "outputs": [
        {
          "output_type": "stream",
          "name": "stdout",
          "text": [
            "              precision    recall  f1-score   support\n",
            "\n",
            "           0       0.94      0.96      0.95     12457\n",
            "           1       0.52      0.47      0.49      1291\n",
            "           2       0.19      0.09      0.12        67\n",
            "\n",
            "    accuracy                           0.91     13815\n",
            "   macro avg       0.55      0.50      0.52     13815\n",
            "weighted avg       0.90      0.91      0.90     13815\n",
            "\n"
          ]
        }
      ]
    },
    {
      "cell_type": "markdown",
      "source": [
        "Random Forest in communl bias"
      ],
      "metadata": {
        "id": "QwEFTKtqlOI4"
      }
    },
    {
      "cell_type": "code",
      "source": [
        "from sklearn.ensemble import RandomForestClassifier "
      ],
      "metadata": {
        "id": "ixXYvZyr-h0Q"
      },
      "execution_count": null,
      "outputs": []
    },
    {
      "cell_type": "code",
      "source": [
        "f = open(\"result/com_rf.txt\",'w')\n",
        "f.write(f\"RandomForestClassifier(max_features={0},max_depth={0},criterion={0})\")\n",
        "f.close() "
      ],
      "metadata": {
        "id": "IA7DgebqlUxJ"
      },
      "execution_count": null,
      "outputs": []
    },
    {
      "cell_type": "code",
      "source": [
        "from sklearn.metrics import f1_score\n",
        "max_features = ['auto', 'sqrt', 'log2']\n",
        "max_depth = [4,5,6,7,8,10]\n",
        "criterion =['gini', 'entropy'] "
      ],
      "metadata": {
        "id": "x2MHjtualUrG"
      },
      "execution_count": null,
      "outputs": []
    },
    {
      "cell_type": "code",
      "source": [
        "score=0\n",
        "for i in max_features:\n",
        "  for j in max_depth:\n",
        "    for k in criterion:\n",
        "      print(i,j,k)\n",
        "      model=RandomForestClassifier(max_features=i,max_depth=j,criterion=k,class_weight=classweight)\n",
        "      model.fit(X_train_com,y_train_com)\n",
        "      pred=model.predict(X_test_com)\n",
        "      f=f1_score(y_test_com,pred,average='macro')\n",
        "      if(score<f):\n",
        "        score=f\n",
        "        f=open(\"result/com_rf.txt\",'w')\n",
        "        f.write(f\"RandomForestClassifier(C={i},tol={j},penalty={k}) score={score}\")\n",
        "        f.close()\n",
        "        joblib.dump(model,'result/com_rf.joblib')\n",
        "        print(score)"
      ],
      "metadata": {
        "id": "ZF7LqDmIlUlr",
        "colab": {
          "base_uri": "https://localhost:8080/"
        },
        "outputId": "c2fa1ce9-43ac-4cd8-bcd3-6ce8c3fdffae"
      },
      "execution_count": null,
      "outputs": [
        {
          "output_type": "stream",
          "name": "stdout",
          "text": [
            "auto 4 gini\n"
          ]
        },
        {
          "output_type": "stream",
          "name": "stderr",
          "text": [
            "C:\\Users\\student\\AppData\\Local\\Programs\\Python\\Python310\\lib\\site-packages\\sklearn\\ensemble\\_forest.py:427: FutureWarning: `max_features='auto'` has been deprecated in 1.1 and will be removed in 1.3. To keep the past behaviour, explicitly set `max_features='sqrt'` or remove this parameter as it is also the default value for RandomForestClassifiers and ExtraTreesClassifiers.\n",
            "  warn(\n"
          ]
        },
        {
          "output_type": "stream",
          "name": "stdout",
          "text": [
            "0.4516379163714972\n",
            "auto 4 entropy\n"
          ]
        },
        {
          "output_type": "stream",
          "name": "stderr",
          "text": [
            "C:\\Users\\student\\AppData\\Local\\Programs\\Python\\Python310\\lib\\site-packages\\sklearn\\ensemble\\_forest.py:427: FutureWarning: `max_features='auto'` has been deprecated in 1.1 and will be removed in 1.3. To keep the past behaviour, explicitly set `max_features='sqrt'` or remove this parameter as it is also the default value for RandomForestClassifiers and ExtraTreesClassifiers.\n",
            "  warn(\n"
          ]
        },
        {
          "output_type": "stream",
          "name": "stdout",
          "text": [
            "0.45217631259807783\n",
            "auto 5 gini\n"
          ]
        },
        {
          "output_type": "stream",
          "name": "stderr",
          "text": [
            "C:\\Users\\student\\AppData\\Local\\Programs\\Python\\Python310\\lib\\site-packages\\sklearn\\ensemble\\_forest.py:427: FutureWarning: `max_features='auto'` has been deprecated in 1.1 and will be removed in 1.3. To keep the past behaviour, explicitly set `max_features='sqrt'` or remove this parameter as it is also the default value for RandomForestClassifiers and ExtraTreesClassifiers.\n",
            "  warn(\n"
          ]
        },
        {
          "output_type": "stream",
          "name": "stdout",
          "text": [
            "0.4600503412099184\n",
            "auto 5 entropy\n"
          ]
        },
        {
          "output_type": "stream",
          "name": "stderr",
          "text": [
            "C:\\Users\\student\\AppData\\Local\\Programs\\Python\\Python310\\lib\\site-packages\\sklearn\\ensemble\\_forest.py:427: FutureWarning: `max_features='auto'` has been deprecated in 1.1 and will be removed in 1.3. To keep the past behaviour, explicitly set `max_features='sqrt'` or remove this parameter as it is also the default value for RandomForestClassifiers and ExtraTreesClassifiers.\n",
            "  warn(\n"
          ]
        },
        {
          "output_type": "stream",
          "name": "stdout",
          "text": [
            "auto 6 gini\n"
          ]
        },
        {
          "output_type": "stream",
          "name": "stderr",
          "text": [
            "C:\\Users\\student\\AppData\\Local\\Programs\\Python\\Python310\\lib\\site-packages\\sklearn\\ensemble\\_forest.py:427: FutureWarning: `max_features='auto'` has been deprecated in 1.1 and will be removed in 1.3. To keep the past behaviour, explicitly set `max_features='sqrt'` or remove this parameter as it is also the default value for RandomForestClassifiers and ExtraTreesClassifiers.\n",
            "  warn(\n"
          ]
        },
        {
          "output_type": "stream",
          "name": "stdout",
          "text": [
            "0.46356692592751975\n",
            "auto 6 entropy\n"
          ]
        },
        {
          "output_type": "stream",
          "name": "stderr",
          "text": [
            "C:\\Users\\student\\AppData\\Local\\Programs\\Python\\Python310\\lib\\site-packages\\sklearn\\ensemble\\_forest.py:427: FutureWarning: `max_features='auto'` has been deprecated in 1.1 and will be removed in 1.3. To keep the past behaviour, explicitly set `max_features='sqrt'` or remove this parameter as it is also the default value for RandomForestClassifiers and ExtraTreesClassifiers.\n",
            "  warn(\n"
          ]
        },
        {
          "output_type": "stream",
          "name": "stdout",
          "text": [
            "auto 7 gini\n"
          ]
        },
        {
          "output_type": "stream",
          "name": "stderr",
          "text": [
            "C:\\Users\\student\\AppData\\Local\\Programs\\Python\\Python310\\lib\\site-packages\\sklearn\\ensemble\\_forest.py:427: FutureWarning: `max_features='auto'` has been deprecated in 1.1 and will be removed in 1.3. To keep the past behaviour, explicitly set `max_features='sqrt'` or remove this parameter as it is also the default value for RandomForestClassifiers and ExtraTreesClassifiers.\n",
            "  warn(\n"
          ]
        },
        {
          "output_type": "stream",
          "name": "stdout",
          "text": [
            "auto 7 entropy\n"
          ]
        },
        {
          "output_type": "stream",
          "name": "stderr",
          "text": [
            "C:\\Users\\student\\AppData\\Local\\Programs\\Python\\Python310\\lib\\site-packages\\sklearn\\ensemble\\_forest.py:427: FutureWarning: `max_features='auto'` has been deprecated in 1.1 and will be removed in 1.3. To keep the past behaviour, explicitly set `max_features='sqrt'` or remove this parameter as it is also the default value for RandomForestClassifiers and ExtraTreesClassifiers.\n",
            "  warn(\n"
          ]
        },
        {
          "output_type": "stream",
          "name": "stdout",
          "text": [
            "0.4702519213008436\n",
            "auto 8 gini\n"
          ]
        },
        {
          "output_type": "stream",
          "name": "stderr",
          "text": [
            "C:\\Users\\student\\AppData\\Local\\Programs\\Python\\Python310\\lib\\site-packages\\sklearn\\ensemble\\_forest.py:427: FutureWarning: `max_features='auto'` has been deprecated in 1.1 and will be removed in 1.3. To keep the past behaviour, explicitly set `max_features='sqrt'` or remove this parameter as it is also the default value for RandomForestClassifiers and ExtraTreesClassifiers.\n",
            "  warn(\n"
          ]
        },
        {
          "output_type": "stream",
          "name": "stdout",
          "text": [
            "auto 8 entropy\n"
          ]
        },
        {
          "output_type": "stream",
          "name": "stderr",
          "text": [
            "C:\\Users\\student\\AppData\\Local\\Programs\\Python\\Python310\\lib\\site-packages\\sklearn\\ensemble\\_forest.py:427: FutureWarning: `max_features='auto'` has been deprecated in 1.1 and will be removed in 1.3. To keep the past behaviour, explicitly set `max_features='sqrt'` or remove this parameter as it is also the default value for RandomForestClassifiers and ExtraTreesClassifiers.\n",
            "  warn(\n"
          ]
        },
        {
          "output_type": "stream",
          "name": "stdout",
          "text": [
            "0.4752404085729536\n",
            "auto 10 gini\n"
          ]
        },
        {
          "output_type": "stream",
          "name": "stderr",
          "text": [
            "C:\\Users\\student\\AppData\\Local\\Programs\\Python\\Python310\\lib\\site-packages\\sklearn\\ensemble\\_forest.py:427: FutureWarning: `max_features='auto'` has been deprecated in 1.1 and will be removed in 1.3. To keep the past behaviour, explicitly set `max_features='sqrt'` or remove this parameter as it is also the default value for RandomForestClassifiers and ExtraTreesClassifiers.\n",
            "  warn(\n"
          ]
        },
        {
          "output_type": "stream",
          "name": "stdout",
          "text": [
            "auto 10 entropy\n"
          ]
        },
        {
          "output_type": "stream",
          "name": "stderr",
          "text": [
            "C:\\Users\\student\\AppData\\Local\\Programs\\Python\\Python310\\lib\\site-packages\\sklearn\\ensemble\\_forest.py:427: FutureWarning: `max_features='auto'` has been deprecated in 1.1 and will be removed in 1.3. To keep the past behaviour, explicitly set `max_features='sqrt'` or remove this parameter as it is also the default value for RandomForestClassifiers and ExtraTreesClassifiers.\n",
            "  warn(\n"
          ]
        },
        {
          "output_type": "stream",
          "name": "stdout",
          "text": [
            "0.47572326131053605\n",
            "sqrt 4 gini\n",
            "sqrt 4 entropy\n",
            "sqrt 5 gini\n",
            "sqrt 5 entropy\n",
            "sqrt 6 gini\n",
            "sqrt 6 entropy\n",
            "sqrt 7 gini\n",
            "0.4791660699368394\n",
            "sqrt 7 entropy\n",
            "sqrt 8 gini\n",
            "sqrt 8 entropy\n",
            "sqrt 10 gini\n",
            "sqrt 10 entropy\n",
            "0.4814678101788332\n",
            "log2 4 gini\n",
            "log2 4 entropy\n",
            "log2 5 gini\n",
            "log2 5 entropy\n",
            "log2 6 gini\n",
            "log2 6 entropy\n",
            "log2 7 gini\n",
            "log2 7 entropy\n",
            "log2 8 gini\n",
            "log2 8 entropy\n",
            "log2 10 gini\n",
            "log2 10 entropy\n"
          ]
        }
      ]
    },
    {
      "cell_type": "code",
      "source": [
        "model=joblib.load('result/com_rf.joblib')"
      ],
      "metadata": {
        "id": "gRUQw1BUlUOe"
      },
      "execution_count": null,
      "outputs": []
    },
    {
      "cell_type": "code",
      "source": [
        "\n",
        "from sklearn.metrics import confusion_matrix,classification_report\n",
        "pred_com = model.predict(X_test_com)\n",
        "print(classification_report(y_test_com,pred_com))"
      ],
      "metadata": {
        "id": "2H51bqiFldrA",
        "colab": {
          "base_uri": "https://localhost:8080/"
        },
        "outputId": "1ce55bcf-12e7-491b-d464-64813ee6b5da"
      },
      "execution_count": null,
      "outputs": [
        {
          "output_type": "stream",
          "name": "stdout",
          "text": [
            "              precision    recall  f1-score   support\n",
            "\n",
            "           0       0.95      0.92      0.94     12457\n",
            "           1       0.41      0.50      0.45      1291\n",
            "           2       0.05      0.07      0.06        67\n",
            "\n",
            "    accuracy                           0.88     13815\n",
            "   macro avg       0.47      0.50      0.48     13815\n",
            "weighted avg       0.89      0.88      0.89     13815\n",
            "\n"
          ]
        }
      ]
    },
    {
      "cell_type": "markdown",
      "source": [
        "XGBoost in Communal bias"
      ],
      "metadata": {
        "id": "7OdJlwwo6Lkt"
      }
    },
    {
      "cell_type": "code",
      "source": [
        "from xgboost import XGBClassifier"
      ],
      "metadata": {
        "id": "f3rRkyGOlT2d"
      },
      "execution_count": null,
      "outputs": []
    },
    {
      "cell_type": "code",
      "source": [
        "g=open(\"result/com_xgb.txt\",'w')\n",
        "g.write(f\"XGBClassifier(min_child_weight={0},gamma={0},subsample={0})\")\n",
        "g.close()\n",
        "from sklearn.metrics import f1_score\n",
        "min_child_weight = [1, 5, 10]\n",
        "gamma =[0.5, 1, 1.5, 2, 5]\n",
        "subsample= [0.6, 0.8, 1.0]"
      ],
      "metadata": {
        "id": "_0bOviH36YeA"
      },
      "execution_count": null,
      "outputs": []
    },
    {
      "cell_type": "code",
      "source": [
        "from xgboost import XGBClassifier\n",
        "score=0\n",
        "for i in min_child_weight:\n",
        "  for j in gamma:\n",
        "    for k in subsample:\n",
        "      model=XGBClassifier(min_child_weight=i,gamma=j,subsample=k,class_weight=classweight)\n",
        "      model.fit(X_train_com,y_train_com)\n",
        "      pred_m=model.predict(X_test_com)\n",
        "      f=f1_score(y_test_com,pred_m,average='macro')\n",
        "      if(score<f):\n",
        "        score=f\n",
        "        g=open(\"result/com_xbg.txt\",'w')\n",
        "        g.write(f\"XGBClassifier(min_child_weight={i},gamma={j},subsample={k})\")\n",
        "        g.close()"
      ],
      "metadata": {
        "id": "gRVkBRtG6YYl"
      },
      "execution_count": null,
      "outputs": []
    },
    {
      "cell_type": "code",
      "source": [
        "\n",
        "model=XGBClassifier(min_child_weight=1,gamma=2,subsample=0.6,class_weight=classweight)\n",
        "model.fit(X_train_com,y_train_com)"
      ],
      "metadata": {
        "id": "-OzVLTxZ6YVF"
      },
      "execution_count": null,
      "outputs": []
    },
    {
      "cell_type": "code",
      "source": [
        "from sklearn.metrics import confusion_matrix,classification_report\n",
        "pred_com = model.predict(X_test_com)\n",
        "print(classification_report(y_test_com,pred_com)) "
      ],
      "metadata": {
        "id": "-uAxE7pd6YRG"
      },
      "execution_count": null,
      "outputs": []
    },
    {
      "cell_type": "markdown",
      "source": [
        "AdaBoost in communal bias"
      ],
      "metadata": {
        "id": "bWe7iMNZsgxQ"
      }
    },
    {
      "cell_type": "code",
      "source": [
        "from sklearn.ensemble import AdaBoostClassifier"
      ],
      "metadata": {
        "id": "IhCrHYHKsl-M"
      },
      "execution_count": null,
      "outputs": []
    },
    {
      "cell_type": "code",
      "source": [
        "g=open(\"result/com_adb.txt\",'w')\n",
        "g.write(f\"AdaBoost(n_estimators={0},learning_rate={0})\")\n",
        "g.close()"
      ],
      "metadata": {
        "id": "hxMNqfXg6YId"
      },
      "execution_count": null,
      "outputs": []
    },
    {
      "cell_type": "code",
      "source": [
        "score=0\n",
        "for i in [30,50,70,80,90,100,120]:\n",
        "  for j in np.arange(1e-02,1,1e-01):\n",
        "    print(i,j)\n",
        "    model=AdaBoostClassifier(n_estimators=i,learning_rate=j)\n",
        "    model.fit(X_train_com,y_train_com)\n",
        "    pred_m=model.predict(X_test_com)\n",
        "    f=f1_score(y_test_com,pred_m,average='macro')\n",
        "    if(score<f):\n",
        "      score=f\n",
        "      g=open(\"result/com_adb.txt\",'w')\n",
        "      g.write(f\"Adaboost(n_estimators={i},learning_rate={j}) score={score}\")\n",
        "      g.close()\n",
        "      print(score)\n",
        "      joblib.dump(model,\"result/com_adb.joblib\")"
      ],
      "metadata": {
        "id": "MIsrTyGPsubd",
        "colab": {
          "base_uri": "https://localhost:8080/"
        },
        "outputId": "cd52e39c-365c-40fa-aca2-b2d360abdf86"
      },
      "execution_count": null,
      "outputs": [
        {
          "output_type": "stream",
          "name": "stdout",
          "text": [
            "30 0.01\n",
            "0.4100961067016444\n",
            "30 0.11\n",
            "0.41042696930920236\n",
            "30 0.21000000000000002\n",
            "0.41103506333498485\n",
            "30 0.31000000000000005\n",
            "0.41201398352193014\n",
            "30 0.41000000000000003\n",
            "0.412614644626392\n",
            "30 0.51\n",
            "0.41686034670926614\n",
            "30 0.6100000000000001\n",
            "0.4273124581388918\n",
            "30 0.7100000000000001\n",
            "0.4298625297122855\n",
            "30 0.81\n",
            "0.4392653659081928\n",
            "30 0.91\n",
            "50 0.01\n",
            "50 0.11\n",
            "50 0.21000000000000002\n",
            "50 0.31000000000000005\n",
            "50 0.41000000000000003\n",
            "50 0.51\n",
            "50 0.6100000000000001\n",
            "50 0.7100000000000001\n",
            "50 0.81\n",
            "0.45112093513752954\n",
            "50 0.91\n",
            "70 0.01\n",
            "70 0.11\n",
            "70 0.21000000000000002\n",
            "70 0.31000000000000005\n",
            "70 0.41000000000000003\n",
            "70 0.51\n",
            "70 0.6100000000000001\n",
            "70 0.7100000000000001\n",
            "70 0.81\n",
            "70 0.91\n",
            "80 0.01\n",
            "80 0.11\n",
            "80 0.21000000000000002\n",
            "80 0.31000000000000005\n",
            "80 0.41000000000000003\n",
            "80 0.51\n",
            "80 0.6100000000000001\n",
            "80 0.7100000000000001\n",
            "0.4558855057726667\n",
            "80 0.81\n",
            "0.45708919149616056\n",
            "80 0.91\n",
            "90 0.01\n",
            "90 0.11\n",
            "90 0.21000000000000002\n",
            "90 0.31000000000000005\n",
            "90 0.41000000000000003\n",
            "90 0.51\n",
            "90 0.6100000000000001\n",
            "90 0.7100000000000001\n",
            "0.45987991443879367\n",
            "90 0.81\n",
            "0.4743150215976091\n",
            "90 0.91\n",
            "100 0.01\n",
            "100 0.11\n",
            "100 0.21000000000000002\n",
            "100 0.31000000000000005\n",
            "100 0.41000000000000003\n",
            "100 0.51\n",
            "100 0.6100000000000001\n",
            "100 0.7100000000000001\n",
            "100 0.81\n",
            "100 0.91\n",
            "0.47550996534398043\n",
            "120 0.01\n",
            "120 0.11\n",
            "120 0.21000000000000002\n",
            "120 0.31000000000000005\n",
            "120 0.41000000000000003\n",
            "120 0.51\n",
            "120 0.6100000000000001\n",
            "120 0.7100000000000001\n",
            "120 0.81\n",
            "0.4760165209211278\n",
            "120 0.91\n",
            "0.47727840282504747\n"
          ]
        }
      ]
    },
    {
      "cell_type": "code",
      "source": [
        "model = joblib.load('result/com_adb.joblib')"
      ],
      "metadata": {
        "id": "HWX4A1KZs8HL"
      },
      "execution_count": null,
      "outputs": []
    },
    {
      "cell_type": "code",
      "source": [
        "pred_com = model.predict(X_test_com)\n",
        "print(classification_report(y_test_com,pred_com))"
      ],
      "metadata": {
        "id": "M7soovPts_j8",
        "colab": {
          "base_uri": "https://localhost:8080/"
        },
        "outputId": "79635ce1-1edb-4d7b-cc63-bd8523b3f9df"
      },
      "execution_count": null,
      "outputs": [
        {
          "output_type": "stream",
          "name": "stdout",
          "text": [
            "              precision    recall  f1-score   support\n",
            "\n",
            "           0       0.92      0.99      0.96     12457\n",
            "           1       0.68      0.26      0.37      1291\n",
            "           2       0.44      0.06      0.11        67\n",
            "\n",
            "    accuracy                           0.92     13815\n",
            "   macro avg       0.68      0.43      0.48     13815\n",
            "weighted avg       0.90      0.92      0.90     13815\n",
            "\n"
          ]
        }
      ]
    },
    {
      "cell_type": "markdown",
      "source": [
        "# **Ethnicity/Racial Bias**"
      ],
      "metadata": {
        "id": "DXxKSv0w5UYb"
      }
    },
    {
      "cell_type": "code",
      "source": [
        "df_train['Ethnicity/Racial Bias'].isnull().sum(),df_test['Ethnicity/Racial Bias'].isnull().sum()"
      ],
      "metadata": {
        "id": "hsNWP1d55YHr",
        "colab": {
          "base_uri": "https://localhost:8080/"
        },
        "outputId": "cf317b7a-bb71-4528-caa2-3e3b78ead71c"
      },
      "execution_count": null,
      "outputs": [
        {
          "output_type": "execute_result",
          "data": {
            "text/plain": [
              "(1, 0)"
            ]
          },
          "metadata": {},
          "execution_count": 55
        }
      ]
    },
    {
      "cell_type": "code",
      "source": [
        "df_train['Ethnicity/Racial Bias'].unique(),df_test['Ethnicity/Racial Bias'].unique()"
      ],
      "metadata": {
        "id": "8Rp7shoE5m9S",
        "colab": {
          "base_uri": "https://localhost:8080/"
        },
        "outputId": "5277ff0f-0b82-461a-81a3-14ae09a58830"
      },
      "execution_count": null,
      "outputs": [
        {
          "output_type": "execute_result",
          "data": {
            "text/plain": [
              "(array(['NETH', 'ETH', 'ETHT', nan], dtype=object),\n",
              " array(['NETH', 'ETH', 'ETHT'], dtype=object))"
            ]
          },
          "metadata": {},
          "execution_count": 56
        }
      ]
    },
    {
      "cell_type": "code",
      "source": [
        "df_train_rac= df_train[df_train['Ethnicity/Racial Bias'].isnull()==False]\n",
        "df_test_rac= df_test[df_test['Ethnicity/Racial Bias'].isnull()==False]\n",
        "df_train_rac "
      ],
      "metadata": {
        "id": "JubBqM9W5uBK",
        "colab": {
          "base_uri": "https://localhost:8080/"
        },
        "outputId": "f2279205-a847-447a-e6f0-dd1ecc585c4b"
      },
      "execution_count": null,
      "outputs": [
        {
          "output_type": "execute_result",
          "data": {
            "text/plain": [
              "                ID                                               Text  \\\n",
              "50552    C1082.115                  sundar. kono katha hobe na. great   \n",
              "73812      C635.49  कंगना रावत विन आवज के भौकने की आदत है मै रामअव...   \n",
              "1546       T.1.911                          coz where can fir on sham   \n",
              "31543    C98.102.5  e mang noi leibagini eina warise nashana nasha...   \n",
              "51313  C1086.244.1  @jyoti nayak name ladki hai boll ladki ka lga ...   \n",
              "...            ...                                                ...   \n",
              "5695      C576.578  sabse wo aurten un muloon ka jo paisa lekar gl...   \n",
              "73542      C632.36  यही तो प्रॉब्लम है अपना यह लोग का घर संभाल नही...   \n",
              "83281  C1092.200.1                                        tik bola6an   \n",
              "83467  C1092.280.3                                                  😂   \n",
              "45919  C1050.471.4                                       তুমি আগে হয়   \n",
              "\n",
              "      Aggression Aggression Intensity Discursive Role Gender Bias  \\\n",
              "50552        NAG                  NaN             NaN        NGEN   \n",
              "73812        OAG                 CuAG             NaN        NGEN   \n",
              "1546         NAG                  NaN             NaN        NGEN   \n",
              "31543        OAG                 CuAG             ATK        NGEN   \n",
              "51313        CAG                 NtAG             ATK         GEN   \n",
              "...          ...                  ...             ...         ...   \n",
              "5695         OAG                 NtAG             NaN        NGEN   \n",
              "73542        OAG                 NtAG             NaN        NGEN   \n",
              "83281        OAG                 NtAG             ATK         GEN   \n",
              "83467        OAG                 CuAG             NaN        NGEN   \n",
              "45919        NAG                  NaN             NaN        NGEN   \n",
              "\n",
              "      Communal Bias Caste/Class Bias Ethnicity/Racial Bias  \n",
              "50552          NCOM             NCAS                  NETH  \n",
              "73812          NCOM             NCAS                  NETH  \n",
              "1546           NCOM             NCAS                  NETH  \n",
              "31543          NCOM             NCAS                  NETH  \n",
              "51313          NCOM             NCAS                  NETH  \n",
              "...             ...              ...                   ...  \n",
              "5695           NCOM             NCAS                  NETH  \n",
              "73542          NCOM             NCAS                  NETH  \n",
              "83281          NCOM             NCAS                  NETH  \n",
              "83467          NCOM             NCAS                  NETH  \n",
              "45919          NCOM             NCAS                  NETH  \n",
              "\n",
              "[78280 rows x 9 columns]"
            ],
            "text/html": [
              "<div>\n",
              "<style scoped>\n",
              "    .dataframe tbody tr th:only-of-type {\n",
              "        vertical-align: middle;\n",
              "    }\n",
              "\n",
              "    .dataframe tbody tr th {\n",
              "        vertical-align: top;\n",
              "    }\n",
              "\n",
              "    .dataframe thead th {\n",
              "        text-align: right;\n",
              "    }\n",
              "</style>\n",
              "<table border=\"1\" class=\"dataframe\">\n",
              "  <thead>\n",
              "    <tr style=\"text-align: right;\">\n",
              "      <th></th>\n",
              "      <th>ID</th>\n",
              "      <th>Text</th>\n",
              "      <th>Aggression</th>\n",
              "      <th>Aggression Intensity</th>\n",
              "      <th>Discursive Role</th>\n",
              "      <th>Gender Bias</th>\n",
              "      <th>Communal Bias</th>\n",
              "      <th>Caste/Class Bias</th>\n",
              "      <th>Ethnicity/Racial Bias</th>\n",
              "    </tr>\n",
              "  </thead>\n",
              "  <tbody>\n",
              "    <tr>\n",
              "      <th>50552</th>\n",
              "      <td>C1082.115</td>\n",
              "      <td>sundar. kono katha hobe na. great</td>\n",
              "      <td>NAG</td>\n",
              "      <td>NaN</td>\n",
              "      <td>NaN</td>\n",
              "      <td>NGEN</td>\n",
              "      <td>NCOM</td>\n",
              "      <td>NCAS</td>\n",
              "      <td>NETH</td>\n",
              "    </tr>\n",
              "    <tr>\n",
              "      <th>73812</th>\n",
              "      <td>C635.49</td>\n",
              "      <td>कंगना रावत विन आवज के भौकने की आदत है मै रामअव...</td>\n",
              "      <td>OAG</td>\n",
              "      <td>CuAG</td>\n",
              "      <td>NaN</td>\n",
              "      <td>NGEN</td>\n",
              "      <td>NCOM</td>\n",
              "      <td>NCAS</td>\n",
              "      <td>NETH</td>\n",
              "    </tr>\n",
              "    <tr>\n",
              "      <th>1546</th>\n",
              "      <td>T.1.911</td>\n",
              "      <td>coz where can fir on sham</td>\n",
              "      <td>NAG</td>\n",
              "      <td>NaN</td>\n",
              "      <td>NaN</td>\n",
              "      <td>NGEN</td>\n",
              "      <td>NCOM</td>\n",
              "      <td>NCAS</td>\n",
              "      <td>NETH</td>\n",
              "    </tr>\n",
              "    <tr>\n",
              "      <th>31543</th>\n",
              "      <td>C98.102.5</td>\n",
              "      <td>e mang noi leibagini eina warise nashana nasha...</td>\n",
              "      <td>OAG</td>\n",
              "      <td>CuAG</td>\n",
              "      <td>ATK</td>\n",
              "      <td>NGEN</td>\n",
              "      <td>NCOM</td>\n",
              "      <td>NCAS</td>\n",
              "      <td>NETH</td>\n",
              "    </tr>\n",
              "    <tr>\n",
              "      <th>51313</th>\n",
              "      <td>C1086.244.1</td>\n",
              "      <td>@jyoti nayak name ladki hai boll ladki ka lga ...</td>\n",
              "      <td>CAG</td>\n",
              "      <td>NtAG</td>\n",
              "      <td>ATK</td>\n",
              "      <td>GEN</td>\n",
              "      <td>NCOM</td>\n",
              "      <td>NCAS</td>\n",
              "      <td>NETH</td>\n",
              "    </tr>\n",
              "    <tr>\n",
              "      <th>...</th>\n",
              "      <td>...</td>\n",
              "      <td>...</td>\n",
              "      <td>...</td>\n",
              "      <td>...</td>\n",
              "      <td>...</td>\n",
              "      <td>...</td>\n",
              "      <td>...</td>\n",
              "      <td>...</td>\n",
              "      <td>...</td>\n",
              "    </tr>\n",
              "    <tr>\n",
              "      <th>5695</th>\n",
              "      <td>C576.578</td>\n",
              "      <td>sabse wo aurten un muloon ka jo paisa lekar gl...</td>\n",
              "      <td>OAG</td>\n",
              "      <td>NtAG</td>\n",
              "      <td>NaN</td>\n",
              "      <td>NGEN</td>\n",
              "      <td>NCOM</td>\n",
              "      <td>NCAS</td>\n",
              "      <td>NETH</td>\n",
              "    </tr>\n",
              "    <tr>\n",
              "      <th>73542</th>\n",
              "      <td>C632.36</td>\n",
              "      <td>यही तो प्रॉब्लम है अपना यह लोग का घर संभाल नही...</td>\n",
              "      <td>OAG</td>\n",
              "      <td>NtAG</td>\n",
              "      <td>NaN</td>\n",
              "      <td>NGEN</td>\n",
              "      <td>NCOM</td>\n",
              "      <td>NCAS</td>\n",
              "      <td>NETH</td>\n",
              "    </tr>\n",
              "    <tr>\n",
              "      <th>83281</th>\n",
              "      <td>C1092.200.1</td>\n",
              "      <td>tik bola6an</td>\n",
              "      <td>OAG</td>\n",
              "      <td>NtAG</td>\n",
              "      <td>ATK</td>\n",
              "      <td>GEN</td>\n",
              "      <td>NCOM</td>\n",
              "      <td>NCAS</td>\n",
              "      <td>NETH</td>\n",
              "    </tr>\n",
              "    <tr>\n",
              "      <th>83467</th>\n",
              "      <td>C1092.280.3</td>\n",
              "      <td>😂</td>\n",
              "      <td>OAG</td>\n",
              "      <td>CuAG</td>\n",
              "      <td>NaN</td>\n",
              "      <td>NGEN</td>\n",
              "      <td>NCOM</td>\n",
              "      <td>NCAS</td>\n",
              "      <td>NETH</td>\n",
              "    </tr>\n",
              "    <tr>\n",
              "      <th>45919</th>\n",
              "      <td>C1050.471.4</td>\n",
              "      <td>তুমি আগে হয়</td>\n",
              "      <td>NAG</td>\n",
              "      <td>NaN</td>\n",
              "      <td>NaN</td>\n",
              "      <td>NGEN</td>\n",
              "      <td>NCOM</td>\n",
              "      <td>NCAS</td>\n",
              "      <td>NETH</td>\n",
              "    </tr>\n",
              "  </tbody>\n",
              "</table>\n",
              "<p>78280 rows × 9 columns</p>\n",
              "</div>"
            ]
          },
          "metadata": {},
          "execution_count": 57
        }
      ]
    },
    {
      "cell_type": "code",
      "source": [
        "#changing arguments to number\n",
        "d = {\"NETH\":0, \"ETH\":1, \"ETHT\":2}\n",
        "df_train_rac['Ethnicity/Racial Bias'] = df_train_rac['Ethnicity/Racial Bias'].map(d)\n",
        "df_test_rac['Ethnicity/Racial Bias'] = df_test_rac['Ethnicity/Racial Bias'].map(d)"
      ],
      "metadata": {
        "id": "RCosp1wZ51Oy",
        "colab": {
          "base_uri": "https://localhost:8080/"
        },
        "outputId": "bbfb73e8-459b-4e59-8218-5c63b6563507"
      },
      "execution_count": null,
      "outputs": [
        {
          "output_type": "stream",
          "name": "stderr",
          "text": [
            "C:\\Users\\student\\AppData\\Local\\Temp\\ipykernel_12600\\2709829661.py:3: SettingWithCopyWarning: \n",
            "A value is trying to be set on a copy of a slice from a DataFrame.\n",
            "Try using .loc[row_indexer,col_indexer] = value instead\n",
            "\n",
            "See the caveats in the documentation: https://pandas.pydata.org/pandas-docs/stable/user_guide/indexing.html#returning-a-view-versus-a-copy\n",
            "  df_train_rac['Ethnicity/Racial Bias'] = df_train_rac['Ethnicity/Racial Bias'].map(d)\n"
          ]
        }
      ]
    },
    {
      "cell_type": "code",
      "source": [
        "df_train_rac['Ethnicity/Racial Bias'].unique(),df_test_rac['Ethnicity/Racial Bias'].unique()"
      ],
      "metadata": {
        "id": "QYcaroBA58c5",
        "colab": {
          "base_uri": "https://localhost:8080/"
        },
        "outputId": "a65869fb-eed2-42ba-830c-05c3331ee9e1"
      },
      "execution_count": null,
      "outputs": [
        {
          "output_type": "execute_result",
          "data": {
            "text/plain": [
              "(array([0, 1, 2], dtype=int64), array([0, 1, 2], dtype=int64))"
            ]
          },
          "metadata": {},
          "execution_count": 59
        }
      ]
    },
    {
      "cell_type": "code",
      "source": [
        "#vectorizing the dataset\n",
        "from sklearn.feature_extraction.text import TfidfVectorizer"
      ],
      "metadata": {
        "id": "b5mhVrmj6EwC"
      },
      "execution_count": null,
      "outputs": []
    },
    {
      "cell_type": "code",
      "source": [
        "vector_rac = TfidfVectorizer()\n",
        "v1_rac = vector_rac.fit_transform(df_train_rac['Text'])\n",
        "v2_rac = vector_rac.transform(df_test_rac['Text'])"
      ],
      "metadata": {
        "id": "vQT24UZO6M6T"
      },
      "execution_count": null,
      "outputs": []
    },
    {
      "cell_type": "code",
      "source": [
        "import joblib\n",
        "joblib.dump(vector_rac,'result\\Ethnicity_RacialBias_vectorization.joblib')"
      ],
      "metadata": {
        "id": "kvBNMEnz6WtK",
        "colab": {
          "base_uri": "https://localhost:8080/"
        },
        "outputId": "38ec3a1c-8929-43bb-ce80-b9a85f6e8cb6"
      },
      "execution_count": null,
      "outputs": [
        {
          "output_type": "execute_result",
          "data": {
            "text/plain": [
              "['result\\\\Ethnicity_RacialBias_vectorization.joblib']"
            ]
          },
          "metadata": {},
          "execution_count": 16
        }
      ]
    },
    {
      "cell_type": "code",
      "source": [
        "X_train_rac=v1_rac\n",
        "y_train_rac=df_train_rac['Ethnicity/Racial Bias']\n",
        "X_test_rac=v2_rac\n",
        "y_test_rac=df_test_rac['Ethnicity/Racial Bias']"
      ],
      "metadata": {
        "id": "w4B9Trjs6el9"
      },
      "execution_count": null,
      "outputs": []
    },
    {
      "cell_type": "code",
      "source": [
        "#applying class weight\n",
        "from sklearn.utils import compute_class_weight\n",
        "classweight = dict(zip([0,1,2],compute_class_weight(class_weight = 'balanced',y=df_train_rac['Ethnicity/Racial Bias'].values,classes=[0,1,2])))\n",
        "classweight"
      ],
      "metadata": {
        "id": "mWdKgAN26m4y",
        "colab": {
          "base_uri": "https://localhost:8080/"
        },
        "outputId": "3db0a60b-c0f5-435a-87cd-b6ecc0a71e6e"
      },
      "execution_count": null,
      "outputs": [
        {
          "output_type": "execute_result",
          "data": {
            "text/plain": [
              "{0: 0.34328364754224167, 1: 11.638418079096045, 2: 966.4197530864197}"
            ]
          },
          "metadata": {},
          "execution_count": 63
        }
      ]
    },
    {
      "cell_type": "markdown",
      "source": [
        "Logistic in Ethinicity/Racial bias"
      ],
      "metadata": {
        "id": "kSE7xru6iiw-"
      }
    },
    {
      "cell_type": "code",
      "source": [
        "from sklearn.linear_model import LogisticRegression"
      ],
      "metadata": {
        "id": "QdXH9-0v64jS"
      },
      "execution_count": null,
      "outputs": []
    },
    {
      "cell_type": "code",
      "source": [
        "f = open(\"result/lg_rac.txt\",'w')\n",
        "f.write(f\"LogisticRegression(C = {0},tol = {0},penalty ={0})\")\n",
        "f.close()\n",
        "from sklearn.metrics import f1_score\n",
        "C = [1,25,50,100,200]\n",
        "penalty = [\"l2\" , 'l1' ]\n",
        "solver = ['newton-cg', 'lbfgs']\n",
        "# l1_ratio = [0.0,0.3,0.5,0.8,1.0]"
      ],
      "metadata": {
        "id": "669Wl9cI7AFK"
      },
      "execution_count": null,
      "outputs": []
    },
    {
      "cell_type": "code",
      "source": [
        "score = 0\n",
        "for i in C:\n",
        "  for k in penalty:\n",
        "    for l in solver :\n",
        "      print(i,k,l)\n",
        "      try:\n",
        "        model = LogisticRegression(C = i,penalty =k  , solver = l , random_state = 42,class_weight=classweight)\n",
        "        model.fit(X_train_rac,y_train_rac)\n",
        "      except :\n",
        "        continue\n",
        "      pred_m = model.predict(X_test_rac)\n",
        "      f = f1_score(y_test_rac,pred_m,average = 'macro')\n",
        "      if(score<f):\n",
        "          score = f\n",
        "          f = open(\"result/lg_rac.txt\",'w')\n",
        "          f.write(f\"LogisticRegression(C = {i},penalty = {k},solver={l}) score={score}\")\n",
        "          f.close()\n",
        "          joblib.dump(model,\"result/rac_lg.joblib\")\n",
        "          print(score)\n",
        "              "
      ],
      "metadata": {
        "id": "A96CtrRY7KTa"
      },
      "execution_count": null,
      "outputs": []
    },
    {
      "cell_type": "code",
      "source": [
        "# model = LogisticRegression(C = i,penalty =k  , solver = l , random_state = 42,class_weight=classweight)\n",
        "# model.fit(X_train_rac,y_train_rac)"
      ],
      "metadata": {
        "id": "ySBnSjW7JLu8"
      },
      "execution_count": null,
      "outputs": []
    },
    {
      "cell_type": "code",
      "source": [
        "model=joblib.load('result/rac_lg.joblib')"
      ],
      "metadata": {
        "id": "6uUCKMDuJSNa"
      },
      "execution_count": null,
      "outputs": []
    },
    {
      "cell_type": "code",
      "source": [
        "from sklearn.metrics import confusion_matrix,classification_report\n",
        "pred_rac = model.predict(X_test_rac)\n",
        "print(classification_report(y_test_rac,pred_rac))"
      ],
      "metadata": {
        "id": "Nnq9GsIGJYzp"
      },
      "execution_count": null,
      "outputs": []
    },
    {
      "cell_type": "markdown",
      "source": [
        "SVM in Ethencity/Racial bias"
      ],
      "metadata": {
        "id": "S9BffxxqTnhU"
      }
    },
    {
      "cell_type": "code",
      "source": [
        "from sklearn.svm import SVC"
      ],
      "metadata": {
        "id": "yFvjoQoMTaHC"
      },
      "execution_count": null,
      "outputs": []
    },
    {
      "cell_type": "code",
      "source": [
        "mx = 0\n",
        "for kernel in ['linear', 'poly', 'rbf']:\n",
        "    for C in [1,5,10,25,50,100,200]:\n",
        "        if(kernel=='poly'):\n",
        "          if(C!=200):\n",
        "            for degree in [1,2,3,4]:\n",
        "                model = SVC(C = C,kernel=kernel,class_weight=classweight,degree=degree)\n",
        "                model.fit(X_train_rac,y_train_rac)\n",
        "                pred = model.predict(X_test_rac)\n",
        "                f = f1_score(y_test_rac,pred,average='macro')\n",
        "                if(mx<f):\n",
        "                    mx = max(mx,f)\n",
        "                    s = open('result/sv_rac.txt' , 'w')\n",
        "                    s.write(f\"SVC(C= {C}, degree = {degree} , kernel = {kernel}) score = {mx}\")\n",
        "                    s.close()\n",
        "                    print(mx)\n",
        "                print(f,f\"C = {C} , kernel = {kernel} , degree = {degree}\")\n",
        "        else:\n",
        "            model = SVC(C = C,kernel=kernel,class_weight=classweight)\n",
        "            model.fit(X_train_rac,y_train_rac)\n",
        "            pred = model.predict(X_test_rac)\n",
        "            f = f1_score(y_test_rac,pred,average='macro')\n",
        "            if(mx<f):\n",
        "                mx = max(mx,f)\n",
        "                s = open('result/sv_rac.txt' , 'w')\n",
        "                s.write(f\"SVC(C= {C}, kernal = {kernel}) score = {mx}\")\n",
        "                s.close()\n",
        "                print(mx)\n",
        "            print(f,f\"C = {C} , kernel = {kernel} , degree = {degree}\")"
      ],
      "metadata": {
        "id": "S-KMv4qITaCg",
        "colab": {
          "base_uri": "https://localhost:8080/"
        },
        "outputId": "b4c61fda-e123-451a-854d-61beabca47d8"
      },
      "execution_count": null,
      "outputs": [
        {
          "output_type": "stream",
          "name": "stdout",
          "text": [
            "0.5449741722785924\n",
            "0.5449741722785924 C = 1 , kernel = linear , degree = 4\n",
            "0.5476389612753249\n",
            "0.5476389612753249 C = 5 , kernel = linear , degree = 4\n",
            "0.5444331756457278 C = 10 , kernel = linear , degree = 4\n",
            "0.5382844902302449 C = 25 , kernel = linear , degree = 4\n",
            "0.5413721052225833 C = 50 , kernel = linear , degree = 4\n",
            "0.53505421847447 C = 100 , kernel = linear , degree = 4\n",
            "0.5335179023244071 C = 200 , kernel = linear , degree = 4\n",
            "0.5454994823421156 C = 1 , kernel = poly , degree = 1\n",
            "0.5422194587790614 C = 1 , kernel = poly , degree = 2\n",
            "0.5263417359681994 C = 1 , kernel = poly , degree = 3\n",
            "0.52505378668012 C = 1 , kernel = poly , degree = 4\n",
            "0.54608333341356 C = 5 , kernel = poly , degree = 1\n",
            "0.5389358174458462 C = 5 , kernel = poly , degree = 2\n",
            "0.5250394123537275 C = 5 , kernel = poly , degree = 3\n",
            "0.5234230113810592 C = 5 , kernel = poly , degree = 4\n",
            "0.5436868123357443 C = 10 , kernel = poly , degree = 1\n",
            "0.5393357051839175 C = 10 , kernel = poly , degree = 2\n",
            "0.524395545409053 C = 10 , kernel = poly , degree = 3\n",
            "0.5234230113810592 C = 10 , kernel = poly , degree = 4\n",
            "0.5385813071771167 C = 25 , kernel = poly , degree = 1\n",
            "0.5381797225113263 C = 25 , kernel = poly , degree = 2\n",
            "0.524395545409053 C = 25 , kernel = poly , degree = 3\n",
            "0.5234230113810592 C = 25 , kernel = poly , degree = 4\n",
            "0.5415229727256087 C = 50 , kernel = poly , degree = 1\n",
            "0.5381797225113263 C = 50 , kernel = poly , degree = 2\n",
            "0.524395545409053 C = 50 , kernel = poly , degree = 3\n",
            "0.5234230113810592 C = 50 , kernel = poly , degree = 4\n",
            "0.53505421847447 C = 100 , kernel = poly , degree = 1\n",
            "0.5381797225113263 C = 100 , kernel = poly , degree = 2\n",
            "0.524395545409053 C = 100 , kernel = poly , degree = 3\n",
            "0.5234230113810592 C = 100 , kernel = poly , degree = 4\n",
            "0.5576451485531672\n",
            "0.5576451485531672 C = 1 , kernel = rbf , degree = 4\n",
            "0.5467411426509907 C = 5 , kernel = rbf , degree = 4\n",
            "0.5461994525254866 C = 10 , kernel = rbf , degree = 4\n",
            "0.5454736159920605 C = 25 , kernel = rbf , degree = 4\n",
            "0.5454736159920605 C = 50 , kernel = rbf , degree = 4\n",
            "0.5454736159920605 C = 100 , kernel = rbf , degree = 4\n",
            "0.5454736159920605 C = 200 , kernel = rbf , degree = 4\n"
          ]
        }
      ]
    },
    {
      "cell_type": "code",
      "source": [
        "model = SVC(C = ,kernel=,class_weight=classweight,degree=)\n",
        "model.fit(X_train_rac,y_train_rac)"
      ],
      "metadata": {
        "id": "GmlAUjuNTZ-A"
      },
      "execution_count": null,
      "outputs": []
    },
    {
      "cell_type": "code",
      "source": [
        "joblib.dump(model,'result/rac_sv.joblib')"
      ],
      "metadata": {
        "id": "g4i01uOjTZ5X"
      },
      "execution_count": null,
      "outputs": []
    },
    {
      "cell_type": "code",
      "source": [
        "pred_rac = model.predict(X_test_rac)\n",
        "print(classification_report(y_test_rac,pred_rac))"
      ],
      "metadata": {
        "id": "NJpJEilSTYxf"
      },
      "execution_count": null,
      "outputs": []
    },
    {
      "cell_type": "markdown",
      "source": [
        "MNB Ethinicity/Racial bias"
      ],
      "metadata": {
        "id": "bhPBXyBzdMYX"
      }
    },
    {
      "cell_type": "code",
      "source": [
        "f = open(\"result/rac_mnb.txt\",'w')\n",
        "f.write(f\"MultinomialNB(alpha = {0})\")\n",
        "f.close()"
      ],
      "metadata": {
        "id": "HZxoJ18BTZNT"
      },
      "execution_count": null,
      "outputs": []
    },
    {
      "cell_type": "code",
      "source": [
        "from sklearn.naive_bayes import MultinomialNB\n",
        "from sklearn.metrics import f1_score\n",
        "score =0\n",
        "for i in np.arange(1e-05,1e-01,1e-04):\n",
        "  print(i)\n",
        "  model = MultinomialNB(alpha=i)\n",
        "  model.fit(X_train_rac,y_train_rac)\n",
        "  pred = model.predict(X_test_rac)\n",
        "  f = f1_score(y_test_rac,pred,average='macro')\n",
        "  if(score<f):\n",
        "    score = f\n",
        "    f = open(\"result/rac_mnb.txt\",'w')\n",
        "    f.write(f\"MultinomialNB(alpha = {i})\")\n",
        "    f.close()\n",
        "    joblib.dump(model,'result/rac_mnb.joblib')\n",
        "    print(score)"
      ],
      "metadata": {
        "id": "hPCfHfvSdT-0"
      },
      "execution_count": null,
      "outputs": []
    },
    {
      "cell_type": "code",
      "source": [
        "from sklearn.naive_bayes import MultinomialNB\n",
        "model = MultinomialNB(alpha = 0.00021)\n",
        "model.fit(X_train_rac,y_train_rac)"
      ],
      "metadata": {
        "id": "XpkvqeuXdVTh"
      },
      "execution_count": null,
      "outputs": []
    },
    {
      "cell_type": "code",
      "source": [
        "joblib.dump(model,'result/rac_mnb.joblib')"
      ],
      "metadata": {
        "id": "FoshBPSvdXmN"
      },
      "execution_count": null,
      "outputs": []
    },
    {
      "cell_type": "code",
      "source": [
        "from sklearn.metrics import confusion_matrix,classification_report\n",
        "\n",
        "pred_rac = model.predict(X_test_rac)\n",
        "print(classification_report(y_test_rac,pred_rac))"
      ],
      "metadata": {
        "id": "hZd1ZsRHda3R"
      },
      "execution_count": null,
      "outputs": []
    },
    {
      "cell_type": "markdown",
      "source": [
        "Ethencity / Reacial bias in Random forest"
      ],
      "metadata": {
        "id": "43A_XD91mArU"
      }
    },
    {
      "cell_type": "code",
      "source": [
        "f = open(\"result/rac_rf.txt\",'w')\n",
        "f.write(f\"RandomForestClassifier(max_features={0},max_depth={0},criterion={0})\")\n",
        "f.close()"
      ],
      "metadata": {
        "id": "YYFREa_Pl_nO"
      },
      "execution_count": null,
      "outputs": []
    },
    {
      "cell_type": "code",
      "source": [
        "from sklearn.metrics import f1_score\n",
        "max_features = ['auto', 'sqrt', 'log2']\n",
        "max_depth = [4,5,6,7,8]\n",
        "criterion =['gini', 'entropy'] "
      ],
      "metadata": {
        "id": "ALbYE5gBmLxa"
      },
      "execution_count": null,
      "outputs": []
    },
    {
      "cell_type": "code",
      "source": [
        "score=0\n",
        "for i in max_features:\n",
        "  for j in max_depth:\n",
        "    for k in criterion:\n",
        "      print(i,j,k)\n",
        "      model=RandomForestClassifier(max_features=i,max_depth=j,criterion=k,class_weight=classweight)\n",
        "      model.fit(X_train_rac,y_train_rac)\n",
        "      pred=model.predict(X_test_rac)\n",
        "      f=f1_score(y_test_rac,pred,average='macro')\n",
        "      if(score<f):\n",
        "        score=f\n",
        "        f=open(\"result/rac_rf.txt\",'w')\n",
        "        f.write(f\"RandomForestClassifier(C={i},tol={j},penalty={k})\")\n",
        "        f.close()\n",
        "        joblib.dump(model,'result/rac_rf.joblib')\n",
        "        print(score)"
      ],
      "metadata": {
        "id": "WGacqYG8mLpy",
        "colab": {
          "base_uri": "https://localhost:8080/"
        },
        "outputId": "691472b8-3aaa-47cf-c8b6-0c956db832a3"
      },
      "execution_count": null,
      "outputs": [
        {
          "output_type": "stream",
          "name": "stdout",
          "text": [
            "auto 4 gini\n"
          ]
        },
        {
          "output_type": "stream",
          "name": "stderr",
          "text": [
            "C:\\Users\\student\\AppData\\Local\\Programs\\Python\\Python310\\lib\\site-packages\\sklearn\\ensemble\\_forest.py:427: FutureWarning: `max_features='auto'` has been deprecated in 1.1 and will be removed in 1.3. To keep the past behaviour, explicitly set `max_features='sqrt'` or remove this parameter as it is also the default value for RandomForestClassifiers and ExtraTreesClassifiers.\n",
            "  warn(\n"
          ]
        },
        {
          "output_type": "stream",
          "name": "stdout",
          "text": [
            "0.4576007422471193\n",
            "auto 4 entropy\n"
          ]
        },
        {
          "output_type": "stream",
          "name": "stderr",
          "text": [
            "C:\\Users\\student\\AppData\\Local\\Programs\\Python\\Python310\\lib\\site-packages\\sklearn\\ensemble\\_forest.py:427: FutureWarning: `max_features='auto'` has been deprecated in 1.1 and will be removed in 1.3. To keep the past behaviour, explicitly set `max_features='sqrt'` or remove this parameter as it is also the default value for RandomForestClassifiers and ExtraTreesClassifiers.\n",
            "  warn(\n"
          ]
        },
        {
          "output_type": "stream",
          "name": "stdout",
          "text": [
            "auto 5 gini\n"
          ]
        },
        {
          "output_type": "stream",
          "name": "stderr",
          "text": [
            "C:\\Users\\student\\AppData\\Local\\Programs\\Python\\Python310\\lib\\site-packages\\sklearn\\ensemble\\_forest.py:427: FutureWarning: `max_features='auto'` has been deprecated in 1.1 and will be removed in 1.3. To keep the past behaviour, explicitly set `max_features='sqrt'` or remove this parameter as it is also the default value for RandomForestClassifiers and ExtraTreesClassifiers.\n",
            "  warn(\n"
          ]
        },
        {
          "output_type": "stream",
          "name": "stdout",
          "text": [
            "auto 5 entropy\n"
          ]
        },
        {
          "output_type": "stream",
          "name": "stderr",
          "text": [
            "C:\\Users\\student\\AppData\\Local\\Programs\\Python\\Python310\\lib\\site-packages\\sklearn\\ensemble\\_forest.py:427: FutureWarning: `max_features='auto'` has been deprecated in 1.1 and will be removed in 1.3. To keep the past behaviour, explicitly set `max_features='sqrt'` or remove this parameter as it is also the default value for RandomForestClassifiers and ExtraTreesClassifiers.\n",
            "  warn(\n"
          ]
        },
        {
          "output_type": "stream",
          "name": "stdout",
          "text": [
            "auto 6 gini\n"
          ]
        },
        {
          "output_type": "stream",
          "name": "stderr",
          "text": [
            "C:\\Users\\student\\AppData\\Local\\Programs\\Python\\Python310\\lib\\site-packages\\sklearn\\ensemble\\_forest.py:427: FutureWarning: `max_features='auto'` has been deprecated in 1.1 and will be removed in 1.3. To keep the past behaviour, explicitly set `max_features='sqrt'` or remove this parameter as it is also the default value for RandomForestClassifiers and ExtraTreesClassifiers.\n",
            "  warn(\n"
          ]
        },
        {
          "output_type": "stream",
          "name": "stdout",
          "text": [
            "auto 6 entropy\n"
          ]
        },
        {
          "output_type": "stream",
          "name": "stderr",
          "text": [
            "C:\\Users\\student\\AppData\\Local\\Programs\\Python\\Python310\\lib\\site-packages\\sklearn\\ensemble\\_forest.py:427: FutureWarning: `max_features='auto'` has been deprecated in 1.1 and will be removed in 1.3. To keep the past behaviour, explicitly set `max_features='sqrt'` or remove this parameter as it is also the default value for RandomForestClassifiers and ExtraTreesClassifiers.\n",
            "  warn(\n"
          ]
        },
        {
          "output_type": "stream",
          "name": "stdout",
          "text": [
            "auto 7 gini\n"
          ]
        },
        {
          "output_type": "stream",
          "name": "stderr",
          "text": [
            "C:\\Users\\student\\AppData\\Local\\Programs\\Python\\Python310\\lib\\site-packages\\sklearn\\ensemble\\_forest.py:427: FutureWarning: `max_features='auto'` has been deprecated in 1.1 and will be removed in 1.3. To keep the past behaviour, explicitly set `max_features='sqrt'` or remove this parameter as it is also the default value for RandomForestClassifiers and ExtraTreesClassifiers.\n",
            "  warn(\n"
          ]
        },
        {
          "output_type": "stream",
          "name": "stdout",
          "text": [
            "auto 7 entropy\n"
          ]
        },
        {
          "output_type": "stream",
          "name": "stderr",
          "text": [
            "C:\\Users\\student\\AppData\\Local\\Programs\\Python\\Python310\\lib\\site-packages\\sklearn\\ensemble\\_forest.py:427: FutureWarning: `max_features='auto'` has been deprecated in 1.1 and will be removed in 1.3. To keep the past behaviour, explicitly set `max_features='sqrt'` or remove this parameter as it is also the default value for RandomForestClassifiers and ExtraTreesClassifiers.\n",
            "  warn(\n"
          ]
        },
        {
          "output_type": "stream",
          "name": "stdout",
          "text": [
            "auto 8 gini\n"
          ]
        },
        {
          "output_type": "stream",
          "name": "stderr",
          "text": [
            "C:\\Users\\student\\AppData\\Local\\Programs\\Python\\Python310\\lib\\site-packages\\sklearn\\ensemble\\_forest.py:427: FutureWarning: `max_features='auto'` has been deprecated in 1.1 and will be removed in 1.3. To keep the past behaviour, explicitly set `max_features='sqrt'` or remove this parameter as it is also the default value for RandomForestClassifiers and ExtraTreesClassifiers.\n",
            "  warn(\n"
          ]
        },
        {
          "output_type": "stream",
          "name": "stdout",
          "text": [
            "auto 8 entropy\n"
          ]
        },
        {
          "output_type": "stream",
          "name": "stderr",
          "text": [
            "C:\\Users\\student\\AppData\\Local\\Programs\\Python\\Python310\\lib\\site-packages\\sklearn\\ensemble\\_forest.py:427: FutureWarning: `max_features='auto'` has been deprecated in 1.1 and will be removed in 1.3. To keep the past behaviour, explicitly set `max_features='sqrt'` or remove this parameter as it is also the default value for RandomForestClassifiers and ExtraTreesClassifiers.\n",
            "  warn(\n"
          ]
        },
        {
          "output_type": "stream",
          "name": "stdout",
          "text": [
            "sqrt 4 gini\n",
            "sqrt 4 entropy\n",
            "sqrt 5 gini\n",
            "sqrt 5 entropy\n",
            "sqrt 6 gini\n",
            "sqrt 6 entropy\n",
            "sqrt 7 gini\n",
            "sqrt 7 entropy\n",
            "sqrt 8 gini\n",
            "sqrt 8 entropy\n",
            "log2 4 gini\n",
            "log2 4 entropy\n",
            "log2 5 gini\n",
            "log2 5 entropy\n",
            "log2 6 gini\n",
            "log2 6 entropy\n",
            "log2 7 gini\n",
            "log2 7 entropy\n",
            "log2 8 gini\n",
            "log2 8 entropy\n"
          ]
        }
      ]
    },
    {
      "cell_type": "code",
      "source": [
        "model=joblib.load('result/rac_rf.joblib')"
      ],
      "metadata": {
        "id": "khs27ouNmLjn"
      },
      "execution_count": null,
      "outputs": []
    },
    {
      "cell_type": "code",
      "source": [
        "\n",
        "from sklearn.metrics import confusion_matrix,classification_report\n",
        "pred_rac = model.predict(X_test_rac)\n",
        "print(classification_report(y_test_rac,pred_rac))"
      ],
      "metadata": {
        "id": "gTjc2EQJmLdO",
        "colab": {
          "base_uri": "https://localhost:8080/"
        },
        "outputId": "a8630832-228d-42c2-c534-045f0b1533ee"
      },
      "execution_count": null,
      "outputs": [
        {
          "output_type": "stream",
          "name": "stdout",
          "text": [
            "              precision    recall  f1-score   support\n",
            "\n",
            "           0       0.99      0.90      0.94     13428\n",
            "           1       0.14      0.56      0.22       376\n",
            "           2       0.25      0.18      0.21        11\n",
            "\n",
            "    accuracy                           0.89     13815\n",
            "   macro avg       0.46      0.55      0.46     13815\n",
            "weighted avg       0.96      0.89      0.92     13815\n",
            "\n"
          ]
        }
      ]
    },
    {
      "cell_type": "markdown",
      "source": [
        "XGBoost in Ethencity bias "
      ],
      "metadata": {
        "id": "CkUAmpSQ4bix"
      }
    },
    {
      "cell_type": "code",
      "source": [
        "from xgboost import XGBClassifier"
      ],
      "metadata": {
        "id": "54QXDp0YmLW9"
      },
      "execution_count": null,
      "outputs": []
    },
    {
      "cell_type": "code",
      "source": [
        "g=open(\"result/rac_xgb.txt\",'w')\n",
        "g.write(f\"XGBClassifier(min_child_weight={0},gamma={0},subsample={0})\")\n",
        "g.close()\n",
        "from sklearn.metrics import f1_score\n",
        "min_child_weight = [1, 5, 10]\n",
        "gamma =[0.5, 1, 1.5, 2, 5]\n",
        "subsample= [0.6, 0.8, 1.0]"
      ],
      "metadata": {
        "id": "U7fZaeD95fSP"
      },
      "execution_count": null,
      "outputs": []
    },
    {
      "cell_type": "code",
      "source": [
        "from xgboost import XGBClassifier\n",
        "score=0\n",
        "for i in min_child_weight:\n",
        "  for j in gamma:\n",
        "    for k in subsample:\n",
        "      model=XGBClassifier(min_child_weight=i,gamma=j,subsample=k,class_weight=classweight)\n",
        "      model.fit(X_train_rac,y_train_rac)\n",
        "      pred_m=model.predict(X_test_rac)\n",
        "      f=f1_score(y_test_rac,pred_m,average='macro')\n",
        "      if(score<f):\n",
        "        score=f\n",
        "        g=open(\"result/rac_xbg.txt\",'w')\n",
        "        g.write(f\"XGBClassifier(min_child_weight={i},gamma={j},subsample={k})\")\n",
        "        g.close()"
      ],
      "metadata": {
        "id": "NBBI9oUf5gRz"
      },
      "execution_count": null,
      "outputs": []
    },
    {
      "cell_type": "code",
      "source": [
        "model=XGBClassifier(min_child_weight=1,gamma=2,subsample=0.6,class_weight=classweight)\n",
        "model.fit(X_train_rac,y_train_rac)"
      ],
      "metadata": {
        "id": "x1BpY7pv5gMr"
      },
      "execution_count": null,
      "outputs": []
    },
    {
      "cell_type": "code",
      "source": [
        "from sklearn.metrics import confusion_matrix,classification_report\n",
        "pred_rac = model.predict(X_test_rac)\n",
        "print(classification_report(y_test_rac,pred_rac)"
      ],
      "metadata": {
        "id": "2Q43VTrV5fqk"
      },
      "execution_count": null,
      "outputs": []
    },
    {
      "cell_type": "markdown",
      "source": [
        "Adaboost in Ethnicity Bias"
      ],
      "metadata": {
        "id": "kQLsr2hbtNDA"
      }
    },
    {
      "cell_type": "code",
      "source": [
        "from sklearn.ensemble import AdaBoostClassifier"
      ],
      "metadata": {
        "id": "Ac1v-DTvtbbu"
      },
      "execution_count": null,
      "outputs": []
    },
    {
      "cell_type": "code",
      "source": [
        "g=open(\"result/rac_adb.txt\",'w')\n",
        "g.write(f\"AdaBoost(n_estimators={0},learning_rate={0})\")\n",
        "g.close()"
      ],
      "metadata": {
        "id": "8jT9e_-Otdy6"
      },
      "execution_count": null,
      "outputs": []
    },
    {
      "cell_type": "code",
      "source": [
        "score=0\n",
        "for i in [30,50,70,80,90,100,120]:\n",
        "  for j in np.arange(1e-02,1,1e-01):\n",
        "    print(i,j)\n",
        "    model=AdaBoostClassifier(n_estimators=i,learning_rate=j)\n",
        "    model.fit(X_train_rac,y_train_rac)\n",
        "    pred_m=model.predict(X_test_rac)\n",
        "    f=f1_score(y_test_rac,pred_m,average='macro')\n",
        "    if(score<f):\n",
        "      score=f\n",
        "      g=open(\"result/rac_adb.txt\",'w')\n",
        "      g.write(f\"Adaboost(n_estimators={i},learning_rate={j}) score={score}\")\n",
        "      g.close()\n",
        "      print(score)\n",
        "      joblib.dump(model,\"result/rac_adb.joblib\")"
      ],
      "metadata": {
        "id": "mbArve6wtjo4",
        "colab": {
          "base_uri": "https://localhost:8080/"
        },
        "outputId": "3db11f17-6e11-4859-b36a-f417330a8c23"
      },
      "execution_count": null,
      "outputs": [
        {
          "output_type": "stream",
          "name": "stdout",
          "text": [
            "30 0.01\n",
            "0.32859817200748814\n",
            "30 0.11\n",
            "30 0.21000000000000002\n",
            "0.33214963413316384\n",
            "30 0.31000000000000005\n",
            "30 0.41000000000000003\n",
            "0.3390229363791823\n",
            "30 0.51\n",
            "30 0.6100000000000001\n",
            "30 0.7100000000000001\n",
            "0.3470786365130046\n",
            "30 0.81\n",
            "30 0.91\n",
            "50 0.01\n",
            "50 0.11\n",
            "50 0.21000000000000002\n",
            "50 0.31000000000000005\n",
            "50 0.41000000000000003\n",
            "50 0.51\n",
            "50 0.6100000000000001\n",
            "50 0.7100000000000001\n",
            "0.34876996944899585\n",
            "50 0.81\n",
            "50 0.91\n",
            "70 0.01\n",
            "70 0.11\n",
            "70 0.21000000000000002\n",
            "70 0.31000000000000005\n",
            "70 0.41000000000000003\n",
            "70 0.51\n",
            "70 0.6100000000000001\n",
            "70 0.7100000000000001\n",
            "70 0.81\n",
            "70 0.91\n",
            "80 0.01\n",
            "80 0.11\n",
            "80 0.21000000000000002\n",
            "80 0.31000000000000005\n",
            "80 0.41000000000000003\n",
            "80 0.51\n",
            "80 0.6100000000000001\n",
            "80 0.7100000000000001\n",
            "80 0.81\n",
            "80 0.91\n",
            "90 0.01\n",
            "90 0.11\n",
            "90 0.21000000000000002\n",
            "90 0.31000000000000005\n",
            "90 0.41000000000000003\n",
            "90 0.51\n",
            "90 0.6100000000000001\n",
            "90 0.7100000000000001\n",
            "90 0.81\n",
            "90 0.91\n",
            "100 0.01\n",
            "100 0.11\n",
            "100 0.21000000000000002\n",
            "100 0.31000000000000005\n",
            "100 0.41000000000000003\n",
            "100 0.51\n",
            "100 0.6100000000000001\n",
            "100 0.7100000000000001\n",
            "100 0.81\n",
            "100 0.91\n",
            "120 0.01\n",
            "120 0.11\n",
            "120 0.21000000000000002\n",
            "120 0.31000000000000005\n",
            "120 0.41000000000000003\n",
            "120 0.51\n",
            "120 0.6100000000000001\n",
            "120 0.7100000000000001\n",
            "0.3547484705017619\n",
            "120 0.81\n",
            "120 0.91\n"
          ]
        }
      ]
    },
    {
      "cell_type": "code",
      "source": [
        "model = joblib.load('result/rac_adb.joblib')"
      ],
      "metadata": {
        "id": "vB05gXD9twtf"
      },
      "execution_count": null,
      "outputs": []
    },
    {
      "cell_type": "code",
      "source": [
        "pred_rac = model.predict(X_test_rac) \n",
        "print(classification_report(y_test_rac,pred_rac))"
      ],
      "metadata": {
        "id": "d76Cg2RMu3nm",
        "colab": {
          "base_uri": "https://localhost:8080/"
        },
        "outputId": "8ace6181-1e7e-41b3-fc3b-dedf803871be"
      },
      "execution_count": null,
      "outputs": [
        {
          "output_type": "stream",
          "name": "stdout",
          "text": [
            "              precision    recall  f1-score   support\n",
            "\n",
            "           0       0.97      1.00      0.99     13428\n",
            "           1       0.50      0.04      0.08       376\n",
            "           2       0.00      0.00      0.00        11\n",
            "\n",
            "    accuracy                           0.97     13815\n",
            "   macro avg       0.49      0.35      0.35     13815\n",
            "weighted avg       0.96      0.97      0.96     13815\n",
            "\n"
          ]
        }
      ]
    }
  ]
}